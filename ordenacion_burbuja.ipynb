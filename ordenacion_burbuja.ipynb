{
  "nbformat": 4,
  "nbformat_minor": 0,
  "metadata": {
    "colab": {
      "name": "ordenacion_burbuja.ipynb",
      "provenance": [],
      "include_colab_link": true
    },
    "kernelspec": {
      "name": "python3",
      "display_name": "Python 3"
    }
  },
  "cells": [
    {
      "cell_type": "markdown",
      "metadata": {
        "id": "view-in-github",
        "colab_type": "text"
      },
      "source": [
        "<a href=\"https://colab.research.google.com/github/DanielAguileraGarcia1991/03MAIR---Algoritmos-de-Optimizacion---2019/blob/master/ordenacion_burbuja.ipynb\" target=\"_parent\"><img src=\"https://colab.research.google.com/assets/colab-badge.svg\" alt=\"Open In Colab\"/></a>"
      ]
    },
    {
      "cell_type": "code",
      "metadata": {
        "id": "uAsqIjEwiVGf",
        "colab_type": "code",
        "colab": {}
      },
      "source": [
        "lista=[13,15,1,3,2,7,8]"
      ],
      "execution_count": 0,
      "outputs": []
    },
    {
      "cell_type": "code",
      "metadata": {
        "id": "z50uTX0Riclz",
        "colab_type": "code",
        "colab": {}
      },
      "source": [
        "def ordenacion_burbuja(lista):\n",
        "  not_order=False\n",
        "  for i in range (len(lista)-1):\n",
        "    proximo=lista[i+1]\n",
        "    if lista[i]>proximo: \n",
        "      not_order=True\n",
        "      lista[i+1]=lista[i]\n",
        "      lista[i]=proximo\n",
        "  if not_order==True:\n",
        "    ordenacion_burbuja(lista)\n",
        "  return lista"
      ],
      "execution_count": 0,
      "outputs": []
    },
    {
      "cell_type": "code",
      "metadata": {
        "id": "eG4HXA47idgz",
        "colab_type": "code",
        "colab": {
          "base_uri": "https://localhost:8080/",
          "height": 35
        },
        "outputId": "08f33d68-b3c3-4622-9d6f-0b0e4582a184"
      },
      "source": [
        "ordenacion_burbuja(lista)"
      ],
      "execution_count": 44,
      "outputs": [
        {
          "output_type": "execute_result",
          "data": {
            "text/plain": [
              "[1, 2, 3, 7, 8, 13, 15]"
            ]
          },
          "metadata": {
            "tags": []
          },
          "execution_count": 44
        }
      ]
    },
    {
      "cell_type": "code",
      "metadata": {
        "id": "vjovTQOmEO6u",
        "colab_type": "code",
        "colab": {}
      },
      "source": [
        ""
      ],
      "execution_count": 0,
      "outputs": []
    }
  ]
}