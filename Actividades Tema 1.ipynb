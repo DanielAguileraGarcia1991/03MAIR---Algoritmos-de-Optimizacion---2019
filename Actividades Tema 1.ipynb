{
 "cells": [
  {
   "cell_type": "code",
   "execution_count": 36,
   "metadata": {},
   "outputs": [],
   "source": [
    "import numpy as np\n",
    "from tqdm import tqdm"
   ]
  },
  {
   "cell_type": "markdown",
   "metadata": {},
   "source": [
    "### 1.  Elabora las funciones siguientes en Python:"
   ]
  },
  {
   "cell_type": "markdown",
   "metadata": {},
   "source": [
    "a)"
   ]
  },
  {
   "cell_type": "code",
   "execution_count": 98,
   "metadata": {},
   "outputs": [],
   "source": [
    "def producto_escalar(x,y):\n",
    "    suma=0\n",
    "    if len(x)==len(y):\n",
    "        for i in range(len(x)):\n",
    "            suma+=x[i]*y[i]\n",
    "    else:\n",
    "        print('Las dimensión n no es igual')\n",
    "    return suma"
   ]
  },
  {
   "cell_type": "code",
   "execution_count": 99,
   "metadata": {},
   "outputs": [
    {
     "data": {
      "text/plain": [
       "-4"
      ]
     },
     "execution_count": 99,
     "metadata": {},
     "output_type": "execute_result"
    }
   ],
   "source": [
    "#Ejemplo\n",
    "producto_escalar([2,-1,0],[-3,-2,1])"
   ]
  },
  {
   "cell_type": "markdown",
   "metadata": {},
   "source": [
    "b)"
   ]
  },
  {
   "cell_type": "code",
   "execution_count": 68,
   "metadata": {},
   "outputs": [],
   "source": [
    "def ortogonal(x,y):\n",
    "    if producto_escalar(x,y)==0:\n",
    "        return True\n",
    "    else:\n",
    "        return False"
   ]
  },
  {
   "cell_type": "code",
   "execution_count": 78,
   "metadata": {},
   "outputs": [
    {
     "data": {
      "text/plain": [
       "True"
      ]
     },
     "execution_count": 78,
     "metadata": {},
     "output_type": "execute_result"
    }
   ],
   "source": [
    "#Ejemplo\n",
    "ortogonal([1,1],[-1,1])"
   ]
  },
  {
   "cell_type": "markdown",
   "metadata": {},
   "source": [
    "### 2.  Realiza programas en Python que calculen lo siguiente:"
   ]
  },
  {
   "cell_type": "markdown",
   "metadata": {},
   "source": [
    "a)"
   ]
  },
  {
   "cell_type": "code",
   "execution_count": 81,
   "metadata": {},
   "outputs": [],
   "source": [
    "#Norma euclídia\n",
    "def norma_euclidia(v):\n",
    "    suma=0\n",
    "    for i in range(len(v)):\n",
    "        suma+=v[i]**2\n",
    "    \n",
    "    return np.sqrt(suma)"
   ]
  },
  {
   "cell_type": "code",
   "execution_count": 83,
   "metadata": {},
   "outputs": [
    {
     "data": {
      "text/plain": [
       "1.4142135623730951"
      ]
     },
     "execution_count": 83,
     "metadata": {},
     "output_type": "execute_result"
    }
   ],
   "source": [
    "#Ejemplo\n",
    "norma_euclidia([1,1])"
   ]
  },
  {
   "cell_type": "code",
   "execution_count": 84,
   "metadata": {},
   "outputs": [],
   "source": [
    "#Norma 1\n",
    "def norma_1(v):\n",
    "    suma=0\n",
    "    for i in range(len(v)):\n",
    "        suma+=abs(v[i])\n",
    "    \n",
    "    return suma"
   ]
  },
  {
   "cell_type": "code",
   "execution_count": 85,
   "metadata": {},
   "outputs": [
    {
     "data": {
      "text/plain": [
       "2"
      ]
     },
     "execution_count": 85,
     "metadata": {},
     "output_type": "execute_result"
    }
   ],
   "source": [
    "#Ejemplo\n",
    "norma_1([1,1])"
   ]
  },
  {
   "cell_type": "code",
   "execution_count": 86,
   "metadata": {},
   "outputs": [],
   "source": [
    "#Norma del máximo\n",
    "def norma_del_maximo(v):\n",
    "    return max(v)"
   ]
  },
  {
   "cell_type": "code",
   "execution_count": 87,
   "metadata": {},
   "outputs": [
    {
     "data": {
      "text/plain": [
       "5"
      ]
     },
     "execution_count": 87,
     "metadata": {},
     "output_type": "execute_result"
    }
   ],
   "source": [
    "#Ejemplo\n",
    "norma_del_maximo([2,4,5])"
   ]
  },
  {
   "cell_type": "markdown",
   "metadata": {},
   "source": [
    "b)"
   ]
  },
  {
   "cell_type": "code",
   "execution_count": 117,
   "metadata": {},
   "outputs": [],
   "source": [
    "def projeccion_a_sobre_b(a,b):\n",
    "    return (producto_escalar(a,b)/producto_escalar(b,b))*b"
   ]
  },
  {
   "cell_type": "code",
   "execution_count": 120,
   "metadata": {},
   "outputs": [
    {
     "data": {
      "text/plain": [
       "array([0., 2.])"
      ]
     },
     "execution_count": 120,
     "metadata": {},
     "output_type": "execute_result"
    }
   ],
   "source": [
    "#Ejemplo\n",
    "u=np.array([2,2])\n",
    "v=np.array([0,4])\n",
    "projeccion_a_sobre_b(u,v)"
   ]
  },
  {
   "cell_type": "code",
   "execution_count": 121,
   "metadata": {},
   "outputs": [],
   "source": [
    "def ortogonal_a_sobre_b(a,b):\n",
    "    return a-projeccion_a_sobre_b(a,b)"
   ]
  },
  {
   "cell_type": "code",
   "execution_count": 123,
   "metadata": {},
   "outputs": [
    {
     "data": {
      "text/plain": [
       "array([2., 0.])"
      ]
     },
     "execution_count": 123,
     "metadata": {},
     "output_type": "execute_result"
    }
   ],
   "source": [
    "#Ejemplo\n",
    "u=np.array([2,2])\n",
    "v=np.array([0,4])\n",
    "ortogonal_a_sobre_b(u,v)"
   ]
  },
  {
   "cell_type": "code",
   "execution_count": 132,
   "metadata": {},
   "outputs": [
    {
     "data": {
      "text/plain": [
       "-8.673617379884035e-19"
      ]
     },
     "execution_count": 132,
     "metadata": {},
     "output_type": "execute_result"
    }
   ],
   "source": [
    "u=np.random.rand(7)\n",
    "v=np.random.rand(7)\n",
    "producto_escalar(projeccion_a_sobre_b(u,v),ortogonal_a_sobre_b(u,v))"
   ]
  },
  {
   "cell_type": "markdown",
   "metadata": {},
   "source": [
    "Vemos como el resultado es muy próximo a 0."
   ]
  },
  {
   "cell_type": "markdown",
   "metadata": {},
   "source": [
    "### 3.  Implementa en Python las funciones siguientes"
   ]
  },
  {
   "cell_type": "markdown",
   "metadata": {},
   "source": [
    "a)"
   ]
  },
  {
   "cell_type": "code",
   "execution_count": 133,
   "metadata": {},
   "outputs": [],
   "source": [
    "def escalar_por_matriz(escalar,matriz):\n",
    "    return escalar*matriz"
   ]
  },
  {
   "cell_type": "code",
   "execution_count": 137,
   "metadata": {},
   "outputs": [
    {
     "name": "stdout",
     "output_type": "stream",
     "text": [
      "[[7 1 7]\n",
      " [9 9 4]\n",
      " [8 8 8]]\n"
     ]
    },
    {
     "data": {
      "text/plain": [
       "array([[14,  2, 14],\n",
       "       [18, 18,  8],\n",
       "       [16, 16, 16]])"
      ]
     },
     "execution_count": 137,
     "metadata": {},
     "output_type": "execute_result"
    }
   ],
   "source": [
    "matriz = np.random.randint((10), size=(3,3))\n",
    "escalar = 2\n",
    "print(matriz)\n",
    "escalar_por_matriz(escalar,matriz)"
   ]
  },
  {
   "cell_type": "markdown",
   "metadata": {},
   "source": [
    "b)"
   ]
  },
  {
   "cell_type": "code",
   "execution_count": 141,
   "metadata": {},
   "outputs": [],
   "source": [
    "def suma_matrices(A,B):\n",
    "    if A.shape == B.shape:\n",
    "        return A+B\n",
    "    else:\n",
    "        print('Las dimensiones de A y B no son compatibles para efectuar la suma')"
   ]
  },
  {
   "cell_type": "code",
   "execution_count": 179,
   "metadata": {},
   "outputs": [
    {
     "name": "stdout",
     "output_type": "stream",
     "text": [
      "[[3 4 7]\n",
      " [7 9 9]\n",
      " [4 3 8]]\n",
      "[[1 4 9]\n",
      " [4 9 6]\n",
      " [7 7 6]]\n"
     ]
    },
    {
     "data": {
      "text/plain": [
       "array([[ 4,  8, 16],\n",
       "       [11, 18, 15],\n",
       "       [11, 10, 14]])"
      ]
     },
     "execution_count": 179,
     "metadata": {},
     "output_type": "execute_result"
    }
   ],
   "source": [
    "#Ejemplo\n",
    "A = np.random.randint((10), size=(3,3))\n",
    "B = np.random.randint((10), size=(3,3))\n",
    "print(A)\n",
    "print(B)\n",
    "suma_matrices(A,B)"
   ]
  },
  {
   "cell_type": "markdown",
   "metadata": {},
   "source": [
    "c)"
   ]
  },
  {
   "cell_type": "code",
   "execution_count": 52,
   "metadata": {},
   "outputs": [],
   "source": [
    "def producto_dos_matrices(A,B):\n",
    "    if A.shape[1] == B.shape[0]:\n",
    "        C = np.zeros((A.shape[0],B.shape[1]))\n",
    "        for s in tqdm(range (A.shape[0])):\n",
    "            for i in range (C.shape[0]):\n",
    "                for j in range (C.shape[1]):\n",
    "                    C[i][j]+=A[i][s]*B[s][j]\n",
    "    else:\n",
    "        print('Las dimensiones de A y B no son compatibles para efectuar el producto entre matrices')\n",
    "    return C"
   ]
  },
  {
   "cell_type": "code",
   "execution_count": 6,
   "metadata": {},
   "outputs": [
    {
     "name": "stdout",
     "output_type": "stream",
     "text": [
      "[[7 3]\n",
      " [8 3]]\n",
      "[[6 7]\n",
      " [1 5]]\n",
      "[[45. 64.]\n",
      " [51. 71.]]\n"
     ]
    }
   ],
   "source": [
    "#Ejemplo\n",
    "A = np.random.randint((10), size=(2,2))\n",
    "B = np.random.randint((10), size=(2,2))\n",
    "print(A)\n",
    "print(B)\n",
    "C = producto_dos_matrices(A,B)\n",
    "print(C)"
   ]
  },
  {
   "cell_type": "markdown",
   "metadata": {},
   "source": [
    "### 4.  Realiza  diferentes  programas  en  Python  que,  dada  una  matriz A∈Rn×n y  un  exponente k∈N, calculen Ak:"
   ]
  },
  {
   "cell_type": "markdown",
   "metadata": {},
   "source": [
    "a)"
   ]
  },
  {
   "cell_type": "code",
   "execution_count": 34,
   "metadata": {},
   "outputs": [],
   "source": [
    "def matriz_elevada_a_k(A,k):\n",
    "    C=A\n",
    "    if k==1:\n",
    "        return A\n",
    "    else: \n",
    "        for k in tqdm(range (k-1)):\n",
    "            C = producto_dos_matrices(C,A)\n",
    "        return C\n"
   ]
  },
  {
   "cell_type": "code",
   "execution_count": 8,
   "metadata": {},
   "outputs": [
    {
     "name": "stdout",
     "output_type": "stream",
     "text": [
      "[[0 3]\n",
      " [3 2]]\n"
     ]
    },
    {
     "data": {
      "text/plain": [
       "array([[18., 39.],\n",
       "       [39., 44.]])"
      ]
     },
     "execution_count": 8,
     "metadata": {},
     "output_type": "execute_result"
    }
   ],
   "source": [
    "#Ejemplo\n",
    "A = np.random.randint((5), size=(2,2))\n",
    "print(A)\n",
    "matriz_elevada_a_k(A,3)"
   ]
  },
  {
   "cell_type": "markdown",
   "metadata": {},
   "source": [
    "b)"
   ]
  },
  {
   "cell_type": "code",
   "execution_count": 42,
   "metadata": {},
   "outputs": [],
   "source": [
    "def matriz_elevada_diagonalizacion(A,k):\n",
    "    diagonalizacion=np.linalg.eig(A)\n",
    "    first=producto_dos_matrices(diagonalizacion[1],np.diag(diagonalizacion[0])**k)\n",
    "    return producto_dos_matrices(first,np.linalg.inv(diagonalizacion[1]))"
   ]
  },
  {
   "cell_type": "code",
   "execution_count": 28,
   "metadata": {},
   "outputs": [
    {
     "data": {
      "text/plain": [
       "array([[18., 39.],\n",
       "       [39., 44.]])"
      ]
     },
     "execution_count": 28,
     "metadata": {},
     "output_type": "execute_result"
    }
   ],
   "source": [
    "matriz_elevada_diagonalizacion(A,3)"
   ]
  },
  {
   "cell_type": "markdown",
   "metadata": {},
   "source": [
    "c)"
   ]
  },
  {
   "cell_type": "code",
   "execution_count": 39,
   "metadata": {},
   "outputs": [],
   "source": [
    "n=500\n",
    "\n",
    "# Matriz aleatoria con valores comprendidos entre 0 y 1.\n",
    "A=np.random.rand(n, n)\n",
    "\n",
    "# Hago simétrica la matriz aleatoria generada anteriormente.\n",
    "# Garantiza que la matriz es diagonalizable.\n",
    "for i in range(0, n):\n",
    "    for j in range(i+1, n):\n",
    "        A[i, j]=A[j, i]\n",
    "\n",
    "# Calculo la suma de los elementos de cada fila y me quedo con la máxima.      \n",
    "maxrow=0\n",
    "for i in range(0, n):\n",
    "    row=0\n",
    "    for j in range(0, n):\n",
    "        row=row+A[i, j]\n",
    "    if row>maxrow:\n",
    "        maxrow=row\n",
    "\n",
    "# Divido todas las entradas de la matriz por el valor anterior.\n",
    "# Garantiza que los valores propios se encuentran entre 0 y 1.\n",
    "for i in range(0, n):\n",
    "    for j in range(0, n):\n",
    "        A[i, j]=A[i, j]/maxrow\n"
   ]
  },
  {
   "cell_type": "code",
   "execution_count": 41,
   "metadata": {},
   "outputs": [
    {
     "data": {
      "text/plain": [
       "(500, 500)"
      ]
     },
     "execution_count": 41,
     "metadata": {},
     "output_type": "execute_result"
    }
   ],
   "source": [
    "A.shape"
   ]
  },
  {
   "cell_type": "code",
   "execution_count": 50,
   "metadata": {},
   "outputs": [
    {
     "name": "stderr",
     "output_type": "stream",
     "text": [
      "\n",
      "  0%|                                                                                            | 0/2 [00:00<?, ?it/s]\n",
      " 50%|█████████████████████████████████████████▌                                         | 1/2 [04:04<04:04, 244.76s/it]\n",
      "100%|███████████████████████████████████████████████████████████████████████████████████| 2/2 [08:17<00:00, 247.29s/it]\n"
     ]
    },
    {
     "name": "stdout",
     "output_type": "stream",
     "text": [
      "Wall time: 8min 17s\n"
     ]
    },
    {
     "data": {
      "text/plain": [
       "array([[0.00152569, 0.00156598, 0.00144727, ..., 0.00163307, 0.00157239,\n",
       "        0.00160111],\n",
       "       [0.00156598, 0.0016088 , 0.00148671, ..., 0.0016753 , 0.00161849,\n",
       "        0.00164547],\n",
       "       [0.00144727, 0.00148671, 0.0013758 , ..., 0.00154937, 0.00149433,\n",
       "        0.00152396],\n",
       "       ...,\n",
       "       [0.00163307, 0.0016753 , 0.00154937, ..., 0.0017464 , 0.00168224,\n",
       "        0.00171338],\n",
       "       [0.00157239, 0.00161849, 0.00149433, ..., 0.00168224, 0.00162599,\n",
       "        0.00165286],\n",
       "       [0.00160111, 0.00164547, 0.00152396, ..., 0.00171338, 0.00165286,\n",
       "        0.00168104]])"
      ]
     },
     "execution_count": 50,
     "metadata": {},
     "output_type": "execute_result"
    }
   ],
   "source": [
    "%%time\n",
    "matriz_elevada_a_k(A,3)"
   ]
  },
  {
   "cell_type": "code",
   "execution_count": 55,
   "metadata": {
    "scrolled": true
   },
   "outputs": [
    {
     "name": "stderr",
     "output_type": "stream",
     "text": [
      "\n",
      "  0%|                                                                                          | 0/500 [00:00<?, ?it/s]\n",
      "  0%|▏                                                                                 | 1/500 [00:00<03:43,  2.24it/s]\n",
      "  0%|▎                                                                                 | 2/500 [00:00<03:43,  2.22it/s]\n",
      "  1%|▍                                                                                 | 3/500 [00:01<03:44,  2.21it/s]\n",
      "  1%|▋                                                                                 | 4/500 [00:01<03:45,  2.20it/s]\n",
      "  1%|▊                                                                                 | 5/500 [00:02<03:46,  2.18it/s]\n",
      "  1%|▉                                                                                 | 6/500 [00:02<03:45,  2.19it/s]\n",
      "  1%|█▏                                                                                | 7/500 [00:03<03:45,  2.19it/s]\n",
      "  2%|█▎                                                                                | 8/500 [00:03<03:44,  2.19it/s]\n",
      "  2%|█▍                                                                                | 9/500 [00:04<03:44,  2.18it/s]\n",
      "  2%|█▌                                                                               | 10/500 [00:04<03:45,  2.17it/s]\n",
      "  2%|█▊                                                                               | 11/500 [00:05<03:44,  2.17it/s]\n",
      "  2%|█▉                                                                               | 12/500 [00:05<03:42,  2.19it/s]\n",
      "  3%|██                                                                               | 13/500 [00:05<03:37,  2.23it/s]\n",
      "  3%|██▎                                                                              | 14/500 [00:06<03:38,  2.22it/s]\n",
      "  3%|██▍                                                                              | 15/500 [00:06<03:36,  2.24it/s]\n",
      "  3%|██▌                                                                              | 16/500 [00:07<03:34,  2.26it/s]\n",
      "  3%|██▊                                                                              | 17/500 [00:07<03:34,  2.25it/s]\n",
      "  4%|██▉                                                                              | 18/500 [00:08<03:34,  2.24it/s]\n",
      "  4%|███                                                                              | 19/500 [00:08<03:33,  2.25it/s]\n",
      "  4%|███▏                                                                             | 20/500 [00:09<03:30,  2.28it/s]\n",
      "  4%|███▍                                                                             | 21/500 [00:09<03:32,  2.26it/s]\n",
      "  4%|███▌                                                                             | 22/500 [00:09<03:27,  2.30it/s]\n",
      "  5%|███▋                                                                             | 23/500 [00:10<03:38,  2.18it/s]\n",
      "  5%|███▉                                                                             | 24/500 [00:10<03:32,  2.24it/s]\n",
      "  5%|████                                                                             | 25/500 [00:11<03:25,  2.32it/s]\n",
      "  5%|████▏                                                                            | 26/500 [00:11<03:25,  2.31it/s]\n",
      "  5%|████▎                                                                            | 27/500 [00:12<03:28,  2.27it/s]\n",
      "  6%|████▌                                                                            | 28/500 [00:12<03:30,  2.24it/s]\n",
      "  6%|████▋                                                                            | 29/500 [00:12<03:28,  2.26it/s]\n",
      "  6%|████▊                                                                            | 30/500 [00:13<03:31,  2.22it/s]\n",
      "  6%|█████                                                                            | 31/500 [00:13<03:30,  2.22it/s]\n",
      "  6%|█████▏                                                                           | 32/500 [00:14<03:21,  2.32it/s]\n",
      "  7%|█████▎                                                                           | 33/500 [00:14<03:24,  2.28it/s]\n",
      "  7%|█████▌                                                                           | 34/500 [00:15<03:26,  2.26it/s]\n",
      "  7%|█████▋                                                                           | 35/500 [00:15<03:28,  2.23it/s]\n",
      "  7%|█████▊                                                                           | 36/500 [00:16<03:29,  2.21it/s]\n",
      "  7%|█████▉                                                                           | 37/500 [00:16<03:21,  2.29it/s]\n",
      "  8%|██████▏                                                                          | 38/500 [00:16<03:22,  2.28it/s]\n",
      "  8%|██████▎                                                                          | 39/500 [00:17<03:18,  2.32it/s]\n",
      "  8%|██████▍                                                                          | 40/500 [00:17<03:19,  2.31it/s]\n",
      "  8%|██████▋                                                                          | 41/500 [00:18<03:23,  2.26it/s]\n",
      "  8%|██████▊                                                                          | 42/500 [00:18<03:25,  2.23it/s]\n",
      "  9%|██████▉                                                                          | 43/500 [00:19<03:26,  2.21it/s]\n",
      "  9%|███████▏                                                                         | 44/500 [00:19<03:26,  2.21it/s]\n",
      "  9%|███████▎                                                                         | 45/500 [00:20<03:27,  2.19it/s]\n",
      "  9%|███████▍                                                                         | 46/500 [00:20<03:27,  2.19it/s]\n",
      "  9%|███████▌                                                                         | 47/500 [00:21<03:26,  2.19it/s]\n",
      " 10%|███████▊                                                                         | 48/500 [00:21<03:26,  2.19it/s]\n",
      " 10%|███████▉                                                                         | 49/500 [00:21<03:26,  2.19it/s]\n",
      " 10%|████████                                                                         | 50/500 [00:22<03:25,  2.19it/s]\n",
      " 10%|████████▎                                                                        | 51/500 [00:22<03:24,  2.20it/s]\n",
      " 10%|████████▍                                                                        | 52/500 [00:23<03:24,  2.19it/s]\n",
      " 11%|████████▌                                                                        | 53/500 [00:23<03:23,  2.19it/s]\n",
      " 11%|████████▋                                                                        | 54/500 [00:24<03:23,  2.19it/s]\n",
      " 11%|████████▉                                                                        | 55/500 [00:24<03:23,  2.19it/s]\n",
      " 11%|█████████                                                                        | 56/500 [00:25<03:23,  2.19it/s]\n",
      " 11%|█████████▏                                                                       | 57/500 [00:25<03:22,  2.19it/s]\n",
      " 12%|█████████▍                                                                       | 58/500 [00:26<03:21,  2.19it/s]\n",
      " 12%|█████████▌                                                                       | 59/500 [00:26<03:20,  2.20it/s]\n",
      " 12%|█████████▋                                                                       | 60/500 [00:26<03:18,  2.21it/s]\n",
      " 12%|█████████▉                                                                       | 61/500 [00:27<03:17,  2.22it/s]\n",
      " 12%|██████████                                                                       | 62/500 [00:27<03:18,  2.21it/s]\n",
      " 13%|██████████▏                                                                      | 63/500 [00:28<03:19,  2.20it/s]\n",
      " 13%|██████████▎                                                                      | 64/500 [00:28<03:18,  2.20it/s]\n",
      " 13%|██████████▌                                                                      | 65/500 [00:29<03:15,  2.22it/s]\n",
      " 13%|██████████▋                                                                      | 66/500 [00:29<03:16,  2.21it/s]\n",
      " 13%|██████████▊                                                                      | 67/500 [00:30<03:14,  2.23it/s]\n"
     ]
    },
    {
     "name": "stderr",
     "output_type": "stream",
     "text": [
      " 14%|███████████                                                                      | 68/500 [00:30<03:13,  2.24it/s]\n",
      " 14%|███████████▏                                                                     | 69/500 [00:30<03:06,  2.31it/s]\n",
      " 14%|███████████▎                                                                     | 70/500 [00:31<03:09,  2.27it/s]\n",
      " 14%|███████████▌                                                                     | 71/500 [00:31<03:09,  2.26it/s]\n",
      " 14%|███████████▋                                                                     | 72/500 [00:32<02:54,  2.45it/s]\n",
      " 15%|███████████▊                                                                     | 73/500 [00:32<03:12,  2.22it/s]\n",
      " 15%|███████████▉                                                                     | 74/500 [00:33<02:53,  2.45it/s]\n",
      " 15%|████████████▏                                                                    | 75/500 [00:33<02:55,  2.42it/s]\n",
      " 15%|████████████▎                                                                    | 76/500 [00:33<03:01,  2.34it/s]\n",
      " 15%|████████████▍                                                                    | 77/500 [00:34<03:06,  2.26it/s]\n",
      " 16%|████████████▋                                                                    | 78/500 [00:34<03:06,  2.27it/s]\n",
      " 16%|████████████▊                                                                    | 79/500 [00:35<03:10,  2.21it/s]\n",
      " 16%|████████████▉                                                                    | 80/500 [00:35<03:09,  2.22it/s]\n",
      " 16%|█████████████                                                                    | 81/500 [00:36<03:10,  2.20it/s]\n",
      " 16%|█████████████▎                                                                   | 82/500 [00:36<03:01,  2.30it/s]\n",
      " 17%|█████████████▍                                                                   | 83/500 [00:37<03:05,  2.25it/s]\n",
      " 17%|█████████████▌                                                                   | 84/500 [00:37<03:08,  2.21it/s]\n",
      " 17%|█████████████▊                                                                   | 85/500 [00:38<03:10,  2.18it/s]\n",
      " 17%|█████████████▉                                                                   | 86/500 [00:38<03:10,  2.17it/s]\n",
      " 17%|██████████████                                                                   | 87/500 [00:38<03:10,  2.17it/s]\n",
      " 18%|██████████████▎                                                                  | 88/500 [00:39<03:10,  2.16it/s]\n",
      " 18%|██████████████▍                                                                  | 89/500 [00:39<03:09,  2.17it/s]\n",
      " 18%|██████████████▌                                                                  | 90/500 [00:40<03:09,  2.17it/s]\n",
      " 18%|██████████████▋                                                                  | 91/500 [00:40<03:09,  2.16it/s]\n",
      " 18%|██████████████▉                                                                  | 92/500 [00:41<03:09,  2.16it/s]\n",
      " 19%|███████████████                                                                  | 93/500 [00:41<03:12,  2.11it/s]\n",
      " 19%|███████████████▏                                                                 | 94/500 [00:42<03:11,  2.12it/s]\n",
      " 19%|███████████████▍                                                                 | 95/500 [00:42<03:09,  2.14it/s]\n",
      " 19%|███████████████▌                                                                 | 96/500 [00:43<03:07,  2.15it/s]\n",
      " 19%|███████████████▋                                                                 | 97/500 [00:43<03:06,  2.16it/s]\n",
      " 20%|███████████████▉                                                                 | 98/500 [00:44<03:05,  2.16it/s]\n",
      " 20%|████████████████                                                                 | 99/500 [00:44<03:05,  2.16it/s]\n",
      " 20%|████████████████                                                                | 100/500 [00:45<03:05,  2.15it/s]\n",
      " 20%|████████████████▏                                                               | 101/500 [00:45<03:05,  2.15it/s]\n",
      " 20%|████████████████▎                                                               | 102/500 [00:45<03:04,  2.16it/s]\n",
      " 21%|████████████████▍                                                               | 103/500 [00:46<03:04,  2.16it/s]\n",
      " 21%|████████████████▋                                                               | 104/500 [00:46<03:03,  2.16it/s]\n",
      " 21%|████████████████▊                                                               | 105/500 [00:47<03:03,  2.16it/s]\n",
      " 21%|████████████████▉                                                               | 106/500 [00:47<03:04,  2.14it/s]\n",
      " 21%|█████████████████                                                               | 107/500 [00:48<03:03,  2.14it/s]\n",
      " 22%|█████████████████▎                                                              | 108/500 [00:48<03:02,  2.15it/s]\n",
      " 22%|█████████████████▍                                                              | 109/500 [00:49<03:02,  2.14it/s]\n",
      " 22%|█████████████████▌                                                              | 110/500 [00:49<02:59,  2.17it/s]\n",
      " 22%|█████████████████▊                                                              | 111/500 [00:50<02:59,  2.17it/s]\n",
      " 22%|█████████████████▉                                                              | 112/500 [00:50<02:59,  2.16it/s]\n",
      " 23%|██████████████████                                                              | 113/500 [00:51<02:59,  2.15it/s]\n",
      " 23%|██████████████████▏                                                             | 114/500 [00:51<02:55,  2.20it/s]\n",
      " 23%|██████████████████▍                                                             | 115/500 [00:51<02:56,  2.18it/s]\n",
      " 23%|██████████████████▌                                                             | 116/500 [00:52<02:54,  2.20it/s]\n",
      " 23%|██████████████████▋                                                             | 117/500 [00:52<02:54,  2.20it/s]\n",
      " 24%|██████████████████▉                                                             | 118/500 [00:53<02:50,  2.24it/s]\n",
      " 24%|███████████████████                                                             | 119/500 [00:53<02:51,  2.22it/s]\n",
      " 24%|███████████████████▏                                                            | 120/500 [00:54<02:50,  2.23it/s]\n",
      " 24%|███████████████████▎                                                            | 121/500 [00:54<02:50,  2.22it/s]\n",
      " 24%|███████████████████▌                                                            | 122/500 [00:55<02:51,  2.21it/s]\n",
      " 25%|███████████████████▋                                                            | 123/500 [00:55<02:52,  2.19it/s]\n",
      " 25%|███████████████████▊                                                            | 124/500 [00:56<02:53,  2.17it/s]\n",
      " 25%|████████████████████                                                            | 125/500 [00:56<02:52,  2.17it/s]\n",
      " 25%|████████████████████▏                                                           | 126/500 [00:56<02:53,  2.16it/s]\n",
      " 25%|████████████████████▎                                                           | 127/500 [00:57<02:52,  2.17it/s]\n",
      " 26%|████████████████████▍                                                           | 128/500 [00:57<02:52,  2.16it/s]\n",
      " 26%|████████████████████▋                                                           | 129/500 [00:58<02:50,  2.17it/s]\n",
      " 26%|████████████████████▊                                                           | 130/500 [00:58<02:49,  2.18it/s]\n",
      " 26%|████████████████████▉                                                           | 131/500 [00:59<02:49,  2.18it/s]\n",
      " 26%|█████████████████████                                                           | 132/500 [00:59<02:50,  2.16it/s]\n",
      " 27%|█████████████████████▎                                                          | 133/500 [01:00<02:49,  2.17it/s]\n",
      " 27%|█████████████████████▍                                                          | 134/500 [01:00<02:49,  2.16it/s]\n",
      " 27%|█████████████████████▌                                                          | 135/500 [01:01<02:47,  2.18it/s]\n"
     ]
    },
    {
     "name": "stderr",
     "output_type": "stream",
     "text": [
      " 27%|█████████████████████▊                                                          | 136/500 [01:01<02:47,  2.18it/s]\n",
      " 27%|█████████████████████▉                                                          | 137/500 [01:02<02:45,  2.20it/s]\n",
      " 28%|██████████████████████                                                          | 138/500 [01:02<02:45,  2.19it/s]\n",
      " 28%|██████████████████████▏                                                         | 139/500 [01:02<02:44,  2.19it/s]\n",
      " 28%|██████████████████████▍                                                         | 140/500 [01:03<02:44,  2.19it/s]\n",
      " 28%|██████████████████████▌                                                         | 141/500 [01:03<02:44,  2.18it/s]\n",
      " 28%|██████████████████████▋                                                         | 142/500 [01:04<02:44,  2.18it/s]\n",
      " 29%|██████████████████████▉                                                         | 143/500 [01:04<02:43,  2.18it/s]\n",
      " 29%|███████████████████████                                                         | 144/500 [01:05<02:42,  2.19it/s]\n",
      " 29%|███████████████████████▏                                                        | 145/500 [01:05<02:41,  2.20it/s]\n",
      " 29%|███████████████████████▎                                                        | 146/500 [01:06<02:40,  2.21it/s]\n",
      " 29%|███████████████████████▌                                                        | 147/500 [01:06<02:39,  2.21it/s]\n",
      " 30%|███████████████████████▋                                                        | 148/500 [01:07<02:38,  2.22it/s]\n",
      " 30%|███████████████████████▊                                                        | 149/500 [01:07<02:36,  2.24it/s]\n",
      " 30%|████████████████████████                                                        | 150/500 [01:07<02:36,  2.23it/s]\n",
      " 30%|████████████████████████▏                                                       | 151/500 [01:08<02:36,  2.23it/s]\n",
      " 30%|████████████████████████▎                                                       | 152/500 [01:08<02:36,  2.23it/s]\n",
      " 31%|████████████████████████▍                                                       | 153/500 [01:09<02:35,  2.23it/s]\n",
      " 31%|████████████████████████▋                                                       | 154/500 [01:09<02:35,  2.23it/s]\n",
      " 31%|████████████████████████▊                                                       | 155/500 [01:10<02:34,  2.23it/s]\n",
      " 31%|████████████████████████▉                                                       | 156/500 [01:10<02:24,  2.38it/s]\n",
      " 31%|█████████████████████████                                                       | 157/500 [01:10<02:26,  2.35it/s]\n",
      " 32%|█████████████████████████▎                                                      | 158/500 [01:11<02:29,  2.29it/s]\n",
      " 32%|█████████████████████████▍                                                      | 159/500 [01:11<02:32,  2.24it/s]\n",
      " 32%|█████████████████████████▌                                                      | 160/500 [01:12<02:33,  2.22it/s]\n",
      " 32%|█████████████████████████▊                                                      | 161/500 [01:12<02:33,  2.21it/s]\n",
      " 32%|█████████████████████████▉                                                      | 162/500 [01:13<02:32,  2.21it/s]\n",
      " 33%|██████████████████████████                                                      | 163/500 [01:13<02:32,  2.22it/s]\n",
      " 33%|██████████████████████████▏                                                     | 164/500 [01:14<02:30,  2.23it/s]\n",
      " 33%|██████████████████████████▍                                                     | 165/500 [01:14<02:30,  2.22it/s]\n",
      " 33%|██████████████████████████▌                                                     | 166/500 [01:15<02:32,  2.19it/s]\n",
      " 33%|██████████████████████████▋                                                     | 167/500 [01:15<02:32,  2.18it/s]\n",
      " 34%|██████████████████████████▉                                                     | 168/500 [01:15<02:32,  2.18it/s]\n",
      " 34%|███████████████████████████                                                     | 169/500 [01:16<02:31,  2.19it/s]\n",
      " 34%|███████████████████████████▏                                                    | 170/500 [01:16<02:30,  2.19it/s]\n",
      " 34%|███████████████████████████▎                                                    | 171/500 [01:17<02:30,  2.19it/s]\n",
      " 34%|███████████████████████████▌                                                    | 172/500 [01:17<02:25,  2.25it/s]\n",
      " 35%|███████████████████████████▋                                                    | 173/500 [01:18<02:25,  2.24it/s]\n",
      " 35%|███████████████████████████▊                                                    | 174/500 [01:18<02:26,  2.22it/s]\n",
      " 35%|████████████████████████████                                                    | 175/500 [01:19<02:26,  2.22it/s]\n",
      " 35%|████████████████████████████▏                                                   | 176/500 [01:19<02:18,  2.34it/s]\n",
      " 35%|████████████████████████████▎                                                   | 177/500 [01:19<02:22,  2.26it/s]\n",
      " 36%|████████████████████████████▍                                                   | 178/500 [01:20<02:24,  2.23it/s]\n",
      " 36%|████████████████████████████▋                                                   | 179/500 [01:20<02:25,  2.20it/s]\n",
      " 36%|████████████████████████████▊                                                   | 180/500 [01:21<02:25,  2.19it/s]\n",
      " 36%|████████████████████████████▉                                                   | 181/500 [01:21<02:25,  2.19it/s]\n",
      " 36%|█████████████████████████████                                                   | 182/500 [01:22<02:26,  2.17it/s]\n",
      " 37%|█████████████████████████████▎                                                  | 183/500 [01:22<02:26,  2.16it/s]\n",
      " 37%|█████████████████████████████▍                                                  | 184/500 [01:23<02:25,  2.17it/s]\n",
      " 37%|█████████████████████████████▌                                                  | 185/500 [01:23<02:24,  2.17it/s]\n",
      " 37%|█████████████████████████████▊                                                  | 186/500 [01:24<02:24,  2.18it/s]\n",
      " 37%|█████████████████████████████▉                                                  | 187/500 [01:24<02:24,  2.16it/s]\n",
      " 38%|██████████████████████████████                                                  | 188/500 [01:25<02:23,  2.17it/s]\n",
      " 38%|██████████████████████████████▏                                                 | 189/500 [01:25<02:23,  2.17it/s]\n",
      " 38%|██████████████████████████████▍                                                 | 190/500 [01:25<02:24,  2.14it/s]\n",
      " 38%|██████████████████████████████▌                                                 | 191/500 [01:26<02:23,  2.15it/s]\n",
      " 38%|██████████████████████████████▋                                                 | 192/500 [01:26<02:23,  2.15it/s]\n",
      " 39%|██████████████████████████████▉                                                 | 193/500 [01:27<02:20,  2.19it/s]\n",
      " 39%|███████████████████████████████                                                 | 194/500 [01:27<02:22,  2.15it/s]\n",
      " 39%|███████████████████████████████▏                                                | 195/500 [01:28<02:21,  2.16it/s]\n",
      " 39%|███████████████████████████████▎                                                | 196/500 [01:28<02:20,  2.17it/s]\n",
      " 39%|███████████████████████████████▌                                                | 197/500 [01:29<02:16,  2.21it/s]\n",
      " 40%|███████████████████████████████▋                                                | 198/500 [01:29<02:17,  2.20it/s]\n",
      " 40%|███████████████████████████████▊                                                | 199/500 [01:29<02:05,  2.41it/s]\n",
      " 40%|████████████████████████████████                                                | 200/500 [01:30<02:08,  2.34it/s]\n",
      " 40%|████████████████████████████████▏                                               | 201/500 [01:30<02:06,  2.37it/s]\n",
      " 40%|████████████████████████████████▎                                               | 202/500 [01:31<01:43,  2.88it/s]\n",
      " 41%|████████████████████████████████▍                                               | 203/500 [01:31<01:27,  3.39it/s]\n"
     ]
    },
    {
     "name": "stderr",
     "output_type": "stream",
     "text": [
      " 41%|████████████████████████████████▋                                               | 204/500 [01:31<01:16,  3.89it/s]\n",
      " 41%|████████████████████████████████▊                                               | 205/500 [01:31<01:11,  4.15it/s]\n",
      " 41%|████████████████████████████████▉                                               | 206/500 [01:31<01:04,  4.58it/s]\n",
      " 41%|█████████████████████████████████                                               | 207/500 [01:31<01:00,  4.86it/s]\n",
      " 42%|█████████████████████████████████▎                                              | 208/500 [01:32<00:57,  5.11it/s]\n",
      " 42%|█████████████████████████████████▍                                              | 209/500 [01:32<00:55,  5.27it/s]\n",
      " 42%|█████████████████████████████████▌                                              | 210/500 [01:32<00:53,  5.42it/s]\n",
      " 42%|█████████████████████████████████▊                                              | 211/500 [01:32<00:52,  5.52it/s]\n",
      " 42%|█████████████████████████████████▉                                              | 212/500 [01:32<00:51,  5.59it/s]\n",
      " 43%|██████████████████████████████████                                              | 213/500 [01:32<00:51,  5.63it/s]\n",
      " 43%|██████████████████████████████████▏                                             | 214/500 [01:33<00:50,  5.61it/s]\n",
      " 43%|██████████████████████████████████▍                                             | 215/500 [01:33<00:49,  5.73it/s]\n",
      " 43%|██████████████████████████████████▌                                             | 216/500 [01:33<00:49,  5.73it/s]\n",
      " 43%|██████████████████████████████████▋                                             | 217/500 [01:33<00:49,  5.72it/s]\n",
      " 44%|██████████████████████████████████▉                                             | 218/500 [01:33<00:48,  5.77it/s]\n",
      " 44%|███████████████████████████████████                                             | 219/500 [01:33<00:48,  5.76it/s]\n",
      " 44%|███████████████████████████████████▏                                            | 220/500 [01:34<00:48,  5.75it/s]\n",
      " 44%|███████████████████████████████████▎                                            | 221/500 [01:34<00:48,  5.74it/s]\n",
      " 44%|███████████████████████████████████▌                                            | 222/500 [01:34<00:48,  5.70it/s]\n",
      " 45%|███████████████████████████████████▋                                            | 223/500 [01:34<00:48,  5.70it/s]\n",
      " 45%|███████████████████████████████████▊                                            | 224/500 [01:34<00:48,  5.67it/s]\n",
      " 45%|████████████████████████████████████                                            | 225/500 [01:35<00:48,  5.70it/s]\n",
      " 45%|████████████████████████████████████▏                                           | 226/500 [01:35<00:48,  5.71it/s]\n",
      " 45%|████████████████████████████████████▎                                           | 227/500 [01:35<00:47,  5.72it/s]\n",
      " 46%|████████████████████████████████████▍                                           | 228/500 [01:35<00:47,  5.73it/s]\n",
      " 46%|████████████████████████████████████▋                                           | 229/500 [01:35<00:47,  5.69it/s]\n",
      " 46%|████████████████████████████████████▊                                           | 230/500 [01:35<00:47,  5.73it/s]\n",
      " 46%|████████████████████████████████████▉                                           | 231/500 [01:36<00:47,  5.71it/s]\n",
      " 46%|█████████████████████████████████████                                           | 232/500 [01:36<00:46,  5.73it/s]\n",
      " 47%|█████████████████████████████████████▎                                          | 233/500 [01:36<00:46,  5.73it/s]\n",
      " 47%|█████████████████████████████████████▍                                          | 234/500 [01:36<00:46,  5.73it/s]\n",
      " 47%|█████████████████████████████████████▌                                          | 235/500 [01:36<00:46,  5.75it/s]\n",
      " 47%|█████████████████████████████████████▊                                          | 236/500 [01:36<00:46,  5.72it/s]\n",
      " 47%|█████████████████████████████████████▉                                          | 237/500 [01:37<00:45,  5.72it/s]\n",
      " 48%|██████████████████████████████████████                                          | 238/500 [01:37<00:45,  5.72it/s]\n",
      " 48%|██████████████████████████████████████▏                                         | 239/500 [01:37<00:45,  5.71it/s]\n",
      " 48%|██████████████████████████████████████▍                                         | 240/500 [01:37<00:45,  5.70it/s]\n",
      " 48%|██████████████████████████████████████▌                                         | 241/500 [01:37<00:45,  5.69it/s]\n",
      " 48%|██████████████████████████████████████▋                                         | 242/500 [01:38<00:44,  5.75it/s]\n",
      " 49%|██████████████████████████████████████▉                                         | 243/500 [01:38<00:44,  5.74it/s]\n",
      " 49%|███████████████████████████████████████                                         | 244/500 [01:38<00:44,  5.72it/s]\n",
      " 49%|███████████████████████████████████████▏                                        | 245/500 [01:38<00:45,  5.66it/s]\n",
      " 49%|███████████████████████████████████████▎                                        | 246/500 [01:38<00:44,  5.68it/s]\n",
      " 49%|███████████████████████████████████████▌                                        | 247/500 [01:38<00:44,  5.67it/s]\n",
      " 50%|███████████████████████████████████████▋                                        | 248/500 [01:39<00:44,  5.67it/s]\n",
      " 50%|███████████████████████████████████████▊                                        | 249/500 [01:39<00:44,  5.65it/s]\n",
      " 50%|████████████████████████████████████████                                        | 250/500 [01:39<00:44,  5.66it/s]\n",
      " 50%|████████████████████████████████████████▏                                       | 251/500 [01:39<00:43,  5.71it/s]\n",
      " 50%|████████████████████████████████████████▎                                       | 252/500 [01:39<00:44,  5.63it/s]\n",
      " 51%|████████████████████████████████████████▍                                       | 253/500 [01:39<00:44,  5.59it/s]\n",
      " 51%|████████████████████████████████████████▋                                       | 254/500 [01:40<00:43,  5.60it/s]\n",
      " 51%|████████████████████████████████████████▊                                       | 255/500 [01:40<00:44,  5.46it/s]\n",
      " 51%|████████████████████████████████████████▉                                       | 256/500 [01:40<00:44,  5.42it/s]\n",
      " 51%|█████████████████████████████████████████                                       | 257/500 [01:40<00:45,  5.34it/s]\n",
      " 52%|█████████████████████████████████████████▎                                      | 258/500 [01:40<00:44,  5.41it/s]\n",
      " 52%|█████████████████████████████████████████▍                                      | 259/500 [01:41<00:52,  4.63it/s]\n",
      " 52%|█████████████████████████████████████████▌                                      | 260/500 [01:41<00:51,  4.67it/s]\n",
      " 52%|█████████████████████████████████████████▊                                      | 261/500 [01:41<00:51,  4.61it/s]\n",
      " 52%|█████████████████████████████████████████▉                                      | 262/500 [01:41<00:50,  4.75it/s]\n",
      " 53%|██████████████████████████████████████████                                      | 263/500 [01:42<00:48,  4.85it/s]\n",
      " 53%|██████████████████████████████████████████▏                                     | 264/500 [01:42<00:47,  4.96it/s]\n",
      " 53%|██████████████████████████████████████████▍                                     | 265/500 [01:42<00:46,  5.06it/s]\n",
      " 53%|██████████████████████████████████████████▌                                     | 266/500 [01:42<00:45,  5.16it/s]\n",
      " 53%|██████████████████████████████████████████▋                                     | 267/500 [01:42<00:43,  5.30it/s]\n",
      " 54%|██████████████████████████████████████████▉                                     | 268/500 [01:42<00:42,  5.41it/s]\n",
      " 54%|███████████████████████████████████████████                                     | 269/500 [01:43<00:42,  5.45it/s]\n",
      " 54%|███████████████████████████████████████████▏                                    | 270/500 [01:43<00:42,  5.44it/s]\n",
      " 54%|███████████████████████████████████████████▎                                    | 271/500 [01:43<00:42,  5.44it/s]\n"
     ]
    },
    {
     "name": "stderr",
     "output_type": "stream",
     "text": [
      " 54%|███████████████████████████████████████████▌                                    | 272/500 [01:43<00:41,  5.51it/s]\n",
      " 55%|███████████████████████████████████████████▋                                    | 273/500 [01:43<00:40,  5.54it/s]\n",
      " 55%|███████████████████████████████████████████▊                                    | 274/500 [01:44<00:40,  5.57it/s]\n",
      " 55%|████████████████████████████████████████████                                    | 275/500 [01:44<00:40,  5.61it/s]\n",
      " 55%|████████████████████████████████████████████▏                                   | 276/500 [01:44<00:39,  5.64it/s]\n",
      " 55%|████████████████████████████████████████████▎                                   | 277/500 [01:44<00:39,  5.66it/s]\n",
      " 56%|████████████████████████████████████████████▍                                   | 278/500 [01:44<00:39,  5.58it/s]\n",
      " 56%|████████████████████████████████████████████▋                                   | 279/500 [01:44<00:39,  5.54it/s]\n",
      " 56%|████████████████████████████████████████████▊                                   | 280/500 [01:45<00:39,  5.55it/s]\n",
      " 56%|████████████████████████████████████████████▉                                   | 281/500 [01:45<00:40,  5.45it/s]\n",
      " 56%|█████████████████████████████████████████████                                   | 282/500 [01:45<00:39,  5.47it/s]\n",
      " 57%|█████████████████████████████████████████████▎                                  | 283/500 [01:45<00:39,  5.48it/s]\n",
      " 57%|█████████████████████████████████████████████▍                                  | 284/500 [01:45<00:39,  5.53it/s]\n",
      " 57%|█████████████████████████████████████████████▌                                  | 285/500 [01:46<00:39,  5.44it/s]\n",
      " 57%|█████████████████████████████████████████████▊                                  | 286/500 [01:46<00:39,  5.38it/s]\n",
      " 57%|█████████████████████████████████████████████▉                                  | 287/500 [01:46<00:40,  5.30it/s]\n",
      " 58%|██████████████████████████████████████████████                                  | 288/500 [01:46<00:40,  5.28it/s]\n",
      " 58%|██████████████████████████████████████████████▏                                 | 289/500 [01:46<00:39,  5.30it/s]\n",
      " 58%|██████████████████████████████████████████████▍                                 | 290/500 [01:46<00:39,  5.30it/s]\n",
      " 58%|██████████████████████████████████████████████▌                                 | 291/500 [01:47<00:40,  5.19it/s]\n",
      " 58%|██████████████████████████████████████████████▋                                 | 292/500 [01:47<00:40,  5.15it/s]\n",
      " 59%|██████████████████████████████████████████████▉                                 | 293/500 [01:47<00:39,  5.22it/s]\n",
      " 59%|███████████████████████████████████████████████                                 | 294/500 [01:47<00:39,  5.24it/s]\n",
      " 59%|███████████████████████████████████████████████▏                                | 295/500 [01:47<00:38,  5.31it/s]\n",
      " 59%|███████████████████████████████████████████████▎                                | 296/500 [01:48<00:37,  5.40it/s]\n",
      " 59%|███████████████████████████████████████████████▌                                | 297/500 [01:48<00:37,  5.42it/s]\n",
      " 60%|███████████████████████████████████████████████▋                                | 298/500 [01:48<00:36,  5.48it/s]\n",
      " 60%|███████████████████████████████████████████████▊                                | 299/500 [01:48<00:36,  5.51it/s]\n",
      " 60%|████████████████████████████████████████████████                                | 300/500 [01:48<00:36,  5.55it/s]\n",
      " 60%|████████████████████████████████████████████████▏                               | 301/500 [01:48<00:35,  5.57it/s]\n",
      " 60%|████████████████████████████████████████████████▎                               | 302/500 [01:49<00:35,  5.62it/s]\n",
      " 61%|████████████████████████████████████████████████▍                               | 303/500 [01:49<00:35,  5.62it/s]\n",
      " 61%|████████████████████████████████████████████████▋                               | 304/500 [01:49<00:34,  5.71it/s]\n",
      " 61%|████████████████████████████████████████████████▊                               | 305/500 [01:49<00:34,  5.71it/s]\n",
      " 61%|████████████████████████████████████████████████▉                               | 306/500 [01:49<00:34,  5.65it/s]\n",
      " 61%|█████████████████████████████████████████████████                               | 307/500 [01:50<00:34,  5.62it/s]\n",
      " 62%|█████████████████████████████████████████████████▎                              | 308/500 [01:50<00:34,  5.62it/s]\n",
      " 62%|█████████████████████████████████████████████████▍                              | 309/500 [01:50<00:33,  5.66it/s]\n",
      " 62%|█████████████████████████████████████████████████▌                              | 310/500 [01:50<00:33,  5.64it/s]\n",
      " 62%|█████████████████████████████████████████████████▊                              | 311/500 [01:50<00:33,  5.65it/s]\n",
      " 62%|█████████████████████████████████████████████████▉                              | 312/500 [01:50<00:33,  5.65it/s]\n",
      " 63%|██████████████████████████████████████████████████                              | 313/500 [01:51<00:33,  5.64it/s]\n",
      " 63%|██████████████████████████████████████████████████▏                             | 314/500 [01:51<00:32,  5.67it/s]\n",
      " 63%|██████████████████████████████████████████████████▍                             | 315/500 [01:51<00:32,  5.67it/s]\n",
      " 63%|██████████████████████████████████████████████████▌                             | 316/500 [01:51<00:32,  5.64it/s]\n",
      " 63%|██████████████████████████████████████████████████▋                             | 317/500 [01:51<00:32,  5.65it/s]\n",
      " 64%|██████████████████████████████████████████████████▉                             | 318/500 [01:51<00:32,  5.62it/s]\n",
      " 64%|███████████████████████████████████████████████████                             | 319/500 [01:52<00:32,  5.58it/s]\n",
      " 64%|███████████████████████████████████████████████████▏                            | 320/500 [01:52<00:32,  5.58it/s]\n",
      " 64%|███████████████████████████████████████████████████▎                            | 321/500 [01:52<00:32,  5.51it/s]\n",
      " 64%|███████████████████████████████████████████████████▌                            | 322/500 [01:52<00:32,  5.48it/s]\n",
      " 65%|███████████████████████████████████████████████████▋                            | 323/500 [01:52<00:32,  5.49it/s]\n",
      " 65%|███████████████████████████████████████████████████▊                            | 324/500 [01:53<00:31,  5.55it/s]\n",
      " 65%|████████████████████████████████████████████████████                            | 325/500 [01:53<00:31,  5.59it/s]\n",
      " 65%|████████████████████████████████████████████████████▏                           | 326/500 [01:53<00:31,  5.61it/s]\n",
      " 65%|████████████████████████████████████████████████████▎                           | 327/500 [01:53<00:30,  5.60it/s]\n",
      " 66%|████████████████████████████████████████████████████▍                           | 328/500 [01:53<00:30,  5.59it/s]\n",
      " 66%|████████████████████████████████████████████████████▋                           | 329/500 [01:53<00:30,  5.58it/s]\n",
      " 66%|████████████████████████████████████████████████████▊                           | 330/500 [01:54<00:30,  5.64it/s]\n",
      " 66%|████████████████████████████████████████████████████▉                           | 331/500 [01:54<00:29,  5.65it/s]\n",
      " 66%|█████████████████████████████████████████████████████                           | 332/500 [01:54<00:29,  5.65it/s]\n",
      " 67%|█████████████████████████████████████████████████████▎                          | 333/500 [01:54<00:29,  5.64it/s]\n",
      " 67%|█████████████████████████████████████████████████████▍                          | 334/500 [01:54<00:30,  5.49it/s]\n",
      " 67%|█████████████████████████████████████████████████████▌                          | 335/500 [01:55<00:30,  5.49it/s]\n",
      " 67%|█████████████████████████████████████████████████████▊                          | 336/500 [01:55<00:29,  5.56it/s]\n",
      " 67%|█████████████████████████████████████████████████████▉                          | 337/500 [01:55<00:29,  5.56it/s]\n",
      " 68%|██████████████████████████████████████████████████████                          | 338/500 [01:55<00:28,  5.64it/s]\n",
      " 68%|██████████████████████████████████████████████████████▏                         | 339/500 [01:55<00:28,  5.62it/s]\n"
     ]
    },
    {
     "name": "stderr",
     "output_type": "stream",
     "text": [
      " 68%|██████████████████████████████████████████████████████▍                         | 340/500 [01:55<00:28,  5.65it/s]\n",
      " 68%|██████████████████████████████████████████████████████▌                         | 341/500 [01:56<00:28,  5.60it/s]\n",
      " 68%|██████████████████████████████████████████████████████▋                         | 342/500 [01:56<00:28,  5.59it/s]\n",
      " 69%|██████████████████████████████████████████████████████▉                         | 343/500 [01:56<00:28,  5.58it/s]\n",
      " 69%|███████████████████████████████████████████████████████                         | 344/500 [01:56<00:27,  5.58it/s]\n",
      " 69%|███████████████████████████████████████████████████████▏                        | 345/500 [01:56<00:27,  5.60it/s]\n",
      " 69%|███████████████████████████████████████████████████████▎                        | 346/500 [01:57<00:27,  5.60it/s]\n",
      " 69%|███████████████████████████████████████████████████████▌                        | 347/500 [01:57<00:27,  5.59it/s]\n",
      " 70%|███████████████████████████████████████████████████████▋                        | 348/500 [01:57<00:27,  5.63it/s]\n",
      " 70%|███████████████████████████████████████████████████████▊                        | 349/500 [01:57<00:26,  5.64it/s]\n",
      " 70%|████████████████████████████████████████████████████████                        | 350/500 [01:57<00:26,  5.60it/s]\n",
      " 70%|████████████████████████████████████████████████████████▏                       | 351/500 [01:57<00:26,  5.60it/s]\n",
      " 70%|████████████████████████████████████████████████████████▎                       | 352/500 [01:58<00:26,  5.60it/s]\n",
      " 71%|████████████████████████████████████████████████████████▍                       | 353/500 [01:58<00:26,  5.60it/s]\n",
      " 71%|████████████████████████████████████████████████████████▋                       | 354/500 [01:58<00:25,  5.66it/s]\n",
      " 71%|████████████████████████████████████████████████████████▊                       | 355/500 [01:58<00:25,  5.66it/s]\n",
      " 71%|████████████████████████████████████████████████████████▉                       | 356/500 [01:58<00:25,  5.60it/s]\n",
      " 71%|█████████████████████████████████████████████████████████                       | 357/500 [01:58<00:25,  5.57it/s]\n",
      " 72%|█████████████████████████████████████████████████████████▎                      | 358/500 [01:59<00:25,  5.56it/s]\n",
      " 72%|█████████████████████████████████████████████████████████▍                      | 359/500 [01:59<00:25,  5.56it/s]\n",
      " 72%|█████████████████████████████████████████████████████████▌                      | 360/500 [01:59<00:24,  5.61it/s]\n",
      " 72%|█████████████████████████████████████████████████████████▊                      | 361/500 [01:59<00:24,  5.57it/s]\n",
      " 72%|█████████████████████████████████████████████████████████▉                      | 362/500 [01:59<00:24,  5.58it/s]\n",
      " 73%|██████████████████████████████████████████████████████████                      | 363/500 [02:00<00:24,  5.61it/s]\n",
      " 73%|██████████████████████████████████████████████████████████▏                     | 364/500 [02:00<00:24,  5.58it/s]\n",
      " 73%|██████████████████████████████████████████████████████████▍                     | 365/500 [02:00<00:24,  5.59it/s]\n",
      " 73%|██████████████████████████████████████████████████████████▌                     | 366/500 [02:00<00:23,  5.59it/s]\n",
      " 73%|██████████████████████████████████████████████████████████▋                     | 367/500 [02:00<00:23,  5.60it/s]\n",
      " 74%|██████████████████████████████████████████████████████████▉                     | 368/500 [02:00<00:23,  5.60it/s]\n",
      " 74%|███████████████████████████████████████████████████████████                     | 369/500 [02:01<00:23,  5.58it/s]\n",
      " 74%|███████████████████████████████████████████████████████████▏                    | 370/500 [02:01<00:23,  5.57it/s]\n",
      " 74%|███████████████████████████████████████████████████████████▎                    | 371/500 [02:01<00:23,  5.58it/s]\n",
      " 74%|███████████████████████████████████████████████████████████▌                    | 372/500 [02:01<00:23,  5.45it/s]\n",
      " 75%|███████████████████████████████████████████████████████████▋                    | 373/500 [02:01<00:23,  5.48it/s]\n",
      " 75%|███████████████████████████████████████████████████████████▊                    | 374/500 [02:02<00:22,  5.50it/s]\n",
      " 75%|████████████████████████████████████████████████████████████                    | 375/500 [02:02<00:22,  5.55it/s]\n",
      " 75%|████████████████████████████████████████████████████████████▏                   | 376/500 [02:02<00:22,  5.57it/s]\n",
      " 75%|████████████████████████████████████████████████████████████▎                   | 377/500 [02:02<00:22,  5.55it/s]\n",
      " 76%|████████████████████████████████████████████████████████████▍                   | 378/500 [02:02<00:21,  5.60it/s]\n",
      " 76%|████████████████████████████████████████████████████████████▋                   | 379/500 [02:02<00:21,  5.57it/s]\n",
      " 76%|████████████████████████████████████████████████████████████▊                   | 380/500 [02:03<00:21,  5.63it/s]\n",
      " 76%|████████████████████████████████████████████████████████████▉                   | 381/500 [02:03<00:21,  5.64it/s]\n",
      " 76%|█████████████████████████████████████████████████████████████                   | 382/500 [02:03<00:20,  5.65it/s]\n",
      " 77%|█████████████████████████████████████████████████████████████▎                  | 383/500 [02:03<00:20,  5.62it/s]\n",
      " 77%|█████████████████████████████████████████████████████████████▍                  | 384/500 [02:03<00:20,  5.61it/s]\n",
      " 77%|█████████████████████████████████████████████████████████████▌                  | 385/500 [02:03<00:20,  5.59it/s]\n",
      " 77%|█████████████████████████████████████████████████████████████▊                  | 386/500 [02:04<00:20,  5.61it/s]\n",
      " 77%|█████████████████████████████████████████████████████████████▉                  | 387/500 [02:04<00:19,  5.65it/s]\n",
      " 78%|██████████████████████████████████████████████████████████████                  | 388/500 [02:04<00:19,  5.63it/s]\n",
      " 78%|██████████████████████████████████████████████████████████████▏                 | 389/500 [02:04<00:19,  5.65it/s]\n",
      " 78%|██████████████████████████████████████████████████████████████▍                 | 390/500 [02:04<00:19,  5.61it/s]\n",
      " 78%|██████████████████████████████████████████████████████████████▌                 | 391/500 [02:05<00:19,  5.62it/s]\n",
      " 78%|██████████████████████████████████████████████████████████████▋                 | 392/500 [02:05<00:19,  5.63it/s]\n",
      " 79%|██████████████████████████████████████████████████████████████▉                 | 393/500 [02:05<00:19,  5.62it/s]\n",
      " 79%|███████████████████████████████████████████████████████████████                 | 394/500 [02:05<00:18,  5.60it/s]\n",
      " 79%|███████████████████████████████████████████████████████████████▏                | 395/500 [02:05<00:18,  5.59it/s]\n",
      " 79%|███████████████████████████████████████████████████████████████▎                | 396/500 [02:05<00:18,  5.61it/s]\n",
      " 79%|███████████████████████████████████████████████████████████████▌                | 397/500 [02:06<00:18,  5.61it/s]\n",
      " 80%|███████████████████████████████████████████████████████████████▋                | 398/500 [02:06<00:18,  5.56it/s]\n",
      " 80%|███████████████████████████████████████████████████████████████▊                | 399/500 [02:06<00:18,  5.58it/s]\n",
      " 80%|████████████████████████████████████████████████████████████████                | 400/500 [02:06<00:17,  5.58it/s]\n",
      " 80%|████████████████████████████████████████████████████████████████▏               | 401/500 [02:06<00:17,  5.64it/s]\n",
      " 80%|████████████████████████████████████████████████████████████████▎               | 402/500 [02:07<00:17,  5.61it/s]\n",
      " 81%|████████████████████████████████████████████████████████████████▍               | 403/500 [02:07<00:17,  5.61it/s]\n",
      " 81%|████████████████████████████████████████████████████████████████▋               | 404/500 [02:07<00:17,  5.61it/s]\n",
      " 81%|████████████████████████████████████████████████████████████████▊               | 405/500 [02:07<00:16,  5.60it/s]\n",
      " 81%|████████████████████████████████████████████████████████████████▉               | 406/500 [02:07<00:16,  5.65it/s]\n",
      " 81%|█████████████████████████████████████████████████████████████████               | 407/500 [02:07<00:16,  5.64it/s]\n"
     ]
    },
    {
     "name": "stderr",
     "output_type": "stream",
     "text": [
      " 82%|█████████████████████████████████████████████████████████████████▎              | 408/500 [02:08<00:16,  5.66it/s]\n",
      " 82%|█████████████████████████████████████████████████████████████████▍              | 409/500 [02:08<00:16,  5.65it/s]\n",
      " 82%|█████████████████████████████████████████████████████████████████▌              | 410/500 [02:08<00:16,  5.59it/s]\n",
      " 82%|█████████████████████████████████████████████████████████████████▊              | 411/500 [02:08<00:15,  5.57it/s]\n",
      " 82%|█████████████████████████████████████████████████████████████████▉              | 412/500 [02:08<00:15,  5.58it/s]\n",
      " 83%|██████████████████████████████████████████████████████████████████              | 413/500 [02:08<00:15,  5.60it/s]\n",
      " 83%|██████████████████████████████████████████████████████████████████▏             | 414/500 [02:09<00:15,  5.59it/s]\n",
      " 83%|██████████████████████████████████████████████████████████████████▍             | 415/500 [02:09<00:15,  5.61it/s]\n",
      " 83%|██████████████████████████████████████████████████████████████████▌             | 416/500 [02:09<00:15,  5.44it/s]\n",
      " 83%|██████████████████████████████████████████████████████████████████▋             | 417/500 [02:09<00:15,  5.50it/s]\n",
      " 84%|██████████████████████████████████████████████████████████████████▉             | 418/500 [02:09<00:14,  5.52it/s]\n",
      " 84%|███████████████████████████████████████████████████████████████████             | 419/500 [02:10<00:14,  5.52it/s]\n",
      " 84%|███████████████████████████████████████████████████████████████████▏            | 420/500 [02:10<00:14,  5.54it/s]\n",
      " 84%|███████████████████████████████████████████████████████████████████▎            | 421/500 [02:10<00:14,  5.30it/s]\n",
      " 84%|███████████████████████████████████████████████████████████████████▌            | 422/500 [02:10<00:14,  5.38it/s]\n",
      " 85%|███████████████████████████████████████████████████████████████████▋            | 423/500 [02:10<00:14,  5.43it/s]\n",
      " 85%|███████████████████████████████████████████████████████████████████▊            | 424/500 [02:10<00:13,  5.49it/s]\n",
      " 85%|████████████████████████████████████████████████████████████████████            | 425/500 [02:11<00:13,  5.54it/s]\n",
      " 85%|████████████████████████████████████████████████████████████████████▏           | 426/500 [02:11<00:13,  5.60it/s]\n",
      " 85%|████████████████████████████████████████████████████████████████████▎           | 427/500 [02:11<00:12,  5.64it/s]\n",
      " 86%|████████████████████████████████████████████████████████████████████▍           | 428/500 [02:11<00:12,  5.66it/s]\n",
      " 86%|████████████████████████████████████████████████████████████████████▋           | 429/500 [02:11<00:12,  5.58it/s]\n",
      " 86%|████████████████████████████████████████████████████████████████████▊           | 430/500 [02:12<00:12,  5.53it/s]\n",
      " 86%|████████████████████████████████████████████████████████████████████▉           | 431/500 [02:12<00:12,  5.57it/s]\n",
      " 86%|█████████████████████████████████████████████████████████████████████           | 432/500 [02:12<00:12,  5.59it/s]\n",
      " 87%|█████████████████████████████████████████████████████████████████████▎          | 433/500 [02:12<00:11,  5.61it/s]\n",
      " 87%|█████████████████████████████████████████████████████████████████████▍          | 434/500 [02:12<00:11,  5.62it/s]\n",
      " 87%|█████████████████████████████████████████████████████████████████████▌          | 435/500 [02:12<00:11,  5.58it/s]\n",
      " 87%|█████████████████████████████████████████████████████████████████████▊          | 436/500 [02:13<00:11,  5.63it/s]\n",
      " 87%|█████████████████████████████████████████████████████████████████████▉          | 437/500 [02:13<00:11,  5.63it/s]\n",
      " 88%|██████████████████████████████████████████████████████████████████████          | 438/500 [02:13<00:11,  5.63it/s]\n",
      " 88%|██████████████████████████████████████████████████████████████████████▏         | 439/500 [02:13<00:10,  5.62it/s]\n",
      " 88%|██████████████████████████████████████████████████████████████████████▍         | 440/500 [02:13<00:10,  5.63it/s]\n",
      " 88%|██████████████████████████████████████████████████████████████████████▌         | 441/500 [02:14<00:10,  5.62it/s]\n",
      " 88%|██████████████████████████████████████████████████████████████████████▋         | 442/500 [02:14<00:10,  5.61it/s]\n",
      " 89%|██████████████████████████████████████████████████████████████████████▉         | 443/500 [02:14<00:10,  5.62it/s]\n",
      " 89%|███████████████████████████████████████████████████████████████████████         | 444/500 [02:14<00:09,  5.62it/s]\n",
      " 89%|███████████████████████████████████████████████████████████████████████▏        | 445/500 [02:14<00:09,  5.58it/s]\n",
      " 89%|███████████████████████████████████████████████████████████████████████▎        | 446/500 [02:14<00:09,  5.56it/s]\n",
      " 89%|███████████████████████████████████████████████████████████████████████▌        | 447/500 [02:15<00:09,  5.59it/s]\n",
      " 90%|███████████████████████████████████████████████████████████████████████▋        | 448/500 [02:15<00:09,  5.57it/s]\n",
      " 90%|███████████████████████████████████████████████████████████████████████▊        | 449/500 [02:15<00:09,  5.51it/s]\n",
      " 90%|████████████████████████████████████████████████████████████████████████        | 450/500 [02:15<00:09,  5.44it/s]\n",
      " 90%|████████████████████████████████████████████████████████████████████████▏       | 451/500 [02:15<00:08,  5.52it/s]\n",
      " 90%|████████████████████████████████████████████████████████████████████████▎       | 452/500 [02:15<00:08,  5.54it/s]\n",
      " 91%|████████████████████████████████████████████████████████████████████████▍       | 453/500 [02:16<00:08,  5.56it/s]\n",
      " 91%|████████████████████████████████████████████████████████████████████████▋       | 454/500 [02:16<00:08,  5.60it/s]\n",
      " 91%|████████████████████████████████████████████████████████████████████████▊       | 455/500 [02:16<00:08,  5.61it/s]\n",
      " 91%|████████████████████████████████████████████████████████████████████████▉       | 456/500 [02:16<00:07,  5.58it/s]\n",
      " 91%|█████████████████████████████████████████████████████████████████████████       | 457/500 [02:16<00:07,  5.59it/s]\n",
      " 92%|█████████████████████████████████████████████████████████████████████████▎      | 458/500 [02:17<00:07,  5.62it/s]\n",
      " 92%|█████████████████████████████████████████████████████████████████████████▍      | 459/500 [02:17<00:07,  5.65it/s]\n",
      " 92%|█████████████████████████████████████████████████████████████████████████▌      | 460/500 [02:17<00:07,  5.69it/s]\n",
      " 92%|█████████████████████████████████████████████████████████████████████████▊      | 461/500 [02:17<00:06,  5.68it/s]\n",
      " 92%|█████████████████████████████████████████████████████████████████████████▉      | 462/500 [02:17<00:06,  5.63it/s]\n",
      " 93%|██████████████████████████████████████████████████████████████████████████      | 463/500 [02:17<00:06,  5.62it/s]\n",
      " 93%|██████████████████████████████████████████████████████████████████████████▏     | 464/500 [02:18<00:06,  5.64it/s]\n",
      " 93%|██████████████████████████████████████████████████████████████████████████▍     | 465/500 [02:18<00:06,  5.62it/s]\n",
      " 93%|██████████████████████████████████████████████████████████████████████████▌     | 466/500 [02:18<00:06,  5.60it/s]\n",
      " 93%|██████████████████████████████████████████████████████████████████████████▋     | 467/500 [02:18<00:05,  5.61it/s]\n",
      " 94%|██████████████████████████████████████████████████████████████████████████▉     | 468/500 [02:18<00:05,  5.63it/s]\n",
      " 94%|███████████████████████████████████████████████████████████████████████████     | 469/500 [02:19<00:05,  5.62it/s]\n",
      " 94%|███████████████████████████████████████████████████████████████████████████▏    | 470/500 [02:19<00:05,  5.64it/s]\n",
      " 94%|███████████████████████████████████████████████████████████████████████████▎    | 471/500 [02:19<00:05,  5.66it/s]\n",
      " 94%|███████████████████████████████████████████████████████████████████████████▌    | 472/500 [02:19<00:04,  5.64it/s]\n",
      " 95%|███████████████████████████████████████████████████████████████████████████▋    | 473/500 [02:19<00:04,  5.53it/s]\n",
      " 95%|███████████████████████████████████████████████████████████████████████████▊    | 474/500 [02:19<00:04,  5.56it/s]\n",
      " 95%|████████████████████████████████████████████████████████████████████████████    | 475/500 [02:20<00:04,  5.60it/s]\n"
     ]
    },
    {
     "name": "stderr",
     "output_type": "stream",
     "text": [
      " 95%|████████████████████████████████████████████████████████████████████████████▏   | 476/500 [02:20<00:04,  5.58it/s]\n",
      " 95%|████████████████████████████████████████████████████████████████████████████▎   | 477/500 [02:20<00:04,  5.61it/s]\n",
      " 96%|████████████████████████████████████████████████████████████████████████████▍   | 478/500 [02:20<00:03,  5.60it/s]\n",
      " 96%|████████████████████████████████████████████████████████████████████████████▋   | 479/500 [02:20<00:03,  5.59it/s]\n",
      " 96%|████████████████████████████████████████████████████████████████████████████▊   | 480/500 [02:20<00:03,  5.58it/s]\n",
      " 96%|████████████████████████████████████████████████████████████████████████████▉   | 481/500 [02:21<00:03,  5.57it/s]\n",
      " 96%|█████████████████████████████████████████████████████████████████████████████   | 482/500 [02:21<00:03,  5.58it/s]\n",
      " 97%|█████████████████████████████████████████████████████████████████████████████▎  | 483/500 [02:21<00:03,  5.56it/s]\n",
      " 97%|█████████████████████████████████████████████████████████████████████████████▍  | 484/500 [02:21<00:02,  5.47it/s]\n",
      " 97%|█████████████████████████████████████████████████████████████████████████████▌  | 485/500 [02:21<00:02,  5.46it/s]\n",
      " 97%|█████████████████████████████████████████████████████████████████████████████▊  | 486/500 [02:22<00:02,  5.52it/s]\n",
      " 97%|█████████████████████████████████████████████████████████████████████████████▉  | 487/500 [02:22<00:02,  5.56it/s]\n",
      " 98%|██████████████████████████████████████████████████████████████████████████████  | 488/500 [02:22<00:02,  5.61it/s]\n",
      " 98%|██████████████████████████████████████████████████████████████████████████████▏ | 489/500 [02:22<00:01,  5.62it/s]\n",
      " 98%|██████████████████████████████████████████████████████████████████████████████▍ | 490/500 [02:22<00:01,  5.65it/s]\n",
      " 98%|██████████████████████████████████████████████████████████████████████████████▌ | 491/500 [02:22<00:01,  5.64it/s]\n",
      " 98%|██████████████████████████████████████████████████████████████████████████████▋ | 492/500 [02:23<00:01,  5.65it/s]\n",
      " 99%|██████████████████████████████████████████████████████████████████████████████▉ | 493/500 [02:23<00:01,  5.66it/s]\n",
      " 99%|███████████████████████████████████████████████████████████████████████████████ | 494/500 [02:23<00:01,  5.67it/s]\n",
      " 99%|███████████████████████████████████████████████████████████████████████████████▏| 495/500 [02:23<00:00,  5.64it/s]\n",
      " 99%|███████████████████████████████████████████████████████████████████████████████▎| 496/500 [02:23<00:00,  5.57it/s]\n",
      " 99%|███████████████████████████████████████████████████████████████████████████████▌| 497/500 [02:24<00:00,  5.52it/s]\n",
      "100%|███████████████████████████████████████████████████████████████████████████████▋| 498/500 [02:24<00:00,  5.56it/s]\n",
      "100%|███████████████████████████████████████████████████████████████████████████████▊| 499/500 [02:24<00:00,  5.58it/s]\n",
      "100%|████████████████████████████████████████████████████████████████████████████████| 500/500 [02:24<00:00,  5.60it/s]\n",
      "\n",
      "  0%|                                                                                          | 0/500 [00:00<?, ?it/s]\n",
      "  0%|▏                                                                                 | 1/500 [00:00<01:40,  4.95it/s]\n",
      "  0%|▎                                                                                 | 2/500 [00:00<01:36,  5.14it/s]\n",
      "  1%|▍                                                                                 | 3/500 [00:00<01:33,  5.29it/s]\n",
      "  1%|▋                                                                                 | 4/500 [00:00<01:31,  5.41it/s]\n",
      "  1%|▊                                                                                 | 5/500 [00:00<01:29,  5.52it/s]\n",
      "  1%|▉                                                                                 | 6/500 [00:01<01:28,  5.59it/s]\n",
      "  1%|█▏                                                                                | 7/500 [00:01<01:28,  5.59it/s]\n",
      "  2%|█▎                                                                                | 8/500 [00:01<01:30,  5.46it/s]\n",
      "  2%|█▍                                                                                | 9/500 [00:01<01:31,  5.36it/s]\n",
      "  2%|█▌                                                                               | 10/500 [00:01<01:35,  5.15it/s]\n",
      "  2%|█▊                                                                               | 11/500 [00:02<01:33,  5.23it/s]\n",
      "  2%|█▉                                                                               | 12/500 [00:02<01:32,  5.27it/s]\n",
      "  3%|██                                                                               | 13/500 [00:02<01:34,  5.15it/s]\n",
      "  3%|██▎                                                                              | 14/500 [00:02<01:36,  5.06it/s]\n",
      "  3%|██▍                                                                              | 15/500 [00:02<01:32,  5.22it/s]\n",
      "  3%|██▌                                                                              | 16/500 [00:03<01:32,  5.24it/s]\n",
      "  3%|██▊                                                                              | 17/500 [00:03<01:29,  5.42it/s]\n",
      "  4%|██▉                                                                              | 18/500 [00:03<01:31,  5.27it/s]\n",
      "  4%|███                                                                              | 19/500 [00:03<01:30,  5.33it/s]\n",
      "  4%|███▏                                                                             | 20/500 [00:03<01:28,  5.45it/s]\n",
      "  4%|███▍                                                                             | 21/500 [00:03<01:29,  5.36it/s]\n",
      "  4%|███▌                                                                             | 22/500 [00:04<01:27,  5.46it/s]\n",
      "  5%|███▋                                                                             | 23/500 [00:04<01:29,  5.32it/s]\n",
      "  5%|███▉                                                                             | 24/500 [00:04<01:28,  5.41it/s]\n",
      "  5%|████                                                                             | 25/500 [00:04<01:28,  5.35it/s]\n",
      "  5%|████▏                                                                            | 26/500 [00:04<01:26,  5.47it/s]\n",
      "  5%|████▎                                                                            | 27/500 [00:05<01:27,  5.40it/s]\n",
      "  6%|████▌                                                                            | 28/500 [00:05<01:26,  5.47it/s]\n",
      "  6%|████▋                                                                            | 29/500 [00:05<01:27,  5.39it/s]\n",
      "  6%|████▊                                                                            | 30/500 [00:05<01:25,  5.47it/s]\n",
      "  6%|█████                                                                            | 31/500 [00:05<01:25,  5.45it/s]\n",
      "  6%|█████▏                                                                           | 32/500 [00:05<01:24,  5.53it/s]\n",
      "  7%|█████▎                                                                           | 33/500 [00:06<01:23,  5.59it/s]\n",
      "  7%|█████▌                                                                           | 34/500 [00:06<01:22,  5.66it/s]\n",
      "  7%|█████▋                                                                           | 35/500 [00:06<01:22,  5.67it/s]\n",
      "  7%|█████▊                                                                           | 36/500 [00:06<01:22,  5.65it/s]\n",
      "  7%|█████▉                                                                           | 37/500 [00:06<01:21,  5.71it/s]\n",
      "  8%|██████▏                                                                          | 38/500 [00:06<01:21,  5.70it/s]\n",
      "  8%|██████▎                                                                          | 39/500 [00:07<01:20,  5.71it/s]\n",
      "  8%|██████▍                                                                          | 40/500 [00:07<01:21,  5.64it/s]\n",
      "  8%|██████▋                                                                          | 41/500 [00:07<01:20,  5.71it/s]\n",
      "  8%|██████▊                                                                          | 42/500 [00:07<01:20,  5.71it/s]\n"
     ]
    },
    {
     "name": "stderr",
     "output_type": "stream",
     "text": [
      "  9%|██████▉                                                                          | 43/500 [00:07<01:19,  5.76it/s]\n",
      "  9%|███████▏                                                                         | 44/500 [00:08<01:18,  5.78it/s]\n",
      "  9%|███████▎                                                                         | 45/500 [00:08<01:19,  5.72it/s]\n",
      "  9%|███████▍                                                                         | 46/500 [00:08<01:18,  5.78it/s]\n",
      "  9%|███████▌                                                                         | 47/500 [00:08<01:18,  5.74it/s]\n",
      " 10%|███████▊                                                                         | 48/500 [00:08<01:19,  5.67it/s]\n",
      " 10%|███████▉                                                                         | 49/500 [00:08<01:18,  5.76it/s]\n",
      " 10%|████████                                                                         | 50/500 [00:09<01:20,  5.58it/s]\n",
      " 10%|████████▎                                                                        | 51/500 [00:09<01:19,  5.63it/s]\n",
      " 10%|████████▍                                                                        | 52/500 [00:09<01:19,  5.65it/s]\n",
      " 11%|████████▌                                                                        | 53/500 [00:09<01:18,  5.71it/s]\n",
      " 11%|████████▋                                                                        | 54/500 [00:09<01:17,  5.74it/s]\n",
      " 11%|████████▉                                                                        | 55/500 [00:09<01:17,  5.72it/s]\n",
      " 11%|█████████                                                                        | 56/500 [00:10<01:17,  5.74it/s]\n",
      " 11%|█████████▏                                                                       | 57/500 [00:10<01:19,  5.57it/s]\n",
      " 12%|█████████▍                                                                       | 58/500 [00:10<01:18,  5.63it/s]\n",
      " 12%|█████████▌                                                                       | 59/500 [00:10<01:18,  5.65it/s]\n",
      " 12%|█████████▋                                                                       | 60/500 [00:10<01:17,  5.70it/s]\n",
      " 12%|█████████▉                                                                       | 61/500 [00:11<01:15,  5.78it/s]\n",
      " 12%|██████████                                                                       | 62/500 [00:11<01:16,  5.76it/s]\n",
      " 13%|██████████▏                                                                      | 63/500 [00:11<01:16,  5.73it/s]\n",
      " 13%|██████████▎                                                                      | 64/500 [00:11<01:15,  5.76it/s]\n",
      " 13%|██████████▌                                                                      | 65/500 [00:11<01:15,  5.76it/s]\n",
      " 13%|██████████▋                                                                      | 66/500 [00:11<01:16,  5.64it/s]\n",
      " 13%|██████████▊                                                                      | 67/500 [00:12<01:19,  5.42it/s]\n",
      " 14%|███████████                                                                      | 68/500 [00:12<01:19,  5.44it/s]\n",
      " 14%|███████████▏                                                                     | 69/500 [00:12<01:25,  5.05it/s]\n",
      " 14%|███████████▎                                                                     | 70/500 [00:12<01:26,  4.99it/s]\n",
      " 14%|███████████▌                                                                     | 71/500 [00:12<01:23,  5.14it/s]\n",
      " 14%|███████████▋                                                                     | 72/500 [00:13<01:23,  5.12it/s]\n",
      " 15%|███████████▊                                                                     | 73/500 [00:13<01:23,  5.08it/s]\n",
      " 15%|███████████▉                                                                     | 74/500 [00:13<01:22,  5.15it/s]\n",
      " 15%|████████████▏                                                                    | 75/500 [00:13<01:19,  5.32it/s]\n",
      " 15%|████████████▎                                                                    | 76/500 [00:13<01:18,  5.42it/s]\n",
      " 15%|████████████▍                                                                    | 77/500 [00:14<01:18,  5.42it/s]\n",
      " 16%|████████████▋                                                                    | 78/500 [00:14<01:18,  5.41it/s]\n",
      " 16%|████████████▊                                                                    | 79/500 [00:14<01:16,  5.49it/s]\n",
      " 16%|████████████▉                                                                    | 80/500 [00:14<01:19,  5.31it/s]\n",
      " 16%|█████████████                                                                    | 81/500 [00:14<01:16,  5.45it/s]\n",
      " 16%|█████████████▎                                                                   | 82/500 [00:14<01:16,  5.49it/s]\n",
      " 17%|█████████████▍                                                                   | 83/500 [00:15<01:14,  5.57it/s]\n",
      " 17%|█████████████▌                                                                   | 84/500 [00:15<01:14,  5.62it/s]\n",
      " 17%|█████████████▊                                                                   | 85/500 [00:15<01:13,  5.65it/s]\n",
      " 17%|█████████████▉                                                                   | 86/500 [00:15<01:13,  5.67it/s]\n",
      " 17%|██████████████                                                                   | 87/500 [00:15<01:12,  5.67it/s]\n",
      " 18%|██████████████▎                                                                  | 88/500 [00:15<01:12,  5.70it/s]\n",
      " 18%|██████████████▍                                                                  | 89/500 [00:16<01:11,  5.73it/s]\n",
      " 18%|██████████████▌                                                                  | 90/500 [00:16<01:12,  5.65it/s]\n",
      " 18%|██████████████▋                                                                  | 91/500 [00:16<01:12,  5.65it/s]\n",
      " 18%|██████████████▉                                                                  | 92/500 [00:16<01:13,  5.57it/s]\n",
      " 19%|███████████████                                                                  | 93/500 [00:16<01:13,  5.56it/s]\n",
      " 19%|███████████████▏                                                                 | 94/500 [00:17<01:12,  5.60it/s]\n",
      " 19%|███████████████▍                                                                 | 95/500 [00:17<01:11,  5.63it/s]\n",
      " 19%|███████████████▌                                                                 | 96/500 [00:17<01:11,  5.64it/s]\n",
      " 19%|███████████████▋                                                                 | 97/500 [00:17<01:11,  5.64it/s]\n",
      " 20%|███████████████▉                                                                 | 98/500 [00:17<01:10,  5.70it/s]\n",
      " 20%|████████████████                                                                 | 99/500 [00:17<01:10,  5.69it/s]\n",
      " 20%|████████████████                                                                | 100/500 [00:18<01:11,  5.62it/s]\n",
      " 20%|████████████████▏                                                               | 101/500 [00:18<01:12,  5.52it/s]\n",
      " 20%|████████████████▎                                                               | 102/500 [00:18<01:11,  5.54it/s]\n",
      " 21%|████████████████▍                                                               | 103/500 [00:18<01:11,  5.58it/s]\n",
      " 21%|████████████████▋                                                               | 104/500 [00:18<01:10,  5.59it/s]\n",
      " 21%|████████████████▊                                                               | 105/500 [00:19<01:10,  5.64it/s]\n",
      " 21%|████████████████▉                                                               | 106/500 [00:19<01:10,  5.62it/s]\n",
      " 21%|█████████████████                                                               | 107/500 [00:19<01:09,  5.67it/s]\n",
      " 22%|█████████████████▎                                                              | 108/500 [00:19<01:09,  5.66it/s]\n",
      " 22%|█████████████████▍                                                              | 109/500 [00:19<01:08,  5.68it/s]\n",
      " 22%|█████████████████▌                                                              | 110/500 [00:19<01:08,  5.66it/s]\n"
     ]
    },
    {
     "name": "stderr",
     "output_type": "stream",
     "text": [
      " 22%|█████████████████▊                                                              | 111/500 [00:20<01:09,  5.64it/s]\n",
      " 22%|█████████████████▉                                                              | 112/500 [00:20<01:08,  5.67it/s]\n",
      " 23%|██████████████████                                                              | 113/500 [00:20<01:08,  5.68it/s]\n",
      " 23%|██████████████████▏                                                             | 114/500 [00:20<01:07,  5.70it/s]\n",
      " 23%|██████████████████▍                                                             | 115/500 [00:20<01:07,  5.67it/s]\n",
      " 23%|██████████████████▌                                                             | 116/500 [00:20<01:07,  5.67it/s]\n",
      " 23%|██████████████████▋                                                             | 117/500 [00:21<01:07,  5.67it/s]\n",
      " 24%|██████████████████▉                                                             | 118/500 [00:21<01:07,  5.68it/s]\n",
      " 24%|███████████████████                                                             | 119/500 [00:21<01:06,  5.71it/s]\n",
      " 24%|███████████████████▏                                                            | 120/500 [00:21<01:06,  5.72it/s]\n",
      " 24%|███████████████████▎                                                            | 121/500 [00:21<01:06,  5.70it/s]\n",
      " 24%|███████████████████▌                                                            | 122/500 [00:22<01:06,  5.69it/s]\n",
      " 25%|███████████████████▋                                                            | 123/500 [00:22<01:05,  5.72it/s]\n",
      " 25%|███████████████████▊                                                            | 124/500 [00:22<01:06,  5.68it/s]\n",
      " 25%|████████████████████                                                            | 125/500 [00:22<01:06,  5.65it/s]\n",
      " 25%|████████████████████▏                                                           | 126/500 [00:22<01:06,  5.64it/s]\n",
      " 25%|████████████████████▎                                                           | 127/500 [00:22<01:05,  5.65it/s]\n",
      " 26%|████████████████████▍                                                           | 128/500 [00:23<01:05,  5.69it/s]\n",
      " 26%|████████████████████▋                                                           | 129/500 [00:23<01:05,  5.67it/s]\n",
      " 26%|████████████████████▊                                                           | 130/500 [00:23<01:05,  5.67it/s]\n",
      " 26%|████████████████████▉                                                           | 131/500 [00:23<01:05,  5.67it/s]\n",
      " 26%|█████████████████████                                                           | 132/500 [00:23<01:05,  5.66it/s]\n",
      " 27%|█████████████████████▎                                                          | 133/500 [00:23<01:04,  5.67it/s]\n",
      " 27%|█████████████████████▍                                                          | 134/500 [00:24<01:05,  5.61it/s]\n",
      " 27%|█████████████████████▌                                                          | 135/500 [00:24<01:05,  5.62it/s]\n",
      " 27%|█████████████████████▊                                                          | 136/500 [00:24<01:04,  5.62it/s]\n",
      " 27%|█████████████████████▉                                                          | 137/500 [00:24<01:04,  5.62it/s]\n",
      " 28%|██████████████████████                                                          | 138/500 [00:24<01:04,  5.61it/s]\n",
      " 28%|██████████████████████▏                                                         | 139/500 [00:25<01:04,  5.61it/s]\n",
      " 28%|██████████████████████▍                                                         | 140/500 [00:25<01:03,  5.67it/s]\n",
      " 28%|██████████████████████▌                                                         | 141/500 [00:25<01:03,  5.67it/s]\n",
      " 28%|██████████████████████▋                                                         | 142/500 [00:25<01:02,  5.70it/s]\n",
      " 29%|██████████████████████▉                                                         | 143/500 [00:25<01:02,  5.71it/s]\n",
      " 29%|███████████████████████                                                         | 144/500 [00:25<01:02,  5.70it/s]\n",
      " 29%|███████████████████████▏                                                        | 145/500 [00:26<01:02,  5.73it/s]\n",
      " 29%|███████████████████████▎                                                        | 146/500 [00:26<01:01,  5.71it/s]\n",
      " 29%|███████████████████████▌                                                        | 147/500 [00:26<01:01,  5.69it/s]\n",
      " 30%|███████████████████████▋                                                        | 148/500 [00:26<01:01,  5.68it/s]\n",
      " 30%|███████████████████████▊                                                        | 149/500 [00:26<01:02,  5.66it/s]\n",
      " 30%|████████████████████████                                                        | 150/500 [00:26<01:01,  5.68it/s]\n",
      " 30%|████████████████████████▏                                                       | 151/500 [00:27<01:01,  5.67it/s]\n",
      " 30%|████████████████████████▎                                                       | 152/500 [00:27<01:01,  5.64it/s]\n",
      " 31%|████████████████████████▍                                                       | 153/500 [00:27<01:01,  5.61it/s]\n",
      " 31%|████████████████████████▋                                                       | 154/500 [00:27<01:01,  5.61it/s]\n",
      " 31%|████████████████████████▊                                                       | 155/500 [00:27<01:01,  5.65it/s]\n",
      " 31%|████████████████████████▉                                                       | 156/500 [00:28<01:01,  5.63it/s]\n",
      " 31%|█████████████████████████                                                       | 157/500 [00:28<01:01,  5.60it/s]\n",
      " 32%|█████████████████████████▎                                                      | 158/500 [00:28<01:00,  5.62it/s]\n",
      " 32%|█████████████████████████▍                                                      | 159/500 [00:28<01:00,  5.66it/s]\n",
      " 32%|█████████████████████████▌                                                      | 160/500 [00:28<01:00,  5.66it/s]\n",
      " 32%|█████████████████████████▊                                                      | 161/500 [00:28<01:00,  5.64it/s]\n",
      " 32%|█████████████████████████▉                                                      | 162/500 [00:29<00:59,  5.64it/s]\n",
      " 33%|██████████████████████████                                                      | 163/500 [00:29<00:59,  5.65it/s]\n",
      " 33%|██████████████████████████▏                                                     | 164/500 [00:29<00:59,  5.67it/s]\n",
      " 33%|██████████████████████████▍                                                     | 165/500 [00:29<00:58,  5.72it/s]\n",
      " 33%|██████████████████████████▌                                                     | 166/500 [00:29<00:58,  5.74it/s]\n",
      " 33%|██████████████████████████▋                                                     | 167/500 [00:29<00:57,  5.78it/s]\n",
      " 34%|██████████████████████████▉                                                     | 168/500 [00:30<00:57,  5.79it/s]\n",
      " 34%|███████████████████████████                                                     | 169/500 [00:30<00:59,  5.58it/s]\n",
      " 34%|███████████████████████████▏                                                    | 170/500 [00:30<00:58,  5.60it/s]\n",
      " 34%|███████████████████████████▎                                                    | 171/500 [00:30<00:57,  5.68it/s]\n",
      " 34%|███████████████████████████▌                                                    | 172/500 [00:30<00:57,  5.66it/s]\n",
      " 35%|███████████████████████████▋                                                    | 173/500 [00:31<00:57,  5.68it/s]\n",
      " 35%|███████████████████████████▊                                                    | 174/500 [00:31<00:57,  5.68it/s]\n",
      " 35%|████████████████████████████                                                    | 175/500 [00:31<00:57,  5.70it/s]\n",
      " 35%|████████████████████████████▏                                                   | 176/500 [00:31<00:57,  5.66it/s]\n",
      " 35%|████████████████████████████▎                                                   | 177/500 [00:31<00:56,  5.69it/s]\n",
      " 36%|████████████████████████████▍                                                   | 178/500 [00:31<00:56,  5.68it/s]\n"
     ]
    },
    {
     "name": "stderr",
     "output_type": "stream",
     "text": [
      " 36%|████████████████████████████▋                                                   | 179/500 [00:32<00:56,  5.66it/s]\n",
      " 36%|████████████████████████████▊                                                   | 180/500 [00:32<00:56,  5.68it/s]\n",
      " 36%|████████████████████████████▉                                                   | 181/500 [00:32<00:56,  5.67it/s]\n",
      " 36%|█████████████████████████████                                                   | 182/500 [00:32<00:55,  5.68it/s]\n",
      " 37%|█████████████████████████████▎                                                  | 183/500 [00:32<00:55,  5.68it/s]\n",
      " 37%|█████████████████████████████▍                                                  | 184/500 [00:32<00:55,  5.66it/s]\n",
      " 37%|█████████████████████████████▌                                                  | 185/500 [00:33<00:57,  5.51it/s]\n",
      " 37%|█████████████████████████████▊                                                  | 186/500 [00:33<00:58,  5.38it/s]\n",
      " 37%|█████████████████████████████▉                                                  | 187/500 [00:33<00:57,  5.42it/s]\n",
      " 38%|██████████████████████████████                                                  | 188/500 [00:33<00:56,  5.52it/s]\n",
      " 38%|██████████████████████████████▏                                                 | 189/500 [00:33<00:55,  5.56it/s]\n",
      " 38%|██████████████████████████████▍                                                 | 190/500 [00:34<00:55,  5.60it/s]\n",
      " 38%|██████████████████████████████▌                                                 | 191/500 [00:34<00:55,  5.61it/s]\n",
      " 38%|██████████████████████████████▋                                                 | 192/500 [00:34<00:54,  5.64it/s]\n",
      " 39%|██████████████████████████████▉                                                 | 193/500 [00:34<00:55,  5.57it/s]\n",
      " 39%|███████████████████████████████                                                 | 194/500 [00:34<00:54,  5.58it/s]\n",
      " 39%|███████████████████████████████▏                                                | 195/500 [00:34<00:54,  5.62it/s]\n",
      " 39%|███████████████████████████████▎                                                | 196/500 [00:35<00:53,  5.66it/s]\n",
      " 39%|███████████████████████████████▌                                                | 197/500 [00:35<00:53,  5.69it/s]\n",
      " 40%|███████████████████████████████▋                                                | 198/500 [00:35<00:53,  5.64it/s]\n",
      " 40%|███████████████████████████████▊                                                | 199/500 [00:35<00:53,  5.58it/s]\n",
      " 40%|████████████████████████████████                                                | 200/500 [00:35<00:53,  5.60it/s]\n",
      " 40%|████████████████████████████████▏                                               | 201/500 [00:35<00:53,  5.63it/s]\n",
      " 40%|████████████████████████████████▎                                               | 202/500 [00:36<00:56,  5.25it/s]\n",
      " 41%|████████████████████████████████▍                                               | 203/500 [00:36<00:56,  5.28it/s]\n",
      " 41%|████████████████████████████████▋                                               | 204/500 [00:36<00:55,  5.37it/s]\n",
      " 41%|████████████████████████████████▊                                               | 205/500 [00:36<00:53,  5.48it/s]\n",
      " 41%|████████████████████████████████▉                                               | 206/500 [00:36<00:53,  5.50it/s]\n",
      " 41%|█████████████████████████████████                                               | 207/500 [00:37<00:52,  5.55it/s]\n",
      " 42%|█████████████████████████████████▎                                              | 208/500 [00:37<00:52,  5.60it/s]\n",
      " 42%|█████████████████████████████████▍                                              | 209/500 [00:37<00:51,  5.60it/s]\n",
      " 42%|█████████████████████████████████▌                                              | 210/500 [00:37<00:51,  5.66it/s]\n",
      " 42%|█████████████████████████████████▊                                              | 211/500 [00:37<00:50,  5.68it/s]\n",
      " 42%|█████████████████████████████████▉                                              | 212/500 [00:37<00:50,  5.69it/s]\n",
      " 43%|██████████████████████████████████                                              | 213/500 [00:38<00:50,  5.69it/s]\n",
      " 43%|██████████████████████████████████▏                                             | 214/500 [00:38<00:50,  5.70it/s]\n",
      " 43%|██████████████████████████████████▍                                             | 215/500 [00:38<00:49,  5.70it/s]\n",
      " 43%|██████████████████████████████████▌                                             | 216/500 [00:38<00:49,  5.71it/s]\n",
      " 43%|██████████████████████████████████▋                                             | 217/500 [00:38<00:50,  5.65it/s]\n",
      " 44%|██████████████████████████████████▉                                             | 218/500 [00:39<00:49,  5.66it/s]\n",
      " 44%|███████████████████████████████████                                             | 219/500 [00:39<00:49,  5.70it/s]\n",
      " 44%|███████████████████████████████████▏                                            | 220/500 [00:39<00:48,  5.72it/s]\n",
      " 44%|███████████████████████████████████▎                                            | 221/500 [00:39<00:48,  5.73it/s]\n",
      " 44%|███████████████████████████████████▌                                            | 222/500 [00:39<00:48,  5.75it/s]\n",
      " 45%|███████████████████████████████████▋                                            | 223/500 [00:39<00:48,  5.73it/s]\n",
      " 45%|███████████████████████████████████▊                                            | 224/500 [00:40<00:48,  5.74it/s]\n",
      " 45%|████████████████████████████████████                                            | 225/500 [00:40<00:48,  5.72it/s]\n",
      " 45%|████████████████████████████████████▏                                           | 226/500 [00:40<00:47,  5.71it/s]\n",
      " 45%|████████████████████████████████████▎                                           | 227/500 [00:40<00:48,  5.68it/s]\n",
      " 46%|████████████████████████████████████▍                                           | 228/500 [00:40<00:47,  5.71it/s]\n",
      " 46%|████████████████████████████████████▋                                           | 229/500 [00:40<00:47,  5.69it/s]\n",
      " 46%|████████████████████████████████████▊                                           | 230/500 [00:41<00:47,  5.69it/s]\n",
      " 46%|████████████████████████████████████▉                                           | 231/500 [00:41<00:47,  5.71it/s]\n",
      " 46%|█████████████████████████████████████                                           | 232/500 [00:41<00:46,  5.73it/s]\n",
      " 47%|█████████████████████████████████████▎                                          | 233/500 [00:41<00:46,  5.70it/s]\n",
      " 47%|█████████████████████████████████████▍                                          | 234/500 [00:41<00:46,  5.71it/s]\n",
      " 47%|█████████████████████████████████████▌                                          | 235/500 [00:42<00:46,  5.69it/s]\n",
      " 47%|█████████████████████████████████████▊                                          | 236/500 [00:42<00:46,  5.69it/s]\n",
      " 47%|█████████████████████████████████████▉                                          | 237/500 [00:42<00:46,  5.69it/s]\n",
      " 48%|██████████████████████████████████████                                          | 238/500 [00:42<00:46,  5.67it/s]\n",
      " 48%|██████████████████████████████████████▏                                         | 239/500 [00:42<00:45,  5.68it/s]\n",
      " 48%|██████████████████████████████████████▍                                         | 240/500 [00:42<00:45,  5.69it/s]\n",
      " 48%|██████████████████████████████████████▌                                         | 241/500 [00:43<00:45,  5.70it/s]\n",
      " 48%|██████████████████████████████████████▋                                         | 242/500 [00:43<00:45,  5.69it/s]\n",
      " 49%|██████████████████████████████████████▉                                         | 243/500 [00:43<00:45,  5.67it/s]\n",
      " 49%|███████████████████████████████████████                                         | 244/500 [00:43<00:44,  5.72it/s]\n",
      " 49%|███████████████████████████████████████▏                                        | 245/500 [00:43<00:44,  5.74it/s]\n",
      " 49%|███████████████████████████████████████▎                                        | 246/500 [00:43<00:44,  5.76it/s]\n"
     ]
    },
    {
     "name": "stderr",
     "output_type": "stream",
     "text": [
      " 49%|███████████████████████████████████████▌                                        | 247/500 [00:44<00:43,  5.79it/s]\n",
      " 50%|███████████████████████████████████████▋                                        | 248/500 [00:44<00:43,  5.80it/s]\n",
      " 50%|███████████████████████████████████████▊                                        | 249/500 [00:44<00:43,  5.74it/s]\n",
      " 50%|████████████████████████████████████████                                        | 250/500 [00:44<00:43,  5.77it/s]\n",
      " 50%|████████████████████████████████████████▏                                       | 251/500 [00:44<00:43,  5.76it/s]\n",
      " 50%|████████████████████████████████████████▎                                       | 252/500 [00:44<00:43,  5.73it/s]\n",
      " 51%|████████████████████████████████████████▍                                       | 253/500 [00:45<00:43,  5.71it/s]\n",
      " 51%|████████████████████████████████████████▋                                       | 254/500 [00:45<00:43,  5.72it/s]\n",
      " 51%|████████████████████████████████████████▊                                       | 255/500 [00:45<00:43,  5.66it/s]\n",
      " 51%|████████████████████████████████████████▉                                       | 256/500 [00:45<00:43,  5.66it/s]\n",
      " 51%|█████████████████████████████████████████                                       | 257/500 [00:45<00:43,  5.63it/s]\n",
      " 52%|█████████████████████████████████████████▎                                      | 258/500 [00:46<00:42,  5.66it/s]\n",
      " 52%|█████████████████████████████████████████▍                                      | 259/500 [00:46<00:42,  5.67it/s]\n",
      " 52%|█████████████████████████████████████████▌                                      | 260/500 [00:46<00:42,  5.66it/s]\n",
      " 52%|█████████████████████████████████████████▊                                      | 261/500 [00:46<00:42,  5.60it/s]\n",
      " 52%|█████████████████████████████████████████▉                                      | 262/500 [00:46<00:42,  5.65it/s]\n",
      " 53%|██████████████████████████████████████████                                      | 263/500 [00:46<00:42,  5.56it/s]\n",
      " 53%|██████████████████████████████████████████▏                                     | 264/500 [00:47<00:42,  5.60it/s]\n",
      " 53%|██████████████████████████████████████████▍                                     | 265/500 [00:47<00:41,  5.63it/s]\n",
      " 53%|██████████████████████████████████████████▌                                     | 266/500 [00:47<00:41,  5.61it/s]\n",
      " 53%|██████████████████████████████████████████▋                                     | 267/500 [00:47<00:41,  5.61it/s]\n",
      " 54%|██████████████████████████████████████████▉                                     | 268/500 [00:47<00:40,  5.66it/s]\n",
      " 54%|███████████████████████████████████████████                                     | 269/500 [00:48<00:40,  5.68it/s]\n",
      " 54%|███████████████████████████████████████████▏                                    | 270/500 [00:48<00:40,  5.66it/s]\n",
      " 54%|███████████████████████████████████████████▎                                    | 271/500 [00:48<00:40,  5.68it/s]\n",
      " 54%|███████████████████████████████████████████▌                                    | 272/500 [00:48<00:39,  5.70it/s]\n",
      " 55%|███████████████████████████████████████████▋                                    | 273/500 [00:48<00:40,  5.66it/s]\n",
      " 55%|███████████████████████████████████████████▊                                    | 274/500 [00:48<00:39,  5.68it/s]\n",
      " 55%|████████████████████████████████████████████                                    | 275/500 [00:49<00:39,  5.67it/s]\n",
      " 55%|████████████████████████████████████████████▏                                   | 276/500 [00:49<00:40,  5.59it/s]\n",
      " 55%|████████████████████████████████████████████▎                                   | 277/500 [00:49<00:40,  5.54it/s]\n",
      " 56%|████████████████████████████████████████████▍                                   | 278/500 [00:49<00:39,  5.62it/s]\n",
      " 56%|████████████████████████████████████████████▋                                   | 279/500 [00:49<00:39,  5.64it/s]\n",
      " 56%|████████████████████████████████████████████▊                                   | 280/500 [00:49<00:39,  5.63it/s]\n",
      " 56%|████████████████████████████████████████████▉                                   | 281/500 [00:50<00:38,  5.64it/s]\n",
      " 56%|█████████████████████████████████████████████                                   | 282/500 [00:50<00:38,  5.67it/s]\n",
      " 57%|█████████████████████████████████████████████▎                                  | 283/500 [00:50<00:38,  5.68it/s]\n",
      " 57%|█████████████████████████████████████████████▍                                  | 284/500 [00:50<00:38,  5.67it/s]\n",
      " 57%|█████████████████████████████████████████████▌                                  | 285/500 [00:50<00:38,  5.65it/s]\n",
      " 57%|█████████████████████████████████████████████▊                                  | 286/500 [00:51<00:38,  5.63it/s]\n",
      " 57%|█████████████████████████████████████████████▉                                  | 287/500 [00:51<00:37,  5.65it/s]\n",
      " 58%|██████████████████████████████████████████████                                  | 288/500 [00:51<00:38,  5.56it/s]\n",
      " 58%|██████████████████████████████████████████████▏                                 | 289/500 [00:51<00:38,  5.50it/s]\n",
      " 58%|██████████████████████████████████████████████▍                                 | 290/500 [00:51<00:37,  5.53it/s]\n",
      " 58%|██████████████████████████████████████████████▌                                 | 291/500 [00:51<00:37,  5.58it/s]\n",
      " 58%|██████████████████████████████████████████████▋                                 | 292/500 [00:52<00:37,  5.59it/s]\n",
      " 59%|██████████████████████████████████████████████▉                                 | 293/500 [00:52<00:36,  5.60it/s]\n",
      " 59%|███████████████████████████████████████████████                                 | 294/500 [00:52<00:36,  5.61it/s]\n",
      " 59%|███████████████████████████████████████████████▏                                | 295/500 [00:52<00:36,  5.61it/s]\n",
      " 59%|███████████████████████████████████████████████▎                                | 296/500 [00:52<00:35,  5.67it/s]\n",
      " 59%|███████████████████████████████████████████████▌                                | 297/500 [00:52<00:35,  5.66it/s]\n",
      " 60%|███████████████████████████████████████████████▋                                | 298/500 [00:53<00:35,  5.73it/s]\n",
      " 60%|███████████████████████████████████████████████▊                                | 299/500 [00:53<00:35,  5.72it/s]\n",
      " 60%|████████████████████████████████████████████████                                | 300/500 [00:53<00:34,  5.75it/s]\n",
      " 60%|████████████████████████████████████████████████▏                               | 301/500 [00:53<00:34,  5.75it/s]\n",
      " 60%|████████████████████████████████████████████████▎                               | 302/500 [00:53<00:34,  5.77it/s]\n",
      " 61%|████████████████████████████████████████████████▍                               | 303/500 [00:54<00:34,  5.73it/s]\n",
      " 61%|████████████████████████████████████████████████▋                               | 304/500 [00:54<00:34,  5.75it/s]\n",
      " 61%|████████████████████████████████████████████████▊                               | 305/500 [00:54<00:33,  5.75it/s]\n",
      " 61%|████████████████████████████████████████████████▉                               | 306/500 [00:54<00:33,  5.75it/s]\n",
      " 61%|█████████████████████████████████████████████████                               | 307/500 [00:54<00:33,  5.75it/s]\n",
      " 62%|█████████████████████████████████████████████████▎                              | 308/500 [00:54<00:33,  5.73it/s]\n",
      " 62%|█████████████████████████████████████████████████▍                              | 309/500 [00:55<00:33,  5.73it/s]\n",
      " 62%|█████████████████████████████████████████████████▌                              | 310/500 [00:55<00:33,  5.65it/s]\n",
      " 62%|█████████████████████████████████████████████████▊                              | 311/500 [00:55<00:33,  5.59it/s]\n",
      " 62%|█████████████████████████████████████████████████▉                              | 312/500 [00:55<00:33,  5.63it/s]\n",
      " 63%|██████████████████████████████████████████████████                              | 313/500 [00:55<00:33,  5.65it/s]\n",
      " 63%|██████████████████████████████████████████████████▏                             | 314/500 [00:55<00:33,  5.62it/s]\n"
     ]
    },
    {
     "name": "stderr",
     "output_type": "stream",
     "text": [
      " 63%|██████████████████████████████████████████████████▍                             | 315/500 [00:56<00:32,  5.61it/s]\n",
      " 63%|██████████████████████████████████████████████████▌                             | 316/500 [00:56<00:32,  5.59it/s]\n",
      " 63%|██████████████████████████████████████████████████▋                             | 317/500 [00:56<00:32,  5.60it/s]\n",
      " 64%|██████████████████████████████████████████████████▉                             | 318/500 [00:56<00:32,  5.61it/s]\n",
      " 64%|███████████████████████████████████████████████████                             | 319/500 [00:56<00:32,  5.56it/s]\n",
      " 64%|███████████████████████████████████████████████████▏                            | 320/500 [00:57<00:32,  5.47it/s]\n",
      " 64%|███████████████████████████████████████████████████▎                            | 321/500 [00:57<00:32,  5.52it/s]\n",
      " 64%|███████████████████████████████████████████████████▌                            | 322/500 [00:57<00:32,  5.55it/s]\n",
      " 65%|███████████████████████████████████████████████████▋                            | 323/500 [00:57<00:32,  5.53it/s]\n",
      " 65%|███████████████████████████████████████████████████▊                            | 324/500 [00:57<00:31,  5.55it/s]\n",
      " 65%|████████████████████████████████████████████████████                            | 325/500 [00:57<00:31,  5.62it/s]\n",
      " 65%|████████████████████████████████████████████████████▏                           | 326/500 [00:58<00:30,  5.66it/s]\n",
      " 65%|████████████████████████████████████████████████████▎                           | 327/500 [00:58<00:30,  5.69it/s]\n",
      " 66%|████████████████████████████████████████████████████▍                           | 328/500 [00:58<00:30,  5.71it/s]\n",
      " 66%|████████████████████████████████████████████████████▋                           | 329/500 [00:58<00:29,  5.71it/s]\n",
      " 66%|████████████████████████████████████████████████████▊                           | 330/500 [00:58<00:29,  5.69it/s]\n",
      " 66%|████████████████████████████████████████████████████▉                           | 331/500 [00:58<00:29,  5.73it/s]\n",
      " 66%|█████████████████████████████████████████████████████                           | 332/500 [00:59<00:29,  5.72it/s]\n",
      " 67%|█████████████████████████████████████████████████████▎                          | 333/500 [00:59<00:29,  5.68it/s]\n",
      " 67%|█████████████████████████████████████████████████████▍                          | 334/500 [00:59<00:30,  5.52it/s]\n",
      " 67%|█████████████████████████████████████████████████████▌                          | 335/500 [00:59<00:29,  5.60it/s]\n",
      " 67%|█████████████████████████████████████████████████████▊                          | 336/500 [00:59<00:30,  5.44it/s]\n",
      " 67%|█████████████████████████████████████████████████████▉                          | 337/500 [01:00<00:29,  5.50it/s]\n",
      " 68%|██████████████████████████████████████████████████████                          | 338/500 [01:00<00:29,  5.56it/s]\n",
      " 68%|██████████████████████████████████████████████████████▏                         | 339/500 [01:00<00:28,  5.56it/s]\n",
      " 68%|██████████████████████████████████████████████████████▍                         | 340/500 [01:00<00:28,  5.55it/s]\n",
      " 68%|██████████████████████████████████████████████████████▌                         | 341/500 [01:00<00:28,  5.61it/s]\n",
      " 68%|██████████████████████████████████████████████████████▋                         | 342/500 [01:00<00:28,  5.60it/s]\n",
      " 69%|██████████████████████████████████████████████████████▉                         | 343/500 [01:01<00:27,  5.63it/s]\n",
      " 69%|███████████████████████████████████████████████████████                         | 344/500 [01:01<00:27,  5.63it/s]\n",
      " 69%|███████████████████████████████████████████████████████▏                        | 345/500 [01:01<00:27,  5.62it/s]\n",
      " 69%|███████████████████████████████████████████████████████▎                        | 346/500 [01:01<00:27,  5.61it/s]\n",
      " 69%|███████████████████████████████████████████████████████▌                        | 347/500 [01:01<00:27,  5.65it/s]\n",
      " 70%|███████████████████████████████████████████████████████▋                        | 348/500 [01:02<00:26,  5.63it/s]\n",
      " 70%|███████████████████████████████████████████████████████▊                        | 349/500 [01:02<00:26,  5.66it/s]\n",
      " 70%|████████████████████████████████████████████████████████                        | 350/500 [01:02<00:26,  5.63it/s]\n",
      " 70%|████████████████████████████████████████████████████████▏                       | 351/500 [01:02<00:26,  5.62it/s]\n",
      " 70%|████████████████████████████████████████████████████████▎                       | 352/500 [01:02<00:26,  5.62it/s]\n",
      " 71%|████████████████████████████████████████████████████████▍                       | 353/500 [01:02<00:26,  5.65it/s]\n",
      " 71%|████████████████████████████████████████████████████████▋                       | 354/500 [01:03<00:25,  5.67it/s]\n",
      " 71%|████████████████████████████████████████████████████████▊                       | 355/500 [01:03<00:25,  5.69it/s]\n",
      " 71%|████████████████████████████████████████████████████████▉                       | 356/500 [01:03<00:25,  5.68it/s]\n",
      " 71%|█████████████████████████████████████████████████████████                       | 357/500 [01:03<00:25,  5.66it/s]\n",
      " 72%|█████████████████████████████████████████████████████████▎                      | 358/500 [01:03<00:25,  5.67it/s]\n",
      " 72%|█████████████████████████████████████████████████████████▍                      | 359/500 [01:03<00:25,  5.63it/s]\n",
      " 72%|█████████████████████████████████████████████████████████▌                      | 360/500 [01:04<00:24,  5.65it/s]\n",
      " 72%|█████████████████████████████████████████████████████████▊                      | 361/500 [01:04<00:24,  5.65it/s]\n",
      " 72%|█████████████████████████████████████████████████████████▉                      | 362/500 [01:04<00:24,  5.65it/s]\n",
      " 73%|██████████████████████████████████████████████████████████                      | 363/500 [01:04<00:24,  5.63it/s]\n",
      " 73%|██████████████████████████████████████████████████████████▏                     | 364/500 [01:04<00:24,  5.65it/s]\n",
      " 73%|██████████████████████████████████████████████████████████▍                     | 365/500 [01:05<00:23,  5.66it/s]\n",
      " 73%|██████████████████████████████████████████████████████████▌                     | 366/500 [01:05<00:23,  5.66it/s]\n",
      " 73%|██████████████████████████████████████████████████████████▋                     | 367/500 [01:05<00:23,  5.69it/s]\n",
      " 74%|██████████████████████████████████████████████████████████▉                     | 368/500 [01:05<00:23,  5.67it/s]\n",
      " 74%|███████████████████████████████████████████████████████████                     | 369/500 [01:05<00:22,  5.72it/s]\n",
      " 74%|███████████████████████████████████████████████████████████▏                    | 370/500 [01:05<00:22,  5.69it/s]\n",
      " 74%|███████████████████████████████████████████████████████████▎                    | 371/500 [01:06<00:22,  5.68it/s]\n",
      " 74%|███████████████████████████████████████████████████████████▌                    | 372/500 [01:06<00:22,  5.68it/s]\n",
      " 75%|███████████████████████████████████████████████████████████▋                    | 373/500 [01:06<00:22,  5.64it/s]\n",
      " 75%|███████████████████████████████████████████████████████████▊                    | 374/500 [01:06<00:22,  5.64it/s]\n",
      " 75%|████████████████████████████████████████████████████████████                    | 375/500 [01:06<00:22,  5.67it/s]\n",
      " 75%|████████████████████████████████████████████████████████████▏                   | 376/500 [01:06<00:21,  5.66it/s]\n",
      " 75%|████████████████████████████████████████████████████████████▎                   | 377/500 [01:07<00:21,  5.70it/s]\n",
      " 76%|████████████████████████████████████████████████████████████▍                   | 378/500 [01:07<00:21,  5.69it/s]\n",
      " 76%|████████████████████████████████████████████████████████████▋                   | 379/500 [01:07<00:21,  5.72it/s]\n",
      " 76%|████████████████████████████████████████████████████████████▊                   | 380/500 [01:07<00:21,  5.69it/s]\n",
      " 76%|████████████████████████████████████████████████████████████▉                   | 381/500 [01:07<00:20,  5.73it/s]\n",
      " 76%|█████████████████████████████████████████████████████████████                   | 382/500 [01:08<00:20,  5.70it/s]\n"
     ]
    },
    {
     "name": "stderr",
     "output_type": "stream",
     "text": [
      " 77%|█████████████████████████████████████████████████████████████▎                  | 383/500 [01:08<00:20,  5.74it/s]\n",
      " 77%|█████████████████████████████████████████████████████████████▍                  | 384/500 [01:08<00:20,  5.71it/s]\n",
      " 77%|█████████████████████████████████████████████████████████████▌                  | 385/500 [01:08<00:20,  5.70it/s]\n",
      " 77%|█████████████████████████████████████████████████████████████▊                  | 386/500 [01:08<00:19,  5.72it/s]\n",
      " 77%|█████████████████████████████████████████████████████████████▉                  | 387/500 [01:08<00:19,  5.71it/s]\n",
      " 78%|██████████████████████████████████████████████████████████████                  | 388/500 [01:09<00:19,  5.68it/s]\n",
      " 78%|██████████████████████████████████████████████████████████████▏                 | 389/500 [01:09<00:19,  5.71it/s]\n",
      " 78%|██████████████████████████████████████████████████████████████▍                 | 390/500 [01:09<00:19,  5.69it/s]\n",
      " 78%|██████████████████████████████████████████████████████████████▌                 | 391/500 [01:09<00:19,  5.71it/s]\n",
      " 78%|██████████████████████████████████████████████████████████████▋                 | 392/500 [01:09<00:19,  5.51it/s]\n",
      " 79%|██████████████████████████████████████████████████████████████▉                 | 393/500 [01:09<00:19,  5.56it/s]\n",
      " 79%|███████████████████████████████████████████████████████████████                 | 394/500 [01:10<00:19,  5.58it/s]\n",
      " 79%|███████████████████████████████████████████████████████████████▏                | 395/500 [01:10<00:18,  5.59it/s]\n",
      " 79%|███████████████████████████████████████████████████████████████▎                | 396/500 [01:10<00:18,  5.63it/s]\n",
      " 79%|███████████████████████████████████████████████████████████████▌                | 397/500 [01:10<00:18,  5.60it/s]\n",
      " 80%|███████████████████████████████████████████████████████████████▋                | 398/500 [01:10<00:18,  5.59it/s]\n",
      " 80%|███████████████████████████████████████████████████████████████▊                | 399/500 [01:11<00:17,  5.63it/s]\n",
      " 80%|████████████████████████████████████████████████████████████████                | 400/500 [01:11<00:17,  5.61it/s]\n",
      " 80%|████████████████████████████████████████████████████████████████▏               | 401/500 [01:11<00:17,  5.61it/s]\n",
      " 80%|████████████████████████████████████████████████████████████████▎               | 402/500 [01:11<00:17,  5.60it/s]\n",
      " 81%|████████████████████████████████████████████████████████████████▍               | 403/500 [01:11<00:17,  5.66it/s]\n",
      " 81%|████████████████████████████████████████████████████████████████▋               | 404/500 [01:11<00:16,  5.68it/s]\n",
      " 81%|████████████████████████████████████████████████████████████████▊               | 405/500 [01:12<00:16,  5.73it/s]\n",
      " 81%|████████████████████████████████████████████████████████████████▉               | 406/500 [01:12<00:16,  5.71it/s]\n",
      " 81%|█████████████████████████████████████████████████████████████████               | 407/500 [01:12<00:16,  5.72it/s]\n",
      " 82%|█████████████████████████████████████████████████████████████████▎              | 408/500 [01:12<00:16,  5.73it/s]\n",
      " 82%|█████████████████████████████████████████████████████████████████▍              | 409/500 [01:12<00:16,  5.66it/s]\n",
      " 82%|█████████████████████████████████████████████████████████████████▌              | 410/500 [01:12<00:16,  5.61it/s]\n",
      " 82%|█████████████████████████████████████████████████████████████████▊              | 411/500 [01:13<00:15,  5.59it/s]\n",
      " 82%|█████████████████████████████████████████████████████████████████▉              | 412/500 [01:13<00:15,  5.60it/s]\n",
      " 83%|██████████████████████████████████████████████████████████████████              | 413/500 [01:13<00:15,  5.65it/s]\n",
      " 83%|██████████████████████████████████████████████████████████████████▏             | 414/500 [01:13<00:15,  5.64it/s]\n",
      " 83%|██████████████████████████████████████████████████████████████████▍             | 415/500 [01:13<00:15,  5.63it/s]\n",
      " 83%|██████████████████████████████████████████████████████████████████▌             | 416/500 [01:14<00:14,  5.61it/s]\n",
      " 83%|██████████████████████████████████████████████████████████████████▋             | 417/500 [01:14<00:14,  5.60it/s]\n",
      " 84%|██████████████████████████████████████████████████████████████████▉             | 418/500 [01:14<00:14,  5.59it/s]\n",
      " 84%|███████████████████████████████████████████████████████████████████             | 419/500 [01:14<00:14,  5.63it/s]\n",
      " 84%|███████████████████████████████████████████████████████████████████▏            | 420/500 [01:14<00:14,  5.66it/s]\n",
      " 84%|███████████████████████████████████████████████████████████████████▎            | 421/500 [01:14<00:13,  5.67it/s]\n",
      " 84%|███████████████████████████████████████████████████████████████████▌            | 422/500 [01:15<00:13,  5.69it/s]\n",
      " 85%|███████████████████████████████████████████████████████████████████▋            | 423/500 [01:15<00:13,  5.71it/s]\n",
      " 85%|███████████████████████████████████████████████████████████████████▊            | 424/500 [01:15<00:13,  5.64it/s]\n",
      " 85%|████████████████████████████████████████████████████████████████████            | 425/500 [01:15<00:13,  5.64it/s]\n",
      " 85%|████████████████████████████████████████████████████████████████████▏           | 426/500 [01:15<00:13,  5.48it/s]\n",
      " 85%|████████████████████████████████████████████████████████████████████▎           | 427/500 [01:16<00:13,  5.53it/s]\n",
      " 86%|████████████████████████████████████████████████████████████████████▍           | 428/500 [01:16<00:12,  5.58it/s]\n",
      " 86%|████████████████████████████████████████████████████████████████████▋           | 429/500 [01:16<00:12,  5.50it/s]\n",
      " 86%|████████████████████████████████████████████████████████████████████▊           | 430/500 [01:16<00:12,  5.54it/s]\n",
      " 86%|████████████████████████████████████████████████████████████████████▉           | 431/500 [01:16<00:12,  5.55it/s]\n",
      " 86%|█████████████████████████████████████████████████████████████████████           | 432/500 [01:16<00:12,  5.58it/s]\n",
      " 87%|█████████████████████████████████████████████████████████████████████▎          | 433/500 [01:17<00:12,  5.57it/s]\n",
      " 87%|█████████████████████████████████████████████████████████████████████▍          | 434/500 [01:17<00:11,  5.59it/s]\n",
      " 87%|█████████████████████████████████████████████████████████████████████▌          | 435/500 [01:17<00:11,  5.59it/s]\n",
      " 87%|█████████████████████████████████████████████████████████████████████▊          | 436/500 [01:17<00:11,  5.56it/s]\n",
      " 87%|█████████████████████████████████████████████████████████████████████▉          | 437/500 [01:17<00:11,  5.57it/s]\n",
      " 88%|██████████████████████████████████████████████████████████████████████          | 438/500 [01:17<00:11,  5.61it/s]\n",
      " 88%|██████████████████████████████████████████████████████████████████████▏         | 439/500 [01:18<00:10,  5.60it/s]\n",
      " 88%|██████████████████████████████████████████████████████████████████████▍         | 440/500 [01:18<00:10,  5.59it/s]\n",
      " 88%|██████████████████████████████████████████████████████████████████████▌         | 441/500 [01:18<00:10,  5.59it/s]\n",
      " 88%|██████████████████████████████████████████████████████████████████████▋         | 442/500 [01:18<00:10,  5.61it/s]\n",
      " 89%|██████████████████████████████████████████████████████████████████████▉         | 443/500 [01:18<00:10,  5.62it/s]\n",
      " 89%|███████████████████████████████████████████████████████████████████████         | 444/500 [01:19<00:10,  5.59it/s]\n",
      " 89%|███████████████████████████████████████████████████████████████████████▏        | 445/500 [01:19<00:09,  5.57it/s]\n",
      " 89%|███████████████████████████████████████████████████████████████████████▎        | 446/500 [01:19<00:09,  5.53it/s]\n",
      " 89%|███████████████████████████████████████████████████████████████████████▌        | 447/500 [01:19<00:09,  5.53it/s]\n",
      " 90%|███████████████████████████████████████████████████████████████████████▋        | 448/500 [01:19<00:09,  5.53it/s]\n",
      " 90%|███████████████████████████████████████████████████████████████████████▊        | 449/500 [01:19<00:09,  5.52it/s]\n",
      " 90%|████████████████████████████████████████████████████████████████████████        | 450/500 [01:20<00:08,  5.59it/s]\n"
     ]
    },
    {
     "name": "stderr",
     "output_type": "stream",
     "text": [
      " 90%|████████████████████████████████████████████████████████████████████████▏       | 451/500 [01:20<00:08,  5.63it/s]\n",
      " 90%|████████████████████████████████████████████████████████████████████████▎       | 452/500 [01:20<00:08,  5.65it/s]\n",
      " 91%|████████████████████████████████████████████████████████████████████████▍       | 453/500 [01:20<00:08,  5.68it/s]\n",
      " 91%|████████████████████████████████████████████████████████████████████████▋       | 454/500 [01:20<00:08,  5.66it/s]\n",
      " 91%|████████████████████████████████████████████████████████████████████████▊       | 455/500 [01:21<00:07,  5.69it/s]\n",
      " 91%|████████████████████████████████████████████████████████████████████████▉       | 456/500 [01:21<00:07,  5.71it/s]\n",
      " 91%|█████████████████████████████████████████████████████████████████████████       | 457/500 [01:21<00:07,  5.73it/s]\n",
      " 92%|█████████████████████████████████████████████████████████████████████████▎      | 458/500 [01:21<00:07,  5.71it/s]\n",
      " 92%|█████████████████████████████████████████████████████████████████████████▍      | 459/500 [01:21<00:07,  5.71it/s]\n",
      " 92%|█████████████████████████████████████████████████████████████████████████▌      | 460/500 [01:21<00:07,  5.70it/s]\n",
      " 92%|█████████████████████████████████████████████████████████████████████████▊      | 461/500 [01:22<00:06,  5.68it/s]\n",
      " 92%|█████████████████████████████████████████████████████████████████████████▉      | 462/500 [01:22<00:06,  5.69it/s]\n",
      " 93%|██████████████████████████████████████████████████████████████████████████      | 463/500 [01:22<00:06,  5.70it/s]\n",
      " 93%|██████████████████████████████████████████████████████████████████████████▏     | 464/500 [01:22<00:06,  5.68it/s]\n",
      " 93%|██████████████████████████████████████████████████████████████████████████▍     | 465/500 [01:22<00:06,  5.69it/s]\n",
      " 93%|██████████████████████████████████████████████████████████████████████████▌     | 466/500 [01:22<00:05,  5.67it/s]\n",
      " 93%|██████████████████████████████████████████████████████████████████████████▋     | 467/500 [01:23<00:05,  5.65it/s]\n",
      " 94%|██████████████████████████████████████████████████████████████████████████▉     | 468/500 [01:23<00:05,  5.69it/s]\n",
      " 94%|███████████████████████████████████████████████████████████████████████████     | 469/500 [01:23<00:05,  5.63it/s]\n",
      " 94%|███████████████████████████████████████████████████████████████████████████▏    | 470/500 [01:23<00:05,  5.63it/s]\n",
      " 94%|███████████████████████████████████████████████████████████████████████████▎    | 471/500 [01:23<00:05,  5.63it/s]\n",
      " 94%|███████████████████████████████████████████████████████████████████████████▌    | 472/500 [01:24<00:04,  5.63it/s]\n",
      " 95%|███████████████████████████████████████████████████████████████████████████▋    | 473/500 [01:24<00:04,  5.61it/s]\n",
      " 95%|███████████████████████████████████████████████████████████████████████████▊    | 474/500 [01:24<00:04,  5.58it/s]\n",
      " 95%|████████████████████████████████████████████████████████████████████████████    | 475/500 [01:24<00:04,  5.63it/s]\n",
      " 95%|████████████████████████████████████████████████████████████████████████████▏   | 476/500 [01:24<00:04,  5.62it/s]\n",
      " 95%|████████████████████████████████████████████████████████████████████████████▎   | 477/500 [01:24<00:04,  5.68it/s]\n",
      " 96%|████████████████████████████████████████████████████████████████████████████▍   | 478/500 [01:25<00:03,  5.68it/s]\n",
      " 96%|████████████████████████████████████████████████████████████████████████████▋   | 479/500 [01:25<00:03,  5.65it/s]\n",
      " 96%|████████████████████████████████████████████████████████████████████████████▊   | 480/500 [01:25<00:03,  5.65it/s]\n",
      " 96%|████████████████████████████████████████████████████████████████████████████▉   | 481/500 [01:25<00:03,  5.70it/s]\n",
      " 96%|█████████████████████████████████████████████████████████████████████████████   | 482/500 [01:25<00:03,  5.70it/s]\n",
      " 97%|█████████████████████████████████████████████████████████████████████████████▎  | 483/500 [01:25<00:02,  5.72it/s]\n",
      " 97%|█████████████████████████████████████████████████████████████████████████████▍  | 484/500 [01:26<00:02,  5.71it/s]\n",
      " 97%|█████████████████████████████████████████████████████████████████████████████▌  | 485/500 [01:26<00:02,  5.74it/s]\n",
      " 97%|█████████████████████████████████████████████████████████████████████████████▊  | 486/500 [01:26<00:02,  5.70it/s]\n",
      " 97%|█████████████████████████████████████████████████████████████████████████████▉  | 487/500 [01:26<00:02,  5.72it/s]\n",
      " 98%|██████████████████████████████████████████████████████████████████████████████  | 488/500 [01:26<00:02,  5.69it/s]\n",
      " 98%|██████████████████████████████████████████████████████████████████████████████▏ | 489/500 [01:27<00:01,  5.62it/s]\n",
      " 98%|██████████████████████████████████████████████████████████████████████████████▍ | 490/500 [01:27<00:01,  5.61it/s]\n",
      " 98%|██████████████████████████████████████████████████████████████████████████████▌ | 491/500 [01:27<00:01,  5.56it/s]\n",
      " 98%|██████████████████████████████████████████████████████████████████████████████▋ | 492/500 [01:27<00:01,  5.57it/s]\n",
      " 99%|██████████████████████████████████████████████████████████████████████████████▉ | 493/500 [01:27<00:01,  5.57it/s]\n",
      " 99%|███████████████████████████████████████████████████████████████████████████████ | 494/500 [01:27<00:01,  5.57it/s]\n",
      " 99%|███████████████████████████████████████████████████████████████████████████████▏| 495/500 [01:28<00:00,  5.57it/s]\n",
      " 99%|███████████████████████████████████████████████████████████████████████████████▎| 496/500 [01:28<00:00,  5.62it/s]\n",
      " 99%|███████████████████████████████████████████████████████████████████████████████▌| 497/500 [01:28<00:00,  5.58it/s]\n",
      "100%|███████████████████████████████████████████████████████████████████████████████▋| 498/500 [01:28<00:00,  5.57it/s]\n",
      "100%|███████████████████████████████████████████████████████████████████████████████▊| 499/500 [01:28<00:00,  5.60it/s]\n",
      "100%|████████████████████████████████████████████████████████████████████████████████| 500/500 [01:28<00:00,  5.63it/s]\n"
     ]
    },
    {
     "name": "stdout",
     "output_type": "stream",
     "text": [
      "Wall time: 3min 54s\n"
     ]
    },
    {
     "data": {
      "text/plain": [
       "array([[0.00152569, 0.00156598, 0.00144727, ..., 0.00163307, 0.00157239,\n",
       "        0.00160111],\n",
       "       [0.00156598, 0.0016088 , 0.00148671, ..., 0.0016753 , 0.00161849,\n",
       "        0.00164547],\n",
       "       [0.00144727, 0.00148671, 0.0013758 , ..., 0.00154937, 0.00149433,\n",
       "        0.00152396],\n",
       "       ...,\n",
       "       [0.00163307, 0.0016753 , 0.00154937, ..., 0.0017464 , 0.00168224,\n",
       "        0.00171338],\n",
       "       [0.00157239, 0.00161849, 0.00149433, ..., 0.00168224, 0.00162599,\n",
       "        0.00165286],\n",
       "       [0.00160111, 0.00164547, 0.00152396, ..., 0.00171338, 0.00165286,\n",
       "        0.00168104]])"
      ]
     },
     "execution_count": 55,
     "metadata": {},
     "output_type": "execute_result"
    }
   ],
   "source": [
    "%%time\n",
    "matriz_elevada_diagonalizacion(A,3)"
   ]
  },
  {
   "cell_type": "markdown",
   "metadata": {},
   "source": [
    "La programación realizada no permite hacer A elevado a 10000. Tardaría mucho para calcularlo. Para demostrar pero de que la diagonalización tarda menos que el producto escalar de A k veces, lo he hecho elevando A a 3."
   ]
  },
  {
   "cell_type": "code",
   "execution_count": null,
   "metadata": {},
   "outputs": [],
   "source": []
  }
 ],
 "metadata": {
  "kernelspec": {
   "display_name": "Python 3",
   "language": "python",
   "name": "python3"
  },
  "language_info": {
   "codemirror_mode": {
    "name": "ipython",
    "version": 3
   },
   "file_extension": ".py",
   "mimetype": "text/x-python",
   "name": "python",
   "nbconvert_exporter": "python",
   "pygments_lexer": "ipython3",
   "version": "3.6.6"
  }
 },
 "nbformat": 4,
 "nbformat_minor": 2
}
