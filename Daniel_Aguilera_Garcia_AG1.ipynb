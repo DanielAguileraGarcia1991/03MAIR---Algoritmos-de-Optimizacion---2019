{
  "nbformat": 4,
  "nbformat_minor": 0,
  "metadata": {
    "colab": {
      "name": "Daniel Aguilera Garcia-AG1.ipynb",
      "provenance": [],
      "collapsed_sections": [],
      "include_colab_link": true
    },
    "kernelspec": {
      "name": "python3",
      "display_name": "Python 3"
    }
  },
  "cells": [
    {
      "cell_type": "markdown",
      "metadata": {
        "id": "view-in-github",
        "colab_type": "text"
      },
      "source": [
        "<a href=\"https://colab.research.google.com/github/DanielAguileraGarcia1991/03MAIR---Algoritmos-de-Optimizacion---2019/blob/master/Daniel_Aguilera_Garcia_AG1.ipynb\" target=\"_parent\"><img src=\"https://colab.research.google.com/assets/colab-badge.svg\" alt=\"Open In Colab\"/></a>"
      ]
    },
    {
      "cell_type": "markdown",
      "metadata": {
        "id": "7EGOHf-zWIO6",
        "colab_type": "text"
      },
      "source": [
        "AG1. Algoritmos de optimización \n",
        "\n",
        "Daniel Aguilera\n",
        "\n",
        "https://colab.research.google.com/drive/1DzoOvCA0qY7aehnqM-k2VC2JqwEdTWv1"
      ]
    },
    {
      "cell_type": "markdown",
      "metadata": {
        "id": "qLYLN3jM_Ti5",
        "colab_type": "text"
      },
      "source": [
        "Sucesión de Fibonacci con Recursividad"
      ]
    },
    {
      "cell_type": "code",
      "metadata": {
        "id": "iDzLr1w4_RM1",
        "colab_type": "code",
        "outputId": "9b1b3380-6090-4e11-9efe-a366a26b5a02",
        "colab": {
          "base_uri": "https://localhost:8080/",
          "height": 839
        }
      },
      "source": [
        "%%time\n",
        "def recursividad_fibo(n):\n",
        "  if n<=1:\n",
        "    return n\n",
        "  else:\n",
        "    return (recursividad_fibo(n-1)+recursividad_fibo(n-2))\n",
        "\n",
        "nterminos = int(input(\"Introduce la n-essima deseada? \"))  \n",
        "\n",
        " \n",
        "print(\"Secuencia de Fibonacci:\")  \n",
        "\n",
        "for i in range(1,nterminos+1):  \n",
        "    print(recursividad_fibo(i))"
      ],
      "execution_count": 13,
      "outputs": [
        {
          "output_type": "stream",
          "text": [
            "Introduce la n-essima deseada? 40\n",
            "Secuencia de Fibonacci:\n",
            "1\n",
            "1\n",
            "2\n",
            "3\n",
            "5\n",
            "8\n",
            "13\n",
            "21\n",
            "34\n",
            "55\n",
            "89\n",
            "144\n",
            "233\n",
            "377\n",
            "610\n",
            "987\n",
            "1597\n",
            "2584\n",
            "4181\n",
            "6765\n",
            "10946\n",
            "17711\n",
            "28657\n",
            "46368\n",
            "75025\n",
            "121393\n",
            "196418\n",
            "317811\n",
            "514229\n",
            "832040\n",
            "1346269\n",
            "2178309\n",
            "3524578\n",
            "5702887\n",
            "9227465\n",
            "14930352\n",
            "24157817\n",
            "39088169\n",
            "63245986\n",
            "102334155\n",
            "CPU times: user 1min 30s, sys: 22 ms, total: 1min 30s\n",
            "Wall time: 1min 36s\n"
          ],
          "name": "stdout"
        }
      ]
    },
    {
      "cell_type": "code",
      "metadata": {
        "id": "mVdNUrqqALjv",
        "colab_type": "code",
        "outputId": "18ed6cf8-d432-420c-ef1c-707d7302ad1a",
        "colab": {
          "base_uri": "https://localhost:8080/",
          "height": 764
        }
      },
      "source": [
        "40#Para ver el número de llamadas que se le hace a la funcion de recursividad_fibo pongamos un print ('fibonacci: n ')\n",
        "def recursividad_fibo(n):\n",
        "  print('fibonacci: '+str(n))\n",
        "  if n<=1:\n",
        "    return n\n",
        "  else:\n",
        "    return (recursividad_fibo(n-1)+recursividad_fibo(n-2))\n",
        "\n",
        "nterminos = int(input(\"Introduce la n-essima deseada? \"))  \n",
        "\n",
        " \n",
        "print(\"Secuencia de Fibonacci:\")  \n",
        "\n",
        "for i in range(1,nterminos+1):  \n",
        "    print(recursividad_fibo(i)) "
      ],
      "execution_count": 5,
      "outputs": [
        {
          "output_type": "stream",
          "text": [
            "Introduce la n-essima deseada? 5\n",
            "Secuencia de Fibonacci:\n",
            "fibonacci: 1\n",
            "1\n",
            "fibonacci: 2\n",
            "fibonacci: 1\n",
            "fibonacci: 0\n",
            "1\n",
            "fibonacci: 3\n",
            "fibonacci: 2\n",
            "fibonacci: 1\n",
            "fibonacci: 0\n",
            "fibonacci: 1\n",
            "2\n",
            "fibonacci: 4\n",
            "fibonacci: 3\n",
            "fibonacci: 2\n",
            "fibonacci: 1\n",
            "fibonacci: 0\n",
            "fibonacci: 1\n",
            "fibonacci: 2\n",
            "fibonacci: 1\n",
            "fibonacci: 0\n",
            "3\n",
            "fibonacci: 5\n",
            "fibonacci: 4\n",
            "fibonacci: 3\n",
            "fibonacci: 2\n",
            "fibonacci: 1\n",
            "fibonacci: 0\n",
            "fibonacci: 1\n",
            "fibonacci: 2\n",
            "fibonacci: 1\n",
            "fibonacci: 0\n",
            "fibonacci: 3\n",
            "fibonacci: 2\n",
            "fibonacci: 1\n",
            "fibonacci: 0\n",
            "fibonacci: 1\n",
            "5\n"
          ],
          "name": "stdout"
        }
      ]
    },
    {
      "cell_type": "markdown",
      "metadata": {
        "id": "YAp3udcwSCfq",
        "colab_type": "text"
      },
      "source": [
        "Como se puede apreciar en la anterior cela, la función de Fibonacci con recursividad llama a la misma función siempre que la n sea menor o igual a 1. Es cuando tiene ese valor que la función devuelve un valor el cual se sumararà con anteriores valores y darà un resultado de la serie."
      ]
    },
    {
      "cell_type": "markdown",
      "metadata": {
        "id": "i-waToWEUSPH",
        "colab_type": "text"
      },
      "source": [
        "Sucesión de Fibonacci sin recursividad"
      ]
    },
    {
      "cell_type": "code",
      "metadata": {
        "id": "B0FMucctURFF",
        "colab_type": "code",
        "colab": {}
      },
      "source": [
        "def sucesion_Fibonacci(n):\n",
        "  if n==1:\n",
        "    lista=[1]\n",
        "  elif n==2:\n",
        "    lista=[1,1]\n",
        "  elif n>2:\n",
        "    lista=[1,1]\n",
        "    for i in range (n-2):\n",
        "      lista.append(lista[-1]+lista[-2])\n",
        "  return lista"
      ],
      "execution_count": 0,
      "outputs": []
    },
    {
      "cell_type": "code",
      "metadata": {
        "id": "i_bQtrIOUp2F",
        "colab_type": "code",
        "outputId": "33b4cfac-3f71-4b78-b692-38351e4ad562",
        "colab": {
          "base_uri": "https://localhost:8080/",
          "height": 802
        }
      },
      "source": [
        "%%time\n",
        "sucesion_Fibonacci(40)"
      ],
      "execution_count": 12,
      "outputs": [
        {
          "output_type": "stream",
          "text": [
            "CPU times: user 16 µs, sys: 1e+03 ns, total: 17 µs\n",
            "Wall time: 20.3 µs\n"
          ],
          "name": "stdout"
        },
        {
          "output_type": "execute_result",
          "data": {
            "text/plain": [
              "[1,\n",
              " 1,\n",
              " 2,\n",
              " 3,\n",
              " 5,\n",
              " 8,\n",
              " 13,\n",
              " 21,\n",
              " 34,\n",
              " 55,\n",
              " 89,\n",
              " 144,\n",
              " 233,\n",
              " 377,\n",
              " 610,\n",
              " 987,\n",
              " 1597,\n",
              " 2584,\n",
              " 4181,\n",
              " 6765,\n",
              " 10946,\n",
              " 17711,\n",
              " 28657,\n",
              " 46368,\n",
              " 75025,\n",
              " 121393,\n",
              " 196418,\n",
              " 317811,\n",
              " 514229,\n",
              " 832040,\n",
              " 1346269,\n",
              " 2178309,\n",
              " 3524578,\n",
              " 5702887,\n",
              " 9227465,\n",
              " 14930352,\n",
              " 24157817,\n",
              " 39088169,\n",
              " 63245986,\n",
              " 102334155]"
            ]
          },
          "metadata": {
            "tags": []
          },
          "execution_count": 12
        }
      ]
    },
    {
      "cell_type": "markdown",
      "metadata": {
        "id": "riJKjlYESgHw",
        "colab_type": "text"
      },
      "source": [
        "Vemos la diferencia de tiempo entre con recursividad y sin. La complejidad con recursión es mucho más elevada que sin recursividad."
      ]
    },
    {
      "cell_type": "code",
      "metadata": {
        "id": "X-rnUFirWNH8",
        "colab_type": "code",
        "outputId": "6769aa5e-7ab8-4ece-9dce-ef158028955e",
        "colab": {
          "base_uri": "https://localhost:8080/",
          "height": 144
        }
      },
      "source": [
        "def torres(N,desde,hasta):\n",
        "  if N==1:\n",
        "    print(\"lleva la ficha desde\", desde, \"hasta\", hasta)\n",
        "  \n",
        "  else:\n",
        "    torres(N-1, desde, 6-desde-hasta)\n",
        "    print(\"lleva la ficha desde\", desde, \"hasta\", hasta)\n",
        "    torres(N-1, 6-desde-hasta, hasta)\n",
        "\n",
        "torres(3,1,3)"
      ],
      "execution_count": 0,
      "outputs": [
        {
          "output_type": "stream",
          "text": [
            "lleva la ficha desde 1 hasta 3\n",
            "lleva la ficha desde 1 hasta 2\n",
            "lleva la ficha desde 3 hasta 2\n",
            "lleva la ficha desde 1 hasta 3\n",
            "lleva la ficha desde 2 hasta 1\n",
            "lleva la ficha desde 2 hasta 3\n",
            "lleva la ficha desde 1 hasta 3\n"
          ],
          "name": "stdout"
        }
      ]
    },
    {
      "cell_type": "code",
      "metadata": {
        "id": "sj5kP8TuYee0",
        "colab_type": "code",
        "colab": {}
      },
      "source": [
        "N=3\n",
        "desde=1\n",
        "hasta=3"
      ],
      "execution_count": 0,
      "outputs": []
    },
    {
      "cell_type": "markdown",
      "metadata": {
        "id": "RIiXSqRXZG62",
        "colab_type": "text"
      },
      "source": [
        "Problema de las 4 reinas"
      ]
    },
    {
      "cell_type": "code",
      "metadata": {
        "id": "GhNYc1_xXp5Q",
        "colab_type": "code",
        "colab": {}
      },
      "source": [
        "#Backtraking: cuando la solución actual no es solución se vuelve atrás para rectificar y intentar buscar otra solución. "
      ],
      "execution_count": 0,
      "outputs": []
    },
    {
      "cell_type": "code",
      "metadata": {
        "id": "ZiBKoTqYjBvB",
        "colab_type": "code",
        "colab": {}
      },
      "source": [
        "import numpy as np"
      ],
      "execution_count": 0,
      "outputs": []
    },
    {
      "cell_type": "code",
      "metadata": {
        "id": "sSZU2FlfZFUC",
        "colab_type": "code",
        "colab": {}
      },
      "source": [
        "def reina_amenazada(tupla):\n",
        "  count=0\n",
        "  if len(np.unique(tupla))<4:\n",
        "    return False\n",
        "  else:\n",
        "    for i in range(len(tupla)-1):\n",
        "      for j in range(i+1,len(tupla)):\n",
        "        if abs(i-j)==abs(tupla[i]-tupla[j]):\n",
        "          count+=1\n",
        "\n",
        "  if count==0:\n",
        "    return True\n",
        "  else:\n",
        "    return False"
      ],
      "execution_count": 0,
      "outputs": []
    },
    {
      "cell_type": "code",
      "metadata": {
        "id": "YRHYJM6GaE-Y",
        "colab_type": "code",
        "colab": {
          "base_uri": "https://localhost:8080/",
          "height": 36
        },
        "outputId": "ded35a10-73a7-45be-e9a8-fdc467f63606"
      },
      "source": [
        "reina_amenazada((2,4,1,3))"
      ],
      "execution_count": 95,
      "outputs": [
        {
          "output_type": "execute_result",
          "data": {
            "text/plain": [
              "True"
            ]
          },
          "metadata": {
            "tags": []
          },
          "execution_count": 95
        }
      ]
    },
    {
      "cell_type": "code",
      "metadata": {
        "id": "EoZ1lKpkaIWw",
        "colab_type": "code",
        "colab": {}
      },
      "source": [
        "def problema_reina(matriz_cuadrada,numero_reinas):\n",
        "  while k>1:\n",
        "    \n"
      ],
      "execution_count": 0,
      "outputs": []
    },
    {
      "cell_type": "code",
      "metadata": {
        "id": "_puIYRzuaJi0",
        "colab_type": "code",
        "colab": {
          "base_uri": "https://localhost:8080/",
          "height": 36
        },
        "outputId": "7151c75a-e576-4eb0-ce72-da4f7d7d7021"
      },
      "source": [
        "tup"
      ],
      "execution_count": 49,
      "outputs": [
        {
          "output_type": "execute_result",
          "data": {
            "text/plain": [
              "(1, 2, 1, 2)"
            ]
          },
          "metadata": {
            "tags": []
          },
          "execution_count": 49
        }
      ]
    },
    {
      "cell_type": "code",
      "metadata": {
        "id": "lvCNkJSSeCZB",
        "colab_type": "code",
        "colab": {}
      },
      "source": [
        "import numpy as np"
      ],
      "execution_count": 0,
      "outputs": []
    },
    {
      "cell_type": "code",
      "metadata": {
        "id": "cqMaDWkxfOmW",
        "colab_type": "code",
        "colab": {
          "base_uri": "https://localhost:8080/",
          "height": 36
        },
        "outputId": "9850aeaa-fc3b-42f7-e30b-dca91b19fa1c"
      },
      "source": [
        "np.unique(tup)"
      ],
      "execution_count": 51,
      "outputs": [
        {
          "output_type": "execute_result",
          "data": {
            "text/plain": [
              "array([1, 2])"
            ]
          },
          "metadata": {
            "tags": []
          },
          "execution_count": 51
        }
      ]
    },
    {
      "cell_type": "code",
      "metadata": {
        "id": "ksCNnNbpfP5k",
        "colab_type": "code",
        "colab": {}
      },
      "source": [
        ""
      ],
      "execution_count": 0,
      "outputs": []
    }
  ]
}