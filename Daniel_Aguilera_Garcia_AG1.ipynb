{
  "nbformat": 4,
  "nbformat_minor": 0,
  "metadata": {
    "colab": {
      "name": "Daniel Aguilera Garcia-AG1.ipynb",
      "provenance": [],
      "collapsed_sections": [],
      "include_colab_link": true
    },
    "kernelspec": {
      "name": "python3",
      "display_name": "Python 3"
    }
  },
  "cells": [
    {
      "cell_type": "markdown",
      "metadata": {
        "id": "view-in-github",
        "colab_type": "text"
      },
      "source": [
        "<a href=\"https://colab.research.google.com/github/DanielAguileraGarcia1991/03MAIR---Algoritmos-de-Optimizacion---2019/blob/master/Daniel_Aguilera_Garcia_AG1.ipynb\" target=\"_parent\"><img src=\"https://colab.research.google.com/assets/colab-badge.svg\" alt=\"Open In Colab\"/></a>"
      ]
    },
    {
      "cell_type": "markdown",
      "metadata": {
        "id": "7EGOHf-zWIO6",
        "colab_type": "text"
      },
      "source": [
        "AG1. Algoritmos de optimización \n",
        "\n",
        "Daniel Aguilera\n",
        "\n",
        "https://colab.research.google.com/drive/1DzoOvCA0qY7aehnqM-k2VC2JqwEdTWv1"
      ]
    },
    {
      "cell_type": "markdown",
      "metadata": {
        "id": "qLYLN3jM_Ti5",
        "colab_type": "text"
      },
      "source": [
        "## Sucesión de Fibonacci con Recursividad"
      ]
    },
    {
      "cell_type": "code",
      "metadata": {
        "id": "iDzLr1w4_RM1",
        "colab_type": "code",
        "outputId": "9b1b3380-6090-4e11-9efe-a366a26b5a02",
        "colab": {
          "base_uri": "https://localhost:8080/",
          "height": 839
        }
      },
      "source": [
        "%%time\n",
        "def recursividad_fibo(n):\n",
        "  if n<=1:\n",
        "    return n\n",
        "  else:\n",
        "    return (recursividad_fibo(n-1)+recursividad_fibo(n-2))\n",
        "\n",
        "nterminos = int(input(\"Introduce la n-essima deseada? \"))  \n",
        "\n",
        " \n",
        "print(\"Secuencia de Fibonacci:\")  \n",
        "\n",
        "for i in range(1,nterminos+1):  \n",
        "    print(recursividad_fibo(i))"
      ],
      "execution_count": 0,
      "outputs": [
        {
          "output_type": "stream",
          "text": [
            "Introduce la n-essima deseada? 40\n",
            "Secuencia de Fibonacci:\n",
            "1\n",
            "1\n",
            "2\n",
            "3\n",
            "5\n",
            "8\n",
            "13\n",
            "21\n",
            "34\n",
            "55\n",
            "89\n",
            "144\n",
            "233\n",
            "377\n",
            "610\n",
            "987\n",
            "1597\n",
            "2584\n",
            "4181\n",
            "6765\n",
            "10946\n",
            "17711\n",
            "28657\n",
            "46368\n",
            "75025\n",
            "121393\n",
            "196418\n",
            "317811\n",
            "514229\n",
            "832040\n",
            "1346269\n",
            "2178309\n",
            "3524578\n",
            "5702887\n",
            "9227465\n",
            "14930352\n",
            "24157817\n",
            "39088169\n",
            "63245986\n",
            "102334155\n",
            "CPU times: user 1min 30s, sys: 22 ms, total: 1min 30s\n",
            "Wall time: 1min 36s\n"
          ],
          "name": "stdout"
        }
      ]
    },
    {
      "cell_type": "code",
      "metadata": {
        "id": "mVdNUrqqALjv",
        "colab_type": "code",
        "outputId": "18ed6cf8-d432-420c-ef1c-707d7302ad1a",
        "colab": {
          "base_uri": "https://localhost:8080/",
          "height": 764
        }
      },
      "source": [
        "40#Para ver el número de llamadas que se le hace a la funcion de recursividad_fibo pongamos un print ('fibonacci: n ')\n",
        "def recursividad_fibo(n):\n",
        "  print('fibonacci: '+str(n))\n",
        "  if n<=1:\n",
        "    return n\n",
        "  else:\n",
        "    return (recursividad_fibo(n-1)+recursividad_fibo(n-2))\n",
        "\n",
        "nterminos = int(input(\"Introduce la n-essima deseada? \"))  \n",
        "\n",
        " \n",
        "print(\"Secuencia de Fibonacci:\")  \n",
        "\n",
        "for i in range(1,nterminos+1):  \n",
        "    print(recursividad_fibo(i)) "
      ],
      "execution_count": 0,
      "outputs": [
        {
          "output_type": "stream",
          "text": [
            "Introduce la n-essima deseada? 5\n",
            "Secuencia de Fibonacci:\n",
            "fibonacci: 1\n",
            "1\n",
            "fibonacci: 2\n",
            "fibonacci: 1\n",
            "fibonacci: 0\n",
            "1\n",
            "fibonacci: 3\n",
            "fibonacci: 2\n",
            "fibonacci: 1\n",
            "fibonacci: 0\n",
            "fibonacci: 1\n",
            "2\n",
            "fibonacci: 4\n",
            "fibonacci: 3\n",
            "fibonacci: 2\n",
            "fibonacci: 1\n",
            "fibonacci: 0\n",
            "fibonacci: 1\n",
            "fibonacci: 2\n",
            "fibonacci: 1\n",
            "fibonacci: 0\n",
            "3\n",
            "fibonacci: 5\n",
            "fibonacci: 4\n",
            "fibonacci: 3\n",
            "fibonacci: 2\n",
            "fibonacci: 1\n",
            "fibonacci: 0\n",
            "fibonacci: 1\n",
            "fibonacci: 2\n",
            "fibonacci: 1\n",
            "fibonacci: 0\n",
            "fibonacci: 3\n",
            "fibonacci: 2\n",
            "fibonacci: 1\n",
            "fibonacci: 0\n",
            "fibonacci: 1\n",
            "5\n"
          ],
          "name": "stdout"
        }
      ]
    },
    {
      "cell_type": "markdown",
      "metadata": {
        "id": "YAp3udcwSCfq",
        "colab_type": "text"
      },
      "source": [
        "Como se puede apreciar en la anterior cela, la función de Fibonacci con recursividad llama a la misma función siempre que la n sea menor o igual a 1. Es cuando tiene ese valor que la función devuelve un valor el cual se sumararà con anteriores valores y darà un resultado de la serie."
      ]
    },
    {
      "cell_type": "markdown",
      "metadata": {
        "id": "i-waToWEUSPH",
        "colab_type": "text"
      },
      "source": [
        "## Sucesión de Fibonacci sin recursividad"
      ]
    },
    {
      "cell_type": "code",
      "metadata": {
        "id": "B0FMucctURFF",
        "colab_type": "code",
        "colab": {}
      },
      "source": [
        "def sucesion_Fibonacci(n):\n",
        "  if n==1:\n",
        "    lista=[1]\n",
        "  elif n==2:\n",
        "    lista=[1,1]\n",
        "  elif n>2:\n",
        "    lista=[1,1]\n",
        "    for i in range (n-2):\n",
        "      lista.append(lista[-1]+lista[-2])\n",
        "  return lista"
      ],
      "execution_count": 0,
      "outputs": []
    },
    {
      "cell_type": "code",
      "metadata": {
        "id": "i_bQtrIOUp2F",
        "colab_type": "code",
        "outputId": "33b4cfac-3f71-4b78-b692-38351e4ad562",
        "colab": {
          "base_uri": "https://localhost:8080/",
          "height": 802
        }
      },
      "source": [
        "%%time\n",
        "sucesion_Fibonacci(40)"
      ],
      "execution_count": 0,
      "outputs": [
        {
          "output_type": "stream",
          "text": [
            "CPU times: user 16 µs, sys: 1e+03 ns, total: 17 µs\n",
            "Wall time: 20.3 µs\n"
          ],
          "name": "stdout"
        },
        {
          "output_type": "execute_result",
          "data": {
            "text/plain": [
              "[1,\n",
              " 1,\n",
              " 2,\n",
              " 3,\n",
              " 5,\n",
              " 8,\n",
              " 13,\n",
              " 21,\n",
              " 34,\n",
              " 55,\n",
              " 89,\n",
              " 144,\n",
              " 233,\n",
              " 377,\n",
              " 610,\n",
              " 987,\n",
              " 1597,\n",
              " 2584,\n",
              " 4181,\n",
              " 6765,\n",
              " 10946,\n",
              " 17711,\n",
              " 28657,\n",
              " 46368,\n",
              " 75025,\n",
              " 121393,\n",
              " 196418,\n",
              " 317811,\n",
              " 514229,\n",
              " 832040,\n",
              " 1346269,\n",
              " 2178309,\n",
              " 3524578,\n",
              " 5702887,\n",
              " 9227465,\n",
              " 14930352,\n",
              " 24157817,\n",
              " 39088169,\n",
              " 63245986,\n",
              " 102334155]"
            ]
          },
          "metadata": {
            "tags": []
          },
          "execution_count": 12
        }
      ]
    },
    {
      "cell_type": "markdown",
      "metadata": {
        "id": "riJKjlYESgHw",
        "colab_type": "text"
      },
      "source": [
        "Vemos la diferencia de tiempo entre con recursividad y sin. La complejidad con recursión es mucho más elevada que sin recursividad."
      ]
    },
    {
      "cell_type": "markdown",
      "metadata": {
        "id": "vyqG47Ty13bR",
        "colab_type": "text"
      },
      "source": [
        "## Juego de las tres torres"
      ]
    },
    {
      "cell_type": "code",
      "metadata": {
        "id": "X-rnUFirWNH8",
        "colab_type": "code",
        "outputId": "6769aa5e-7ab8-4ece-9dce-ef158028955e",
        "colab": {
          "base_uri": "https://localhost:8080/",
          "height": 144
        }
      },
      "source": [
        "def torres(N,desde,hasta):\n",
        "  if N==1:\n",
        "    print(\"lleva la ficha desde\", desde, \"hasta\", hasta)\n",
        "  \n",
        "  else:\n",
        "    torres(N-1, desde, 6-desde-hasta)\n",
        "    print(\"lleva la ficha desde\", desde, \"hasta\", hasta)\n",
        "    torres(N-1, 6-desde-hasta, hasta)\n",
        "\n",
        "torres(3,1,3)"
      ],
      "execution_count": 0,
      "outputs": [
        {
          "output_type": "stream",
          "text": [
            "lleva la ficha desde 1 hasta 3\n",
            "lleva la ficha desde 1 hasta 2\n",
            "lleva la ficha desde 3 hasta 2\n",
            "lleva la ficha desde 1 hasta 3\n",
            "lleva la ficha desde 2 hasta 1\n",
            "lleva la ficha desde 2 hasta 3\n",
            "lleva la ficha desde 1 hasta 3\n"
          ],
          "name": "stdout"
        }
      ]
    },
    {
      "cell_type": "markdown",
      "metadata": {
        "id": "RIiXSqRXZG62",
        "colab_type": "text"
      },
      "source": [
        "## Problema de las 4 reinas"
      ]
    },
    {
      "cell_type": "code",
      "metadata": {
        "id": "GhNYc1_xXp5Q",
        "colab_type": "code",
        "colab": {}
      },
      "source": [
        "#Backtraking: cuando la solución actual no es solución se vuelve atrás para rectificar y intentar buscar otra solución. "
      ],
      "execution_count": 0,
      "outputs": []
    },
    {
      "cell_type": "code",
      "metadata": {
        "id": "ZiBKoTqYjBvB",
        "colab_type": "code",
        "colab": {}
      },
      "source": [
        "import numpy as np"
      ],
      "execution_count": 0,
      "outputs": []
    },
    {
      "cell_type": "code",
      "metadata": {
        "id": "TgqBZZ2Ui5VD",
        "colab_type": "code",
        "colab": {}
      },
      "source": [
        "def backtracking(tupla,N):\n",
        "  count=0\n",
        "  for number in tupla:\n",
        "    if number>N:\n",
        "      count+=1\n",
        "  \n",
        "  if count>0:\n",
        "    return True\n",
        "  else:\n",
        "    return False\n",
        "  "
      ],
      "execution_count": 0,
      "outputs": []
    },
    {
      "cell_type": "code",
      "metadata": {
        "id": "WKgWZRw7b7e8",
        "colab_type": "code",
        "colab": {}
      },
      "source": [
        "def reina_range(tupla,N):\n",
        "  count=0\n",
        "  for number in tupla:\n",
        "    if number>N or number<1 :\n",
        "      count+=1\n",
        "  return N-count"
      ],
      "execution_count": 0,
      "outputs": []
    },
    {
      "cell_type": "code",
      "metadata": {
        "id": "sSZU2FlfZFUC",
        "colab_type": "code",
        "colab": {}
      },
      "source": [
        "def reina_amenazada(tupla,N):\n",
        "  count=0\n",
        "  reina_rango = reina_range(tupla,N)\n",
        "  if reina_rango>1:\n",
        "    if len(np.unique(tupla[:reina_rango]))<reina_rango:\n",
        "      return False\n",
        "    else:\n",
        "      for i in range(reina_rango-1):\n",
        "        for j in range(i+1,reina_rango):\n",
        "          if abs(i-j)==abs(tupla[i]-tupla[j]):\n",
        "            count+=1\n",
        "\n",
        "    if count==0:\n",
        "      return True\n",
        "    else:\n",
        "      return False\n",
        "\n",
        " \n",
        "  else:\n",
        "    return True"
      ],
      "execution_count": 0,
      "outputs": []
    },
    {
      "cell_type": "code",
      "metadata": {
        "id": "YRHYJM6GaE-Y",
        "colab_type": "code",
        "colab": {}
      },
      "source": [
        "def solucion(tupla,N):\n",
        "  if list(np.unique(tupla))==list(np.arange(1,N+1)) and reina_amenazada(tupla,N):\n",
        "    return True\n",
        "  else:\n",
        "    return False"
      ],
      "execution_count": 0,
      "outputs": []
    },
    {
      "cell_type": "code",
      "metadata": {
        "id": "EoZ1lKpkaIWw",
        "colab_type": "code",
        "colab": {}
      },
      "source": [
        "def reinas(N,tupla,k,back_track):\n",
        "  while (k<N):\n",
        "    if solucion(tupla,N):\n",
        "      print(tupla)\n",
        "      tupla[0]+=1\n",
        "      tupla[1:]=list(np.zeros(N-1, dtype=int))\n",
        "      k=1\n",
        "    if tupla[k]==0:\n",
        "      tupla[k]+=1\n",
        "    elif (reina_amenazada(tupla,N)==False or back_track==True):\n",
        "      tupla[k]+=1\n",
        "      back_track=False\n",
        "    elif backtracking(tupla,N) == True:\n",
        "      if tupla[0]>N:\n",
        "        return ('Ya se han encontrado todas las soluciones')\n",
        "      tupla[k]=0\n",
        "      back_track=True\n",
        "      k-=1\n",
        "      reinas(N,tupla,k,back_track)\n",
        "    elif reina_amenazada(tupla,N)==True:\n",
        "      k+=1"
      ],
      "execution_count": 0,
      "outputs": []
    },
    {
      "cell_type": "code",
      "metadata": {
        "id": "_puIYRzuaJi0",
        "colab_type": "code",
        "outputId": "aa49ae80-9179-403b-e23a-41e82b985661",
        "colab": {
          "base_uri": "https://localhost:8080/",
          "height": 72
        }
      },
      "source": [
        "reinas(4,list((0,0,0,0)),0,False)"
      ],
      "execution_count": 9,
      "outputs": [
        {
          "output_type": "stream",
          "text": [
            "[2, 4, 1, 3]\n",
            "[3, 1, 4, 2]\n"
          ],
          "name": "stdout"
        },
        {
          "output_type": "execute_result",
          "data": {
            "text/plain": [
              "'Ya se han encontrado todas las soluciones'"
            ]
          },
          "metadata": {
            "tags": []
          },
          "execution_count": 9
        }
      ]
    },
    {
      "cell_type": "markdown",
      "metadata": {
        "id": "3LHoZdFN2KKx",
        "colab_type": "text"
      },
      "source": [
        "Observaciones:\n",
        "  - Se ha importado la librería numpy para tener la función np.unique()\n",
        "  - Se han creado 4 funciones a parte de la función principal: backtracking, reina_range, reina_amenazada y solucion. Todas ellas tienen como entrada la tupla en el momento actual.\n",
        "  - Función backtracking: cuando la reina sale fuera del tablero se activa esta función, se pasa a una fila anterior, el valor de la fila pasa a 0 y se desactiva cuando a la fila anterior se le suma 1. Cuando backtracking se actica la función principal reina se vuelve a llamar a si misma(recursividad).\n",
        "  - Función reina_range: esta función permite saber en que rango del tablero esta referida la tupla en el momento para definir si la reina está o no amenazada.\n",
        "  - Función reina_amenazada: True ninguna reina está amenazada y False lo contrario.\n",
        "  - Función solucion: permite saber si la tupla en todo momento es solución final o no. Cuando la función principal encuentra una solución, le suma 1 a la primera componente de la tupla y se intenta encontrar otra solución.\n",
        "  - La función principal reinas terminará cuando el valor de la primera fila salga del tablero y será entonces cuando ya se habrán encontrado todas las soluciones posibles."
      ]
    },
    {
      "cell_type": "markdown",
      "metadata": {
        "id": "MpDfX38T53S0",
        "colab_type": "text"
      },
      "source": [
        "# Encontrar los dos puntos más cercanos "
      ]
    },
    {
      "cell_type": "code",
      "metadata": {
        "id": "oTSSIF_7qEPK",
        "colab_type": "code",
        "colab": {}
      },
      "source": [
        "import math\n",
        "import numpy as np\n",
        "import pandas as pd"
      ],
      "execution_count": 0,
      "outputs": []
    },
    {
      "cell_type": "code",
      "metadata": {
        "id": "x1l7hoTq5goM",
        "colab_type": "code",
        "outputId": "f3efc662-291e-4075-9b1e-f2a811bc5b08",
        "colab": {
          "base_uri": "https://localhost:8080/",
          "height": 453
        }
      },
      "source": [
        "import random\n",
        "lista = [random.randrange(1, 500, 1) for i in range(300)]\n",
        "lista_sort=np.sort(lista)\n",
        "lista_sort "
      ],
      "execution_count": 11,
      "outputs": [
        {
          "output_type": "execute_result",
          "data": {
            "text/plain": [
              "array([  3,   6,   7,   8,  10,  10,  11,  11,  13,  13,  14,  22,  23,\n",
              "        23,  24,  25,  26,  27,  27,  28,  30,  30,  33,  33,  34,  35,\n",
              "        35,  39,  40,  42,  43,  44,  44,  45,  46,  46,  46,  47,  47,\n",
              "        48,  50,  55,  55,  55,  57,  60,  61,  62,  65,  66,  68,  72,\n",
              "        73,  73,  75,  77,  77,  82,  84,  85,  85,  86,  87,  88,  90,\n",
              "        91,  93,  93,  94,  94,  96,  99, 101, 102, 103, 103, 105, 109,\n",
              "       109, 109, 111, 113, 117, 120, 121, 127, 127, 129, 129, 129, 129,\n",
              "       131, 133, 136, 139, 142, 143, 144, 146, 149, 149, 153, 154, 154,\n",
              "       156, 156, 158, 161, 162, 162, 163, 164, 167, 167, 168, 172, 174,\n",
              "       174, 177, 179, 179, 181, 184, 187, 188, 188, 188, 189, 190, 193,\n",
              "       196, 196, 197, 199, 200, 203, 204, 209, 211, 212, 212, 213, 214,\n",
              "       217, 218, 218, 219, 224, 226, 235, 238, 239, 242, 242, 243, 245,\n",
              "       247, 249, 249, 251, 254, 254, 256, 256, 258, 262, 263, 264, 265,\n",
              "       266, 267, 269, 277, 277, 280, 280, 281, 283, 284, 285, 288, 292,\n",
              "       292, 294, 296, 297, 303, 304, 307, 310, 313, 315, 316, 317, 319,\n",
              "       322, 323, 324, 324, 325, 326, 328, 329, 331, 334, 335, 336, 337,\n",
              "       337, 337, 345, 346, 347, 347, 347, 347, 351, 352, 353, 353, 354,\n",
              "       359, 362, 363, 363, 365, 366, 366, 369, 369, 370, 372, 375, 378,\n",
              "       382, 383, 383, 387, 389, 389, 390, 392, 392, 393, 398, 398, 401,\n",
              "       401, 405, 405, 406, 410, 410, 413, 415, 417, 419, 420, 425, 428,\n",
              "       429, 431, 434, 434, 443, 443, 445, 450, 453, 454, 458, 460, 462,\n",
              "       462, 462, 465, 467, 467, 468, 473, 474, 477, 478, 478, 480, 482,\n",
              "       484, 484, 486, 488, 490, 490, 491, 492, 494, 497, 497, 498, 498,\n",
              "       499])"
            ]
          },
          "metadata": {
            "tags": []
          },
          "execution_count": 11
        }
      ]
    },
    {
      "cell_type": "markdown",
      "metadata": {
        "id": "D5gibQLE6HYu",
        "colab_type": "text"
      },
      "source": [
        "## 1ro Fuerza bruta"
      ]
    },
    {
      "cell_type": "code",
      "metadata": {
        "id": "-5Kzm9lPwpZ5",
        "colab_type": "code",
        "colab": {}
      },
      "source": [
        "def ordenacion_burbuja(lista):\n",
        "  not_order=False\n",
        "  for i in range (len(lista)-1):\n",
        "    proximo=lista[i+1]\n",
        "    if lista[i]>proximo: \n",
        "      not_order=True\n",
        "      lista[i+1]=lista[i]\n",
        "      lista[i]=proximo\n",
        "  if not_order==True:\n",
        "    ordenacion_burbuja(lista)\n",
        "  return lista"
      ],
      "execution_count": 0,
      "outputs": []
    },
    {
      "cell_type": "code",
      "metadata": {
        "id": "_HTk3jHRxADf",
        "colab_type": "code",
        "colab": {}
      },
      "source": [
        "def dos_puntos(lista):\n",
        "  valor=0\n",
        "  for i in range(len(lista)-1):\n",
        "    diferencia = abs(lista[i]-lista[i+1])\n",
        "    if i==0:\n",
        "      valor = diferencia\n",
        "    elif diferencia <= valor:\n",
        "      valor = diferencia\n",
        "      añadir = True\n",
        "      puntos_cercanos = str(lista[i])+' '+str(lista[i+1])\n",
        "  return puntos_cercanos"
      ],
      "execution_count": 0,
      "outputs": []
    },
    {
      "cell_type": "code",
      "metadata": {
        "id": "tQx_4cI9R2WR",
        "colab_type": "code",
        "colab": {}
      },
      "source": [
        "def encontrar_los_dos_puntos_mas_cercacons(lista):\n",
        "  diferencia=[]\n",
        "  valores=[]\n",
        "  for i in range(len(lista)):\n",
        "    for j in range(i+1,len(lista)):\n",
        "      diferencia.append(abs(lista[i]-lista[j]))\n",
        "      valores.append(str(lista[i])+' '+str(lista[j]))\n",
        "  minimos=[]\n",
        "  for i in range(len(diferencia)):\n",
        "    if diferencia[i]==min(diferencia):\n",
        "      minimos.append(i)\n",
        "  puntos_mas_cercanos=[]\n",
        "  for index in minimos:\n",
        "    puntos_mas_cercanos.append(valores[index])\n",
        "\n",
        "  return puntos_mas_cercanos, len(valores)"
      ],
      "execution_count": 0,
      "outputs": []
    },
    {
      "cell_type": "code",
      "metadata": {
        "id": "6Cnv0Htt7D9c",
        "colab_type": "code",
        "outputId": "683e92df-9e8d-4791-dfdb-581140634fcc",
        "colab": {
          "base_uri": "https://localhost:8080/",
          "height": 1000
        }
      },
      "source": [
        "%%time\n",
        "encontrar_los_dos_puntos_mas_cercacons(lista)"
      ],
      "execution_count": 15,
      "outputs": [
        {
          "output_type": "stream",
          "text": [
            "CPU times: user 32.5 s, sys: 7.73 ms, total: 32.5 s\n",
            "Wall time: 32.5 s\n"
          ],
          "name": "stdout"
        },
        {
          "output_type": "execute_result",
          "data": {
            "text/plain": [
              "(['490 490',\n",
              "  '353 353',\n",
              "  '218 218',\n",
              "  '383 383',\n",
              "  '462 462',\n",
              "  '462 462',\n",
              "  '174 174',\n",
              "  '162 162',\n",
              "  '196 196',\n",
              "  '401 401',\n",
              "  '484 484',\n",
              "  '44 44',\n",
              "  '347 347',\n",
              "  '347 347',\n",
              "  '347 347',\n",
              "  '467 467',\n",
              "  '337 337',\n",
              "  '337 337',\n",
              "  '280 280',\n",
              "  '434 434',\n",
              "  '55 55',\n",
              "  '55 55',\n",
              "  '392 392',\n",
              "  '27 27',\n",
              "  '73 73',\n",
              "  '212 212',\n",
              "  '462 462',\n",
              "  '47 47',\n",
              "  '179 179',\n",
              "  '369 369',\n",
              "  '35 35',\n",
              "  '33 33',\n",
              "  '10 10',\n",
              "  '443 443',\n",
              "  '498 498',\n",
              "  '256 256',\n",
              "  '93 93',\n",
              "  '154 154',\n",
              "  '129 129',\n",
              "  '129 129',\n",
              "  '129 129',\n",
              "  '337 337',\n",
              "  '497 497',\n",
              "  '30 30',\n",
              "  '347 347',\n",
              "  '347 347',\n",
              "  '94 94',\n",
              "  '129 129',\n",
              "  '129 129',\n",
              "  '55 55',\n",
              "  '254 254',\n",
              "  '109 109',\n",
              "  '109 109',\n",
              "  '11 11',\n",
              "  '109 109',\n",
              "  '127 127',\n",
              "  '366 366',\n",
              "  '398 398',\n",
              "  '167 167',\n",
              "  '324 324',\n",
              "  '13 13',\n",
              "  '149 149',\n",
              "  '478 478',\n",
              "  '277 277',\n",
              "  '103 103',\n",
              "  '23 23',\n",
              "  '389 389',\n",
              "  '77 77',\n",
              "  '405 405',\n",
              "  '156 156',\n",
              "  '188 188',\n",
              "  '188 188',\n",
              "  '46 46',\n",
              "  '46 46',\n",
              "  '242 242',\n",
              "  '347 347',\n",
              "  '410 410',\n",
              "  '188 188',\n",
              "  '85 85',\n",
              "  '249 249',\n",
              "  '129 129',\n",
              "  '46 46',\n",
              "  '292 292',\n",
              "  '363 363'],\n",
              " 44850)"
            ]
          },
          "metadata": {
            "tags": []
          },
          "execution_count": 15
        }
      ]
    },
    {
      "cell_type": "markdown",
      "metadata": {
        "id": "M_fDkoEiDvkI",
        "colab_type": "text"
      },
      "source": [
        "Como se puede comprovar por fuerza bruta primero se analizan todas las posibles soluciones y después se almacenan todas las soluciones(n(n-1)/2) que satisfazan los mínimos buscados partiendo de una lista 1D.\n",
        " \n",
        "La complejidad viene dada por O(n^2)"
      ]
    },
    {
      "cell_type": "markdown",
      "metadata": {
        "id": "WKnNLLy-QWrf",
        "colab_type": "text"
      },
      "source": [
        "## 2do Divide y vencerás"
      ]
    },
    {
      "cell_type": "code",
      "metadata": {
        "id": "W1ybbsxYKKIa",
        "colab_type": "code",
        "colab": {}
      },
      "source": [
        "def numero_de_puntos_rango(lista,limite_izq,limite_dr):\n",
        "  menor=[]\n",
        "  for number in lista:\n",
        "    if number>=limite_izq and number<=limite_dr:\n",
        "      menor.append(number)\n",
        "  return menor"
      ],
      "execution_count": 0,
      "outputs": []
    },
    {
      "cell_type": "code",
      "metadata": {
        "id": "v2RYltf8cjla",
        "colab_type": "code",
        "colab": {}
      },
      "source": [
        "def iz_dr_frontera(lista,limite_izq,limite_dr,frontera):\n",
        "  lista_valores_rango_menor=[]\n",
        "  lista_valores_rango_mayor=[]\n",
        "  number_frontera=0\n",
        "  for number in lista:\n",
        "    if number==frontera:\n",
        "      number_frontera=1\n",
        "    if number>=limite_izq and number<frontera:\n",
        "      lista_valores_rango_menor.append(number)\n",
        "    if number>frontera and number<=limite_dr:\n",
        "      lista_valores_rango_mayor.append(number)\n",
        "\n",
        "  return [len(lista_valores_rango_menor), number_frontera, len(lista_valores_rango_mayor)]"
      ],
      "execution_count": 0,
      "outputs": []
    },
    {
      "cell_type": "code",
      "metadata": {
        "id": "eLiglneyUqVU",
        "colab_type": "code",
        "colab": {}
      },
      "source": [
        "def get_numbers_around(lista,frontera):\n",
        "  menores=[]\n",
        "  mayores=[]\n",
        "  for number in lista:\n",
        "    if number<frontera:\n",
        "      menores.append(number)\n",
        "    else:\n",
        "      mayores.append(number)\n",
        "\n",
        "  return [max(menores), min(mayores)]"
      ],
      "execution_count": 0,
      "outputs": []
    },
    {
      "cell_type": "code",
      "metadata": {
        "id": "qqu_LCpvHmRM",
        "colab_type": "code",
        "colab": {}
      },
      "source": [
        "def distancias(lista,limite_izq,limite_dr,frontera,inicial,df1):\n",
        "\n",
        "  if inicial==True:\n",
        "    df1 = pd.DataFrame()\n",
        "\n",
        "  valores_en_rango = iz_dr_frontera(lista,limite_izq,limite_dr,frontera)\n",
        "\n",
        "  if valores_en_rango==[1,1,1]:\n",
        "    d_izq = abs(numero_de_puntos_rango(lista,limite_izq,frontera)[0]-frontera)\n",
        "    puntos_izquierda = str(numero_de_puntos_rango(lista,limite_izq,frontera)[0])+' '+str(frontera)\n",
        "    d_fr = math.inf \n",
        "    puntos_frontera = ' - '\n",
        "    d_dr = abs(numero_de_puntos_rango(lista,frontera,limite_dr)[-1]-frontera)\n",
        "    puntos_derecha = str(frontera)+' '+str(numero_de_puntos_rango(lista,frontera,limite_dr)[-1])\n",
        "\n",
        "  elif valores_en_rango==[0,1,1]:\n",
        "    d_izq = math.inf\n",
        "    puntos_izquierda = ' - '\n",
        "    d_fr = math.inf\n",
        "    puntos_frontera = ' - '\n",
        "    d_dr = abs(numero_de_puntos_rango(lista,frontera,limite_dr)[-1]-frontera)\n",
        "    puntos_derecha = str(frontera)+' '+str(numero_de_puntos_rango(lista,frontera,limite_dr)[-1])\n",
        "\n",
        "  elif valores_en_rango==[1,1,0]:\n",
        "    d_izq = abs(numero_de_puntos_rango(lista,limite_izq,frontera)[0]-frontera)\n",
        "    puntos_izquierda = str(numero_de_puntos_rango(lista,limite_izq,frontera)[0])+' '+str(frontera)\n",
        "    d_fr = math.inf\n",
        "    puntos_frontera = ' - '\n",
        "    d_dr = math.inf\n",
        "    puntos_derecha = ' - '\n",
        "\n",
        "  elif valores_en_rango==[2,0,0]:\n",
        "    d_izq = abs(numero_de_puntos_rango(lista,limite_izq,frontera)[0]-numero_de_puntos_rango(lista,limite_izq,frontera)[-1])\n",
        "    puntos_izquierda = (str(numero_de_puntos_rango(lista,limite_izq,frontera)[0])+' '+str(numero_de_puntos_rango(lista,limite_izq,frontera)[-1]))\n",
        "    d_fr = math.inf\n",
        "    puntos_frontera = ' - '   \n",
        "    d_dr = math.inf\n",
        "    puntos_derecha = ' - '\n",
        "\n",
        "  elif valores_en_rango==[0,0,2]:\n",
        "    d_izq = math.inf\n",
        "    puntos_izquierda = ' - '\n",
        "    d_fr = math.inf\n",
        "    puntos_frontera = ' - '\n",
        "    d_dr = abs(numero_de_puntos_rango(lista,frontera,limite_dr)[-1]-numero_de_puntos_rango(lista,frontera,limite_dr)[0])\n",
        "    puntos_derecha = str(numero_de_puntos_rango(lista,frontera, limite_dr)[0])+' '+str(numero_de_puntos_rango(lista,frontera, limite_dr)[-1])\n",
        "\n",
        "  elif valores_en_rango==[2,0,2]:\n",
        "    d_izq = abs(numero_de_puntos_rango(lista,limite_izq,frontera)[0]-numero_de_puntos_rango(lista,limite_izq,frontera)[-1])\n",
        "    puntos_izquierda = str(numero_de_puntos_rango(lista,limite_izq,frontera)[0])+' '+str(numero_de_puntos_rango(lista,limite_izq,frontera)[-1])\n",
        "    d_fr = abs(get_numbers_around(lista,frontera)[0]-get_numbers_around(lista,frontera)[-1])\n",
        "    puntos_frontera = str(get_numbers_around(lista,frontera)[0])+' '+str(get_numbers_around(lista,frontera)[-1])\n",
        "    d_dr = abs(numero_de_puntos_rango(lista,frontera,limite_dr)[-1]-numero_de_puntos_rango(lista,frontera,limite_dr)[0])\n",
        "    puntos_derecha = str(numero_de_puntos_rango(lista,frontera, limite_dr)[0])+' '+str(numero_de_puntos_rango(lista,frontera, limite_dr)[-1])\n",
        "\n",
        "  elif valores_en_rango==[2,0,1]:\n",
        "    d_izq = abs(numero_de_puntos_rango(lista,limite_izq,frontera)[0]-numero_de_puntos_rango(lista,limite_izq,frontera)[-1])\n",
        "    puntos_izquierda = str(numero_de_puntos_rango(lista,limite_izq,frontera)[0])+' '+str(numero_de_puntos_rango(lista,limite_izq,frontera)[-1])\n",
        "    d_fr = abs(get_numbers_around(lista,frontera)[0]-get_numbers_around(lista,frontera)[-1])\n",
        "    puntos_frontera = str(get_numbers_around(lista,frontera)[0])+' '+str(get_numbers_around(lista,frontera)[-1])\n",
        "    d_dr = math.inf\n",
        "    puntos_derecha = ' - '\n",
        "\n",
        "  elif valores_en_rango==[1,0,2]:\n",
        "    d_izq = math.inf\n",
        "    puntos_izquierda = ' - '\n",
        "    d_fr = abs(get_numbers_around(lista,frontera)[0]-get_numbers_around(lista,frontera)[-1])\n",
        "    puntos_frontera = str(get_numbers_around(lista,frontera)[0])+' '+str(get_numbers_around(lista,frontera)[-1])\n",
        "    d_dr = abs(numero_de_puntos_rango(lista,frontera,limite_dr)[-1]-numero_de_puntos_rango(lista,frontera,limite_dr)[0])\n",
        "    puntos_derecha = str(numero_de_puntos_rango(lista,frontera, limite_dr)[0])+' '+str(numero_de_puntos_rango(lista,frontera, limite_dr)[-1])\n",
        "\n",
        "  elif valores_en_rango==[1,0,1]:\n",
        "    d_izq = math.inf\n",
        "    puntos_izquierda = ' - '\n",
        "    d_fr = abs(get_numbers_around(lista,frontera)[0]-get_numbers_around(lista,frontera)[-1])\n",
        "    puntos_frontera = str(get_numbers_around(lista,frontera)[0])+' '+str(get_numbers_around(lista,frontera)[-1])\n",
        "    d_dr = math.inf\n",
        "    puntos_derecha = ' - '\n",
        "\n",
        "  elif valores_en_rango==[1,0,0] or valores_en_rango==[0,0,1] or valores_en_rango==[0,1,0] or valores_en_rango==[0,0,0]:\n",
        "    d_izq = math.inf\n",
        "    puntos_izquierda = ' - '\n",
        "    d_fr = math.inf\n",
        "    puntos_frontera = ' - '\n",
        "    d_dr = math.inf\n",
        "    puntos_derecha = ' - '\n",
        "\n",
        "  df2 = pd.DataFrame([[min(d_izq,d_fr,d_dr), d_izq, puntos_izquierda, d_fr, puntos_frontera, d_dr, puntos_derecha]], columns=['min_distancia', 'd_izq', 'Puntos_izquierda', 'd_fr', 'Puntos_frontera','d_dr', 'Puntos_derecha' ])\n",
        "  df1 = pd.concat([df1, df2], axis=0, ignore_index=True)\n",
        "\n",
        "  return df1"
      ],
      "execution_count": 0,
      "outputs": []
    },
    {
      "cell_type": "code",
      "metadata": {
        "id": "0ERHIiin7Phs",
        "colab_type": "code",
        "colab": {}
      },
      "source": [
        "def divide_y_venceras(lista,limite_izq,limite_dr,inicial,df1):\n",
        "  if inicial==True:\n",
        "    df1=pd.DataFrame()\n",
        "    inicial=False\n",
        "\n",
        "  frontera = (limite_dr+limite_izq)/2\n",
        "  if max(np.unique(iz_dr_frontera(lista,limite_izq,limite_dr,frontera)))<=2:\n",
        "    return distancias(lista,limite_izq,limite_dr,frontera,inicial,df1)\n",
        "        \n",
        "  else:  \n",
        "    return pd.concat([divide_y_venceras(lista,limite_izq,frontera,inicial,df1), \n",
        "                      pd.DataFrame([[abs(get_numbers_around(lista,frontera)[0]-get_numbers_around(lista,frontera)[-1]), math.inf, ' - ', abs(get_numbers_around(lista,frontera)[0]-get_numbers_around(lista,frontera)[-1]), str(get_numbers_around(lista,frontera)[0])+' '+str(get_numbers_around(lista,frontera)[-1]), math.inf, ' - ']], columns=['min_distancia', 'd_izq', 'Puntos_izquierda', 'd_fr', 'Puntos_frontera','d_dr', 'Puntos_derecha' ]),\n",
        "                      divide_y_venceras(lista,frontera,limite_dr,inicial,df1)],axis=0,ignore_index=True)"
      ],
      "execution_count": 0,
      "outputs": []
    },
    {
      "cell_type": "code",
      "metadata": {
        "id": "7Fz93RBjWJ1t",
        "colab_type": "code",
        "outputId": "d5e56703-5cc1-49e9-c3b4-d40fb02b7ac4",
        "colab": {
          "base_uri": "https://localhost:8080/",
          "height": 53
        }
      },
      "source": [
        "%%time\n",
        "df = divide_y_venceras(lista_sort,lista_sort[0],lista_sort[-1],True,pd.DataFrame())\n",
        "df"
      ],
      "execution_count": 21,
      "outputs": [
        {
          "output_type": "stream",
          "text": [
            "CPU times: user 9.62 s, sys: 6.96 ms, total: 9.62 s\n",
            "Wall time: 9.66 s\n"
          ],
          "name": "stdout"
        }
      ]
    },
    {
      "cell_type": "code",
      "metadata": {
        "id": "-br4TxP8xOco",
        "colab_type": "code",
        "outputId": "4b736b87-0ae8-4d05-972e-01193d26ac73",
        "colab": {
          "base_uri": "https://localhost:8080/",
          "height": 235
        }
      },
      "source": [
        "df['min_distancia'] == min(df['min_distancia'])"
      ],
      "execution_count": 22,
      "outputs": [
        {
          "output_type": "execute_result",
          "data": {
            "text/plain": [
              "0      False\n",
              "1      False\n",
              "2       True\n",
              "3      False\n",
              "4       True\n",
              "       ...  \n",
              "976    False\n",
              "977    False\n",
              "978     True\n",
              "979    False\n",
              "980     True\n",
              "Name: min_distancia, Length: 981, dtype: bool"
            ]
          },
          "metadata": {
            "tags": []
          },
          "execution_count": 22
        }
      ]
    },
    {
      "cell_type": "code",
      "metadata": {
        "id": "6y_Lt_TjxOil",
        "colab_type": "code",
        "outputId": "f949cb22-b63b-47ac-e595-37641ef17112",
        "colab": {
          "base_uri": "https://localhost:8080/",
          "height": 1000
        }
      },
      "source": [
        "df[df['min_distancia'] == min(df['min_distancia'])]"
      ],
      "execution_count": 23,
      "outputs": [
        {
          "output_type": "execute_result",
          "data": {
            "text/html": [
              "<div>\n",
              "<style scoped>\n",
              "    .dataframe tbody tr th:only-of-type {\n",
              "        vertical-align: middle;\n",
              "    }\n",
              "\n",
              "    .dataframe tbody tr th {\n",
              "        vertical-align: top;\n",
              "    }\n",
              "\n",
              "    .dataframe thead th {\n",
              "        text-align: right;\n",
              "    }\n",
              "</style>\n",
              "<table border=\"1\" class=\"dataframe\">\n",
              "  <thead>\n",
              "    <tr style=\"text-align: right;\">\n",
              "      <th></th>\n",
              "      <th>min_distancia</th>\n",
              "      <th>d_izq</th>\n",
              "      <th>Puntos_izquierda</th>\n",
              "      <th>d_fr</th>\n",
              "      <th>Puntos_frontera</th>\n",
              "      <th>d_dr</th>\n",
              "      <th>Puntos_derecha</th>\n",
              "    </tr>\n",
              "  </thead>\n",
              "  <tbody>\n",
              "    <tr>\n",
              "      <th>2</th>\n",
              "      <td>0.0</td>\n",
              "      <td>1.0</td>\n",
              "      <td>7 8</td>\n",
              "      <td>2.0</td>\n",
              "      <td>8 10</td>\n",
              "      <td>0.0</td>\n",
              "      <td>10 10</td>\n",
              "    </tr>\n",
              "    <tr>\n",
              "      <th>4</th>\n",
              "      <td>0.0</td>\n",
              "      <td>0.0</td>\n",
              "      <td>11 11</td>\n",
              "      <td>inf</td>\n",
              "      <td>-</td>\n",
              "      <td>inf</td>\n",
              "      <td>-</td>\n",
              "    </tr>\n",
              "    <tr>\n",
              "      <th>6</th>\n",
              "      <td>0.0</td>\n",
              "      <td>0.0</td>\n",
              "      <td>13 13</td>\n",
              "      <td>1.0</td>\n",
              "      <td>13 14</td>\n",
              "      <td>inf</td>\n",
              "      <td>-</td>\n",
              "    </tr>\n",
              "    <tr>\n",
              "      <th>12</th>\n",
              "      <td>0.0</td>\n",
              "      <td>0.0</td>\n",
              "      <td>23 23</td>\n",
              "      <td>1.0</td>\n",
              "      <td>23 24</td>\n",
              "      <td>inf</td>\n",
              "      <td>-</td>\n",
              "    </tr>\n",
              "    <tr>\n",
              "      <th>16</th>\n",
              "      <td>0.0</td>\n",
              "      <td>0.0</td>\n",
              "      <td>27 27</td>\n",
              "      <td>1.0</td>\n",
              "      <td>27 28</td>\n",
              "      <td>inf</td>\n",
              "      <td>-</td>\n",
              "    </tr>\n",
              "    <tr>\n",
              "      <th>18</th>\n",
              "      <td>0.0</td>\n",
              "      <td>inf</td>\n",
              "      <td>-</td>\n",
              "      <td>inf</td>\n",
              "      <td>-</td>\n",
              "      <td>0.0</td>\n",
              "      <td>30 30</td>\n",
              "    </tr>\n",
              "    <tr>\n",
              "      <th>22</th>\n",
              "      <td>0.0</td>\n",
              "      <td>0.0</td>\n",
              "      <td>33 33</td>\n",
              "      <td>1.0</td>\n",
              "      <td>33 34</td>\n",
              "      <td>inf</td>\n",
              "      <td>-</td>\n",
              "    </tr>\n",
              "    <tr>\n",
              "      <th>24</th>\n",
              "      <td>0.0</td>\n",
              "      <td>inf</td>\n",
              "      <td>-</td>\n",
              "      <td>1.0</td>\n",
              "      <td>34 35</td>\n",
              "      <td>0.0</td>\n",
              "      <td>35 35</td>\n",
              "    </tr>\n",
              "    <tr>\n",
              "      <th>32</th>\n",
              "      <td>0.0</td>\n",
              "      <td>0.0</td>\n",
              "      <td>44 44</td>\n",
              "      <td>1.0</td>\n",
              "      <td>44 45</td>\n",
              "      <td>inf</td>\n",
              "      <td>-</td>\n",
              "    </tr>\n",
              "    <tr>\n",
              "      <th>126</th>\n",
              "      <td>0.0</td>\n",
              "      <td>0.0</td>\n",
              "      <td>47 47</td>\n",
              "      <td>inf</td>\n",
              "      <td>-</td>\n",
              "      <td>inf</td>\n",
              "      <td>-</td>\n",
              "    </tr>\n",
              "    <tr>\n",
              "      <th>234</th>\n",
              "      <td>0.0</td>\n",
              "      <td>0.0</td>\n",
              "      <td>73 73</td>\n",
              "      <td>2.0</td>\n",
              "      <td>73 75</td>\n",
              "      <td>inf</td>\n",
              "      <td>-</td>\n",
              "    </tr>\n",
              "    <tr>\n",
              "      <th>236</th>\n",
              "      <td>0.0</td>\n",
              "      <td>0.0</td>\n",
              "      <td>77 77</td>\n",
              "      <td>inf</td>\n",
              "      <td>-</td>\n",
              "      <td>inf</td>\n",
              "      <td>-</td>\n",
              "    </tr>\n",
              "    <tr>\n",
              "      <th>240</th>\n",
              "      <td>0.0</td>\n",
              "      <td>0.0</td>\n",
              "      <td>85 85</td>\n",
              "      <td>1.0</td>\n",
              "      <td>85 86</td>\n",
              "      <td>inf</td>\n",
              "      <td>-</td>\n",
              "    </tr>\n",
              "    <tr>\n",
              "      <th>246</th>\n",
              "      <td>0.0</td>\n",
              "      <td>0.0</td>\n",
              "      <td>93 93</td>\n",
              "      <td>1.0</td>\n",
              "      <td>93 94</td>\n",
              "      <td>0.0</td>\n",
              "      <td>94 94</td>\n",
              "    </tr>\n",
              "    <tr>\n",
              "      <th>254</th>\n",
              "      <td>0.0</td>\n",
              "      <td>inf</td>\n",
              "      <td>-</td>\n",
              "      <td>1.0</td>\n",
              "      <td>102 103</td>\n",
              "      <td>0.0</td>\n",
              "      <td>103 103</td>\n",
              "    </tr>\n",
              "    <tr>\n",
              "      <th>354</th>\n",
              "      <td>0.0</td>\n",
              "      <td>1.0</td>\n",
              "      <td>120 121</td>\n",
              "      <td>6.0</td>\n",
              "      <td>121 127</td>\n",
              "      <td>0.0</td>\n",
              "      <td>127 127</td>\n",
              "    </tr>\n",
              "    <tr>\n",
              "      <th>356</th>\n",
              "      <td>0.0</td>\n",
              "      <td>0.0</td>\n",
              "      <td>127 127</td>\n",
              "      <td>inf</td>\n",
              "      <td>-</td>\n",
              "      <td>inf</td>\n",
              "      <td>-</td>\n",
              "    </tr>\n",
              "    <tr>\n",
              "      <th>454</th>\n",
              "      <td>0.0</td>\n",
              "      <td>inf</td>\n",
              "      <td>-</td>\n",
              "      <td>inf</td>\n",
              "      <td>-</td>\n",
              "      <td>0.0</td>\n",
              "      <td>149 149</td>\n",
              "    </tr>\n",
              "    <tr>\n",
              "      <th>458</th>\n",
              "      <td>0.0</td>\n",
              "      <td>inf</td>\n",
              "      <td>-</td>\n",
              "      <td>1.0</td>\n",
              "      <td>153 154</td>\n",
              "      <td>0.0</td>\n",
              "      <td>154 154</td>\n",
              "    </tr>\n",
              "    <tr>\n",
              "      <th>460</th>\n",
              "      <td>0.0</td>\n",
              "      <td>0.0</td>\n",
              "      <td>156 156</td>\n",
              "      <td>2.0</td>\n",
              "      <td>156 158</td>\n",
              "      <td>inf</td>\n",
              "      <td>-</td>\n",
              "    </tr>\n",
              "    <tr>\n",
              "      <th>464</th>\n",
              "      <td>0.0</td>\n",
              "      <td>0.0</td>\n",
              "      <td>162 162</td>\n",
              "      <td>1.0</td>\n",
              "      <td>162 163</td>\n",
              "      <td>inf</td>\n",
              "      <td>-</td>\n",
              "    </tr>\n",
              "    <tr>\n",
              "      <th>468</th>\n",
              "      <td>0.0</td>\n",
              "      <td>0.0</td>\n",
              "      <td>167 167</td>\n",
              "      <td>1.0</td>\n",
              "      <td>167 168</td>\n",
              "      <td>inf</td>\n",
              "      <td>-</td>\n",
              "    </tr>\n",
              "    <tr>\n",
              "      <th>472</th>\n",
              "      <td>0.0</td>\n",
              "      <td>0.0</td>\n",
              "      <td>174 174</td>\n",
              "      <td>3.0</td>\n",
              "      <td>174 177</td>\n",
              "      <td>inf</td>\n",
              "      <td>-</td>\n",
              "    </tr>\n",
              "    <tr>\n",
              "      <th>474</th>\n",
              "      <td>0.0</td>\n",
              "      <td>0.0</td>\n",
              "      <td>179 179</td>\n",
              "      <td>2.0</td>\n",
              "      <td>179 181</td>\n",
              "      <td>inf</td>\n",
              "      <td>-</td>\n",
              "    </tr>\n",
              "    <tr>\n",
              "      <th>572</th>\n",
              "      <td>0.0</td>\n",
              "      <td>inf</td>\n",
              "      <td>-</td>\n",
              "      <td>3.0</td>\n",
              "      <td>193 196</td>\n",
              "      <td>0.0</td>\n",
              "      <td>196 196</td>\n",
              "    </tr>\n",
              "    <tr>\n",
              "      <th>582</th>\n",
              "      <td>0.0</td>\n",
              "      <td>inf</td>\n",
              "      <td>-</td>\n",
              "      <td>1.0</td>\n",
              "      <td>211 212</td>\n",
              "      <td>0.0</td>\n",
              "      <td>212 212</td>\n",
              "    </tr>\n",
              "    <tr>\n",
              "      <th>586</th>\n",
              "      <td>0.0</td>\n",
              "      <td>inf</td>\n",
              "      <td>-</td>\n",
              "      <td>1.0</td>\n",
              "      <td>217 218</td>\n",
              "      <td>0.0</td>\n",
              "      <td>218 218</td>\n",
              "    </tr>\n",
              "    <tr>\n",
              "      <th>596</th>\n",
              "      <td>0.0</td>\n",
              "      <td>0.0</td>\n",
              "      <td>242 242</td>\n",
              "      <td>1.0</td>\n",
              "      <td>242 243</td>\n",
              "      <td>inf</td>\n",
              "      <td>-</td>\n",
              "    </tr>\n",
              "    <tr>\n",
              "      <th>600</th>\n",
              "      <td>0.0</td>\n",
              "      <td>0.0</td>\n",
              "      <td>249 249</td>\n",
              "      <td>2.0</td>\n",
              "      <td>249 251</td>\n",
              "      <td>inf</td>\n",
              "      <td>-</td>\n",
              "    </tr>\n",
              "    <tr>\n",
              "      <th>602</th>\n",
              "      <td>0.0</td>\n",
              "      <td>inf</td>\n",
              "      <td>-</td>\n",
              "      <td>3.0</td>\n",
              "      <td>251 254</td>\n",
              "      <td>0.0</td>\n",
              "      <td>254 254</td>\n",
              "    </tr>\n",
              "    <tr>\n",
              "      <th>604</th>\n",
              "      <td>0.0</td>\n",
              "      <td>0.0</td>\n",
              "      <td>256 256</td>\n",
              "      <td>2.0</td>\n",
              "      <td>256 258</td>\n",
              "      <td>inf</td>\n",
              "      <td>-</td>\n",
              "    </tr>\n",
              "    <tr>\n",
              "      <th>612</th>\n",
              "      <td>0.0</td>\n",
              "      <td>inf</td>\n",
              "      <td>-</td>\n",
              "      <td>inf</td>\n",
              "      <td>-</td>\n",
              "      <td>0.0</td>\n",
              "      <td>277 277</td>\n",
              "    </tr>\n",
              "    <tr>\n",
              "      <th>614</th>\n",
              "      <td>0.0</td>\n",
              "      <td>0.0</td>\n",
              "      <td>280 280</td>\n",
              "      <td>1.0</td>\n",
              "      <td>280 281</td>\n",
              "      <td>inf</td>\n",
              "      <td>-</td>\n",
              "    </tr>\n",
              "    <tr>\n",
              "      <th>620</th>\n",
              "      <td>0.0</td>\n",
              "      <td>inf</td>\n",
              "      <td>-</td>\n",
              "      <td>inf</td>\n",
              "      <td>-</td>\n",
              "      <td>0.0</td>\n",
              "      <td>292 292</td>\n",
              "    </tr>\n",
              "    <tr>\n",
              "      <th>634</th>\n",
              "      <td>0.0</td>\n",
              "      <td>inf</td>\n",
              "      <td>-</td>\n",
              "      <td>1.0</td>\n",
              "      <td>323 324</td>\n",
              "      <td>0.0</td>\n",
              "      <td>324 324</td>\n",
              "    </tr>\n",
              "    <tr>\n",
              "      <th>824</th>\n",
              "      <td>0.0</td>\n",
              "      <td>inf</td>\n",
              "      <td>-</td>\n",
              "      <td>1.0</td>\n",
              "      <td>352 353</td>\n",
              "      <td>0.0</td>\n",
              "      <td>353 353</td>\n",
              "    </tr>\n",
              "    <tr>\n",
              "      <th>832</th>\n",
              "      <td>0.0</td>\n",
              "      <td>inf</td>\n",
              "      <td>-</td>\n",
              "      <td>1.0</td>\n",
              "      <td>362 363</td>\n",
              "      <td>0.0</td>\n",
              "      <td>363 363</td>\n",
              "    </tr>\n",
              "    <tr>\n",
              "      <th>834</th>\n",
              "      <td>0.0</td>\n",
              "      <td>inf</td>\n",
              "      <td>-</td>\n",
              "      <td>1.0</td>\n",
              "      <td>365 366</td>\n",
              "      <td>0.0</td>\n",
              "      <td>366 366</td>\n",
              "    </tr>\n",
              "    <tr>\n",
              "      <th>836</th>\n",
              "      <td>0.0</td>\n",
              "      <td>0.0</td>\n",
              "      <td>369 369</td>\n",
              "      <td>1.0</td>\n",
              "      <td>369 370</td>\n",
              "      <td>inf</td>\n",
              "      <td>-</td>\n",
              "    </tr>\n",
              "    <tr>\n",
              "      <th>842</th>\n",
              "      <td>0.0</td>\n",
              "      <td>0.0</td>\n",
              "      <td>383 383</td>\n",
              "      <td>inf</td>\n",
              "      <td>-</td>\n",
              "      <td>inf</td>\n",
              "      <td>-</td>\n",
              "    </tr>\n",
              "    <tr>\n",
              "      <th>846</th>\n",
              "      <td>0.0</td>\n",
              "      <td>0.0</td>\n",
              "      <td>389 389</td>\n",
              "      <td>1.0</td>\n",
              "      <td>389 390</td>\n",
              "      <td>inf</td>\n",
              "      <td>-</td>\n",
              "    </tr>\n",
              "    <tr>\n",
              "      <th>848</th>\n",
              "      <td>0.0</td>\n",
              "      <td>0.0</td>\n",
              "      <td>392 392</td>\n",
              "      <td>1.0</td>\n",
              "      <td>392 393</td>\n",
              "      <td>inf</td>\n",
              "      <td>-</td>\n",
              "    </tr>\n",
              "    <tr>\n",
              "      <th>850</th>\n",
              "      <td>0.0</td>\n",
              "      <td>inf</td>\n",
              "      <td>-</td>\n",
              "      <td>inf</td>\n",
              "      <td>-</td>\n",
              "      <td>0.0</td>\n",
              "      <td>398 398</td>\n",
              "    </tr>\n",
              "    <tr>\n",
              "      <th>852</th>\n",
              "      <td>0.0</td>\n",
              "      <td>inf</td>\n",
              "      <td>-</td>\n",
              "      <td>inf</td>\n",
              "      <td>-</td>\n",
              "      <td>0.0</td>\n",
              "      <td>401 401</td>\n",
              "    </tr>\n",
              "    <tr>\n",
              "      <th>856</th>\n",
              "      <td>0.0</td>\n",
              "      <td>0.0</td>\n",
              "      <td>405 405</td>\n",
              "      <td>1.0</td>\n",
              "      <td>405 406</td>\n",
              "      <td>inf</td>\n",
              "      <td>-</td>\n",
              "    </tr>\n",
              "    <tr>\n",
              "      <th>860</th>\n",
              "      <td>0.0</td>\n",
              "      <td>0.0</td>\n",
              "      <td>410 410</td>\n",
              "      <td>3.0</td>\n",
              "      <td>410 413</td>\n",
              "      <td>inf</td>\n",
              "      <td>-</td>\n",
              "    </tr>\n",
              "    <tr>\n",
              "      <th>866</th>\n",
              "      <td>0.0</td>\n",
              "      <td>inf</td>\n",
              "      <td>-</td>\n",
              "      <td>3.0</td>\n",
              "      <td>431 434</td>\n",
              "      <td>0.0</td>\n",
              "      <td>434 434</td>\n",
              "    </tr>\n",
              "    <tr>\n",
              "      <th>868</th>\n",
              "      <td>0.0</td>\n",
              "      <td>0.0</td>\n",
              "      <td>443 443</td>\n",
              "      <td>2.0</td>\n",
              "      <td>443 445</td>\n",
              "      <td>5.0</td>\n",
              "      <td>445 450</td>\n",
              "    </tr>\n",
              "    <tr>\n",
              "      <th>962</th>\n",
              "      <td>0.0</td>\n",
              "      <td>0.0</td>\n",
              "      <td>467 467</td>\n",
              "      <td>1.0</td>\n",
              "      <td>467 468</td>\n",
              "      <td>inf</td>\n",
              "      <td>-</td>\n",
              "    </tr>\n",
              "    <tr>\n",
              "      <th>966</th>\n",
              "      <td>0.0</td>\n",
              "      <td>inf</td>\n",
              "      <td>-</td>\n",
              "      <td>1.0</td>\n",
              "      <td>477 478</td>\n",
              "      <td>0.0</td>\n",
              "      <td>478 478</td>\n",
              "    </tr>\n",
              "    <tr>\n",
              "      <th>970</th>\n",
              "      <td>0.0</td>\n",
              "      <td>0.0</td>\n",
              "      <td>484 484</td>\n",
              "      <td>2.0</td>\n",
              "      <td>484 486</td>\n",
              "      <td>inf</td>\n",
              "      <td>-</td>\n",
              "    </tr>\n",
              "    <tr>\n",
              "      <th>974</th>\n",
              "      <td>0.0</td>\n",
              "      <td>0.0</td>\n",
              "      <td>490 490</td>\n",
              "      <td>1.0</td>\n",
              "      <td>490 491</td>\n",
              "      <td>inf</td>\n",
              "      <td>-</td>\n",
              "    </tr>\n",
              "    <tr>\n",
              "      <th>978</th>\n",
              "      <td>0.0</td>\n",
              "      <td>inf</td>\n",
              "      <td>-</td>\n",
              "      <td>inf</td>\n",
              "      <td>-</td>\n",
              "      <td>0.0</td>\n",
              "      <td>497 497</td>\n",
              "    </tr>\n",
              "    <tr>\n",
              "      <th>980</th>\n",
              "      <td>0.0</td>\n",
              "      <td>0.0</td>\n",
              "      <td>498 498</td>\n",
              "      <td>1.0</td>\n",
              "      <td>498 499</td>\n",
              "      <td>inf</td>\n",
              "      <td>-</td>\n",
              "    </tr>\n",
              "  </tbody>\n",
              "</table>\n",
              "</div>"
            ],
            "text/plain": [
              "     min_distancia  d_izq Puntos_izquierda  ...  Puntos_frontera d_dr  Puntos_derecha\n",
              "2              0.0    1.0              7 8  ...             8 10  0.0           10 10\n",
              "4              0.0    0.0            11 11  ...               -   inf              - \n",
              "6              0.0    0.0            13 13  ...            13 14  inf              - \n",
              "12             0.0    0.0            23 23  ...            23 24  inf              - \n",
              "16             0.0    0.0            27 27  ...            27 28  inf              - \n",
              "18             0.0    inf               -   ...               -   0.0           30 30\n",
              "22             0.0    0.0            33 33  ...            33 34  inf              - \n",
              "24             0.0    inf               -   ...            34 35  0.0           35 35\n",
              "32             0.0    0.0            44 44  ...            44 45  inf              - \n",
              "126            0.0    0.0            47 47  ...               -   inf              - \n",
              "234            0.0    0.0            73 73  ...            73 75  inf              - \n",
              "236            0.0    0.0            77 77  ...               -   inf              - \n",
              "240            0.0    0.0            85 85  ...            85 86  inf              - \n",
              "246            0.0    0.0            93 93  ...            93 94  0.0           94 94\n",
              "254            0.0    inf               -   ...          102 103  0.0         103 103\n",
              "354            0.0    1.0          120 121  ...          121 127  0.0         127 127\n",
              "356            0.0    0.0          127 127  ...               -   inf              - \n",
              "454            0.0    inf               -   ...               -   0.0         149 149\n",
              "458            0.0    inf               -   ...          153 154  0.0         154 154\n",
              "460            0.0    0.0          156 156  ...          156 158  inf              - \n",
              "464            0.0    0.0          162 162  ...          162 163  inf              - \n",
              "468            0.0    0.0          167 167  ...          167 168  inf              - \n",
              "472            0.0    0.0          174 174  ...          174 177  inf              - \n",
              "474            0.0    0.0          179 179  ...          179 181  inf              - \n",
              "572            0.0    inf               -   ...          193 196  0.0         196 196\n",
              "582            0.0    inf               -   ...          211 212  0.0         212 212\n",
              "586            0.0    inf               -   ...          217 218  0.0         218 218\n",
              "596            0.0    0.0          242 242  ...          242 243  inf              - \n",
              "600            0.0    0.0          249 249  ...          249 251  inf              - \n",
              "602            0.0    inf               -   ...          251 254  0.0         254 254\n",
              "604            0.0    0.0          256 256  ...          256 258  inf              - \n",
              "612            0.0    inf               -   ...               -   0.0         277 277\n",
              "614            0.0    0.0          280 280  ...          280 281  inf              - \n",
              "620            0.0    inf               -   ...               -   0.0         292 292\n",
              "634            0.0    inf               -   ...          323 324  0.0         324 324\n",
              "824            0.0    inf               -   ...          352 353  0.0         353 353\n",
              "832            0.0    inf               -   ...          362 363  0.0         363 363\n",
              "834            0.0    inf               -   ...          365 366  0.0         366 366\n",
              "836            0.0    0.0          369 369  ...          369 370  inf              - \n",
              "842            0.0    0.0          383 383  ...               -   inf              - \n",
              "846            0.0    0.0          389 389  ...          389 390  inf              - \n",
              "848            0.0    0.0          392 392  ...          392 393  inf              - \n",
              "850            0.0    inf               -   ...               -   0.0         398 398\n",
              "852            0.0    inf               -   ...               -   0.0         401 401\n",
              "856            0.0    0.0          405 405  ...          405 406  inf              - \n",
              "860            0.0    0.0          410 410  ...          410 413  inf              - \n",
              "866            0.0    inf               -   ...          431 434  0.0         434 434\n",
              "868            0.0    0.0          443 443  ...          443 445  5.0         445 450\n",
              "962            0.0    0.0          467 467  ...          467 468  inf              - \n",
              "966            0.0    inf               -   ...          477 478  0.0         478 478\n",
              "970            0.0    0.0          484 484  ...          484 486  inf              - \n",
              "974            0.0    0.0          490 490  ...          490 491  inf              - \n",
              "978            0.0    inf               -   ...               -   0.0         497 497\n",
              "980            0.0    0.0          498 498  ...          498 499  inf              - \n",
              "\n",
              "[54 rows x 7 columns]"
            ]
          },
          "metadata": {
            "tags": []
          },
          "execution_count": 23
        }
      ]
    },
    {
      "cell_type": "markdown",
      "metadata": {
        "id": "2e49c8JTjaE1",
        "colab_type": "text"
      },
      "source": [
        "Pasos del problema de las mínimas distancias:\n",
        "\n",
        "- En el caso de 1 dimensión siempre que queramos en ambos lados de 0 a 2 puntos cada vez que dividamos el rango de valores a la mitad hay 13 diferentes opciones para poder calcular las distancias las cuales todas ellas estan en la función *distancias*.\n",
        "- Una vez dividimos el rango de los valores con la función *divide_y_venceras* se calculan distancias y todas ellas se añaden al DataFrame df el cual contendrá todas las distancias de los subgrupos tanto de la parte izquierda, de la parte de la frontera y de la parte derecha.\n",
        "- En la función *divide_y_venceras* se utiliza recursividad enfocada en la técnica de divide y vencerás. Lo que hace es ir dividiendo los rangos hasta que haya en cada lado de 0 a 2 valores y cuando así sea, devuelve las distancias. \n",
        "- Una vez añadidas todas las distancias a df se analizan las mínimas distancias y sus respectivos puntos. \n",
        "- Crear una df da la ventaja de visualitzar bien todas las distancias de los subgrupos creados."
      ]
    },
    {
      "cell_type": "markdown",
      "metadata": {
        "id": "3VHLxCTglnm4",
        "colab_type": "text"
      },
      "source": [
        "En el caso que se quisiera hace de 2d y 3d por la técnica utilitzada habría que añadir nuevas combinaciones posibles una vez que se tengan de 0 a 2 puntos en un rango."
      ]
    },
    {
      "cell_type": "code",
      "metadata": {
        "id": "7VHUb-cWjb9D",
        "colab_type": "code",
        "colab": {}
      },
      "source": [
        ""
      ],
      "execution_count": 0,
      "outputs": []
    }
  ]
}