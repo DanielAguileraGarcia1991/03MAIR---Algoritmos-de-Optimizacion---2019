{
  "nbformat": 4,
  "nbformat_minor": 0,
  "metadata": {
    "colab": {
      "name": "Daniel Aguilera Garcia-AG1.ipynb",
      "provenance": [],
      "collapsed_sections": [],
      "include_colab_link": true
    },
    "kernelspec": {
      "name": "python3",
      "display_name": "Python 3"
    }
  },
  "cells": [
    {
      "cell_type": "markdown",
      "metadata": {
        "id": "view-in-github",
        "colab_type": "text"
      },
      "source": [
        "<a href=\"https://colab.research.google.com/github/DanielAguileraGarcia1991/03MAIR---Algoritmos-de-Optimizacion---2019/blob/master/Daniel_Aguilera_Garcia_AG1.ipynb\" target=\"_parent\"><img src=\"https://colab.research.google.com/assets/colab-badge.svg\" alt=\"Open In Colab\"/></a>"
      ]
    },
    {
      "cell_type": "markdown",
      "metadata": {
        "id": "7EGOHf-zWIO6",
        "colab_type": "text"
      },
      "source": [
        "AG1. Algoritmos de optimización \n",
        "\n",
        "Daniel Aguilera\n",
        "\n",
        "https://colab.research.google.com/drive/1DzoOvCA0qY7aehnqM-k2VC2JqwEdTWv1"
      ]
    },
    {
      "cell_type": "markdown",
      "metadata": {
        "id": "qLYLN3jM_Ti5",
        "colab_type": "text"
      },
      "source": [
        "## Sucesión de Fibonacci con Recursividad"
      ]
    },
    {
      "cell_type": "code",
      "metadata": {
        "id": "iDzLr1w4_RM1",
        "colab_type": "code",
        "outputId": "9b1b3380-6090-4e11-9efe-a366a26b5a02",
        "colab": {
          "base_uri": "https://localhost:8080/",
          "height": 839
        }
      },
      "source": [
        "%%time\n",
        "def recursividad_fibo(n):\n",
        "  if n<=1:\n",
        "    return n\n",
        "  else:\n",
        "    return (recursividad_fibo(n-1)+recursividad_fibo(n-2))\n",
        "\n",
        "nterminos = int(input(\"Introduce la n-essima deseada? \"))  \n",
        "\n",
        " \n",
        "print(\"Secuencia de Fibonacci:\")  \n",
        "\n",
        "for i in range(1,nterminos+1):  \n",
        "    print(recursividad_fibo(i))"
      ],
      "execution_count": 0,
      "outputs": [
        {
          "output_type": "stream",
          "text": [
            "Introduce la n-essima deseada? 40\n",
            "Secuencia de Fibonacci:\n",
            "1\n",
            "1\n",
            "2\n",
            "3\n",
            "5\n",
            "8\n",
            "13\n",
            "21\n",
            "34\n",
            "55\n",
            "89\n",
            "144\n",
            "233\n",
            "377\n",
            "610\n",
            "987\n",
            "1597\n",
            "2584\n",
            "4181\n",
            "6765\n",
            "10946\n",
            "17711\n",
            "28657\n",
            "46368\n",
            "75025\n",
            "121393\n",
            "196418\n",
            "317811\n",
            "514229\n",
            "832040\n",
            "1346269\n",
            "2178309\n",
            "3524578\n",
            "5702887\n",
            "9227465\n",
            "14930352\n",
            "24157817\n",
            "39088169\n",
            "63245986\n",
            "102334155\n",
            "CPU times: user 1min 30s, sys: 22 ms, total: 1min 30s\n",
            "Wall time: 1min 36s\n"
          ],
          "name": "stdout"
        }
      ]
    },
    {
      "cell_type": "code",
      "metadata": {
        "id": "mVdNUrqqALjv",
        "colab_type": "code",
        "outputId": "18ed6cf8-d432-420c-ef1c-707d7302ad1a",
        "colab": {
          "base_uri": "https://localhost:8080/",
          "height": 764
        }
      },
      "source": [
        "40#Para ver el número de llamadas que se le hace a la funcion de recursividad_fibo pongamos un print ('fibonacci: n ')\n",
        "def recursividad_fibo(n):\n",
        "  print('fibonacci: '+str(n))\n",
        "  if n<=1:\n",
        "    return n\n",
        "  else:\n",
        "    return (recursividad_fibo(n-1)+recursividad_fibo(n-2))\n",
        "\n",
        "nterminos = int(input(\"Introduce la n-essima deseada? \"))  \n",
        "\n",
        " \n",
        "print(\"Secuencia de Fibonacci:\")  \n",
        "\n",
        "for i in range(1,nterminos+1):  \n",
        "    print(recursividad_fibo(i)) "
      ],
      "execution_count": 0,
      "outputs": [
        {
          "output_type": "stream",
          "text": [
            "Introduce la n-essima deseada? 5\n",
            "Secuencia de Fibonacci:\n",
            "fibonacci: 1\n",
            "1\n",
            "fibonacci: 2\n",
            "fibonacci: 1\n",
            "fibonacci: 0\n",
            "1\n",
            "fibonacci: 3\n",
            "fibonacci: 2\n",
            "fibonacci: 1\n",
            "fibonacci: 0\n",
            "fibonacci: 1\n",
            "2\n",
            "fibonacci: 4\n",
            "fibonacci: 3\n",
            "fibonacci: 2\n",
            "fibonacci: 1\n",
            "fibonacci: 0\n",
            "fibonacci: 1\n",
            "fibonacci: 2\n",
            "fibonacci: 1\n",
            "fibonacci: 0\n",
            "3\n",
            "fibonacci: 5\n",
            "fibonacci: 4\n",
            "fibonacci: 3\n",
            "fibonacci: 2\n",
            "fibonacci: 1\n",
            "fibonacci: 0\n",
            "fibonacci: 1\n",
            "fibonacci: 2\n",
            "fibonacci: 1\n",
            "fibonacci: 0\n",
            "fibonacci: 3\n",
            "fibonacci: 2\n",
            "fibonacci: 1\n",
            "fibonacci: 0\n",
            "fibonacci: 1\n",
            "5\n"
          ],
          "name": "stdout"
        }
      ]
    },
    {
      "cell_type": "markdown",
      "metadata": {
        "id": "YAp3udcwSCfq",
        "colab_type": "text"
      },
      "source": [
        "Como se puede apreciar en la anterior cela, la función de Fibonacci con recursividad llama a la misma función siempre que la n sea menor o igual a 1. Es cuando tiene ese valor que la función devuelve un valor el cual se sumararà con anteriores valores y darà un resultado de la serie."
      ]
    },
    {
      "cell_type": "markdown",
      "metadata": {
        "id": "i-waToWEUSPH",
        "colab_type": "text"
      },
      "source": [
        "## Sucesión de Fibonacci sin recursividad"
      ]
    },
    {
      "cell_type": "code",
      "metadata": {
        "id": "B0FMucctURFF",
        "colab_type": "code",
        "colab": {}
      },
      "source": [
        "def sucesion_Fibonacci(n):\n",
        "  if n==1:\n",
        "    lista=[1]\n",
        "  elif n==2:\n",
        "    lista=[1,1]\n",
        "  elif n>2:\n",
        "    lista=[1,1]\n",
        "    for i in range (n-2):\n",
        "      lista.append(lista[-1]+lista[-2])\n",
        "  return lista"
      ],
      "execution_count": 0,
      "outputs": []
    },
    {
      "cell_type": "code",
      "metadata": {
        "id": "i_bQtrIOUp2F",
        "colab_type": "code",
        "outputId": "33b4cfac-3f71-4b78-b692-38351e4ad562",
        "colab": {
          "base_uri": "https://localhost:8080/",
          "height": 802
        }
      },
      "source": [
        "%%time\n",
        "sucesion_Fibonacci(40)"
      ],
      "execution_count": 0,
      "outputs": [
        {
          "output_type": "stream",
          "text": [
            "CPU times: user 16 µs, sys: 1e+03 ns, total: 17 µs\n",
            "Wall time: 20.3 µs\n"
          ],
          "name": "stdout"
        },
        {
          "output_type": "execute_result",
          "data": {
            "text/plain": [
              "[1,\n",
              " 1,\n",
              " 2,\n",
              " 3,\n",
              " 5,\n",
              " 8,\n",
              " 13,\n",
              " 21,\n",
              " 34,\n",
              " 55,\n",
              " 89,\n",
              " 144,\n",
              " 233,\n",
              " 377,\n",
              " 610,\n",
              " 987,\n",
              " 1597,\n",
              " 2584,\n",
              " 4181,\n",
              " 6765,\n",
              " 10946,\n",
              " 17711,\n",
              " 28657,\n",
              " 46368,\n",
              " 75025,\n",
              " 121393,\n",
              " 196418,\n",
              " 317811,\n",
              " 514229,\n",
              " 832040,\n",
              " 1346269,\n",
              " 2178309,\n",
              " 3524578,\n",
              " 5702887,\n",
              " 9227465,\n",
              " 14930352,\n",
              " 24157817,\n",
              " 39088169,\n",
              " 63245986,\n",
              " 102334155]"
            ]
          },
          "metadata": {
            "tags": []
          },
          "execution_count": 12
        }
      ]
    },
    {
      "cell_type": "markdown",
      "metadata": {
        "id": "riJKjlYESgHw",
        "colab_type": "text"
      },
      "source": [
        "Vemos la diferencia de tiempo entre con recursividad y sin. La complejidad con recursión es mucho más elevada que sin recursividad."
      ]
    },
    {
      "cell_type": "markdown",
      "metadata": {
        "id": "vyqG47Ty13bR",
        "colab_type": "text"
      },
      "source": [
        "## Juego de las tres torres"
      ]
    },
    {
      "cell_type": "code",
      "metadata": {
        "id": "X-rnUFirWNH8",
        "colab_type": "code",
        "outputId": "6769aa5e-7ab8-4ece-9dce-ef158028955e",
        "colab": {
          "base_uri": "https://localhost:8080/",
          "height": 144
        }
      },
      "source": [
        "def torres(N,desde,hasta):\n",
        "  if N==1:\n",
        "    print(\"lleva la ficha desde\", desde, \"hasta\", hasta)\n",
        "  \n",
        "  else:\n",
        "    torres(N-1, desde, 6-desde-hasta)\n",
        "    print(\"lleva la ficha desde\", desde, \"hasta\", hasta)\n",
        "    torres(N-1, 6-desde-hasta, hasta)\n",
        "\n",
        "torres(3,1,3)"
      ],
      "execution_count": 0,
      "outputs": [
        {
          "output_type": "stream",
          "text": [
            "lleva la ficha desde 1 hasta 3\n",
            "lleva la ficha desde 1 hasta 2\n",
            "lleva la ficha desde 3 hasta 2\n",
            "lleva la ficha desde 1 hasta 3\n",
            "lleva la ficha desde 2 hasta 1\n",
            "lleva la ficha desde 2 hasta 3\n",
            "lleva la ficha desde 1 hasta 3\n"
          ],
          "name": "stdout"
        }
      ]
    },
    {
      "cell_type": "markdown",
      "metadata": {
        "id": "RIiXSqRXZG62",
        "colab_type": "text"
      },
      "source": [
        "## Problema de las 4 reinas"
      ]
    },
    {
      "cell_type": "code",
      "metadata": {
        "id": "GhNYc1_xXp5Q",
        "colab_type": "code",
        "colab": {}
      },
      "source": [
        "#Backtraking: cuando la solución actual no es solución se vuelve atrás para rectificar y intentar buscar otra solución. "
      ],
      "execution_count": 0,
      "outputs": []
    },
    {
      "cell_type": "code",
      "metadata": {
        "id": "ZiBKoTqYjBvB",
        "colab_type": "code",
        "colab": {}
      },
      "source": [
        "import numpy as np"
      ],
      "execution_count": 0,
      "outputs": []
    },
    {
      "cell_type": "code",
      "metadata": {
        "id": "TgqBZZ2Ui5VD",
        "colab_type": "code",
        "colab": {}
      },
      "source": [
        "def backtracking(tupla,N):\n",
        "  count=0\n",
        "  for number in tupla:\n",
        "    if number>N:\n",
        "      count+=1\n",
        "  \n",
        "  if count>0:\n",
        "    return True\n",
        "  else:\n",
        "    return False\n",
        "  "
      ],
      "execution_count": 0,
      "outputs": []
    },
    {
      "cell_type": "code",
      "metadata": {
        "id": "WKgWZRw7b7e8",
        "colab_type": "code",
        "colab": {}
      },
      "source": [
        "def reina_range(tupla,N):\n",
        "  count=0\n",
        "  for number in tupla:\n",
        "    if number>N or number<1 :\n",
        "      count+=1\n",
        "  return N-count"
      ],
      "execution_count": 0,
      "outputs": []
    },
    {
      "cell_type": "code",
      "metadata": {
        "id": "sSZU2FlfZFUC",
        "colab_type": "code",
        "colab": {}
      },
      "source": [
        "def reina_amenazada(tupla,N):\n",
        "  count=0\n",
        "  reina_rango = reina_range(tupla,N)\n",
        "  if reina_rango>1:\n",
        "    if len(np.unique(tupla[:reina_rango]))<reina_rango:\n",
        "      return False\n",
        "    else:\n",
        "      for i in range(reina_rango-1):\n",
        "        for j in range(i+1,reina_rango):\n",
        "          if abs(i-j)==abs(tupla[i]-tupla[j]):\n",
        "            count+=1\n",
        "\n",
        "    if count==0:\n",
        "      return True\n",
        "    else:\n",
        "      return False\n",
        "\n",
        " \n",
        "  else:\n",
        "    return True"
      ],
      "execution_count": 0,
      "outputs": []
    },
    {
      "cell_type": "code",
      "metadata": {
        "id": "YRHYJM6GaE-Y",
        "colab_type": "code",
        "colab": {}
      },
      "source": [
        "def solucion(tupla,N):\n",
        "  if list(np.unique(tupla))==list(np.arange(1,N+1)) and reina_amenazada(tupla,N):\n",
        "    return True\n",
        "  else:\n",
        "    return False"
      ],
      "execution_count": 0,
      "outputs": []
    },
    {
      "cell_type": "code",
      "metadata": {
        "id": "EoZ1lKpkaIWw",
        "colab_type": "code",
        "colab": {}
      },
      "source": [
        "def reinas(N,tupla,k,back_track):\n",
        "  while (k<N):\n",
        "    if solucion(tupla,N):\n",
        "      print(tupla)\n",
        "      tupla[0]+=1\n",
        "      tupla[1:]=list(np.zeros(N-1, dtype=int))\n",
        "      k=1\n",
        "    if tupla[k]==0:\n",
        "      tupla[k]+=1\n",
        "    elif (reina_amenazada(tupla,N)==False or back_track==True):\n",
        "      tupla[k]+=1\n",
        "      back_track=False\n",
        "    elif backtracking(tupla,N) == True:\n",
        "      if tupla[0]>N:\n",
        "        return ('Ya se han encontrado todas las soluciones')\n",
        "      tupla[k]=0\n",
        "      back_track=True\n",
        "      k-=1\n",
        "      reinas(N,tupla,k,back_track)\n",
        "    elif reina_amenazada(tupla,N)==True:\n",
        "      k+=1"
      ],
      "execution_count": 0,
      "outputs": []
    },
    {
      "cell_type": "code",
      "metadata": {
        "id": "_puIYRzuaJi0",
        "colab_type": "code",
        "outputId": "ae899045-e6fe-4422-b536-c6e7298c15fd",
        "colab": {
          "base_uri": "https://localhost:8080/",
          "height": 73
        }
      },
      "source": [
        "reinas(4,list((0,0,0,0)),0,False)"
      ],
      "execution_count": 0,
      "outputs": [
        {
          "output_type": "stream",
          "text": [
            "[2, 4, 1, 3]\n",
            "[3, 1, 4, 2]\n"
          ],
          "name": "stdout"
        },
        {
          "output_type": "execute_result",
          "data": {
            "text/plain": [
              "'Ya se han encontrado todas las soluciones'"
            ]
          },
          "metadata": {
            "tags": []
          },
          "execution_count": 24
        }
      ]
    },
    {
      "cell_type": "markdown",
      "metadata": {
        "id": "3LHoZdFN2KKx",
        "colab_type": "text"
      },
      "source": [
        "Observaciones:\n",
        "  - Se ha importado la librería numpy para tener la función np.unique()\n",
        "  - Se han creado 4 funciones a parte de la función principal: backtracking, reina_range, reina_amenazada y solucion. Todas ellas tienen como entrada la tupla en el momento actual.\n",
        "  - Función backtracking: cuando la reina sale fuera del tablero se activa esta función, se pasa a una fila anterior, el valor de la fila pasa a 0 y se desactiva cuando a la fila anterior se le suma 1. Cuando backtracking se actica la función principal reina se vuelve a llamar a si misma(recursividad).\n",
        "  - Función reina_range: esta función permite saber en que rango del tablero esta referida la tupla en el momento para definir si la reina está o no amenazada.\n",
        "  - Función reina_amenazada: True ninguna reina está amenazada y False lo contrario.\n",
        "  - Función solucion: permite saber si la tupla en todo momento es solución final o no. Cuando la función principal encuentra una solución, le suma 1 a la primera componente de la tupla y se intenta encontrar otra solución.\n",
        "  - La función principal reinas terminará cuando el valor de la primera fila salga del tablero y será entonces cuando ya se habrán encontrado todas las soluciones posibles."
      ]
    },
    {
      "cell_type": "markdown",
      "metadata": {
        "id": "MpDfX38T53S0",
        "colab_type": "text"
      },
      "source": [
        "# Encontrar los dos puntos más cercanos "
      ]
    },
    {
      "cell_type": "markdown",
      "metadata": {
        "id": "D5gibQLE6HYu",
        "colab_type": "text"
      },
      "source": [
        "## 1ro Fuerza bruta"
      ]
    },
    {
      "cell_type": "code",
      "metadata": {
        "id": "-5Kzm9lPwpZ5",
        "colab_type": "code",
        "colab": {}
      },
      "source": [
        "def ordenacion_burbuja(lista):\n",
        "  not_order=False\n",
        "  for i in range (len(lista)-1):\n",
        "    proximo=lista[i+1]\n",
        "    if lista[i]>proximo: \n",
        "      not_order=True\n",
        "      lista[i+1]=lista[i]\n",
        "      lista[i]=proximo\n",
        "  if not_order==True:\n",
        "    ordenacion_burbuja(lista)\n",
        "  return lista"
      ],
      "execution_count": 0,
      "outputs": []
    },
    {
      "cell_type": "code",
      "metadata": {
        "id": "_HTk3jHRxADf",
        "colab_type": "code",
        "colab": {}
      },
      "source": [
        "def dos_puntos(lista):\n",
        "  valor=0\n",
        "  for i in range(len(lista)-1):\n",
        "    diferencia = abs(lista[i]-lista[i+1])\n",
        "    if i==0:\n",
        "      valor = diferencia\n",
        "    elif diferencia <= valor:\n",
        "      valor = diferencia\n",
        "      añadir = True\n",
        "      puntos_cercanos = str(lista[i])+' '+str(lista[i+1])\n",
        "  return puntos_cercanos"
      ],
      "execution_count": 0,
      "outputs": []
    },
    {
      "cell_type": "code",
      "metadata": {
        "id": "tQx_4cI9R2WR",
        "colab_type": "code",
        "colab": {}
      },
      "source": [
        "def encontrar_los_dos_puntos_mas_cercacons(lista):\n",
        "  diferencia=[]\n",
        "  valores=[]\n",
        "  for i in range(len(lista)):\n",
        "    for j in range(i+1,len(lista)):\n",
        "      diferencia.append(abs(lista[i]-lista[j]))\n",
        "      valores.append(str(lista[i])+' '+str(lista[j]))\n",
        "  minimos=[]\n",
        "  for i in range(len(diferencia)):\n",
        "    if diferencia[i]==min(diferencia):\n",
        "      minimos.append(i)\n",
        "  puntos_mas_cercanos=[]\n",
        "  for index in minimos:\n",
        "    puntos_mas_cercanos.append(valores[index])\n",
        "\n",
        "  return puntos_mas_cercanos, len(valores)"
      ],
      "execution_count": 0,
      "outputs": []
    },
    {
      "cell_type": "code",
      "metadata": {
        "id": "6Cnv0Htt7D9c",
        "colab_type": "code",
        "outputId": "0bed921d-1aa3-497f-91ba-8e374601b574",
        "colab": {
          "base_uri": "https://localhost:8080/",
          "height": 395
        }
      },
      "source": [
        "%%time\n",
        "encontrar_los_dos_puntos_mas_cercacons(lista)"
      ],
      "execution_count": 4,
      "outputs": [
        {
          "output_type": "error",
          "ename": "NameError",
          "evalue": "ignored",
          "traceback": [
            "\u001b[0;31m---------------------------------------------------------------------------\u001b[0m",
            "\u001b[0;31mNameError\u001b[0m                                 Traceback (most recent call last)",
            "\u001b[0;32m<ipython-input-4-e2c4c452905e>\u001b[0m in \u001b[0;36m<module>\u001b[0;34m()\u001b[0m\n\u001b[0;32m----> 1\u001b[0;31m \u001b[0mget_ipython\u001b[0m\u001b[0;34m(\u001b[0m\u001b[0;34m)\u001b[0m\u001b[0;34m.\u001b[0m\u001b[0mrun_cell_magic\u001b[0m\u001b[0;34m(\u001b[0m\u001b[0;34m'time'\u001b[0m\u001b[0;34m,\u001b[0m \u001b[0;34m''\u001b[0m\u001b[0;34m,\u001b[0m \u001b[0;34m'encontrar_los_dos_puntos_mas_cercacons(lista)'\u001b[0m\u001b[0;34m)\u001b[0m\u001b[0;34m\u001b[0m\u001b[0;34m\u001b[0m\u001b[0m\n\u001b[0m",
            "\u001b[0;32m/usr/local/lib/python3.6/dist-packages/IPython/core/interactiveshell.py\u001b[0m in \u001b[0;36mrun_cell_magic\u001b[0;34m(self, magic_name, line, cell)\u001b[0m\n\u001b[1;32m   2115\u001b[0m             \u001b[0mmagic_arg_s\u001b[0m \u001b[0;34m=\u001b[0m \u001b[0mself\u001b[0m\u001b[0;34m.\u001b[0m\u001b[0mvar_expand\u001b[0m\u001b[0;34m(\u001b[0m\u001b[0mline\u001b[0m\u001b[0;34m,\u001b[0m \u001b[0mstack_depth\u001b[0m\u001b[0;34m)\u001b[0m\u001b[0;34m\u001b[0m\u001b[0;34m\u001b[0m\u001b[0m\n\u001b[1;32m   2116\u001b[0m             \u001b[0;32mwith\u001b[0m \u001b[0mself\u001b[0m\u001b[0;34m.\u001b[0m\u001b[0mbuiltin_trap\u001b[0m\u001b[0;34m:\u001b[0m\u001b[0;34m\u001b[0m\u001b[0;34m\u001b[0m\u001b[0m\n\u001b[0;32m-> 2117\u001b[0;31m                 \u001b[0mresult\u001b[0m \u001b[0;34m=\u001b[0m \u001b[0mfn\u001b[0m\u001b[0;34m(\u001b[0m\u001b[0mmagic_arg_s\u001b[0m\u001b[0;34m,\u001b[0m \u001b[0mcell\u001b[0m\u001b[0;34m)\u001b[0m\u001b[0;34m\u001b[0m\u001b[0;34m\u001b[0m\u001b[0m\n\u001b[0m\u001b[1;32m   2118\u001b[0m             \u001b[0;32mreturn\u001b[0m \u001b[0mresult\u001b[0m\u001b[0;34m\u001b[0m\u001b[0;34m\u001b[0m\u001b[0m\n\u001b[1;32m   2119\u001b[0m \u001b[0;34m\u001b[0m\u001b[0m\n",
            "\u001b[0;32m</usr/local/lib/python3.6/dist-packages/decorator.py:decorator-gen-60>\u001b[0m in \u001b[0;36mtime\u001b[0;34m(self, line, cell, local_ns)\u001b[0m\n",
            "\u001b[0;32m/usr/local/lib/python3.6/dist-packages/IPython/core/magic.py\u001b[0m in \u001b[0;36m<lambda>\u001b[0;34m(f, *a, **k)\u001b[0m\n\u001b[1;32m    186\u001b[0m     \u001b[0;31m# but it's overkill for just that one bit of state.\u001b[0m\u001b[0;34m\u001b[0m\u001b[0;34m\u001b[0m\u001b[0;34m\u001b[0m\u001b[0m\n\u001b[1;32m    187\u001b[0m     \u001b[0;32mdef\u001b[0m \u001b[0mmagic_deco\u001b[0m\u001b[0;34m(\u001b[0m\u001b[0marg\u001b[0m\u001b[0;34m)\u001b[0m\u001b[0;34m:\u001b[0m\u001b[0;34m\u001b[0m\u001b[0;34m\u001b[0m\u001b[0m\n\u001b[0;32m--> 188\u001b[0;31m         \u001b[0mcall\u001b[0m \u001b[0;34m=\u001b[0m \u001b[0;32mlambda\u001b[0m \u001b[0mf\u001b[0m\u001b[0;34m,\u001b[0m \u001b[0;34m*\u001b[0m\u001b[0ma\u001b[0m\u001b[0;34m,\u001b[0m \u001b[0;34m**\u001b[0m\u001b[0mk\u001b[0m\u001b[0;34m:\u001b[0m \u001b[0mf\u001b[0m\u001b[0;34m(\u001b[0m\u001b[0;34m*\u001b[0m\u001b[0ma\u001b[0m\u001b[0;34m,\u001b[0m \u001b[0;34m**\u001b[0m\u001b[0mk\u001b[0m\u001b[0;34m)\u001b[0m\u001b[0;34m\u001b[0m\u001b[0;34m\u001b[0m\u001b[0m\n\u001b[0m\u001b[1;32m    189\u001b[0m \u001b[0;34m\u001b[0m\u001b[0m\n\u001b[1;32m    190\u001b[0m         \u001b[0;32mif\u001b[0m \u001b[0mcallable\u001b[0m\u001b[0;34m(\u001b[0m\u001b[0marg\u001b[0m\u001b[0;34m)\u001b[0m\u001b[0;34m:\u001b[0m\u001b[0;34m\u001b[0m\u001b[0;34m\u001b[0m\u001b[0m\n",
            "\u001b[0;32m/usr/local/lib/python3.6/dist-packages/IPython/core/magics/execution.py\u001b[0m in \u001b[0;36mtime\u001b[0;34m(self, line, cell, local_ns)\u001b[0m\n\u001b[1;32m   1187\u001b[0m         \u001b[0;32mif\u001b[0m \u001b[0mmode\u001b[0m\u001b[0;34m==\u001b[0m\u001b[0;34m'eval'\u001b[0m\u001b[0;34m:\u001b[0m\u001b[0;34m\u001b[0m\u001b[0;34m\u001b[0m\u001b[0m\n\u001b[1;32m   1188\u001b[0m             \u001b[0mst\u001b[0m \u001b[0;34m=\u001b[0m \u001b[0mclock2\u001b[0m\u001b[0;34m(\u001b[0m\u001b[0;34m)\u001b[0m\u001b[0;34m\u001b[0m\u001b[0;34m\u001b[0m\u001b[0m\n\u001b[0;32m-> 1189\u001b[0;31m             \u001b[0mout\u001b[0m \u001b[0;34m=\u001b[0m \u001b[0meval\u001b[0m\u001b[0;34m(\u001b[0m\u001b[0mcode\u001b[0m\u001b[0;34m,\u001b[0m \u001b[0mglob\u001b[0m\u001b[0;34m,\u001b[0m \u001b[0mlocal_ns\u001b[0m\u001b[0;34m)\u001b[0m\u001b[0;34m\u001b[0m\u001b[0;34m\u001b[0m\u001b[0m\n\u001b[0m\u001b[1;32m   1190\u001b[0m             \u001b[0mend\u001b[0m \u001b[0;34m=\u001b[0m \u001b[0mclock2\u001b[0m\u001b[0;34m(\u001b[0m\u001b[0;34m)\u001b[0m\u001b[0;34m\u001b[0m\u001b[0;34m\u001b[0m\u001b[0m\n\u001b[1;32m   1191\u001b[0m         \u001b[0;32melse\u001b[0m\u001b[0;34m:\u001b[0m\u001b[0;34m\u001b[0m\u001b[0;34m\u001b[0m\u001b[0m\n",
            "\u001b[0;32m<timed eval>\u001b[0m in \u001b[0;36m<module>\u001b[0;34m()\u001b[0m\n",
            "\u001b[0;31mNameError\u001b[0m: name 'lista' is not defined"
          ]
        }
      ]
    },
    {
      "cell_type": "markdown",
      "metadata": {
        "id": "M_fDkoEiDvkI",
        "colab_type": "text"
      },
      "source": [
        "Como se puede comprovar por fuerza bruta primero se analizan todas las posibles soluciones y después se almacenan todas las soluciones(n(n-1)/2) que satisfazan los mínimos buscados partiendo de una lista 1D.\n",
        " \n",
        "La complejidad viene dada por O(n^2)"
      ]
    },
    {
      "cell_type": "markdown",
      "metadata": {
        "id": "WKnNLLy-QWrf",
        "colab_type": "text"
      },
      "source": [
        "## 2do Divide y vencerás"
      ]
    },
    {
      "cell_type": "code",
      "metadata": {
        "id": "oTSSIF_7qEPK",
        "colab_type": "code",
        "colab": {}
      },
      "source": [
        "import math\n",
        "import numpy as np\n",
        "import pandas as pd"
      ],
      "execution_count": 0,
      "outputs": []
    },
    {
      "cell_type": "code",
      "metadata": {
        "id": "x1l7hoTq5goM",
        "colab_type": "code",
        "outputId": "f6532b4e-7cdd-4606-b067-9ab1f61c7bc9",
        "colab": {
          "base_uri": "https://localhost:8080/",
          "height": 453
        }
      },
      "source": [
        "import random\n",
        "lista = [random.randrange(1, 500, 1) for i in range(300)]\n",
        "lista_sort=np.sort(lista)\n",
        "lista_sort "
      ],
      "execution_count": 7,
      "outputs": [
        {
          "output_type": "execute_result",
          "data": {
            "text/plain": [
              "array([  1,   2,   6,   6,   7,   9,  11,  12,  14,  14,  16,  19,  21,\n",
              "        22,  22,  23,  24,  28,  30,  31,  33,  37,  39,  41,  41,  44,\n",
              "        45,  45,  46,  47,  50,  51,  52,  52,  54,  54,  55,  57,  58,\n",
              "        64,  64,  65,  67,  67,  70,  73,  74,  74,  74,  75,  78,  78,\n",
              "        78,  79,  81,  82,  86,  88,  88,  89,  96,  99, 102, 103, 105,\n",
              "       105, 106, 108, 108, 108, 110, 112, 113, 114, 115, 116, 118, 118,\n",
              "       118, 120, 128, 129, 130, 131, 135, 137, 141, 141, 145, 147, 150,\n",
              "       152, 153, 153, 154, 154, 155, 158, 163, 164, 165, 168, 170, 171,\n",
              "       173, 173, 179, 179, 181, 182, 183, 186, 191, 192, 197, 197, 200,\n",
              "       202, 202, 203, 203, 204, 204, 204, 205, 207, 209, 209, 209, 211,\n",
              "       212, 214, 215, 215, 218, 218, 220, 221, 223, 224, 226, 226, 227,\n",
              "       228, 230, 233, 234, 237, 239, 241, 243, 244, 245, 245, 247, 248,\n",
              "       249, 252, 252, 255, 255, 256, 256, 263, 268, 273, 273, 279, 280,\n",
              "       283, 286, 287, 290, 291, 294, 297, 298, 298, 300, 302, 303, 304,\n",
              "       306, 307, 309, 311, 314, 315, 316, 316, 318, 321, 321, 322, 325,\n",
              "       325, 327, 328, 329, 331, 331, 332, 339, 340, 341, 341, 342, 343,\n",
              "       344, 345, 347, 349, 350, 351, 352, 355, 356, 357, 357, 360, 361,\n",
              "       362, 363, 367, 370, 370, 371, 373, 386, 388, 390, 390, 395, 399,\n",
              "       400, 402, 405, 408, 408, 408, 409, 411, 413, 413, 414, 419, 419,\n",
              "       422, 424, 429, 430, 432, 432, 433, 434, 436, 437, 438, 441, 441,\n",
              "       441, 442, 446, 447, 449, 451, 451, 452, 452, 454, 454, 455, 458,\n",
              "       459, 460, 461, 462, 462, 462, 464, 465, 466, 467, 468, 470, 474,\n",
              "       476, 477, 477, 484, 485, 487, 487, 489, 492, 494, 495, 497, 498,\n",
              "       498])"
            ]
          },
          "metadata": {
            "tags": []
          },
          "execution_count": 7
        }
      ]
    },
    {
      "cell_type": "code",
      "metadata": {
        "id": "W1ybbsxYKKIa",
        "colab_type": "code",
        "colab": {}
      },
      "source": [
        "def numero_de_puntos_rango(lista,limite_izq,limite_dr):\n",
        "  menor=[]\n",
        "  for number in lista:\n",
        "    if number>=limite_izq and number<=limite_dr:\n",
        "      menor.append(number)\n",
        "  return menor"
      ],
      "execution_count": 0,
      "outputs": []
    },
    {
      "cell_type": "code",
      "metadata": {
        "id": "v2RYltf8cjla",
        "colab_type": "code",
        "colab": {}
      },
      "source": [
        "def iz_dr_frontera(lista,limite_izq,limite_dr,frontera):\n",
        "  lista_valores_rango_menor=[]\n",
        "  lista_valores_rango_mayor=[]\n",
        "  number_frontera=0\n",
        "  for number in lista:\n",
        "    if number==frontera:\n",
        "      number_frontera=1\n",
        "    if number>=limite_izq and number<frontera:\n",
        "      lista_valores_rango_menor.append(number)\n",
        "    if number>frontera and number<=limite_dr:\n",
        "      lista_valores_rango_mayor.append(number)\n",
        "\n",
        "  return [len(lista_valores_rango_menor), number_frontera, len(lista_valores_rango_mayor)]"
      ],
      "execution_count": 0,
      "outputs": []
    },
    {
      "cell_type": "code",
      "metadata": {
        "id": "eLiglneyUqVU",
        "colab_type": "code",
        "colab": {}
      },
      "source": [
        "def get_numbers_around(lista,frontera):\n",
        "  menores=[]\n",
        "  mayores=[]\n",
        "  for number in lista:\n",
        "    if number<frontera:\n",
        "      menores.append(number)\n",
        "    else:\n",
        "      mayores.append(number)\n",
        "\n",
        "  return [max(menores), min(mayores)]"
      ],
      "execution_count": 0,
      "outputs": []
    },
    {
      "cell_type": "code",
      "metadata": {
        "id": "qqu_LCpvHmRM",
        "colab_type": "code",
        "colab": {}
      },
      "source": [
        "def distancias(lista,limite_izq,limite_dr,frontera,inicial,df1):\n",
        "\n",
        "  if inicial==True:\n",
        "    df1 = pd.DataFrame()\n",
        "\n",
        "  valores_en_rango = iz_dr_frontera(lista,limite_izq,limite_dr,frontera)\n",
        "\n",
        "  if valores_en_rango==[1,1,1]:\n",
        "    d_izq = abs(numero_de_puntos_rango(lista,limite_izq,frontera)[0]-frontera)\n",
        "    puntos_izquierda = str(numero_de_puntos_rango(lista,limite_izq,frontera)[0])+' '+str(frontera)\n",
        "    d_fr = math.inf \n",
        "    puntos_frontera = ' - '\n",
        "    d_dr = abs(numero_de_puntos_rango(lista,frontera,limite_dr)[-1]-frontera)\n",
        "    puntos_derecha = str(frontera)+' '+str(numero_de_puntos_rango(lista,frontera,limite_dr)[-1])\n",
        "\n",
        "  elif valores_en_rango==[0,1,1]:\n",
        "    d_izq = math.inf\n",
        "    puntos_izquierda = ' - '\n",
        "    d_fr = math.inf\n",
        "    puntos_frontera = ' - '\n",
        "    d_dr = abs(numero_de_puntos_rango(lista,frontera,limite_dr)[-1]-frontera)\n",
        "    puntos_derecha = str(frontera)+' '+str(numero_de_puntos_rango(lista,frontera,limite_dr)[-1])\n",
        "\n",
        "  elif valores_en_rango==[1,1,0]:\n",
        "    d_izq = abs(numero_de_puntos_rango(lista,limite_izq,frontera)[0]-frontera)\n",
        "    puntos_izquierda = str(numero_de_puntos_rango(lista,limite_izq,frontera)[0])+' '+str(frontera)\n",
        "    d_fr = math.inf\n",
        "    puntos_frontera = ' - '\n",
        "    d_dr = math.inf\n",
        "    puntos_derecha = ' - '\n",
        "\n",
        "  elif valores_en_rango==[2,0,0]:\n",
        "    d_izq = abs(numero_de_puntos_rango(lista,limite_izq,frontera)[0]-numero_de_puntos_rango(lista,limite_izq,frontera)[-1])\n",
        "    puntos_izquierda = (str(numero_de_puntos_rango(lista,limite_izq,frontera)[0])+' '+str(numero_de_puntos_rango(lista,limite_izq,frontera)[-1]))\n",
        "    d_fr = math.inf\n",
        "    puntos_frontera = ' - '   \n",
        "    d_dr = math.inf\n",
        "    puntos_derecha = ' - '\n",
        "\n",
        "  elif valores_en_rango==[0,0,2]:\n",
        "    d_izq = math.inf\n",
        "    puntos_izquierda = ' - '\n",
        "    d_fr = math.inf\n",
        "    puntos_frontera = ' - '\n",
        "    d_dr = abs(numero_de_puntos_rango(lista,frontera,limite_dr)[-1]-numero_de_puntos_rango(lista,frontera,limite_dr)[0])\n",
        "    puntos_derecha = str(numero_de_puntos_rango(lista,frontera, limite_dr)[0])+' '+str(numero_de_puntos_rango(lista,frontera, limite_dr)[-1])\n",
        "\n",
        "  elif valores_en_rango==[2,0,2]:\n",
        "    d_izq = abs(numero_de_puntos_rango(lista,limite_izq,frontera)[0]-numero_de_puntos_rango(lista,limite_izq,frontera)[-1])\n",
        "    puntos_izquierda = str(numero_de_puntos_rango(lista,limite_izq,frontera)[0])+' '+str(numero_de_puntos_rango(lista,limite_izq,frontera)[-1])\n",
        "    d_fr = abs(get_numbers_around(lista,frontera)[0]-get_numbers_around(lista,frontera)[-1])\n",
        "    puntos_frontera = str(get_numbers_around(lista,frontera)[0])+' '+str(get_numbers_around(lista,frontera)[-1])\n",
        "    d_dr = abs(numero_de_puntos_rango(lista,frontera,limite_dr)[-1]-numero_de_puntos_rango(lista,frontera,limite_dr)[0])\n",
        "    puntos_derecha = str(numero_de_puntos_rango(lista,frontera, limite_dr)[0])+' '+str(numero_de_puntos_rango(lista,frontera, limite_dr)[-1])\n",
        "\n",
        "  elif valores_en_rango==[2,0,1]:\n",
        "    d_izq = abs(numero_de_puntos_rango(lista,limite_izq,frontera)[0]-numero_de_puntos_rango(lista,limite_izq,frontera)[-1])\n",
        "    puntos_izquierda = str(numero_de_puntos_rango(lista,limite_izq,frontera)[0])+' '+str(numero_de_puntos_rango(lista,limite_izq,frontera)[-1])\n",
        "    d_fr = abs(get_numbers_around(lista,frontera)[0]-get_numbers_around(lista,frontera)[-1])\n",
        "    puntos_frontera = str(get_numbers_around(lista,frontera)[0])+' '+str(get_numbers_around(lista,frontera)[-1])\n",
        "    d_dr = math.inf\n",
        "    puntos_derecha = ' - '\n",
        "\n",
        "  elif valores_en_rango==[1,0,2]:\n",
        "    d_izq = math.inf\n",
        "    puntos_izquierda = ' - '\n",
        "    d_fr = abs(get_numbers_around(lista,frontera)[0]-get_numbers_around(lista,frontera)[-1])\n",
        "    puntos_frontera = str(get_numbers_around(lista,frontera)[0])+' '+str(get_numbers_around(lista,frontera)[-1])\n",
        "    d_dr = abs(numero_de_puntos_rango(lista,frontera,limite_dr)[-1]-numero_de_puntos_rango(lista,frontera,limite_dr)[0])\n",
        "    puntos_derecha = str(numero_de_puntos_rango(lista,frontera, limite_dr)[0])+' '+str(numero_de_puntos_rango(lista,frontera, limite_dr)[-1])\n",
        "\n",
        "  elif valores_en_rango==[1,0,1]:\n",
        "    d_izq = math.inf\n",
        "    puntos_izquierda = ' - '\n",
        "    d_fr = abs(get_numbers_around(lista,frontera)[0]-get_numbers_around(lista,frontera)[-1])\n",
        "    puntos_frontera = str(get_numbers_around(lista,frontera)[0])+' '+str(get_numbers_around(lista,frontera)[-1])\n",
        "    d_dr = math.inf\n",
        "    puntos_derecha = ' - '\n",
        "\n",
        "  elif valores_en_rango==[1,0,0] or valores_en_rango==[0,0,1] or valores_en_rango==[0,1,0] or valores_en_rango==[0,0,0]:\n",
        "    d_izq = math.inf\n",
        "    puntos_izquierda = ' - '\n",
        "    d_fr = math.inf\n",
        "    puntos_frontera = ' - '\n",
        "    d_dr = math.inf\n",
        "    puntos_derecha = ' - '\n",
        "\n",
        "  df2 = pd.DataFrame([[min(d_izq,d_fr,d_dr), d_izq, puntos_izquierda, d_fr, puntos_frontera, d_dr, puntos_derecha]], columns=['min_distancia', 'd_izq', 'Puntos_izquierda', 'd_fr', 'Puntos_frontera','d_dr', 'Puntos_derecha' ])\n",
        "  df1 = pd.concat([df1, df2], axis=0, ignore_index=True)\n",
        "\n",
        "  return df1"
      ],
      "execution_count": 0,
      "outputs": []
    },
    {
      "cell_type": "code",
      "metadata": {
        "id": "0ERHIiin7Phs",
        "colab_type": "code",
        "colab": {}
      },
      "source": [
        "def divide_y_venceras(lista,limite_izq,limite_dr,inicial,df1):\n",
        "  if inicial==True:\n",
        "    df1=pd.DataFrame()\n",
        "    inicial=False\n",
        "\n",
        "  frontera = (limite_dr+limite_izq)/2\n",
        "  if max(np.unique(iz_dr_frontera(lista,limite_izq,limite_dr,frontera)))<=2:\n",
        "    return distancias(lista,limite_izq,limite_dr,frontera,inicial,df1)\n",
        "        \n",
        "  else:  \n",
        "    return pd.concat([divide_y_venceras(lista,limite_izq,frontera,inicial,df1), \n",
        "                      pd.DataFrame([[abs(get_numbers_around(lista,frontera)[0]-get_numbers_around(lista,frontera)[-1]), math.inf, ' - ', abs(get_numbers_around(lista,frontera)[0]-get_numbers_around(lista,frontera)[-1]), str(get_numbers_around(lista,frontera)[0])+' '+str(get_numbers_around(lista,frontera)[-1]), math.inf, ' - ']], columns=['min_distancia', 'd_izq', 'Puntos_izquierda', 'd_fr', 'Puntos_frontera','d_dr', 'Puntos_derecha' ]),\n",
        "                      divide_y_venceras(lista,frontera,limite_dr,inicial,df1)],axis=0,ignore_index=True)"
      ],
      "execution_count": 0,
      "outputs": []
    },
    {
      "cell_type": "code",
      "metadata": {
        "id": "7Fz93RBjWJ1t",
        "colab_type": "code",
        "outputId": "ac69b2e8-3dd7-415b-cf89-402712438078",
        "colab": {
          "base_uri": "https://localhost:8080/",
          "height": 53
        }
      },
      "source": [
        "%%time\n",
        "df = divide_y_venceras(lista_sort,lista_sort[0],lista_sort[-1],True,pd.DataFrame())\n",
        "df"
      ],
      "execution_count": 13,
      "outputs": [
        {
          "output_type": "stream",
          "text": [
            "CPU times: user 9.99 s, sys: 4.59 ms, total: 10 s\n",
            "Wall time: 10 s\n"
          ],
          "name": "stdout"
        }
      ]
    },
    {
      "cell_type": "code",
      "metadata": {
        "id": "-br4TxP8xOco",
        "colab_type": "code",
        "outputId": "09de41b1-7b5c-4915-af01-bd9f7239e76a",
        "colab": {
          "base_uri": "https://localhost:8080/",
          "height": 235
        }
      },
      "source": [
        "df['min_distancia'] == min(df['min_distancia'])"
      ],
      "execution_count": 14,
      "outputs": [
        {
          "output_type": "execute_result",
          "data": {
            "text/plain": [
              "0       False\n",
              "1       False\n",
              "2        True\n",
              "3       False\n",
              "4       False\n",
              "        ...  \n",
              "1032    False\n",
              "1033    False\n",
              "1034    False\n",
              "1035    False\n",
              "1036     True\n",
              "Name: min_distancia, Length: 1037, dtype: bool"
            ]
          },
          "metadata": {
            "tags": []
          },
          "execution_count": 14
        }
      ]
    },
    {
      "cell_type": "code",
      "metadata": {
        "id": "6y_Lt_TjxOil",
        "colab_type": "code",
        "outputId": "a27d8b0a-437c-4293-9729-7c60c76792b7",
        "colab": {
          "base_uri": "https://localhost:8080/",
          "height": 1000
        }
      },
      "source": [
        "df[df['min_distancia'] == min(df['min_distancia'])]"
      ],
      "execution_count": 15,
      "outputs": [
        {
          "output_type": "execute_result",
          "data": {
            "text/html": [
              "<div>\n",
              "<style scoped>\n",
              "    .dataframe tbody tr th:only-of-type {\n",
              "        vertical-align: middle;\n",
              "    }\n",
              "\n",
              "    .dataframe tbody tr th {\n",
              "        vertical-align: top;\n",
              "    }\n",
              "\n",
              "    .dataframe thead th {\n",
              "        text-align: right;\n",
              "    }\n",
              "</style>\n",
              "<table border=\"1\" class=\"dataframe\">\n",
              "  <thead>\n",
              "    <tr style=\"text-align: right;\">\n",
              "      <th></th>\n",
              "      <th>min_distancia</th>\n",
              "      <th>d_izq</th>\n",
              "      <th>Puntos_izquierda</th>\n",
              "      <th>d_fr</th>\n",
              "      <th>Puntos_frontera</th>\n",
              "      <th>d_dr</th>\n",
              "      <th>Puntos_derecha</th>\n",
              "    </tr>\n",
              "  </thead>\n",
              "  <tbody>\n",
              "    <tr>\n",
              "      <th>2</th>\n",
              "      <td>0.0</td>\n",
              "      <td>0.0</td>\n",
              "      <td>6 6</td>\n",
              "      <td>1.0</td>\n",
              "      <td>6 7</td>\n",
              "      <td>inf</td>\n",
              "      <td>-</td>\n",
              "    </tr>\n",
              "    <tr>\n",
              "      <th>6</th>\n",
              "      <td>0.0</td>\n",
              "      <td>0.0</td>\n",
              "      <td>14 14</td>\n",
              "      <td>2.0</td>\n",
              "      <td>14 16</td>\n",
              "      <td>inf</td>\n",
              "      <td>-</td>\n",
              "    </tr>\n",
              "    <tr>\n",
              "      <th>10</th>\n",
              "      <td>0.0</td>\n",
              "      <td>inf</td>\n",
              "      <td>-</td>\n",
              "      <td>1.0</td>\n",
              "      <td>21 22</td>\n",
              "      <td>0.0</td>\n",
              "      <td>22 22</td>\n",
              "    </tr>\n",
              "    <tr>\n",
              "      <th>18</th>\n",
              "      <td>0.0</td>\n",
              "      <td>0.0</td>\n",
              "      <td>41 41</td>\n",
              "      <td>inf</td>\n",
              "      <td>-</td>\n",
              "      <td>inf</td>\n",
              "      <td>-</td>\n",
              "    </tr>\n",
              "    <tr>\n",
              "      <th>20</th>\n",
              "      <td>0.0</td>\n",
              "      <td>inf</td>\n",
              "      <td>-</td>\n",
              "      <td>1.0</td>\n",
              "      <td>44 45</td>\n",
              "      <td>0.0</td>\n",
              "      <td>45 45</td>\n",
              "    </tr>\n",
              "    <tr>\n",
              "      <th>26</th>\n",
              "      <td>0.0</td>\n",
              "      <td>0.0</td>\n",
              "      <td>52 52</td>\n",
              "      <td>inf</td>\n",
              "      <td>-</td>\n",
              "      <td>inf</td>\n",
              "      <td>-</td>\n",
              "    </tr>\n",
              "    <tr>\n",
              "      <th>28</th>\n",
              "      <td>0.0</td>\n",
              "      <td>0.0</td>\n",
              "      <td>54 54</td>\n",
              "      <td>1.0</td>\n",
              "      <td>54 55</td>\n",
              "      <td>inf</td>\n",
              "      <td>-</td>\n",
              "    </tr>\n",
              "    <tr>\n",
              "      <th>32</th>\n",
              "      <td>0.0</td>\n",
              "      <td>0.0</td>\n",
              "      <td>64 64</td>\n",
              "      <td>1.0</td>\n",
              "      <td>64 65</td>\n",
              "      <td>inf</td>\n",
              "      <td>-</td>\n",
              "    </tr>\n",
              "    <tr>\n",
              "      <th>34</th>\n",
              "      <td>0.0</td>\n",
              "      <td>inf</td>\n",
              "      <td>-</td>\n",
              "      <td>inf</td>\n",
              "      <td>-</td>\n",
              "      <td>0.0</td>\n",
              "      <td>67 67</td>\n",
              "    </tr>\n",
              "    <tr>\n",
              "      <th>230</th>\n",
              "      <td>0.0</td>\n",
              "      <td>0.0</td>\n",
              "      <td>88 88</td>\n",
              "      <td>1.0</td>\n",
              "      <td>88 89</td>\n",
              "      <td>inf</td>\n",
              "      <td>-</td>\n",
              "    </tr>\n",
              "    <tr>\n",
              "      <th>236</th>\n",
              "      <td>0.0</td>\n",
              "      <td>1.0</td>\n",
              "      <td>102 103</td>\n",
              "      <td>2.0</td>\n",
              "      <td>103 105</td>\n",
              "      <td>0.0</td>\n",
              "      <td>105 105</td>\n",
              "    </tr>\n",
              "    <tr>\n",
              "      <th>436</th>\n",
              "      <td>0.0</td>\n",
              "      <td>0.0</td>\n",
              "      <td>141 141</td>\n",
              "      <td>4.0</td>\n",
              "      <td>141 145</td>\n",
              "      <td>2.0</td>\n",
              "      <td>145 147</td>\n",
              "    </tr>\n",
              "    <tr>\n",
              "      <th>440</th>\n",
              "      <td>0.0</td>\n",
              "      <td>0.0</td>\n",
              "      <td>153 153</td>\n",
              "      <td>1.0</td>\n",
              "      <td>153 154</td>\n",
              "      <td>0.0</td>\n",
              "      <td>154 154</td>\n",
              "    </tr>\n",
              "    <tr>\n",
              "      <th>450</th>\n",
              "      <td>0.0</td>\n",
              "      <td>0.0</td>\n",
              "      <td>173 173</td>\n",
              "      <td>6.0</td>\n",
              "      <td>173 179</td>\n",
              "      <td>0.0</td>\n",
              "      <td>179 179</td>\n",
              "    </tr>\n",
              "    <tr>\n",
              "      <th>458</th>\n",
              "      <td>0.0</td>\n",
              "      <td>0.0</td>\n",
              "      <td>197 197</td>\n",
              "      <td>inf</td>\n",
              "      <td>-</td>\n",
              "      <td>inf</td>\n",
              "      <td>-</td>\n",
              "    </tr>\n",
              "    <tr>\n",
              "      <th>460</th>\n",
              "      <td>0.0</td>\n",
              "      <td>inf</td>\n",
              "      <td>-</td>\n",
              "      <td>2.0</td>\n",
              "      <td>200 202</td>\n",
              "      <td>0.0</td>\n",
              "      <td>202 202</td>\n",
              "    </tr>\n",
              "    <tr>\n",
              "      <th>462</th>\n",
              "      <td>0.0</td>\n",
              "      <td>0.0</td>\n",
              "      <td>203 203</td>\n",
              "      <td>inf</td>\n",
              "      <td>-</td>\n",
              "      <td>inf</td>\n",
              "      <td>-</td>\n",
              "    </tr>\n",
              "    <tr>\n",
              "      <th>642</th>\n",
              "      <td>0.0</td>\n",
              "      <td>0.0</td>\n",
              "      <td>215 215</td>\n",
              "      <td>3.0</td>\n",
              "      <td>215 218</td>\n",
              "      <td>0.0</td>\n",
              "      <td>218 218</td>\n",
              "    </tr>\n",
              "    <tr>\n",
              "      <th>646</th>\n",
              "      <td>0.0</td>\n",
              "      <td>1.0</td>\n",
              "      <td>223 224</td>\n",
              "      <td>2.0</td>\n",
              "      <td>224 226</td>\n",
              "      <td>0.0</td>\n",
              "      <td>226 226</td>\n",
              "    </tr>\n",
              "    <tr>\n",
              "      <th>656</th>\n",
              "      <td>0.0</td>\n",
              "      <td>inf</td>\n",
              "      <td>-</td>\n",
              "      <td>1.0</td>\n",
              "      <td>244 245</td>\n",
              "      <td>0.0</td>\n",
              "      <td>245 245</td>\n",
              "    </tr>\n",
              "    <tr>\n",
              "      <th>660</th>\n",
              "      <td>0.0</td>\n",
              "      <td>inf</td>\n",
              "      <td>-</td>\n",
              "      <td>inf</td>\n",
              "      <td>-</td>\n",
              "      <td>0.0</td>\n",
              "      <td>252 252</td>\n",
              "    </tr>\n",
              "    <tr>\n",
              "      <th>662</th>\n",
              "      <td>0.0</td>\n",
              "      <td>0.0</td>\n",
              "      <td>255 255</td>\n",
              "      <td>1.0</td>\n",
              "      <td>255 256</td>\n",
              "      <td>0.0</td>\n",
              "      <td>256 256</td>\n",
              "    </tr>\n",
              "    <tr>\n",
              "      <th>668</th>\n",
              "      <td>0.0</td>\n",
              "      <td>0.0</td>\n",
              "      <td>273 273</td>\n",
              "      <td>6.0</td>\n",
              "      <td>273 279</td>\n",
              "      <td>1.0</td>\n",
              "      <td>279 280</td>\n",
              "    </tr>\n",
              "    <tr>\n",
              "      <th>674</th>\n",
              "      <td>0.0</td>\n",
              "      <td>inf</td>\n",
              "      <td>-</td>\n",
              "      <td>1.0</td>\n",
              "      <td>297 298</td>\n",
              "      <td>0.0</td>\n",
              "      <td>298 298</td>\n",
              "    </tr>\n",
              "    <tr>\n",
              "      <th>686</th>\n",
              "      <td>0.0</td>\n",
              "      <td>0.0</td>\n",
              "      <td>316 316</td>\n",
              "      <td>2.0</td>\n",
              "      <td>316 318</td>\n",
              "      <td>inf</td>\n",
              "      <td>-</td>\n",
              "    </tr>\n",
              "    <tr>\n",
              "      <th>688</th>\n",
              "      <td>0.0</td>\n",
              "      <td>0.0</td>\n",
              "      <td>321 321</td>\n",
              "      <td>1.0</td>\n",
              "      <td>321 322</td>\n",
              "      <td>inf</td>\n",
              "      <td>-</td>\n",
              "    </tr>\n",
              "    <tr>\n",
              "      <th>690</th>\n",
              "      <td>0.0</td>\n",
              "      <td>0.0</td>\n",
              "      <td>325 325</td>\n",
              "      <td>2.0</td>\n",
              "      <td>325 327</td>\n",
              "      <td>inf</td>\n",
              "      <td>-</td>\n",
              "    </tr>\n",
              "    <tr>\n",
              "      <th>692</th>\n",
              "      <td>0.0</td>\n",
              "      <td>1.0</td>\n",
              "      <td>328 329</td>\n",
              "      <td>2.0</td>\n",
              "      <td>329 331</td>\n",
              "      <td>0.0</td>\n",
              "      <td>331 331</td>\n",
              "    </tr>\n",
              "    <tr>\n",
              "      <th>700</th>\n",
              "      <td>0.0</td>\n",
              "      <td>0.0</td>\n",
              "      <td>341 341</td>\n",
              "      <td>1.0</td>\n",
              "      <td>341 342</td>\n",
              "      <td>inf</td>\n",
              "      <td>-</td>\n",
              "    </tr>\n",
              "    <tr>\n",
              "      <th>708</th>\n",
              "      <td>0.0</td>\n",
              "      <td>1.0</td>\n",
              "      <td>355 356</td>\n",
              "      <td>1.0</td>\n",
              "      <td>356 357</td>\n",
              "      <td>0.0</td>\n",
              "      <td>357 357</td>\n",
              "    </tr>\n",
              "    <tr>\n",
              "      <th>716</th>\n",
              "      <td>0.0</td>\n",
              "      <td>0.0</td>\n",
              "      <td>370 370</td>\n",
              "      <td>1.0</td>\n",
              "      <td>370 371</td>\n",
              "      <td>inf</td>\n",
              "      <td>-</td>\n",
              "    </tr>\n",
              "    <tr>\n",
              "      <th>722</th>\n",
              "      <td>0.0</td>\n",
              "      <td>0.0</td>\n",
              "      <td>390 390</td>\n",
              "      <td>5.0</td>\n",
              "      <td>390 395</td>\n",
              "      <td>inf</td>\n",
              "      <td>-</td>\n",
              "    </tr>\n",
              "    <tr>\n",
              "      <th>818</th>\n",
              "      <td>0.0</td>\n",
              "      <td>0.0</td>\n",
              "      <td>413 413</td>\n",
              "      <td>1.0</td>\n",
              "      <td>413 414</td>\n",
              "      <td>inf</td>\n",
              "      <td>-</td>\n",
              "    </tr>\n",
              "    <tr>\n",
              "      <th>822</th>\n",
              "      <td>0.0</td>\n",
              "      <td>inf</td>\n",
              "      <td>-</td>\n",
              "      <td>inf</td>\n",
              "      <td>-</td>\n",
              "      <td>0.0</td>\n",
              "      <td>419 419</td>\n",
              "    </tr>\n",
              "    <tr>\n",
              "      <th>828</th>\n",
              "      <td>0.0</td>\n",
              "      <td>0.0</td>\n",
              "      <td>432 432</td>\n",
              "      <td>1.0</td>\n",
              "      <td>432 433</td>\n",
              "      <td>inf</td>\n",
              "      <td>-</td>\n",
              "    </tr>\n",
              "    <tr>\n",
              "      <th>924</th>\n",
              "      <td>0.0</td>\n",
              "      <td>inf</td>\n",
              "      <td>-</td>\n",
              "      <td>2.0</td>\n",
              "      <td>449 451</td>\n",
              "      <td>0.0</td>\n",
              "      <td>451 451</td>\n",
              "    </tr>\n",
              "    <tr>\n",
              "      <th>926</th>\n",
              "      <td>0.0</td>\n",
              "      <td>0.0</td>\n",
              "      <td>452 452</td>\n",
              "      <td>inf</td>\n",
              "      <td>-</td>\n",
              "      <td>inf</td>\n",
              "      <td>-</td>\n",
              "    </tr>\n",
              "    <tr>\n",
              "      <th>928</th>\n",
              "      <td>0.0</td>\n",
              "      <td>0.0</td>\n",
              "      <td>454 454</td>\n",
              "      <td>1.0</td>\n",
              "      <td>454 455</td>\n",
              "      <td>inf</td>\n",
              "      <td>-</td>\n",
              "    </tr>\n",
              "    <tr>\n",
              "      <th>1024</th>\n",
              "      <td>0.0</td>\n",
              "      <td>inf</td>\n",
              "      <td>-</td>\n",
              "      <td>1.0</td>\n",
              "      <td>476 477</td>\n",
              "      <td>0.0</td>\n",
              "      <td>477 477</td>\n",
              "    </tr>\n",
              "    <tr>\n",
              "      <th>1030</th>\n",
              "      <td>0.0</td>\n",
              "      <td>0.0</td>\n",
              "      <td>487 487</td>\n",
              "      <td>2.0</td>\n",
              "      <td>487 489</td>\n",
              "      <td>inf</td>\n",
              "      <td>-</td>\n",
              "    </tr>\n",
              "    <tr>\n",
              "      <th>1036</th>\n",
              "      <td>0.0</td>\n",
              "      <td>inf</td>\n",
              "      <td>-</td>\n",
              "      <td>1.0</td>\n",
              "      <td>497 498</td>\n",
              "      <td>0.0</td>\n",
              "      <td>498 498</td>\n",
              "    </tr>\n",
              "  </tbody>\n",
              "</table>\n",
              "</div>"
            ],
            "text/plain": [
              "      min_distancia  d_izq  ... d_dr  Puntos_derecha\n",
              "2               0.0    0.0  ...  inf              - \n",
              "6               0.0    0.0  ...  inf              - \n",
              "10              0.0    inf  ...  0.0           22 22\n",
              "18              0.0    0.0  ...  inf              - \n",
              "20              0.0    inf  ...  0.0           45 45\n",
              "26              0.0    0.0  ...  inf              - \n",
              "28              0.0    0.0  ...  inf              - \n",
              "32              0.0    0.0  ...  inf              - \n",
              "34              0.0    inf  ...  0.0           67 67\n",
              "230             0.0    0.0  ...  inf              - \n",
              "236             0.0    1.0  ...  0.0         105 105\n",
              "436             0.0    0.0  ...  2.0         145 147\n",
              "440             0.0    0.0  ...  0.0         154 154\n",
              "450             0.0    0.0  ...  0.0         179 179\n",
              "458             0.0    0.0  ...  inf              - \n",
              "460             0.0    inf  ...  0.0         202 202\n",
              "462             0.0    0.0  ...  inf              - \n",
              "642             0.0    0.0  ...  0.0         218 218\n",
              "646             0.0    1.0  ...  0.0         226 226\n",
              "656             0.0    inf  ...  0.0         245 245\n",
              "660             0.0    inf  ...  0.0         252 252\n",
              "662             0.0    0.0  ...  0.0         256 256\n",
              "668             0.0    0.0  ...  1.0         279 280\n",
              "674             0.0    inf  ...  0.0         298 298\n",
              "686             0.0    0.0  ...  inf              - \n",
              "688             0.0    0.0  ...  inf              - \n",
              "690             0.0    0.0  ...  inf              - \n",
              "692             0.0    1.0  ...  0.0         331 331\n",
              "700             0.0    0.0  ...  inf              - \n",
              "708             0.0    1.0  ...  0.0         357 357\n",
              "716             0.0    0.0  ...  inf              - \n",
              "722             0.0    0.0  ...  inf              - \n",
              "818             0.0    0.0  ...  inf              - \n",
              "822             0.0    inf  ...  0.0         419 419\n",
              "828             0.0    0.0  ...  inf              - \n",
              "924             0.0    inf  ...  0.0         451 451\n",
              "926             0.0    0.0  ...  inf              - \n",
              "928             0.0    0.0  ...  inf              - \n",
              "1024            0.0    inf  ...  0.0         477 477\n",
              "1030            0.0    0.0  ...  inf              - \n",
              "1036            0.0    inf  ...  0.0         498 498\n",
              "\n",
              "[41 rows x 7 columns]"
            ]
          },
          "metadata": {
            "tags": []
          },
          "execution_count": 15
        }
      ]
    },
    {
      "cell_type": "markdown",
      "metadata": {
        "id": "2e49c8JTjaE1",
        "colab_type": "text"
      },
      "source": [
        "Pasos del problema de las mínimas distancias:\n",
        "\n",
        "- En el caso de 1 dimensión siempre que queramos en ambos lados de 0 a 2 puntos cada vez que dividamos el rango de valores a la mitad hay 13 diferentes opciones para poder calcular las distancias las cuales todas ellas estan en la función *distancias*.\n",
        "- Una vez dividimos el rango de los valores con la función *divide_y_venceras* se calculan distancias y todas ellas se añaden al DataFrame df el cual contendrá todas las distancias de los subgrupos tanto de la parte izquierda, de la parte de la frontera y de la parte derecha.\n",
        "- En la función *divide_y_venceras* se utiliza recursividad enfocada en la técnica de divide y vencerás. Lo que hace es ir dividiendo los rangos hasta que haya en cada lado de 0 a 2 valores y cuando así sea, devuelve las distancias. \n",
        "- Una vez añadidas todas las distancias a df se analizan las mínimas distancias y sus respectivos puntos. \n",
        "- Crear una df da la ventaja de visualitzar bien todas las distancias de los subgrupos creados."
      ]
    },
    {
      "cell_type": "markdown",
      "metadata": {
        "id": "3VHLxCTglnm4",
        "colab_type": "text"
      },
      "source": [
        "En el caso que se quisiera hace de 2d y 3d por la técnica utilitzada habría que añadir nuevas combinaciones posibles una vez que se tengan de 0 a 2 puntos en un rango."
      ]
    },
    {
      "cell_type": "code",
      "metadata": {
        "id": "7VHUb-cWjb9D",
        "colab_type": "code",
        "colab": {}
      },
      "source": [
        ""
      ],
      "execution_count": 0,
      "outputs": []
    }
  ]
}