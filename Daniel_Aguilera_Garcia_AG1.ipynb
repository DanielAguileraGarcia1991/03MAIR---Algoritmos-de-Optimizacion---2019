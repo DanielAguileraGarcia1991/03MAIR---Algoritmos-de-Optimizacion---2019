{
  "nbformat": 4,
  "nbformat_minor": 0,
  "metadata": {
    "colab": {
      "name": "Daniel Aguilera Garcia-AG1.ipynb",
      "provenance": [],
      "collapsed_sections": [],
      "include_colab_link": true
    },
    "kernelspec": {
      "name": "python3",
      "display_name": "Python 3"
    }
  },
  "cells": [
    {
      "cell_type": "markdown",
      "metadata": {
        "id": "view-in-github",
        "colab_type": "text"
      },
      "source": [
        "<a href=\"https://colab.research.google.com/github/DanielAguileraGarcia1991/03MAIR---Algoritmos-de-Optimizacion---2019/blob/master/Daniel_Aguilera_Garcia_AG1.ipynb\" target=\"_parent\"><img src=\"https://colab.research.google.com/assets/colab-badge.svg\" alt=\"Open In Colab\"/></a>"
      ]
    },
    {
      "cell_type": "markdown",
      "metadata": {
        "id": "7EGOHf-zWIO6",
        "colab_type": "text"
      },
      "source": [
        "AG1. Algoritmos de optimización \n",
        "\n",
        "Daniel Aguilera\n",
        "\n",
        "https://colab.research.google.com/drive/1DzoOvCA0qY7aehnqM-k2VC2JqwEdTWv1"
      ]
    },
    {
      "cell_type": "markdown",
      "metadata": {
        "id": "qLYLN3jM_Ti5",
        "colab_type": "text"
      },
      "source": [
        "## Sucesión de Fibonacci con Recursividad"
      ]
    },
    {
      "cell_type": "code",
      "metadata": {
        "id": "iDzLr1w4_RM1",
        "colab_type": "code",
        "outputId": "9b1b3380-6090-4e11-9efe-a366a26b5a02",
        "colab": {
          "base_uri": "https://localhost:8080/",
          "height": 839
        }
      },
      "source": [
        "%%time\n",
        "def recursividad_fibo(n):\n",
        "  if n<=1:\n",
        "    return n\n",
        "  else:\n",
        "    return (recursividad_fibo(n-1)+recursividad_fibo(n-2))\n",
        "\n",
        "nterminos = int(input(\"Introduce la n-essima deseada? \"))  \n",
        "\n",
        " \n",
        "print(\"Secuencia de Fibonacci:\")  \n",
        "\n",
        "for i in range(1,nterminos+1):  \n",
        "    print(recursividad_fibo(i))"
      ],
      "execution_count": 0,
      "outputs": [
        {
          "output_type": "stream",
          "text": [
            "Introduce la n-essima deseada? 40\n",
            "Secuencia de Fibonacci:\n",
            "1\n",
            "1\n",
            "2\n",
            "3\n",
            "5\n",
            "8\n",
            "13\n",
            "21\n",
            "34\n",
            "55\n",
            "89\n",
            "144\n",
            "233\n",
            "377\n",
            "610\n",
            "987\n",
            "1597\n",
            "2584\n",
            "4181\n",
            "6765\n",
            "10946\n",
            "17711\n",
            "28657\n",
            "46368\n",
            "75025\n",
            "121393\n",
            "196418\n",
            "317811\n",
            "514229\n",
            "832040\n",
            "1346269\n",
            "2178309\n",
            "3524578\n",
            "5702887\n",
            "9227465\n",
            "14930352\n",
            "24157817\n",
            "39088169\n",
            "63245986\n",
            "102334155\n",
            "CPU times: user 1min 30s, sys: 22 ms, total: 1min 30s\n",
            "Wall time: 1min 36s\n"
          ],
          "name": "stdout"
        }
      ]
    },
    {
      "cell_type": "code",
      "metadata": {
        "id": "mVdNUrqqALjv",
        "colab_type": "code",
        "outputId": "18ed6cf8-d432-420c-ef1c-707d7302ad1a",
        "colab": {
          "base_uri": "https://localhost:8080/",
          "height": 764
        }
      },
      "source": [
        "40#Para ver el número de llamadas que se le hace a la funcion de recursividad_fibo pongamos un print ('fibonacci: n ')\n",
        "def recursividad_fibo(n):\n",
        "  print('fibonacci: '+str(n))\n",
        "  if n<=1:\n",
        "    return n\n",
        "  else:\n",
        "    return (recursividad_fibo(n-1)+recursividad_fibo(n-2))\n",
        "\n",
        "nterminos = int(input(\"Introduce la n-essima deseada? \"))  \n",
        "\n",
        " \n",
        "print(\"Secuencia de Fibonacci:\")  \n",
        "\n",
        "for i in range(1,nterminos+1):  \n",
        "    print(recursividad_fibo(i)) "
      ],
      "execution_count": 0,
      "outputs": [
        {
          "output_type": "stream",
          "text": [
            "Introduce la n-essima deseada? 5\n",
            "Secuencia de Fibonacci:\n",
            "fibonacci: 1\n",
            "1\n",
            "fibonacci: 2\n",
            "fibonacci: 1\n",
            "fibonacci: 0\n",
            "1\n",
            "fibonacci: 3\n",
            "fibonacci: 2\n",
            "fibonacci: 1\n",
            "fibonacci: 0\n",
            "fibonacci: 1\n",
            "2\n",
            "fibonacci: 4\n",
            "fibonacci: 3\n",
            "fibonacci: 2\n",
            "fibonacci: 1\n",
            "fibonacci: 0\n",
            "fibonacci: 1\n",
            "fibonacci: 2\n",
            "fibonacci: 1\n",
            "fibonacci: 0\n",
            "3\n",
            "fibonacci: 5\n",
            "fibonacci: 4\n",
            "fibonacci: 3\n",
            "fibonacci: 2\n",
            "fibonacci: 1\n",
            "fibonacci: 0\n",
            "fibonacci: 1\n",
            "fibonacci: 2\n",
            "fibonacci: 1\n",
            "fibonacci: 0\n",
            "fibonacci: 3\n",
            "fibonacci: 2\n",
            "fibonacci: 1\n",
            "fibonacci: 0\n",
            "fibonacci: 1\n",
            "5\n"
          ],
          "name": "stdout"
        }
      ]
    },
    {
      "cell_type": "markdown",
      "metadata": {
        "id": "YAp3udcwSCfq",
        "colab_type": "text"
      },
      "source": [
        "Como se puede apreciar en la anterior cela, la función de Fibonacci con recursividad llama a la misma función siempre que la n sea menor o igual a 1. Es cuando tiene ese valor que la función devuelve un valor el cual se sumararà con anteriores valores y darà un resultado de la serie."
      ]
    },
    {
      "cell_type": "markdown",
      "metadata": {
        "id": "i-waToWEUSPH",
        "colab_type": "text"
      },
      "source": [
        "## Sucesión de Fibonacci sin recursividad"
      ]
    },
    {
      "cell_type": "code",
      "metadata": {
        "id": "B0FMucctURFF",
        "colab_type": "code",
        "colab": {}
      },
      "source": [
        "def sucesion_Fibonacci(n):\n",
        "  if n==1:\n",
        "    lista=[1]\n",
        "  elif n==2:\n",
        "    lista=[1,1]\n",
        "  elif n>2:\n",
        "    lista=[1,1]\n",
        "    for i in range (n-2):\n",
        "      lista.append(lista[-1]+lista[-2])\n",
        "  return lista"
      ],
      "execution_count": 0,
      "outputs": []
    },
    {
      "cell_type": "code",
      "metadata": {
        "id": "i_bQtrIOUp2F",
        "colab_type": "code",
        "outputId": "33b4cfac-3f71-4b78-b692-38351e4ad562",
        "colab": {
          "base_uri": "https://localhost:8080/",
          "height": 802
        }
      },
      "source": [
        "%%time\n",
        "sucesion_Fibonacci(40)"
      ],
      "execution_count": 0,
      "outputs": [
        {
          "output_type": "stream",
          "text": [
            "CPU times: user 16 µs, sys: 1e+03 ns, total: 17 µs\n",
            "Wall time: 20.3 µs\n"
          ],
          "name": "stdout"
        },
        {
          "output_type": "execute_result",
          "data": {
            "text/plain": [
              "[1,\n",
              " 1,\n",
              " 2,\n",
              " 3,\n",
              " 5,\n",
              " 8,\n",
              " 13,\n",
              " 21,\n",
              " 34,\n",
              " 55,\n",
              " 89,\n",
              " 144,\n",
              " 233,\n",
              " 377,\n",
              " 610,\n",
              " 987,\n",
              " 1597,\n",
              " 2584,\n",
              " 4181,\n",
              " 6765,\n",
              " 10946,\n",
              " 17711,\n",
              " 28657,\n",
              " 46368,\n",
              " 75025,\n",
              " 121393,\n",
              " 196418,\n",
              " 317811,\n",
              " 514229,\n",
              " 832040,\n",
              " 1346269,\n",
              " 2178309,\n",
              " 3524578,\n",
              " 5702887,\n",
              " 9227465,\n",
              " 14930352,\n",
              " 24157817,\n",
              " 39088169,\n",
              " 63245986,\n",
              " 102334155]"
            ]
          },
          "metadata": {
            "tags": []
          },
          "execution_count": 12
        }
      ]
    },
    {
      "cell_type": "markdown",
      "metadata": {
        "id": "riJKjlYESgHw",
        "colab_type": "text"
      },
      "source": [
        "Vemos la diferencia de tiempo entre con recursividad y sin. La complejidad con recursión es mucho más elevada que sin recursividad."
      ]
    },
    {
      "cell_type": "markdown",
      "metadata": {
        "id": "vyqG47Ty13bR",
        "colab_type": "text"
      },
      "source": [
        "## Juego de las tres torres"
      ]
    },
    {
      "cell_type": "code",
      "metadata": {
        "id": "X-rnUFirWNH8",
        "colab_type": "code",
        "outputId": "6769aa5e-7ab8-4ece-9dce-ef158028955e",
        "colab": {
          "base_uri": "https://localhost:8080/",
          "height": 144
        }
      },
      "source": [
        "def torres(N,desde,hasta):\n",
        "  if N==1:\n",
        "    print(\"lleva la ficha desde\", desde, \"hasta\", hasta)\n",
        "  \n",
        "  else:\n",
        "    torres(N-1, desde, 6-desde-hasta)\n",
        "    print(\"lleva la ficha desde\", desde, \"hasta\", hasta)\n",
        "    torres(N-1, 6-desde-hasta, hasta)\n",
        "\n",
        "torres(3,1,3)"
      ],
      "execution_count": 0,
      "outputs": [
        {
          "output_type": "stream",
          "text": [
            "lleva la ficha desde 1 hasta 3\n",
            "lleva la ficha desde 1 hasta 2\n",
            "lleva la ficha desde 3 hasta 2\n",
            "lleva la ficha desde 1 hasta 3\n",
            "lleva la ficha desde 2 hasta 1\n",
            "lleva la ficha desde 2 hasta 3\n",
            "lleva la ficha desde 1 hasta 3\n"
          ],
          "name": "stdout"
        }
      ]
    },
    {
      "cell_type": "markdown",
      "metadata": {
        "id": "RIiXSqRXZG62",
        "colab_type": "text"
      },
      "source": [
        "## Problema de las 4 reinas"
      ]
    },
    {
      "cell_type": "code",
      "metadata": {
        "id": "GhNYc1_xXp5Q",
        "colab_type": "code",
        "colab": {}
      },
      "source": [
        "#Backtraking: cuando la solución actual no es solución se vuelve atrás para rectificar y intentar buscar otra solución. "
      ],
      "execution_count": 0,
      "outputs": []
    },
    {
      "cell_type": "code",
      "metadata": {
        "id": "ZiBKoTqYjBvB",
        "colab_type": "code",
        "colab": {}
      },
      "source": [
        "import numpy as np"
      ],
      "execution_count": 0,
      "outputs": []
    },
    {
      "cell_type": "code",
      "metadata": {
        "id": "TgqBZZ2Ui5VD",
        "colab_type": "code",
        "colab": {}
      },
      "source": [
        "def backtracking(tupla,N):\n",
        "  count=0\n",
        "  for number in tupla:\n",
        "    if number>N:\n",
        "      count+=1\n",
        "  \n",
        "  if count>0:\n",
        "    return True\n",
        "  else:\n",
        "    return False\n",
        "  "
      ],
      "execution_count": 0,
      "outputs": []
    },
    {
      "cell_type": "code",
      "metadata": {
        "id": "WKgWZRw7b7e8",
        "colab_type": "code",
        "colab": {}
      },
      "source": [
        "def reina_range(tupla,N):\n",
        "  count=0\n",
        "  for number in tupla:\n",
        "    if number>N or number<1 :\n",
        "      count+=1\n",
        "  return N-count"
      ],
      "execution_count": 0,
      "outputs": []
    },
    {
      "cell_type": "code",
      "metadata": {
        "id": "sSZU2FlfZFUC",
        "colab_type": "code",
        "colab": {}
      },
      "source": [
        "def reina_amenazada(tupla,N):\n",
        "  count=0\n",
        "  reina_rango = reina_range(tupla,N)\n",
        "  if reina_rango>1:\n",
        "    if len(np.unique(tupla[:reina_rango]))<reina_rango:\n",
        "      return False\n",
        "    else:\n",
        "      for i in range(reina_rango-1):\n",
        "        for j in range(i+1,reina_rango):\n",
        "          if abs(i-j)==abs(tupla[i]-tupla[j]):\n",
        "            count+=1\n",
        "\n",
        "    if count==0:\n",
        "      return True\n",
        "    else:\n",
        "      return False\n",
        "\n",
        " \n",
        "  else:\n",
        "    return True"
      ],
      "execution_count": 0,
      "outputs": []
    },
    {
      "cell_type": "code",
      "metadata": {
        "id": "YRHYJM6GaE-Y",
        "colab_type": "code",
        "colab": {}
      },
      "source": [
        "def solucion(tupla,N):\n",
        "  if list(np.unique(tupla))==list(np.arange(1,N+1)) and reina_amenazada(tupla,N):\n",
        "    return True\n",
        "  else:\n",
        "    return False"
      ],
      "execution_count": 0,
      "outputs": []
    },
    {
      "cell_type": "code",
      "metadata": {
        "id": "EoZ1lKpkaIWw",
        "colab_type": "code",
        "colab": {}
      },
      "source": [
        "def reinas(N,tupla,k,back_track):\n",
        "  while (k<N):\n",
        "    if solucion(tupla,N):\n",
        "      print(tupla)\n",
        "      tupla[0]+=1\n",
        "      tupla[1:]=list(np.zeros(N-1, dtype=int))\n",
        "      k=1\n",
        "    if tupla[k]==0:\n",
        "      tupla[k]+=1\n",
        "    elif (reina_amenazada(tupla,N)==False or back_track==True):\n",
        "      tupla[k]+=1\n",
        "      back_track=False\n",
        "    elif backtracking(tupla,N) == True:\n",
        "      if tupla[0]>N:\n",
        "        return ('Ya se han encontrado todas las soluciones')\n",
        "      tupla[k]=0\n",
        "      back_track=True\n",
        "      k-=1\n",
        "      reinas(N,tupla,k,back_track)\n",
        "    elif reina_amenazada(tupla,N)==True:\n",
        "      k+=1"
      ],
      "execution_count": 0,
      "outputs": []
    },
    {
      "cell_type": "code",
      "metadata": {
        "id": "_puIYRzuaJi0",
        "colab_type": "code",
        "outputId": "ae899045-e6fe-4422-b536-c6e7298c15fd",
        "colab": {
          "base_uri": "https://localhost:8080/",
          "height": 73
        }
      },
      "source": [
        "reinas(4,list((0,0,0,0)),0,False)"
      ],
      "execution_count": 0,
      "outputs": [
        {
          "output_type": "stream",
          "text": [
            "[2, 4, 1, 3]\n",
            "[3, 1, 4, 2]\n"
          ],
          "name": "stdout"
        },
        {
          "output_type": "execute_result",
          "data": {
            "text/plain": [
              "'Ya se han encontrado todas las soluciones'"
            ]
          },
          "metadata": {
            "tags": []
          },
          "execution_count": 24
        }
      ]
    },
    {
      "cell_type": "markdown",
      "metadata": {
        "id": "3LHoZdFN2KKx",
        "colab_type": "text"
      },
      "source": [
        "Observaciones:\n",
        "  - Se ha importado la librería numpy para tener la función np.unique()\n",
        "  - Se han creado 4 funciones a parte de la función principal: backtracking, reina_range, reina_amenazada y solucion. Todas ellas tienen como entrada la tupla en el momento actual.\n",
        "  - Función backtracking: cuando la reina sale fuera del tablero se activa esta función, se pasa a una fila anterior, el valor de la fila pasa a 0 y se desactiva cuando a la fila anterior se le suma 1. Cuando backtracking se actica la función principal reina se vuelve a llamar a si misma(recursividad).\n",
        "  - Función reina_range: esta función permite saber en que rango del tablero esta referida la tupla en el momento para definir si la reina está o no amenazada.\n",
        "  - Función reina_amenazada: True ninguna reina está amenazada y False lo contrario.\n",
        "  - Función solucion: permite saber si la tupla en todo momento es solución final o no. Cuando la función principal encuentra una solución, le suma 1 a la primera componente de la tupla y se intenta encontrar otra solución.\n",
        "  - La función principal reinas terminará cuando el valor de la primera fila salga del tablero y será entonces cuando ya se habrán encontrado todas las soluciones posibles."
      ]
    },
    {
      "cell_type": "markdown",
      "metadata": {
        "id": "MpDfX38T53S0",
        "colab_type": "text"
      },
      "source": [
        "# Encontrar los dos puntos más cercanos "
      ]
    },
    {
      "cell_type": "markdown",
      "metadata": {
        "id": "D5gibQLE6HYu",
        "colab_type": "text"
      },
      "source": [
        "## 1ro Fuerza bruta"
      ]
    },
    {
      "cell_type": "code",
      "metadata": {
        "id": "-5Kzm9lPwpZ5",
        "colab_type": "code",
        "colab": {}
      },
      "source": [
        "def ordenacion_burbuja(lista):\n",
        "  not_order=False\n",
        "  for i in range (len(lista)-1):\n",
        "    proximo=lista[i+1]\n",
        "    if lista[i]>proximo: \n",
        "      not_order=True\n",
        "      lista[i+1]=lista[i]\n",
        "      lista[i]=proximo\n",
        "  if not_order==True:\n",
        "    ordenacion_burbuja(lista)\n",
        "  return lista"
      ],
      "execution_count": 0,
      "outputs": []
    },
    {
      "cell_type": "code",
      "metadata": {
        "id": "_HTk3jHRxADf",
        "colab_type": "code",
        "colab": {}
      },
      "source": [
        "def dos_puntos(lista):\n",
        "  valor=0\n",
        "  for i in range(len(lista)-1):\n",
        "    diferencia = abs(lista[i]-lista[i+1])\n",
        "    if i==0:\n",
        "      valor = diferencia\n",
        "    elif diferencia <= valor:\n",
        "      valor = diferencia\n",
        "      añadir = True\n",
        "      puntos_cercanos = str(lista[i])+' '+str(lista[i+1])\n",
        "  return puntos_cercanos"
      ],
      "execution_count": 0,
      "outputs": []
    },
    {
      "cell_type": "code",
      "metadata": {
        "id": "tQx_4cI9R2WR",
        "colab_type": "code",
        "colab": {}
      },
      "source": [
        "def encontrar_los_dos_puntos_mas_cercacons(lista):\n",
        "  diferencia=[]\n",
        "  valores=[]\n",
        "  for i in range(len(lista)):\n",
        "    for j in range(i+1,len(lista)):\n",
        "      diferencia.append(abs(lista[i]-lista[j]))\n",
        "      valores.append(str(lista[i])+' '+str(lista[j]))\n",
        "  minimos=[]\n",
        "  for i in range(len(diferencia)):\n",
        "    if diferencia[i]==min(diferencia):\n",
        "      minimos.append(i)\n",
        "  puntos_mas_cercanos=[]\n",
        "  for index in minimos:\n",
        "    puntos_mas_cercanos.append(valores[index])\n",
        "\n",
        "  return puntos_mas_cercanos, len(valores)"
      ],
      "execution_count": 0,
      "outputs": []
    },
    {
      "cell_type": "code",
      "metadata": {
        "id": "6Cnv0Htt7D9c",
        "colab_type": "code",
        "outputId": "f3e31e57-1b8b-4c16-cb17-52f75c03649d",
        "colab": {
          "base_uri": "https://localhost:8080/",
          "height": 1000
        }
      },
      "source": [
        "%%time\n",
        "encontrar_los_dos_puntos_mas_cercacons(lista)"
      ],
      "execution_count": 33,
      "outputs": [
        {
          "output_type": "stream",
          "text": [
            "CPU times: user 31.8 s, sys: 7.95 ms, total: 31.8 s\n",
            "Wall time: 31.9 s\n"
          ],
          "name": "stdout"
        },
        {
          "output_type": "execute_result",
          "data": {
            "text/plain": [
              "(['59 59',\n",
              "  '59 59',\n",
              "  '336 336',\n",
              "  '59 59',\n",
              "  '357 357',\n",
              "  '163 163',\n",
              "  '281 281',\n",
              "  '352 352',\n",
              "  '221 221',\n",
              "  '229 229',\n",
              "  '229 229',\n",
              "  '307 307',\n",
              "  '307 307',\n",
              "  '69 69',\n",
              "  '156 156',\n",
              "  '404 404',\n",
              "  '127 127',\n",
              "  '346 346',\n",
              "  '307 307',\n",
              "  '324 324',\n",
              "  '24 24',\n",
              "  '24 24',\n",
              "  '456 456',\n",
              "  '456 456',\n",
              "  '149 149',\n",
              "  '149 149',\n",
              "  '440 440',\n",
              "  '75 75',\n",
              "  '78 78',\n",
              "  '78 78',\n",
              "  '200 200',\n",
              "  '378 378',\n",
              "  '188 188',\n",
              "  '245 245',\n",
              "  '219 219',\n",
              "  '47 47',\n",
              "  '441 441',\n",
              "  '157 157',\n",
              "  '111 111',\n",
              "  '367 367',\n",
              "  '144 144',\n",
              "  '161 161',\n",
              "  '253 253',\n",
              "  '228 228',\n",
              "  '370 370',\n",
              "  '169 169',\n",
              "  '149 149',\n",
              "  '231 231',\n",
              "  '314 314',\n",
              "  '314 314',\n",
              "  '73 73',\n",
              "  '73 73',\n",
              "  '215 215',\n",
              "  '43 43',\n",
              "  '433 433',\n",
              "  '98 98',\n",
              "  '269 269',\n",
              "  '122 122',\n",
              "  '64 64',\n",
              "  '64 64',\n",
              "  '210 210',\n",
              "  '285 285',\n",
              "  '351 351',\n",
              "  '403 403',\n",
              "  '181 181',\n",
              "  '64 64',\n",
              "  '229 229',\n",
              "  '488 488',\n",
              "  '24 24',\n",
              "  '78 78',\n",
              "  '73 73',\n",
              "  '92 92',\n",
              "  '314 314',\n",
              "  '456 456',\n",
              "  '342 342',\n",
              "  '129 129'],\n",
              " 44850)"
            ]
          },
          "metadata": {
            "tags": []
          },
          "execution_count": 33
        }
      ]
    },
    {
      "cell_type": "markdown",
      "metadata": {
        "id": "M_fDkoEiDvkI",
        "colab_type": "text"
      },
      "source": [
        "Como se puede comprovar por fuerza bruta primero se analizan todas las posibles soluciones y después se almacenan todas las soluciones(n(n-1)/2) que satisfazan los mínimos buscados partiendo de una lista 1D.\n",
        " \n",
        "La complejidad viene dada por O(n^2)"
      ]
    },
    {
      "cell_type": "markdown",
      "metadata": {
        "id": "WKnNLLy-QWrf",
        "colab_type": "text"
      },
      "source": [
        "## 2do Divide y vencerás"
      ]
    },
    {
      "cell_type": "code",
      "metadata": {
        "id": "oTSSIF_7qEPK",
        "colab_type": "code",
        "colab": {}
      },
      "source": [
        "import math\n",
        "import numpy as np\n",
        "import pandas as pd"
      ],
      "execution_count": 0,
      "outputs": []
    },
    {
      "cell_type": "code",
      "metadata": {
        "id": "W1ybbsxYKKIa",
        "colab_type": "code",
        "colab": {}
      },
      "source": [
        "def numero_de_puntos_rango(lista,limite_izq,limite_dr):\n",
        "  menor=[]\n",
        "  for number in lista:\n",
        "    if number>=limite_izq and number<=limite_dr:\n",
        "      menor.append(number)\n",
        "  return menor"
      ],
      "execution_count": 0,
      "outputs": []
    },
    {
      "cell_type": "code",
      "metadata": {
        "id": "v2RYltf8cjla",
        "colab_type": "code",
        "colab": {}
      },
      "source": [
        "def iz_dr_frontera(lista,limite_izq,limite_dr,frontera):\n",
        "  lista_valores_rango_menor=[]\n",
        "  lista_valores_rango_mayor=[]\n",
        "  number_frontera=0\n",
        "  for number in lista:\n",
        "    if number==frontera:\n",
        "      number_frontera=1\n",
        "    if number>=limite_izq and number<frontera:\n",
        "      lista_valores_rango_menor.append(number)\n",
        "    if number>frontera and number<=limite_dr:\n",
        "      lista_valores_rango_mayor.append(number)\n",
        "\n",
        "  return [len(lista_valores_rango_menor), number_frontera, len(lista_valores_rango_mayor)]"
      ],
      "execution_count": 0,
      "outputs": []
    },
    {
      "cell_type": "code",
      "metadata": {
        "id": "eLiglneyUqVU",
        "colab_type": "code",
        "colab": {}
      },
      "source": [
        "def get_numbers_around(lista,frontera):\n",
        "  menores=[]\n",
        "  mayores=[]\n",
        "  for number in lista:\n",
        "    if number<frontera:\n",
        "      menores.append(number)\n",
        "    else:\n",
        "      mayores.append(number)\n",
        "\n",
        "  return [max(menores), min(mayores)]"
      ],
      "execution_count": 0,
      "outputs": []
    },
    {
      "cell_type": "code",
      "metadata": {
        "id": "qqu_LCpvHmRM",
        "colab_type": "code",
        "colab": {}
      },
      "source": [
        "def distancias(lista,limite_izq,limite_dr,frontera,inicial,df1):\n",
        "\n",
        "  if inicial==True:\n",
        "    df1 = pd.DataFrame()\n",
        "\n",
        "  valores_en_rango = iz_dr_frontera(lista,limite_izq,limite_dr,frontera)\n",
        "\n",
        "  if valores_en_rango==[1,1,1]:\n",
        "    d_izq = abs(numero_de_puntos_rango(lista,limite_izq,frontera)[0]-frontera)\n",
        "    puntos_izquierda = str(numero_de_puntos_rango(lista,limite_izq,frontera)[0])+' '+str(frontera)\n",
        "    d_fr = math.inf \n",
        "    puntos_frontera = ' - '\n",
        "    d_dr = abs(numero_de_puntos_rango(lista,frontera,limite_dr)[-1]-frontera)\n",
        "    puntos_derecha = str(frontera)+' '+str(numero_de_puntos_rango(lista,frontera,limite_dr)[-1])\n",
        "\n",
        "  elif valores_en_rango==[0,1,1]:\n",
        "    d_izq = math.inf\n",
        "    puntos_izquierda = ' - '\n",
        "    d_fr = math.inf\n",
        "    puntos_frontera = ' - '\n",
        "    d_dr = abs(numero_de_puntos_rango(lista,frontera,limite_dr)[-1]-frontera)\n",
        "    puntos_derecha = str(frontera)+' '+str(numero_de_puntos_rango(lista,frontera,limite_dr)[-1])\n",
        "\n",
        "  elif valores_en_rango==[1,1,0]:\n",
        "    d_izq = abs(numero_de_puntos_rango(lista,limite_izq,frontera)[0]-frontera)\n",
        "    puntos_izquierda = str(numero_de_puntos_rango(lista,limite_izq,frontera)[0])+' '+str(frontera)\n",
        "    d_fr = math.inf\n",
        "    puntos_frontera = ' - '\n",
        "    d_dr = math.inf\n",
        "    puntos_derecha = ' - '\n",
        "\n",
        "  elif valores_en_rango==[2,0,0]:\n",
        "    d_izq = abs(numero_de_puntos_rango(lista,limite_izq,frontera)[0]-numero_de_puntos_rango(lista,limite_izq,frontera)[-1])\n",
        "    puntos_izquierda = (str(numero_de_puntos_rango(lista,limite_izq,frontera)[0])+' '+str(numero_de_puntos_rango(lista,limite_izq,frontera)[-1]))\n",
        "    d_fr = math.inf\n",
        "    puntos_frontera = ' - '   \n",
        "    d_dr = math.inf\n",
        "    puntos_derecha = ' - '\n",
        "\n",
        "  elif valores_en_rango==[0,0,2]:\n",
        "    d_izq = math.inf\n",
        "    puntos_izquierda = ' - '\n",
        "    d_fr = math.inf\n",
        "    puntos_frontera = ' - '\n",
        "    d_dr = abs(numero_de_puntos_rango(lista,frontera,limite_dr)[-1]-numero_de_puntos_rango(lista,frontera,limite_dr)[0])\n",
        "    puntos_derecha = str(numero_de_puntos_rango(lista,frontera, limite_dr)[0])+' '+str(numero_de_puntos_rango(lista,frontera, limite_dr)[-1])\n",
        "\n",
        "  elif valores_en_rango==[2,0,2]:\n",
        "    d_izq = abs(numero_de_puntos_rango(lista,limite_izq,frontera)[0]-numero_de_puntos_rango(lista,limite_izq,frontera)[-1])\n",
        "    puntos_izquierda = str(numero_de_puntos_rango(lista,limite_izq,frontera)[0])+' '+str(numero_de_puntos_rango(lista,limite_izq,frontera)[-1])\n",
        "    d_fr = abs(get_numbers_around(lista,frontera)[0]-get_numbers_around(lista,frontera)[-1])\n",
        "    puntos_frontera = str(get_numbers_around(lista,frontera)[0])+' '+str(get_numbers_around(lista,frontera)[-1])\n",
        "    d_dr = abs(numero_de_puntos_rango(lista,frontera,limite_dr)[-1]-numero_de_puntos_rango(lista,frontera,limite_dr)[0])\n",
        "    puntos_derecha = str(numero_de_puntos_rango(lista,frontera, limite_dr)[0])+' '+str(numero_de_puntos_rango(lista,frontera, limite_dr)[-1])\n",
        "\n",
        "  elif valores_en_rango==[2,0,1]:\n",
        "    d_izq = abs(numero_de_puntos_rango(lista,limite_izq,frontera)[0]-numero_de_puntos_rango(lista,limite_izq,frontera)[-1])\n",
        "    puntos_izquierda = str(numero_de_puntos_rango(lista,limite_izq,frontera)[0])+' '+str(numero_de_puntos_rango(lista,limite_izq,frontera)[-1])\n",
        "    d_fr = abs(get_numbers_around(lista,frontera)[0]-get_numbers_around(lista,frontera)[-1])\n",
        "    puntos_frontera = str(get_numbers_around(lista,frontera)[0])+' '+str(get_numbers_around(lista,frontera)[-1])\n",
        "    d_dr = math.inf\n",
        "    puntos_derecha = ' - '\n",
        "\n",
        "  elif valores_en_rango==[1,0,2]:\n",
        "    d_izq = math.inf\n",
        "    puntos_izquierda = ' - '\n",
        "    d_fr = abs(get_numbers_around(lista,frontera)[0]-get_numbers_around(lista,frontera)[-1])\n",
        "    puntos_frontera = str(get_numbers_around(lista,frontera)[0])+' '+str(get_numbers_around(lista,frontera)[-1])\n",
        "    d_dr = abs(numero_de_puntos_rango(lista,frontera,limite_dr)[-1]-numero_de_puntos_rango(lista,frontera,limite_dr)[0])\n",
        "    puntos_derecha = str(numero_de_puntos_rango(lista,frontera, limite_dr)[0])+' '+str(numero_de_puntos_rango(lista,frontera, limite_dr)[-1])\n",
        "\n",
        "  elif valores_en_rango==[1,0,1]:\n",
        "    d_izq = math.inf\n",
        "    puntos_izquierda = ' - '\n",
        "    d_fr = abs(get_numbers_around(lista,frontera)[0]-get_numbers_around(lista,frontera)[-1])\n",
        "    puntos_frontera = str(get_numbers_around(lista,frontera)[0])+' '+str(get_numbers_around(lista,frontera)[-1])\n",
        "    d_dr = math.inf\n",
        "    puntos_derecha = ' - '\n",
        "\n",
        "  elif valores_en_rango==[1,0,0] or valores_en_rango==[0,0,1] or valores_en_rango==[0,1,0] or valores_en_rango==[0,0,0]:\n",
        "    d_izq = math.inf\n",
        "    puntos_izquierda = ' - '\n",
        "    d_fr = math.inf\n",
        "    puntos_frontera = ' - '\n",
        "    d_dr = math.inf\n",
        "    puntos_derecha = ' - '\n",
        "\n",
        "  df2 = pd.DataFrame([[min(d_izq,d_fr,d_dr), d_izq, puntos_izquierda, d_fr, puntos_frontera, d_dr, puntos_derecha]], columns=['min_distancia', 'd_izq', 'Puntos_izquierda', 'd_fr', 'Puntos_frontera','d_dr', 'Puntos_derecha' ])\n",
        "  df1 = pd.concat([df1, df2], axis=0, ignore_index=True)\n",
        "\n",
        "  return df1"
      ],
      "execution_count": 0,
      "outputs": []
    },
    {
      "cell_type": "code",
      "metadata": {
        "id": "0ERHIiin7Phs",
        "colab_type": "code",
        "colab": {}
      },
      "source": [
        "def divide_y_venceras(lista,limite_izq,limite_dr,inicial,df1):\n",
        "  if inicial==True:\n",
        "    df1=pd.DataFrame()\n",
        "    inicial=False\n",
        "\n",
        "  frontera = (limite_dr+limite_izq)/2\n",
        "  if max(np.unique(iz_dr_frontera(lista,limite_izq,limite_dr,frontera)))<=2:\n",
        "    return distancias(lista,limite_izq,limite_dr,frontera,inicial,df1)\n",
        "        \n",
        "  else:  \n",
        "    return pd.concat([divide_y_venceras(lista,limite_izq,frontera,inicial,df1), \n",
        "                      pd.DataFrame([[abs(get_numbers_around(lista,frontera)[0]-get_numbers_around(lista,frontera)[-1]), math.inf, ' - ', abs(get_numbers_around(lista,frontera)[0]-get_numbers_around(lista,frontera)[-1]), str(get_numbers_around(lista,frontera)[0])+' '+str(get_numbers_around(lista,frontera)[-1]), math.inf, ' - ']], columns=['min_distancia', 'd_izq', 'Puntos_izquierda', 'd_fr', 'Puntos_frontera','d_dr', 'Puntos_derecha' ]),\n",
        "                      divide_y_venceras(lista,frontera,limite_dr,inicial,df1)],axis=0,ignore_index=True)"
      ],
      "execution_count": 0,
      "outputs": []
    },
    {
      "cell_type": "code",
      "metadata": {
        "id": "x1l7hoTq5goM",
        "colab_type": "code",
        "outputId": "6deddb42-62e4-4df9-addb-d157a4f17cf5",
        "colab": {
          "base_uri": "https://localhost:8080/",
          "height": 453
        }
      },
      "source": [
        "import random\n",
        "lista = [random.randrange(1, 500, 1) for i in range(300)]\n",
        "lista_sort=np.sort(lista)\n",
        "lista_sort "
      ],
      "execution_count": 29,
      "outputs": [
        {
          "output_type": "execute_result",
          "data": {
            "text/plain": [
              "array([  2,   6,   9,  10,  16,  18,  19,  24,  24,  24,  25,  26,  28,\n",
              "        29,  31,  33,  37,  38,  39,  41,  42,  43,  43,  46,  47,  47,\n",
              "        51,  55,  57,  59,  59,  59,  61,  64,  64,  64,  67,  68,  69,\n",
              "        69,  72,  73,  73,  73,  74,  75,  75,  76,  77,  78,  78,  78,\n",
              "        81,  82,  84,  85,  88,  91,  92,  92,  96,  97,  98,  98,  99,\n",
              "       100, 108, 109, 111, 111, 112, 116, 118, 121, 122, 122, 125, 127,\n",
              "       127, 129, 129, 131, 140, 141, 142, 143, 144, 144, 147, 149, 149,\n",
              "       149, 154, 155, 156, 156, 157, 157, 161, 161, 163, 163, 164, 168,\n",
              "       169, 169, 173, 178, 180, 181, 181, 183, 184, 186, 187, 188, 188,\n",
              "       189, 192, 194, 195, 196, 197, 200, 200, 201, 205, 209, 210, 210,\n",
              "       214, 215, 215, 217, 218, 219, 219, 220, 221, 221, 222, 224, 225,\n",
              "       226, 228, 228, 229, 229, 229, 231, 231, 235, 236, 240, 245, 245,\n",
              "       247, 248, 251, 252, 253, 253, 257, 260, 261, 265, 267, 269, 269,\n",
              "       270, 271, 273, 274, 277, 281, 281, 282, 283, 284, 285, 285, 286,\n",
              "       287, 288, 289, 290, 294, 296, 297, 299, 300, 306, 307, 307, 307,\n",
              "       309, 310, 313, 314, 314, 314, 317, 322, 324, 324, 325, 326, 329,\n",
              "       331, 336, 336, 337, 339, 340, 342, 342, 344, 345, 346, 346, 348,\n",
              "       349, 350, 351, 351, 352, 352, 353, 356, 357, 357, 360, 363, 365,\n",
              "       367, 367, 370, 370, 372, 373, 374, 377, 378, 378, 379, 380, 381,\n",
              "       383, 387, 389, 392, 395, 397, 400, 401, 402, 403, 403, 404, 404,\n",
              "       407, 412, 416, 418, 426, 430, 432, 433, 433, 434, 438, 439, 440,\n",
              "       440, 441, 441, 443, 444, 448, 452, 456, 456, 456, 458, 463, 467,\n",
              "       469, 470, 476, 477, 480, 481, 487, 488, 488, 489, 492, 494, 498,\n",
              "       499])"
            ]
          },
          "metadata": {
            "tags": []
          },
          "execution_count": 29
        }
      ]
    },
    {
      "cell_type": "code",
      "metadata": {
        "id": "7Fz93RBjWJ1t",
        "colab_type": "code",
        "outputId": "dc1a0ebe-af54-4758-e7cb-8d0287a9219b",
        "colab": {
          "base_uri": "https://localhost:8080/",
          "height": 53
        }
      },
      "source": [
        "%%time\n",
        "df = divide_y_venceras(lista_sort,lista_sort[0],lista_sort[-1],True,pd.DataFrame())\n",
        "df"
      ],
      "execution_count": 30,
      "outputs": [
        {
          "output_type": "stream",
          "text": [
            "CPU times: user 10.9 s, sys: 14.3 ms, total: 10.9 s\n",
            "Wall time: 10.9 s\n"
          ],
          "name": "stdout"
        }
      ]
    },
    {
      "cell_type": "code",
      "metadata": {
        "id": "-br4TxP8xOco",
        "colab_type": "code",
        "outputId": "bfd6ab1f-b099-493f-c918-4419f24b586f",
        "colab": {
          "base_uri": "https://localhost:8080/",
          "height": 235
        }
      },
      "source": [
        "df['min_distancia'] == min(df['min_distancia'])"
      ],
      "execution_count": 31,
      "outputs": [
        {
          "output_type": "execute_result",
          "data": {
            "text/plain": [
              "0       False\n",
              "1       False\n",
              "2       False\n",
              "3       False\n",
              "4       False\n",
              "        ...  \n",
              "1124     True\n",
              "1125    False\n",
              "1126    False\n",
              "1127    False\n",
              "1128    False\n",
              "Name: min_distancia, Length: 1129, dtype: bool"
            ]
          },
          "metadata": {
            "tags": []
          },
          "execution_count": 31
        }
      ]
    },
    {
      "cell_type": "code",
      "metadata": {
        "id": "6y_Lt_TjxOil",
        "colab_type": "code",
        "outputId": "c9948407-8263-4f51-ed9f-1dc47862c745",
        "colab": {
          "base_uri": "https://localhost:8080/",
          "height": 1000
        }
      },
      "source": [
        "df[df['min_distancia'] == min(df['min_distancia'])]"
      ],
      "execution_count": 32,
      "outputs": [
        {
          "output_type": "execute_result",
          "data": {
            "text/html": [
              "<div>\n",
              "<style scoped>\n",
              "    .dataframe tbody tr th:only-of-type {\n",
              "        vertical-align: middle;\n",
              "    }\n",
              "\n",
              "    .dataframe tbody tr th {\n",
              "        vertical-align: top;\n",
              "    }\n",
              "\n",
              "    .dataframe thead th {\n",
              "        text-align: right;\n",
              "    }\n",
              "</style>\n",
              "<table border=\"1\" class=\"dataframe\">\n",
              "  <thead>\n",
              "    <tr style=\"text-align: right;\">\n",
              "      <th></th>\n",
              "      <th>min_distancia</th>\n",
              "      <th>d_izq</th>\n",
              "      <th>Puntos_izquierda</th>\n",
              "      <th>d_fr</th>\n",
              "      <th>Puntos_frontera</th>\n",
              "      <th>d_dr</th>\n",
              "      <th>Puntos_derecha</th>\n",
              "    </tr>\n",
              "  </thead>\n",
              "  <tbody>\n",
              "    <tr>\n",
              "      <th>112</th>\n",
              "      <td>0.0</td>\n",
              "      <td>1.0</td>\n",
              "      <td>41 42</td>\n",
              "      <td>1.0</td>\n",
              "      <td>42 43</td>\n",
              "      <td>0.0</td>\n",
              "      <td>43 43</td>\n",
              "    </tr>\n",
              "    <tr>\n",
              "      <th>114</th>\n",
              "      <td>0.0</td>\n",
              "      <td>inf</td>\n",
              "      <td>-</td>\n",
              "      <td>1.0</td>\n",
              "      <td>46 47</td>\n",
              "      <td>0.0</td>\n",
              "      <td>47 47</td>\n",
              "    </tr>\n",
              "    <tr>\n",
              "      <th>308</th>\n",
              "      <td>0.0</td>\n",
              "      <td>1.0</td>\n",
              "      <td>67 68</td>\n",
              "      <td>1.0</td>\n",
              "      <td>68 69</td>\n",
              "      <td>0.0</td>\n",
              "      <td>69 69</td>\n",
              "    </tr>\n",
              "    <tr>\n",
              "      <th>402</th>\n",
              "      <td>0.0</td>\n",
              "      <td>inf</td>\n",
              "      <td>-</td>\n",
              "      <td>1.0</td>\n",
              "      <td>74 75</td>\n",
              "      <td>0.0</td>\n",
              "      <td>75 75</td>\n",
              "    </tr>\n",
              "    <tr>\n",
              "      <th>498</th>\n",
              "      <td>0.0</td>\n",
              "      <td>3.0</td>\n",
              "      <td>88 91</td>\n",
              "      <td>1.0</td>\n",
              "      <td>91 92</td>\n",
              "      <td>0.0</td>\n",
              "      <td>92 92</td>\n",
              "    </tr>\n",
              "    <tr>\n",
              "      <th>502</th>\n",
              "      <td>0.0</td>\n",
              "      <td>0.0</td>\n",
              "      <td>98 98</td>\n",
              "      <td>1.0</td>\n",
              "      <td>98 99</td>\n",
              "      <td>inf</td>\n",
              "      <td>-</td>\n",
              "    </tr>\n",
              "    <tr>\n",
              "      <th>508</th>\n",
              "      <td>0.0</td>\n",
              "      <td>0.0</td>\n",
              "      <td>111 111</td>\n",
              "      <td>1.0</td>\n",
              "      <td>111 112</td>\n",
              "      <td>inf</td>\n",
              "      <td>-</td>\n",
              "    </tr>\n",
              "    <tr>\n",
              "      <th>516</th>\n",
              "      <td>0.0</td>\n",
              "      <td>inf</td>\n",
              "      <td>-</td>\n",
              "      <td>1.0</td>\n",
              "      <td>121 122</td>\n",
              "      <td>0.0</td>\n",
              "      <td>122 122</td>\n",
              "    </tr>\n",
              "    <tr>\n",
              "      <th>520</th>\n",
              "      <td>0.0</td>\n",
              "      <td>0.0</td>\n",
              "      <td>127 127</td>\n",
              "      <td>2.0</td>\n",
              "      <td>127 129</td>\n",
              "      <td>0.0</td>\n",
              "      <td>129 129</td>\n",
              "    </tr>\n",
              "    <tr>\n",
              "      <th>526</th>\n",
              "      <td>0.0</td>\n",
              "      <td>1.0</td>\n",
              "      <td>142 143</td>\n",
              "      <td>1.0</td>\n",
              "      <td>143 144</td>\n",
              "      <td>0.0</td>\n",
              "      <td>144 144</td>\n",
              "    </tr>\n",
              "    <tr>\n",
              "      <th>614</th>\n",
              "      <td>0.0</td>\n",
              "      <td>0.0</td>\n",
              "      <td>156 156</td>\n",
              "      <td>1.0</td>\n",
              "      <td>156 157</td>\n",
              "      <td>0.0</td>\n",
              "      <td>157 157</td>\n",
              "    </tr>\n",
              "    <tr>\n",
              "      <th>616</th>\n",
              "      <td>0.0</td>\n",
              "      <td>inf</td>\n",
              "      <td>-</td>\n",
              "      <td>inf</td>\n",
              "      <td>-</td>\n",
              "      <td>0.0</td>\n",
              "      <td>161 161</td>\n",
              "    </tr>\n",
              "    <tr>\n",
              "      <th>618</th>\n",
              "      <td>0.0</td>\n",
              "      <td>0.0</td>\n",
              "      <td>163 163</td>\n",
              "      <td>1.0</td>\n",
              "      <td>163 164</td>\n",
              "      <td>inf</td>\n",
              "      <td>-</td>\n",
              "    </tr>\n",
              "    <tr>\n",
              "      <th>620</th>\n",
              "      <td>0.0</td>\n",
              "      <td>inf</td>\n",
              "      <td>-</td>\n",
              "      <td>1.0</td>\n",
              "      <td>168 169</td>\n",
              "      <td>0.0</td>\n",
              "      <td>169 169</td>\n",
              "    </tr>\n",
              "    <tr>\n",
              "      <th>624</th>\n",
              "      <td>0.0</td>\n",
              "      <td>0.0</td>\n",
              "      <td>181 181</td>\n",
              "      <td>2.0</td>\n",
              "      <td>181 183</td>\n",
              "      <td>1.0</td>\n",
              "      <td>183 184</td>\n",
              "    </tr>\n",
              "    <tr>\n",
              "      <th>628</th>\n",
              "      <td>0.0</td>\n",
              "      <td>inf</td>\n",
              "      <td>-</td>\n",
              "      <td>1.0</td>\n",
              "      <td>187 188</td>\n",
              "      <td>0.0</td>\n",
              "      <td>188 188</td>\n",
              "    </tr>\n",
              "    <tr>\n",
              "      <th>634</th>\n",
              "      <td>0.0</td>\n",
              "      <td>inf</td>\n",
              "      <td>-</td>\n",
              "      <td>3.0</td>\n",
              "      <td>197 200</td>\n",
              "      <td>0.0</td>\n",
              "      <td>200 200</td>\n",
              "    </tr>\n",
              "    <tr>\n",
              "      <th>640</th>\n",
              "      <td>0.0</td>\n",
              "      <td>inf</td>\n",
              "      <td>-</td>\n",
              "      <td>1.0</td>\n",
              "      <td>209 210</td>\n",
              "      <td>0.0</td>\n",
              "      <td>210 210</td>\n",
              "    </tr>\n",
              "    <tr>\n",
              "      <th>644</th>\n",
              "      <td>0.0</td>\n",
              "      <td>inf</td>\n",
              "      <td>-</td>\n",
              "      <td>1.0</td>\n",
              "      <td>214 215</td>\n",
              "      <td>0.0</td>\n",
              "      <td>215 215</td>\n",
              "    </tr>\n",
              "    <tr>\n",
              "      <th>648</th>\n",
              "      <td>0.0</td>\n",
              "      <td>inf</td>\n",
              "      <td>-</td>\n",
              "      <td>1.0</td>\n",
              "      <td>218 219</td>\n",
              "      <td>0.0</td>\n",
              "      <td>219 219</td>\n",
              "    </tr>\n",
              "    <tr>\n",
              "      <th>650</th>\n",
              "      <td>0.0</td>\n",
              "      <td>inf</td>\n",
              "      <td>-</td>\n",
              "      <td>1.0</td>\n",
              "      <td>220 221</td>\n",
              "      <td>0.0</td>\n",
              "      <td>221 221</td>\n",
              "    </tr>\n",
              "    <tr>\n",
              "      <th>656</th>\n",
              "      <td>0.0</td>\n",
              "      <td>inf</td>\n",
              "      <td>-</td>\n",
              "      <td>inf</td>\n",
              "      <td>-</td>\n",
              "      <td>0.0</td>\n",
              "      <td>228 228</td>\n",
              "    </tr>\n",
              "    <tr>\n",
              "      <th>744</th>\n",
              "      <td>0.0</td>\n",
              "      <td>inf</td>\n",
              "      <td>-</td>\n",
              "      <td>inf</td>\n",
              "      <td>-</td>\n",
              "      <td>0.0</td>\n",
              "      <td>231 231</td>\n",
              "    </tr>\n",
              "    <tr>\n",
              "      <th>750</th>\n",
              "      <td>0.0</td>\n",
              "      <td>0.0</td>\n",
              "      <td>245 245</td>\n",
              "      <td>2.0</td>\n",
              "      <td>245 247</td>\n",
              "      <td>1.0</td>\n",
              "      <td>247 248</td>\n",
              "    </tr>\n",
              "    <tr>\n",
              "      <th>752</th>\n",
              "      <td>0.0</td>\n",
              "      <td>1.0</td>\n",
              "      <td>251 252</td>\n",
              "      <td>1.0</td>\n",
              "      <td>252 253</td>\n",
              "      <td>0.0</td>\n",
              "      <td>253 253</td>\n",
              "    </tr>\n",
              "    <tr>\n",
              "      <th>758</th>\n",
              "      <td>0.0</td>\n",
              "      <td>inf</td>\n",
              "      <td>-</td>\n",
              "      <td>2.0</td>\n",
              "      <td>267 269</td>\n",
              "      <td>0.0</td>\n",
              "      <td>269 269</td>\n",
              "    </tr>\n",
              "    <tr>\n",
              "      <th>762</th>\n",
              "      <td>0.0</td>\n",
              "      <td>3.0</td>\n",
              "      <td>274 277</td>\n",
              "      <td>4.0</td>\n",
              "      <td>277 281</td>\n",
              "      <td>0.0</td>\n",
              "      <td>281 281</td>\n",
              "    </tr>\n",
              "    <tr>\n",
              "      <th>766</th>\n",
              "      <td>0.0</td>\n",
              "      <td>inf</td>\n",
              "      <td>-</td>\n",
              "      <td>1.0</td>\n",
              "      <td>284 285</td>\n",
              "      <td>0.0</td>\n",
              "      <td>285 285</td>\n",
              "    </tr>\n",
              "    <tr>\n",
              "      <th>960</th>\n",
              "      <td>0.0</td>\n",
              "      <td>inf</td>\n",
              "      <td>-</td>\n",
              "      <td>2.0</td>\n",
              "      <td>322 324</td>\n",
              "      <td>0.0</td>\n",
              "      <td>324 324</td>\n",
              "    </tr>\n",
              "    <tr>\n",
              "      <th>966</th>\n",
              "      <td>0.0</td>\n",
              "      <td>0.0</td>\n",
              "      <td>336 336</td>\n",
              "      <td>1.0</td>\n",
              "      <td>336 337</td>\n",
              "      <td>inf</td>\n",
              "      <td>-</td>\n",
              "    </tr>\n",
              "    <tr>\n",
              "      <th>970</th>\n",
              "      <td>0.0</td>\n",
              "      <td>inf</td>\n",
              "      <td>-</td>\n",
              "      <td>2.0</td>\n",
              "      <td>340 342</td>\n",
              "      <td>0.0</td>\n",
              "      <td>342 342</td>\n",
              "    </tr>\n",
              "    <tr>\n",
              "      <th>972</th>\n",
              "      <td>0.0</td>\n",
              "      <td>1.0</td>\n",
              "      <td>344 345</td>\n",
              "      <td>1.0</td>\n",
              "      <td>345 346</td>\n",
              "      <td>0.0</td>\n",
              "      <td>346 346</td>\n",
              "    </tr>\n",
              "    <tr>\n",
              "      <th>976</th>\n",
              "      <td>0.0</td>\n",
              "      <td>inf</td>\n",
              "      <td>-</td>\n",
              "      <td>1.0</td>\n",
              "      <td>350 351</td>\n",
              "      <td>0.0</td>\n",
              "      <td>351 351</td>\n",
              "    </tr>\n",
              "    <tr>\n",
              "      <th>978</th>\n",
              "      <td>0.0</td>\n",
              "      <td>0.0</td>\n",
              "      <td>352 352</td>\n",
              "      <td>1.0</td>\n",
              "      <td>352 353</td>\n",
              "      <td>inf</td>\n",
              "      <td>-</td>\n",
              "    </tr>\n",
              "    <tr>\n",
              "      <th>982</th>\n",
              "      <td>0.0</td>\n",
              "      <td>inf</td>\n",
              "      <td>-</td>\n",
              "      <td>1.0</td>\n",
              "      <td>356 357</td>\n",
              "      <td>0.0</td>\n",
              "      <td>357 357</td>\n",
              "    </tr>\n",
              "    <tr>\n",
              "      <th>988</th>\n",
              "      <td>0.0</td>\n",
              "      <td>0.0</td>\n",
              "      <td>367 367</td>\n",
              "      <td>3.0</td>\n",
              "      <td>367 370</td>\n",
              "      <td>0.0</td>\n",
              "      <td>370 370</td>\n",
              "    </tr>\n",
              "    <tr>\n",
              "      <th>994</th>\n",
              "      <td>0.0</td>\n",
              "      <td>inf</td>\n",
              "      <td>-</td>\n",
              "      <td>1.0</td>\n",
              "      <td>377 378</td>\n",
              "      <td>0.0</td>\n",
              "      <td>378 378</td>\n",
              "    </tr>\n",
              "    <tr>\n",
              "      <th>1004</th>\n",
              "      <td>0.0</td>\n",
              "      <td>inf</td>\n",
              "      <td>-</td>\n",
              "      <td>1.0</td>\n",
              "      <td>402 403</td>\n",
              "      <td>0.0</td>\n",
              "      <td>403 403</td>\n",
              "    </tr>\n",
              "    <tr>\n",
              "      <th>1006</th>\n",
              "      <td>0.0</td>\n",
              "      <td>0.0</td>\n",
              "      <td>404 404</td>\n",
              "      <td>inf</td>\n",
              "      <td>-</td>\n",
              "      <td>inf</td>\n",
              "      <td>-</td>\n",
              "    </tr>\n",
              "    <tr>\n",
              "      <th>1014</th>\n",
              "      <td>0.0</td>\n",
              "      <td>0.0</td>\n",
              "      <td>433 433</td>\n",
              "      <td>1.0</td>\n",
              "      <td>433 434</td>\n",
              "      <td>inf</td>\n",
              "      <td>-</td>\n",
              "    </tr>\n",
              "    <tr>\n",
              "      <th>1020</th>\n",
              "      <td>0.0</td>\n",
              "      <td>inf</td>\n",
              "      <td>-</td>\n",
              "      <td>1.0</td>\n",
              "      <td>439 440</td>\n",
              "      <td>0.0</td>\n",
              "      <td>440 440</td>\n",
              "    </tr>\n",
              "    <tr>\n",
              "      <th>1022</th>\n",
              "      <td>0.0</td>\n",
              "      <td>0.0</td>\n",
              "      <td>441 441</td>\n",
              "      <td>2.0</td>\n",
              "      <td>441 443</td>\n",
              "      <td>1.0</td>\n",
              "      <td>443 444</td>\n",
              "    </tr>\n",
              "    <tr>\n",
              "      <th>1124</th>\n",
              "      <td>0.0</td>\n",
              "      <td>0.0</td>\n",
              "      <td>488 488</td>\n",
              "      <td>1.0</td>\n",
              "      <td>488 489</td>\n",
              "      <td>inf</td>\n",
              "      <td>-</td>\n",
              "    </tr>\n",
              "  </tbody>\n",
              "</table>\n",
              "</div>"
            ],
            "text/plain": [
              "      min_distancia  d_izq  ... d_dr  Puntos_derecha\n",
              "112             0.0    1.0  ...  0.0           43 43\n",
              "114             0.0    inf  ...  0.0           47 47\n",
              "308             0.0    1.0  ...  0.0           69 69\n",
              "402             0.0    inf  ...  0.0           75 75\n",
              "498             0.0    3.0  ...  0.0           92 92\n",
              "502             0.0    0.0  ...  inf              - \n",
              "508             0.0    0.0  ...  inf              - \n",
              "516             0.0    inf  ...  0.0         122 122\n",
              "520             0.0    0.0  ...  0.0         129 129\n",
              "526             0.0    1.0  ...  0.0         144 144\n",
              "614             0.0    0.0  ...  0.0         157 157\n",
              "616             0.0    inf  ...  0.0         161 161\n",
              "618             0.0    0.0  ...  inf              - \n",
              "620             0.0    inf  ...  0.0         169 169\n",
              "624             0.0    0.0  ...  1.0         183 184\n",
              "628             0.0    inf  ...  0.0         188 188\n",
              "634             0.0    inf  ...  0.0         200 200\n",
              "640             0.0    inf  ...  0.0         210 210\n",
              "644             0.0    inf  ...  0.0         215 215\n",
              "648             0.0    inf  ...  0.0         219 219\n",
              "650             0.0    inf  ...  0.0         221 221\n",
              "656             0.0    inf  ...  0.0         228 228\n",
              "744             0.0    inf  ...  0.0         231 231\n",
              "750             0.0    0.0  ...  1.0         247 248\n",
              "752             0.0    1.0  ...  0.0         253 253\n",
              "758             0.0    inf  ...  0.0         269 269\n",
              "762             0.0    3.0  ...  0.0         281 281\n",
              "766             0.0    inf  ...  0.0         285 285\n",
              "960             0.0    inf  ...  0.0         324 324\n",
              "966             0.0    0.0  ...  inf              - \n",
              "970             0.0    inf  ...  0.0         342 342\n",
              "972             0.0    1.0  ...  0.0         346 346\n",
              "976             0.0    inf  ...  0.0         351 351\n",
              "978             0.0    0.0  ...  inf              - \n",
              "982             0.0    inf  ...  0.0         357 357\n",
              "988             0.0    0.0  ...  0.0         370 370\n",
              "994             0.0    inf  ...  0.0         378 378\n",
              "1004            0.0    inf  ...  0.0         403 403\n",
              "1006            0.0    0.0  ...  inf              - \n",
              "1014            0.0    0.0  ...  inf              - \n",
              "1020            0.0    inf  ...  0.0         440 440\n",
              "1022            0.0    0.0  ...  1.0         443 444\n",
              "1124            0.0    0.0  ...  inf              - \n",
              "\n",
              "[43 rows x 7 columns]"
            ]
          },
          "metadata": {
            "tags": []
          },
          "execution_count": 32
        }
      ]
    },
    {
      "cell_type": "code",
      "metadata": {
        "id": "IP2eTXdixOmA",
        "colab_type": "code",
        "outputId": "d7ac71d9-00b4-4081-c32d-86051d84c96e",
        "colab": {
          "base_uri": "https://localhost:8080/",
          "height": 134
        }
      },
      "source": [
        "a['min_distancia']==1.index()"
      ],
      "execution_count": 0,
      "outputs": [
        {
          "output_type": "error",
          "ename": "SyntaxError",
          "evalue": "ignored",
          "traceback": [
            "\u001b[0;36m  File \u001b[0;32m\"<ipython-input-106-3d6fa08cf455>\"\u001b[0;36m, line \u001b[0;32m1\u001b[0m\n\u001b[0;31m    a['min_distancia']==1.index()\u001b[0m\n\u001b[0m                              ^\u001b[0m\n\u001b[0;31mSyntaxError\u001b[0m\u001b[0;31m:\u001b[0m invalid syntax\n"
          ]
        }
      ]
    },
    {
      "cell_type": "code",
      "metadata": {
        "id": "vMsSgMmwv0Pd",
        "colab_type": "code",
        "colab": {}
      },
      "source": [
        ""
      ],
      "execution_count": 0,
      "outputs": []
    }
  ]
}