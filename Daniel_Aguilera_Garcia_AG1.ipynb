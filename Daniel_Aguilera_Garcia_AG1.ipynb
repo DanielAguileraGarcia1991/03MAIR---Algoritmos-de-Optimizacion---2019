{
  "nbformat": 4,
  "nbformat_minor": 0,
  "metadata": {
    "colab": {
      "name": "Daniel Aguilera Garcia-AG1.ipynb",
      "provenance": [],
      "collapsed_sections": [],
      "include_colab_link": true
    },
    "kernelspec": {
      "name": "python3",
      "display_name": "Python 3"
    }
  },
  "cells": [
    {
      "cell_type": "markdown",
      "metadata": {
        "id": "view-in-github",
        "colab_type": "text"
      },
      "source": [
        "<a href=\"https://colab.research.google.com/github/DanielAguileraGarcia1991/03MAIR---Algoritmos-de-Optimizacion---2019/blob/master/Daniel_Aguilera_Garcia_AG1.ipynb\" target=\"_parent\"><img src=\"https://colab.research.google.com/assets/colab-badge.svg\" alt=\"Open In Colab\"/></a>"
      ]
    },
    {
      "cell_type": "markdown",
      "metadata": {
        "id": "7EGOHf-zWIO6",
        "colab_type": "text"
      },
      "source": [
        "AG1. Algoritmos de optimización \n",
        "\n",
        "Daniel Aguilera\n",
        "\n",
        "https://colab.research.google.com/drive/1DzoOvCA0qY7aehnqM-k2VC2JqwEdTWv1"
      ]
    },
    {
      "cell_type": "markdown",
      "metadata": {
        "id": "qLYLN3jM_Ti5",
        "colab_type": "text"
      },
      "source": [
        "## Sucesión de Fibonacci con Recursividad"
      ]
    },
    {
      "cell_type": "code",
      "metadata": {
        "id": "iDzLr1w4_RM1",
        "colab_type": "code",
        "outputId": "9b1b3380-6090-4e11-9efe-a366a26b5a02",
        "colab": {
          "base_uri": "https://localhost:8080/",
          "height": 839
        }
      },
      "source": [
        "%%time\n",
        "def recursividad_fibo(n):\n",
        "  if n<=1:\n",
        "    return n\n",
        "  else:\n",
        "    return (recursividad_fibo(n-1)+recursividad_fibo(n-2))\n",
        "\n",
        "nterminos = int(input(\"Introduce la n-essima deseada? \"))  \n",
        "\n",
        " \n",
        "print(\"Secuencia de Fibonacci:\")  \n",
        "\n",
        "for i in range(1,nterminos+1):  \n",
        "    print(recursividad_fibo(i))"
      ],
      "execution_count": 0,
      "outputs": [
        {
          "output_type": "stream",
          "text": [
            "Introduce la n-essima deseada? 40\n",
            "Secuencia de Fibonacci:\n",
            "1\n",
            "1\n",
            "2\n",
            "3\n",
            "5\n",
            "8\n",
            "13\n",
            "21\n",
            "34\n",
            "55\n",
            "89\n",
            "144\n",
            "233\n",
            "377\n",
            "610\n",
            "987\n",
            "1597\n",
            "2584\n",
            "4181\n",
            "6765\n",
            "10946\n",
            "17711\n",
            "28657\n",
            "46368\n",
            "75025\n",
            "121393\n",
            "196418\n",
            "317811\n",
            "514229\n",
            "832040\n",
            "1346269\n",
            "2178309\n",
            "3524578\n",
            "5702887\n",
            "9227465\n",
            "14930352\n",
            "24157817\n",
            "39088169\n",
            "63245986\n",
            "102334155\n",
            "CPU times: user 1min 30s, sys: 22 ms, total: 1min 30s\n",
            "Wall time: 1min 36s\n"
          ],
          "name": "stdout"
        }
      ]
    },
    {
      "cell_type": "code",
      "metadata": {
        "id": "mVdNUrqqALjv",
        "colab_type": "code",
        "outputId": "18ed6cf8-d432-420c-ef1c-707d7302ad1a",
        "colab": {
          "base_uri": "https://localhost:8080/",
          "height": 764
        }
      },
      "source": [
        "40#Para ver el número de llamadas que se le hace a la funcion de recursividad_fibo pongamos un print ('fibonacci: n ')\n",
        "def recursividad_fibo(n):\n",
        "  print('fibonacci: '+str(n))\n",
        "  if n<=1:\n",
        "    return n\n",
        "  else:\n",
        "    return (recursividad_fibo(n-1)+recursividad_fibo(n-2))\n",
        "\n",
        "nterminos = int(input(\"Introduce la n-essima deseada? \"))  \n",
        "\n",
        " \n",
        "print(\"Secuencia de Fibonacci:\")  \n",
        "\n",
        "for i in range(1,nterminos+1):  \n",
        "    print(recursividad_fibo(i)) "
      ],
      "execution_count": 0,
      "outputs": [
        {
          "output_type": "stream",
          "text": [
            "Introduce la n-essima deseada? 5\n",
            "Secuencia de Fibonacci:\n",
            "fibonacci: 1\n",
            "1\n",
            "fibonacci: 2\n",
            "fibonacci: 1\n",
            "fibonacci: 0\n",
            "1\n",
            "fibonacci: 3\n",
            "fibonacci: 2\n",
            "fibonacci: 1\n",
            "fibonacci: 0\n",
            "fibonacci: 1\n",
            "2\n",
            "fibonacci: 4\n",
            "fibonacci: 3\n",
            "fibonacci: 2\n",
            "fibonacci: 1\n",
            "fibonacci: 0\n",
            "fibonacci: 1\n",
            "fibonacci: 2\n",
            "fibonacci: 1\n",
            "fibonacci: 0\n",
            "3\n",
            "fibonacci: 5\n",
            "fibonacci: 4\n",
            "fibonacci: 3\n",
            "fibonacci: 2\n",
            "fibonacci: 1\n",
            "fibonacci: 0\n",
            "fibonacci: 1\n",
            "fibonacci: 2\n",
            "fibonacci: 1\n",
            "fibonacci: 0\n",
            "fibonacci: 3\n",
            "fibonacci: 2\n",
            "fibonacci: 1\n",
            "fibonacci: 0\n",
            "fibonacci: 1\n",
            "5\n"
          ],
          "name": "stdout"
        }
      ]
    },
    {
      "cell_type": "markdown",
      "metadata": {
        "id": "YAp3udcwSCfq",
        "colab_type": "text"
      },
      "source": [
        "Como se puede apreciar en la anterior cela, la función de Fibonacci con recursividad llama a la misma función siempre que la n sea menor o igual a 1. Es cuando tiene ese valor que la función devuelve un valor el cual se sumararà con anteriores valores y darà un resultado de la serie."
      ]
    },
    {
      "cell_type": "markdown",
      "metadata": {
        "id": "i-waToWEUSPH",
        "colab_type": "text"
      },
      "source": [
        "## Sucesión de Fibonacci sin recursividad"
      ]
    },
    {
      "cell_type": "code",
      "metadata": {
        "id": "B0FMucctURFF",
        "colab_type": "code",
        "colab": {}
      },
      "source": [
        "def sucesion_Fibonacci(n):\n",
        "  if n==1:\n",
        "    lista=[1]\n",
        "  elif n==2:\n",
        "    lista=[1,1]\n",
        "  elif n>2:\n",
        "    lista=[1,1]\n",
        "    for i in range (n-2):\n",
        "      lista.append(lista[-1]+lista[-2])\n",
        "  return lista"
      ],
      "execution_count": 0,
      "outputs": []
    },
    {
      "cell_type": "code",
      "metadata": {
        "id": "i_bQtrIOUp2F",
        "colab_type": "code",
        "outputId": "33b4cfac-3f71-4b78-b692-38351e4ad562",
        "colab": {
          "base_uri": "https://localhost:8080/",
          "height": 802
        }
      },
      "source": [
        "%%time\n",
        "sucesion_Fibonacci(40)"
      ],
      "execution_count": 0,
      "outputs": [
        {
          "output_type": "stream",
          "text": [
            "CPU times: user 16 µs, sys: 1e+03 ns, total: 17 µs\n",
            "Wall time: 20.3 µs\n"
          ],
          "name": "stdout"
        },
        {
          "output_type": "execute_result",
          "data": {
            "text/plain": [
              "[1,\n",
              " 1,\n",
              " 2,\n",
              " 3,\n",
              " 5,\n",
              " 8,\n",
              " 13,\n",
              " 21,\n",
              " 34,\n",
              " 55,\n",
              " 89,\n",
              " 144,\n",
              " 233,\n",
              " 377,\n",
              " 610,\n",
              " 987,\n",
              " 1597,\n",
              " 2584,\n",
              " 4181,\n",
              " 6765,\n",
              " 10946,\n",
              " 17711,\n",
              " 28657,\n",
              " 46368,\n",
              " 75025,\n",
              " 121393,\n",
              " 196418,\n",
              " 317811,\n",
              " 514229,\n",
              " 832040,\n",
              " 1346269,\n",
              " 2178309,\n",
              " 3524578,\n",
              " 5702887,\n",
              " 9227465,\n",
              " 14930352,\n",
              " 24157817,\n",
              " 39088169,\n",
              " 63245986,\n",
              " 102334155]"
            ]
          },
          "metadata": {
            "tags": []
          },
          "execution_count": 12
        }
      ]
    },
    {
      "cell_type": "markdown",
      "metadata": {
        "id": "riJKjlYESgHw",
        "colab_type": "text"
      },
      "source": [
        "Vemos la diferencia de tiempo entre con recursividad y sin. La complejidad con recursión es mucho más elevada que sin recursividad."
      ]
    },
    {
      "cell_type": "markdown",
      "metadata": {
        "id": "vyqG47Ty13bR",
        "colab_type": "text"
      },
      "source": [
        "## Juego de las tres torres"
      ]
    },
    {
      "cell_type": "code",
      "metadata": {
        "id": "X-rnUFirWNH8",
        "colab_type": "code",
        "outputId": "6769aa5e-7ab8-4ece-9dce-ef158028955e",
        "colab": {
          "base_uri": "https://localhost:8080/",
          "height": 144
        }
      },
      "source": [
        "def torres(N,desde,hasta):\n",
        "  if N==1:\n",
        "    print(\"lleva la ficha desde\", desde, \"hasta\", hasta)\n",
        "  \n",
        "  else:\n",
        "    torres(N-1, desde, 6-desde-hasta)\n",
        "    print(\"lleva la ficha desde\", desde, \"hasta\", hasta)\n",
        "    torres(N-1, 6-desde-hasta, hasta)\n",
        "\n",
        "torres(3,1,3)"
      ],
      "execution_count": 0,
      "outputs": [
        {
          "output_type": "stream",
          "text": [
            "lleva la ficha desde 1 hasta 3\n",
            "lleva la ficha desde 1 hasta 2\n",
            "lleva la ficha desde 3 hasta 2\n",
            "lleva la ficha desde 1 hasta 3\n",
            "lleva la ficha desde 2 hasta 1\n",
            "lleva la ficha desde 2 hasta 3\n",
            "lleva la ficha desde 1 hasta 3\n"
          ],
          "name": "stdout"
        }
      ]
    },
    {
      "cell_type": "markdown",
      "metadata": {
        "id": "RIiXSqRXZG62",
        "colab_type": "text"
      },
      "source": [
        "## Problema de las 4 reinas"
      ]
    },
    {
      "cell_type": "code",
      "metadata": {
        "id": "GhNYc1_xXp5Q",
        "colab_type": "code",
        "colab": {}
      },
      "source": [
        "#Backtraking: cuando la solución actual no es solución se vuelve atrás para rectificar y intentar buscar otra solución. "
      ],
      "execution_count": 0,
      "outputs": []
    },
    {
      "cell_type": "code",
      "metadata": {
        "id": "ZiBKoTqYjBvB",
        "colab_type": "code",
        "colab": {}
      },
      "source": [
        "import numpy as np"
      ],
      "execution_count": 0,
      "outputs": []
    },
    {
      "cell_type": "code",
      "metadata": {
        "id": "TgqBZZ2Ui5VD",
        "colab_type": "code",
        "colab": {}
      },
      "source": [
        "def backtracking(tupla,N):\n",
        "  count=0\n",
        "  for number in tupla:\n",
        "    if number>N:\n",
        "      count+=1\n",
        "  \n",
        "  if count>0:\n",
        "    return True\n",
        "  else:\n",
        "    return False\n",
        "  "
      ],
      "execution_count": 0,
      "outputs": []
    },
    {
      "cell_type": "code",
      "metadata": {
        "id": "WKgWZRw7b7e8",
        "colab_type": "code",
        "colab": {}
      },
      "source": [
        "def reina_range(tupla,N):\n",
        "  count=0\n",
        "  for number in tupla:\n",
        "    if number>N or number<1 :\n",
        "      count+=1\n",
        "  return N-count"
      ],
      "execution_count": 0,
      "outputs": []
    },
    {
      "cell_type": "code",
      "metadata": {
        "id": "sSZU2FlfZFUC",
        "colab_type": "code",
        "colab": {}
      },
      "source": [
        "def reina_amenazada(tupla,N):\n",
        "  count=0\n",
        "  reina_rango = reina_range(tupla,N)\n",
        "  if reina_rango>1:\n",
        "    if len(np.unique(tupla[:reina_rango]))<reina_rango:\n",
        "      return False\n",
        "    else:\n",
        "      for i in range(reina_rango-1):\n",
        "        for j in range(i+1,reina_rango):\n",
        "          if abs(i-j)==abs(tupla[i]-tupla[j]):\n",
        "            count+=1\n",
        "\n",
        "    if count==0:\n",
        "      return True\n",
        "    else:\n",
        "      return False\n",
        "\n",
        " \n",
        "  else:\n",
        "    return True"
      ],
      "execution_count": 0,
      "outputs": []
    },
    {
      "cell_type": "code",
      "metadata": {
        "id": "YRHYJM6GaE-Y",
        "colab_type": "code",
        "colab": {}
      },
      "source": [
        "def solucion(tupla,N):\n",
        "  if list(np.unique(tupla))==list(np.arange(1,N+1)) and reina_amenazada(tupla,N):\n",
        "    return True\n",
        "  else:\n",
        "    return False"
      ],
      "execution_count": 0,
      "outputs": []
    },
    {
      "cell_type": "code",
      "metadata": {
        "id": "EoZ1lKpkaIWw",
        "colab_type": "code",
        "colab": {}
      },
      "source": [
        "def reinas(N,tupla,k,back_track):\n",
        "  while (k<N):\n",
        "    if solucion(tupla,N):\n",
        "      print(tupla)\n",
        "      tupla[0]+=1\n",
        "      tupla[1:]=list(np.zeros(N-1, dtype=int))\n",
        "      k=1\n",
        "    if tupla[k]==0:\n",
        "      tupla[k]+=1\n",
        "    elif (reina_amenazada(tupla,N)==False or back_track==True):\n",
        "      tupla[k]+=1\n",
        "      back_track=False\n",
        "    elif backtracking(tupla,N) == True:\n",
        "      if tupla[0]>N:\n",
        "        return ('Ya se han encontrado todas las soluciones')\n",
        "      tupla[k]=0\n",
        "      back_track=True\n",
        "      k-=1\n",
        "      reinas(N,tupla,k,back_track)\n",
        "    elif reina_amenazada(tupla,N)==True:\n",
        "      k+=1"
      ],
      "execution_count": 0,
      "outputs": []
    },
    {
      "cell_type": "code",
      "metadata": {
        "id": "_puIYRzuaJi0",
        "colab_type": "code",
        "outputId": "ae899045-e6fe-4422-b536-c6e7298c15fd",
        "colab": {
          "base_uri": "https://localhost:8080/",
          "height": 73
        }
      },
      "source": [
        "reinas(4,list((0,0,0,0)),0,False)"
      ],
      "execution_count": 0,
      "outputs": [
        {
          "output_type": "stream",
          "text": [
            "[2, 4, 1, 3]\n",
            "[3, 1, 4, 2]\n"
          ],
          "name": "stdout"
        },
        {
          "output_type": "execute_result",
          "data": {
            "text/plain": [
              "'Ya se han encontrado todas las soluciones'"
            ]
          },
          "metadata": {
            "tags": []
          },
          "execution_count": 24
        }
      ]
    },
    {
      "cell_type": "markdown",
      "metadata": {
        "id": "3LHoZdFN2KKx",
        "colab_type": "text"
      },
      "source": [
        "Observaciones:\n",
        "  - Se ha importado la librería numpy para tener la función np.unique()\n",
        "  - Se han creado 4 funciones a parte de la función principal: backtracking, reina_range, reina_amenazada y solucion. Todas ellas tienen como entrada la tupla en el momento actual.\n",
        "  - Función backtracking: cuando la reina sale fuera del tablero se activa esta función, se pasa a una fila anterior, el valor de la fila pasa a 0 y se desactiva cuando a la fila anterior se le suma 1. Cuando backtracking se actica la función principal reina se vuelve a llamar a si misma(recursividad).\n",
        "  - Función reina_range: esta función permite saber en que rango del tablero esta referida la tupla en el momento para definir si la reina está o no amenazada.\n",
        "  - Función reina_amenazada: True ninguna reina está amenazada y False lo contrario.\n",
        "  - Función solucion: permite saber si la tupla en todo momento es solución final o no. Cuando la función principal encuentra una solución, le suma 1 a la primera componente de la tupla y se intenta encontrar otra solución.\n",
        "  - La función principal reinas terminará cuando el valor de la primera fila salga del tablero y será entonces cuando ya se habrán encontrado todas las soluciones posibles."
      ]
    },
    {
      "cell_type": "markdown",
      "metadata": {
        "id": "MpDfX38T53S0",
        "colab_type": "text"
      },
      "source": [
        "# Encontrar los dos puntos más cercanos "
      ]
    },
    {
      "cell_type": "markdown",
      "metadata": {
        "id": "D5gibQLE6HYu",
        "colab_type": "text"
      },
      "source": [
        "## 1ro Fuerza bruta"
      ]
    },
    {
      "cell_type": "code",
      "metadata": {
        "id": "-5Kzm9lPwpZ5",
        "colab_type": "code",
        "colab": {}
      },
      "source": [
        "def ordenacion_burbuja(lista):\n",
        "  not_order=False\n",
        "  for i in range (len(lista)-1):\n",
        "    proximo=lista[i+1]\n",
        "    if lista[i]>proximo: \n",
        "      not_order=True\n",
        "      lista[i+1]=lista[i]\n",
        "      lista[i]=proximo\n",
        "  if not_order==True:\n",
        "    ordenacion_burbuja(lista)\n",
        "  return lista"
      ],
      "execution_count": 0,
      "outputs": []
    },
    {
      "cell_type": "code",
      "metadata": {
        "id": "6YWtAZ1Fwx9L",
        "colab_type": "code",
        "colab": {}
      },
      "source": [
        "lista = [10,6,7,12,58,96,2,1,81,82]"
      ],
      "execution_count": 0,
      "outputs": []
    },
    {
      "cell_type": "code",
      "metadata": {
        "id": "jOB0U8q_wyAm",
        "colab_type": "code",
        "colab": {}
      },
      "source": [
        "lista = ordenacion_burbuja(lista)"
      ],
      "execution_count": 0,
      "outputs": []
    },
    {
      "cell_type": "code",
      "metadata": {
        "id": "_HTk3jHRxADf",
        "colab_type": "code",
        "colab": {}
      },
      "source": [
        "def dos_puntos(lista):\n",
        "  valor=0\n",
        "  for i in range(len(lista)-1):\n",
        "    diferencia = abs(lista[i]-lista[i+1])\n",
        "    if i==0:\n",
        "      valor = diferencia\n",
        "    elif diferencia <= valor:\n",
        "      valor = diferencia\n",
        "      añadir = True\n",
        "      puntos_cercanos = str(lista[i])+' '+str(lista[i+1])\n",
        "  return puntos_cercanos"
      ],
      "execution_count": 0,
      "outputs": []
    },
    {
      "cell_type": "code",
      "metadata": {
        "id": "ilawpsRWzADY",
        "colab_type": "code",
        "colab": {
          "base_uri": "https://localhost:8080/",
          "height": 36
        },
        "outputId": "e53b9ca9-5a2e-43fc-f6d7-d689bf696b50"
      },
      "source": [
        "dos_puntos(lista)"
      ],
      "execution_count": 19,
      "outputs": [
        {
          "output_type": "execute_result",
          "data": {
            "text/plain": [
              "'81 82'"
            ]
          },
          "metadata": {
            "tags": []
          },
          "execution_count": 19
        }
      ]
    },
    {
      "cell_type": "code",
      "metadata": {
        "id": "tQx_4cI9R2WR",
        "colab_type": "code",
        "colab": {}
      },
      "source": [
        "\n",
        "def encontrar_los_dos_puntos_mas_cercacons(lista):\n",
        "  diferencia=[]\n",
        "  valores=[]\n",
        "  for i in range(len(lista)):\n",
        "    for j in range(i+1,len(lista)):\n",
        "      diferencia.append(abs(lista[i]-lista[j]))\n",
        "      valores.append(str(lista[i])+' '+str(lista[j]))\n",
        "  minimos=[]\n",
        "  for i in range(len(diferencia)):\n",
        "    if diferencia[i]==min(diferencia):\n",
        "      minimos.append(i)\n",
        "  puntos_mas_cercanos=[]\n",
        "  for index in minimos:\n",
        "    puntos_mas_cercanos.append(valores[index])\n",
        "\n",
        "  return puntos_mas_cercanos, len(valores)"
      ],
      "execution_count": 0,
      "outputs": []
    },
    {
      "cell_type": "code",
      "metadata": {
        "id": "6Cnv0Htt7D9c",
        "colab_type": "code",
        "outputId": "e4f37266-98d8-47c1-fabc-edbae4544711",
        "colab": {
          "base_uri": "https://localhost:8080/",
          "height": 36
        }
      },
      "source": [
        "encontrar_los_dos_puntos_mas_cercacons([10,6,7,12,58,96,2,1,81,81.5,82])"
      ],
      "execution_count": 0,
      "outputs": [
        {
          "output_type": "execute_result",
          "data": {
            "text/plain": [
              "(['81 81.5', '81.5 82'], 55)"
            ]
          },
          "metadata": {
            "tags": []
          },
          "execution_count": 28
        }
      ]
    },
    {
      "cell_type": "markdown",
      "metadata": {
        "id": "M_fDkoEiDvkI",
        "colab_type": "text"
      },
      "source": [
        "Como se puede comprovar por fuerza bruta primero se analizan todas las posibles soluciones y después se almacenan todas las soluciones(n(n-1)/2) que satisfazan los mínimos buscados partiendo de una lista 1D.\n",
        " \n",
        "La complejidad viene dada por O(n^2)"
      ]
    },
    {
      "cell_type": "markdown",
      "metadata": {
        "id": "WKnNLLy-QWrf",
        "colab_type": "text"
      },
      "source": [
        "## 2do Divide y vencerás"
      ]
    },
    {
      "cell_type": "code",
      "metadata": {
        "id": "x1l7hoTq5goM",
        "colab_type": "code",
        "colab": {}
      },
      "source": [
        "lista=[6,7,16,16.1]"
      ],
      "execution_count": 0,
      "outputs": []
    },
    {
      "cell_type": "code",
      "metadata": {
        "id": "W1ybbsxYKKIa",
        "colab_type": "code",
        "colab": {}
      },
      "source": [
        "def numero_de_puntos_rango(lista,limite_izq,limite_dr):\n",
        "  menor=[]\n",
        "  for number in lista:\n",
        "    if number>limite_izq and number<limite_dr:\n",
        "      menor.append(number)\n",
        "  return menor"
      ],
      "execution_count": 0,
      "outputs": []
    },
    {
      "cell_type": "code",
      "metadata": {
        "id": "v2RYltf8cjla",
        "colab_type": "code",
        "colab": {}
      },
      "source": [
        "def iz_dr_frontera(lista,limite_izq,limite_dr,frontera):\n",
        "  lista_valores_rango_menor=[]\n",
        "  lista_valores_rango_mayor=[]\n",
        "  for number in lista:\n",
        "    if number>limite_izq and number<frontera:\n",
        "      lista_valores_rango_menor.append(number)\n",
        "    if number>frontera and number<limite_dr:\n",
        "      lista_valores_rango_mayor.append(number)\n",
        "  \n",
        "  if len(lista_valores_rango_menor)==2 and len(lista_valores_rango_mayor)==2:\n",
        "    return True\n",
        "  else:\n",
        "    return False"
      ],
      "execution_count": 0,
      "outputs": []
    },
    {
      "cell_type": "code",
      "metadata": {
        "id": "eLiglneyUqVU",
        "colab_type": "code",
        "colab": {}
      },
      "source": [
        "def get_numbers_around(lista,frontera):\n",
        "  menores=[]\n",
        "  mayores=[]\n",
        "  for number in lista:\n",
        "    if number<frontera:\n",
        "      menores.append(number)\n",
        "    else:\n",
        "      mayores.append(number)\n",
        "\n",
        "  return [max(menores), min(mayores)]"
      ],
      "execution_count": 0,
      "outputs": []
    },
    {
      "cell_type": "code",
      "metadata": {
        "id": "qqu_LCpvHmRM",
        "colab_type": "code",
        "colab": {}
      },
      "source": [
        "def distancias(lista,limite_izq,limite_dr,frontera):\n",
        "  d_izq = abs(numero_de_puntos_rango(lista,limite_izq,frontera)[0]-numero_de_puntos_rango(lista,limite_izq,frontera)[-1])\n",
        "  d_fr = abs(get_numbers_around(lista,frontera)[0]-get_numbers_around(lista,frontera)[-1])\n",
        "  d_dr = abs(numero_de_puntos_rango(lista,frontera,limite_dr)[0]-numero_de_puntos_rango(lista,frontera,limite_dr)[-1])\n",
        "\n",
        "  return d_izq, d_fr, d_dr\n"
      ],
      "execution_count": 0,
      "outputs": []
    },
    {
      "cell_type": "code",
      "metadata": {
        "id": "0ERHIiin7Phs",
        "colab_type": "code",
        "colab": {}
      },
      "source": [
        "def divide_y_venceras(lista,limite_izq,limite_dr):\n",
        "  frontera = (limite_dr+limite_izq)/2\n",
        "  if iz_dr_frontera(lista,limite_izq,limite_dr,frontera):\n",
        "    return min (distancias(lista,limite_izq,limite_dr,frontera))\n",
        "        \n",
        "  else:  \n",
        "    return min(divide_y_venceras(lista,limite_izq,frontera), (distancias(lista,limite_izq,limite_dr,frontera))[1],divide_y_venceras(lista,frontera,limite_dr))"
      ],
      "execution_count": 0,
      "outputs": []
    },
    {
      "cell_type": "code",
      "metadata": {
        "id": "7Fz93RBjWJ1t",
        "colab_type": "code",
        "colab": {
          "base_uri": "https://localhost:8080/",
          "height": 36
        },
        "outputId": "83364b8b-40ee-4ae8-a789-a910217af8c2"
      },
      "source": [
        "divide_y_venceras(lista,0,30)"
      ],
      "execution_count": 185,
      "outputs": [
        {
          "output_type": "execute_result",
          "data": {
            "text/plain": [
              "0.10000000000000142"
            ]
          },
          "metadata": {
            "tags": []
          },
          "execution_count": 185
        }
      ]
    },
    {
      "cell_type": "code",
      "metadata": {
        "id": "UqTImUxTXR3g",
        "colab_type": "code",
        "colab": {
          "base_uri": "https://localhost:8080/",
          "height": 36
        },
        "outputId": "164a1611-206b-479c-9920-9ad372b57abf"
      },
      "source": [
        "numero_de_puntos_rango(lista,0,7.5,3.75)"
      ],
      "execution_count": 116,
      "outputs": [
        {
          "output_type": "execute_result",
          "data": {
            "text/plain": [
              "True"
            ]
          },
          "metadata": {
            "tags": []
          },
          "execution_count": 116
        }
      ]
    },
    {
      "cell_type": "code",
      "metadata": {
        "id": "3b632RWgY01d",
        "colab_type": "code",
        "colab": {}
      },
      "source": [
        ""
      ],
      "execution_count": 0,
      "outputs": []
    }
  ]
}