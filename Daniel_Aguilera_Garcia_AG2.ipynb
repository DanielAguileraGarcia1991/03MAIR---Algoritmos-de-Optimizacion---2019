{
  "nbformat": 4,
  "nbformat_minor": 0,
  "metadata": {
    "colab": {
      "name": "Daniel Aguilera Garcia-AG2.ipynb",
      "provenance": [],
      "authorship_tag": "ABX9TyMCj01084/4hZctZIViS+SJ",
      "include_colab_link": true
    },
    "kernelspec": {
      "name": "python3",
      "display_name": "Python 3"
    }
  },
  "cells": [
    {
      "cell_type": "markdown",
      "metadata": {
        "id": "view-in-github",
        "colab_type": "text"
      },
      "source": [
        "<a href=\"https://colab.research.google.com/github/DanielAguileraGarcia1991/03MAIR---Algoritmos-de-Optimizacion---2019/blob/master/Daniel_Aguilera_Garcia_AG2.ipynb\" target=\"_parent\"><img src=\"https://colab.research.google.com/assets/colab-badge.svg\" alt=\"Open In Colab\"/></a>"
      ]
    },
    {
      "cell_type": "markdown",
      "metadata": {
        "id": "eLMvYNF_lB91",
        "colab_type": "text"
      },
      "source": [
        "AG2. Algoritmos de optimización \n",
        "\n",
        "Daniel Aguilera\n",
        "\n",
        "https://colab.research.google.com/drive/1DzoOvCA0qY7aehnqM-k2VC2JqwEdTWv1"
      ]
    },
    {
      "cell_type": "code",
      "metadata": {
        "id": "xanXtc9Xk-9V",
        "colab_type": "code",
        "colab": {}
      },
      "source": [
        "TARIFAS = [\n",
        "[0,5,4,3,999,999,999],\n",
        "[999,0,999,2,3,999,11],\n",
        "[999,999, 0,1,999,4,10],\n",
        "[999,999,999, 0,5,6,9],\n",
        "[999,999, 999,999,0,999,4],\n",
        "[999,999, 999,999,999,0,3],\n",
        "[999,999,999,999,999,999,0]\n",
        "]"
      ],
      "execution_count": 0,
      "outputs": []
    },
    {
      "cell_type": "code",
      "metadata": {
        "id": "b1y2kMGklrxm",
        "colab_type": "code",
        "colab": {}
      },
      "source": [
        "def Precios(TARIFAS):\n",
        "################################################################  \n",
        "  #Total de Nodos\n",
        "  N = len(TARIFAS[0])\n",
        "  \n",
        "  #Inicialización de la tabla de precios\n",
        "  PRECIOS = [ [9999]*N for i in [9999]*N]\n",
        "  RUTA = [ [\"\"]*N for i in [\"\"]*N]\n",
        "  \n",
        "  for i in range(N-1):\n",
        "    for j in range(i+1, N):\n",
        "      MIN = TARIFAS[i][j]\n",
        "      RUTA[i][j] = i\n",
        "      \n",
        "      for k in range(i, j):\n",
        "        if PRECIOS[i][k] + TARIFAS[k][j] < MIN:\n",
        "            MIN = min(MIN, PRECIOS[i][k] + TARIFAS[k][j] )\n",
        "            RUTA[i][j] = k\n",
        "        PRECIOS[i][j] = MIN\n",
        "        \n",
        "  return PRECIOS,RUTA\n"
      ],
      "execution_count": 0,
      "outputs": []
    },
    {
      "cell_type": "code",
      "metadata": {
        "id": "p1MIa-Gx4CKg",
        "colab_type": "code",
        "colab": {
          "base_uri": "https://localhost:8080/",
          "height": 35
        },
        "outputId": "913f6967-9d42-4da3-ac58-3dc0d2d9ae49"
      },
      "source": [
        "[9999]*6"
      ],
      "execution_count": 12,
      "outputs": [
        {
          "output_type": "execute_result",
          "data": {
            "text/plain": [
              "[9999, 9999, 9999, 9999, 9999, 9999]"
            ]
          },
          "metadata": {
            "tags": []
          },
          "execution_count": 12
        }
      ]
    },
    {
      "cell_type": "code",
      "metadata": {
        "id": "F5ouwQ5cmlmx",
        "colab_type": "code",
        "colab": {
          "base_uri": "https://localhost:8080/",
          "height": 326
        },
        "outputId": "d19b21b4-9939-458d-95ec-63b11243faf6"
      },
      "source": [
        "PRECIOS,RUTA = Precios(TARIFAS)  \n",
        "#print(PRECIOS[0][6])\n",
        "\n",
        "print(\"PRECIOS\")\n",
        "for i in range(len(TARIFAS)):\n",
        "  print(PRECIOS[i])\n",
        "\n",
        "print(\"\\nRUTA\")  \n",
        "for i in range(len(TARIFAS)):\n",
        "  print(RUTA[i]) "
      ],
      "execution_count": 13,
      "outputs": [
        {
          "output_type": "stream",
          "text": [
            "PRECIOS\n",
            "[9999, 5, 4, 3, 8, 8, 11]\n",
            "[9999, 9999, 999, 2, 3, 8, 7]\n",
            "[9999, 9999, 9999, 1, 6, 4, 7]\n",
            "[9999, 9999, 9999, 9999, 5, 6, 9]\n",
            "[9999, 9999, 9999, 9999, 9999, 999, 4]\n",
            "[9999, 9999, 9999, 9999, 9999, 9999, 3]\n",
            "[9999, 9999, 9999, 9999, 9999, 9999, 9999]\n",
            "\n",
            "RUTA\n",
            "['', 0, 0, 0, 1, 2, 5]\n",
            "['', '', 1, 1, 1, 3, 4]\n",
            "['', '', '', 2, 3, 2, 5]\n",
            "['', '', '', '', 3, 3, 3]\n",
            "['', '', '', '', '', 4, 4]\n",
            "['', '', '', '', '', '', 5]\n",
            "['', '', '', '', '', '', '']\n"
          ],
          "name": "stdout"
        }
      ]
    },
    {
      "cell_type": "code",
      "metadata": {
        "id": "C4sucTvWmoF4",
        "colab_type": "code",
        "colab": {
          "base_uri": "https://localhost:8080/",
          "height": 90
        },
        "outputId": "c7774de5-e024-4525-a27f-85ea2997e3be"
      },
      "source": [
        "def calcular_ruta(RUTA, desde, hasta):\n",
        "  if desde == hasta:\n",
        "    print(\"Ir a :\" + str(desde))\n",
        "    return desde \n",
        "  else:\n",
        "    return str(calcular_ruta(RUTA, desde, RUTA[desde][hasta])) +  ',' + str(RUTA[desde][hasta]) \n",
        "\n",
        "print(\"\\nLa ruta es:\")  \n",
        "calcular_ruta(RUTA, 0,6) "
      ],
      "execution_count": 6,
      "outputs": [
        {
          "output_type": "stream",
          "text": [
            "\n",
            "La ruta es:\n",
            "Ir a :0\n"
          ],
          "name": "stdout"
        },
        {
          "output_type": "execute_result",
          "data": {
            "text/plain": [
              "'0,0,2,5'"
            ]
          },
          "metadata": {
            "tags": []
          },
          "execution_count": 6
        }
      ]
    },
    {
      "cell_type": "code",
      "metadata": {
        "id": "X3Rv5RL4rdXc",
        "colab_type": "code",
        "colab": {
          "base_uri": "https://localhost:8080/",
          "height": 35
        },
        "outputId": "f186eb33-2b67-4b03-b2ee-8d5f2e074518"
      },
      "source": [
        "RUTA[0][5]"
      ],
      "execution_count": 15,
      "outputs": [
        {
          "output_type": "execute_result",
          "data": {
            "text/plain": [
              "2"
            ]
          },
          "metadata": {
            "tags": []
          },
          "execution_count": 15
        }
      ]
    },
    {
      "cell_type": "code",
      "metadata": {
        "id": "dNHkLMTYd51X",
        "colab_type": "code",
        "colab": {}
      },
      "source": [
        "# Solucionar por fuerza bruta"
      ],
      "execution_count": 0,
      "outputs": []
    },
    {
      "cell_type": "code",
      "metadata": {
        "id": "29qPV571e9Jg",
        "colab_type": "code",
        "colab": {
          "base_uri": "https://localhost:8080/",
          "height": 55
        },
        "outputId": "7f21a112-4862-41d1-b53b-65ecbef5a99b"
      },
      "source": [
        "import itertools\n",
        "\n",
        "n = '0123'\n",
        "a = [''.join(i) for i in itertools.permutations(n, 4)]\n",
        "\n",
        "print(a)   # prints 24 permutations"
      ],
      "execution_count": 44,
      "outputs": [
        {
          "output_type": "stream",
          "text": [
            "['0123', '0132', '0213', '0231', '0312', '0321', '1023', '1032', '1203', '1230', '1302', '1320', '2013', '2031', '2103', '2130', '2301', '2310', '3012', '3021', '3102', '3120', '3201', '3210']\n"
          ],
          "name": "stdout"
        }
      ]
    },
    {
      "cell_type": "code",
      "metadata": {
        "id": "K80RLGts66mN",
        "colab_type": "code",
        "colab": {}
      },
      "source": [
        "# Problema de asignación de agentes"
      ],
      "execution_count": 0,
      "outputs": []
    },
    {
      "cell_type": "code",
      "metadata": {
        "id": "i_PNluwqNnkJ",
        "colab_type": "code",
        "colab": {}
      },
      "source": [
        "def valor(S,COSTES):\n",
        "  VALOR = 0\n",
        "  for i in range(len(S)):\n",
        "    VALOR += COSTES[S[i]][i] \n",
        "  return VALOR"
      ],
      "execution_count": 0,
      "outputs": []
    },
    {
      "cell_type": "code",
      "metadata": {
        "id": "AKvptm-PNnDc",
        "colab_type": "code",
        "colab": {}
      },
      "source": [
        "COSTES=[[11,12,18,40],\n",
        "        [14,15,13,22],\n",
        "        [11,17,19,23],\n",
        "        [17,14,20,28]]"
      ],
      "execution_count": 0,
      "outputs": []
    },
    {
      "cell_type": "code",
      "metadata": {
        "id": "fXqSkcyDPLLP",
        "colab_type": "code",
        "colab": {}
      },
      "source": [
        "#Coste inferior para soluciones parciales\n",
        "#  (1,3,) Se asigna la tarea 1 al agente 0 y la tarea 3 al agente 1\n",
        "\n",
        "def CI(S,COSTES):\n",
        "  VALOR = 0\n",
        "  #Valores establecidos\n",
        "  for i in range(len(S)):\n",
        "    VALOR += COSTES[i][S[i]]\n",
        "\n",
        "\n",
        "  #Estimacion\n",
        "  for i in range(len(COSTES)):\n",
        "\n",
        "    if i not in S:\n",
        "      VALOR += min( [ COSTES[j][i] for j in range(len(S), len(COSTES)) ])\n",
        "  return VALOR"
      ],
      "execution_count": 0,
      "outputs": []
    },
    {
      "cell_type": "code",
      "metadata": {
        "id": "naJIpvdhGP_f",
        "colab_type": "code",
        "colab": {
          "base_uri": "https://localhost:8080/",
          "height": 35
        },
        "outputId": "ed70d261-ac28-4cf0-b03b-d23433780d8e"
      },
      "source": [
        "CI((1,3,2),COSTES)"
      ],
      "execution_count": 17,
      "outputs": [
        {
          "output_type": "execute_result",
          "data": {
            "text/plain": [
              "70"
            ]
          },
          "metadata": {
            "tags": []
          },
          "execution_count": 17
        }
      ]
    },
    {
      "cell_type": "markdown",
      "metadata": {
        "id": "JogGIBrNkby_",
        "colab_type": "text"
      },
      "source": [
        "La anterior función calcula el coste mínimo que costará ya asignadas S tareas. Por ejemplo cuando S es (1,3,):\n",
        "- El agente 0 hará la tarea 1 (valor=12)\n",
        "- El agente 1 hará la tarea 3 (valor=12+22=34)\n",
        "- Una vez calculado el coste seguro ahora hará falta calcular el coste mínimo cuando se asignan las dos tareas restantes.\n",
        "- valor=34+min(costes de tarea 0 en el rango de los agentes restantes)=34+min(11,17)=34+11=45\n",
        "- valor=45+min(costes de tarea 2 en el rango de los agentes restantes)=45+min(19,20)=45+19=64\n",
        "\n",
        "Por lo tanto CI valdrá 64\n"
      ]
    },
    {
      "cell_type": "code",
      "metadata": {
        "id": "P2UTObpXQGyq",
        "colab_type": "code",
        "colab": {}
      },
      "source": [
        "def CS(S,COSTES):\n",
        "  VALOR = 0\n",
        "  #Valores establecidos\n",
        "  for i in range(len(S)):\n",
        "    VALOR += COSTES[i][S[i]]\n",
        "\n",
        "  #Estimacion\n",
        "  for i in range(  len(COSTES)   ):\n",
        "\n",
        "    if i not in S:\n",
        "      VALOR += max( [ COSTES[j][i] for j in range(len(S), len(COSTES))  ])\n",
        "  return VALOR"
      ],
      "execution_count": 0,
      "outputs": []
    },
    {
      "cell_type": "code",
      "metadata": {
        "id": "Ro8S7Nj6Fr7l",
        "colab_type": "code",
        "colab": {
          "base_uri": "https://localhost:8080/",
          "height": 35
        },
        "outputId": "9e9b4632-3e66-4eb9-9ef0-784ce0c8a32f"
      },
      "source": [
        "CS((1,3,0),COSTES)"
      ],
      "execution_count": 13,
      "outputs": [
        {
          "output_type": "execute_result",
          "data": {
            "text/plain": [
              "65"
            ]
          },
          "metadata": {
            "tags": []
          },
          "execution_count": 13
        }
      ]
    },
    {
      "cell_type": "markdown",
      "metadata": {
        "id": "cScS7AiHml5l",
        "colab_type": "text"
      },
      "source": [
        "La función CS hace exactamente lo mismo que CI pero en vez de mínimo de los restantes coge el máximo."
      ]
    },
    {
      "cell_type": "code",
      "metadata": {
        "id": "hjH4eG1xRoY-",
        "colab_type": "code",
        "colab": {}
      },
      "source": [
        "#Genera tantos hijos como posibilidades haya para la siguiente elemento de la tupla\n",
        "#(0,) -> (0,1), (0,2), (0,3)\n",
        "def crear_hijos(NODO, N):\n",
        "  HIJOS = []\n",
        "  for i in range(N):\n",
        "    if i not in NODO:\n",
        "      HIJOS.append({'s':NODO +(i,)})\n",
        "  return HIJOS"
      ],
      "execution_count": 0,
      "outputs": []
    },
    {
      "cell_type": "code",
      "metadata": {
        "id": "s9SEICs1n1jZ",
        "colab_type": "code",
        "colab": {
          "base_uri": "https://localhost:8080/",
          "height": 35
        },
        "outputId": "3f4fab78-42e3-4dbc-aac3-39977d188134"
      },
      "source": [
        "crear_hijos((),4)"
      ],
      "execution_count": 33,
      "outputs": [
        {
          "output_type": "execute_result",
          "data": {
            "text/plain": [
              "[{'s': (0,)}, {'s': (1,)}, {'s': (2,)}, {'s': (3,)}]"
            ]
          },
          "metadata": {
            "tags": []
          },
          "execution_count": 33
        }
      ]
    },
    {
      "cell_type": "code",
      "metadata": {
        "id": "_aTQEcGooQAZ",
        "colab_type": "code",
        "colab": {}
      },
      "source": [
        "def ramificacion_y_poda(COSTES):\n",
        "#Construccion iterativa de soluciones(arbol). En cada etapa asignamos un agente(ramas).\n",
        "#Nodos del grafo  { s:(1,2),CI:3,CS:5  }\n",
        "  #print(COSTES)\n",
        "  DIMENSION = len(COSTES)  \n",
        "  MEJOR_SOLUCION=tuple( i for i in range(len(COSTES)))\n",
        "  CotaSup = valor(MEJOR_SOLUCION,COSTES)\n",
        "  #print(\"Cota Superior:\", CotaSup)\n",
        "\n",
        "  NODOS=[]\n",
        "  NODOS.append({'s':(), 'ci':CI((),COSTES)})\n",
        "\n",
        "  iteracion = 0\n",
        "\n",
        "  while( len(NODOS) > 0):\n",
        "    print('cotasup= '+str(CotaSup))\n",
        "    iteracion +=1\n",
        "    print('ITERACIÓN: '+str(iteracion))\n",
        "\n",
        "    nodo_prometedor = [ min(NODOS, key=lambda x:x['ci']) ][0]['s']\n",
        "    #print(\"Nodo prometedor:\", nodo_prometedor)\n",
        "    print('n_p: '+str(nodo_prometedor))\n",
        "    #Ramificacion\n",
        "    #Se generan los hijos\n",
        "    HIJOS =[ {'s':x['s'], 'ci':CI(x['s'], COSTES)   } for x in crear_hijos(nodo_prometedor, DIMENSION) ]\n",
        "    print('HIJOS_1: '+str(HIJOS))\n",
        "    #Revisamos la cota superior y nos quedamos con la mejor solucion si llegamos a una solucion final\n",
        "    NODO_FINAL = [x for x in HIJOS if len(x['s']) == DIMENSION  ]\n",
        "    print('NODO FINAL: '+str(NODO_FINAL))\n",
        "    if len(NODO_FINAL ) >0: \n",
        "      #print(\"\\n********Soluciones:\",  [x for x in HIJOS if len(x['s']) == DIMENSION  ] )\n",
        "      if NODO_FINAL[0]['ci'] < CotaSup:\n",
        "        CotaSup = NODO_FINAL[0]['ci']\n",
        "        MEJOR_SOLUCION = NODO_FINAL\n",
        " \n",
        "    #Poda\n",
        "    HIJOS = [x for x in HIJOS if x['ci'] < CotaSup ]\n",
        "    print('HIJOS_2: '+str(HIJOS))\n",
        "    #Añadimos los hijos \n",
        "    NODOS.extend(HIJOS) \n",
        "\n",
        "    #Eliminamos el nodo ramificado\n",
        "    NODOS =  [  x for x in NODOS if x['s'] != nodo_prometedor ]\n",
        "    print('NODOS: '+str(NODOS))\n",
        "   \n",
        "    print(\"La solucion final es:\" ,MEJOR_SOLUCION , \" en \" , iteracion , \" iteraciones\" , \" para dimension: \" ,DIMENSION  )"
      ],
      "execution_count": 0,
      "outputs": []
    },
    {
      "cell_type": "code",
      "metadata": {
        "id": "39o-7F6qqgBJ",
        "colab_type": "code",
        "colab": {
          "base_uri": "https://localhost:8080/",
          "height": 1000
        },
        "outputId": "eb7c5316-d32b-4a5f-bc39-19608c0a7fe4"
      },
      "source": [
        "ramificacion_y_poda(COSTES)"
      ],
      "execution_count": 43,
      "outputs": [
        {
          "output_type": "stream",
          "text": [
            "cotasup= 73\n",
            "ITERACIÓN: 1\n",
            "n_p: ()\n",
            "HIJOS_1: [{'s': (0,), 'ci': 60}, {'s': (1,), 'ci': 58}, {'s': (2,), 'ci': 65}, {'s': (3,), 'ci': 78}]\n",
            "NODO FINAL: []\n",
            "HIJOS_2: [{'s': (0,), 'ci': 60}, {'s': (1,), 'ci': 58}, {'s': (2,), 'ci': 65}]\n",
            "NODOS: [{'s': (0,), 'ci': 60}, {'s': (1,), 'ci': 58}, {'s': (2,), 'ci': 65}]\n",
            "La solucion final es: (0, 1, 2, 3)  en  1  iteraciones  para dimension:  4\n",
            "cotasup= 73\n",
            "ITERACIÓN: 2\n",
            "n_p: (1,)\n",
            "HIJOS_1: [{'s': (1, 0), 'ci': 68}, {'s': (1, 2), 'ci': 59}, {'s': (1, 3), 'ci': 64}]\n",
            "NODO FINAL: []\n",
            "HIJOS_2: [{'s': (1, 0), 'ci': 68}, {'s': (1, 2), 'ci': 59}, {'s': (1, 3), 'ci': 64}]\n",
            "NODOS: [{'s': (0,), 'ci': 60}, {'s': (2,), 'ci': 65}, {'s': (1, 0), 'ci': 68}, {'s': (1, 2), 'ci': 59}, {'s': (1, 3), 'ci': 64}]\n",
            "La solucion final es: (0, 1, 2, 3)  en  2  iteraciones  para dimension:  4\n",
            "cotasup= 73\n",
            "ITERACIÓN: 3\n",
            "n_p: (1, 2)\n",
            "HIJOS_1: [{'s': (1, 2, 0), 'ci': 64}, {'s': (1, 2, 3), 'ci': 65}]\n",
            "NODO FINAL: []\n",
            "HIJOS_2: [{'s': (1, 2, 0), 'ci': 64}, {'s': (1, 2, 3), 'ci': 65}]\n",
            "NODOS: [{'s': (0,), 'ci': 60}, {'s': (2,), 'ci': 65}, {'s': (1, 0), 'ci': 68}, {'s': (1, 3), 'ci': 64}, {'s': (1, 2, 0), 'ci': 64}, {'s': (1, 2, 3), 'ci': 65}]\n",
            "La solucion final es: (0, 1, 2, 3)  en  3  iteraciones  para dimension:  4\n",
            "cotasup= 73\n",
            "ITERACIÓN: 4\n",
            "n_p: (0,)\n",
            "HIJOS_1: [{'s': (0, 1), 'ci': 68}, {'s': (0, 2), 'ci': 61}, {'s': (0, 3), 'ci': 66}]\n",
            "NODO FINAL: []\n",
            "HIJOS_2: [{'s': (0, 1), 'ci': 68}, {'s': (0, 2), 'ci': 61}, {'s': (0, 3), 'ci': 66}]\n",
            "NODOS: [{'s': (2,), 'ci': 65}, {'s': (1, 0), 'ci': 68}, {'s': (1, 3), 'ci': 64}, {'s': (1, 2, 0), 'ci': 64}, {'s': (1, 2, 3), 'ci': 65}, {'s': (0, 1), 'ci': 68}, {'s': (0, 2), 'ci': 61}, {'s': (0, 3), 'ci': 66}]\n",
            "La solucion final es: (0, 1, 2, 3)  en  4  iteraciones  para dimension:  4\n",
            "cotasup= 73\n",
            "ITERACIÓN: 5\n",
            "n_p: (0, 2)\n",
            "HIJOS_1: [{'s': (0, 2, 1), 'ci': 69}, {'s': (0, 2, 3), 'ci': 61}]\n",
            "NODO FINAL: []\n",
            "HIJOS_2: [{'s': (0, 2, 1), 'ci': 69}, {'s': (0, 2, 3), 'ci': 61}]\n",
            "NODOS: [{'s': (2,), 'ci': 65}, {'s': (1, 0), 'ci': 68}, {'s': (1, 3), 'ci': 64}, {'s': (1, 2, 0), 'ci': 64}, {'s': (1, 2, 3), 'ci': 65}, {'s': (0, 1), 'ci': 68}, {'s': (0, 3), 'ci': 66}, {'s': (0, 2, 1), 'ci': 69}, {'s': (0, 2, 3), 'ci': 61}]\n",
            "La solucion final es: (0, 1, 2, 3)  en  5  iteraciones  para dimension:  4\n",
            "cotasup= 73\n",
            "ITERACIÓN: 6\n",
            "n_p: (0, 2, 3)\n",
            "HIJOS_1: [{'s': (0, 2, 3, 1), 'ci': 61}]\n",
            "NODO FINAL: [{'s': (0, 2, 3, 1), 'ci': 61}]\n",
            "HIJOS_2: []\n",
            "NODOS: [{'s': (2,), 'ci': 65}, {'s': (1, 0), 'ci': 68}, {'s': (1, 3), 'ci': 64}, {'s': (1, 2, 0), 'ci': 64}, {'s': (1, 2, 3), 'ci': 65}, {'s': (0, 1), 'ci': 68}, {'s': (0, 3), 'ci': 66}, {'s': (0, 2, 1), 'ci': 69}]\n",
            "La solucion final es: [{'s': (0, 2, 3, 1), 'ci': 61}]  en  6  iteraciones  para dimension:  4\n",
            "cotasup= 61\n",
            "ITERACIÓN: 7\n",
            "n_p: (1, 3)\n",
            "HIJOS_1: [{'s': (1, 3, 0), 'ci': 65}, {'s': (1, 3, 2), 'ci': 70}]\n",
            "NODO FINAL: []\n",
            "HIJOS_2: []\n",
            "NODOS: [{'s': (2,), 'ci': 65}, {'s': (1, 0), 'ci': 68}, {'s': (1, 2, 0), 'ci': 64}, {'s': (1, 2, 3), 'ci': 65}, {'s': (0, 1), 'ci': 68}, {'s': (0, 3), 'ci': 66}, {'s': (0, 2, 1), 'ci': 69}]\n",
            "La solucion final es: [{'s': (0, 2, 3, 1), 'ci': 61}]  en  7  iteraciones  para dimension:  4\n",
            "cotasup= 61\n",
            "ITERACIÓN: 8\n",
            "n_p: (1, 2, 0)\n",
            "HIJOS_1: [{'s': (1, 2, 0, 3), 'ci': 64}]\n",
            "NODO FINAL: [{'s': (1, 2, 0, 3), 'ci': 64}]\n",
            "HIJOS_2: []\n",
            "NODOS: [{'s': (2,), 'ci': 65}, {'s': (1, 0), 'ci': 68}, {'s': (1, 2, 3), 'ci': 65}, {'s': (0, 1), 'ci': 68}, {'s': (0, 3), 'ci': 66}, {'s': (0, 2, 1), 'ci': 69}]\n",
            "La solucion final es: [{'s': (0, 2, 3, 1), 'ci': 61}]  en  8  iteraciones  para dimension:  4\n",
            "cotasup= 61\n",
            "ITERACIÓN: 9\n",
            "n_p: (2,)\n",
            "HIJOS_1: [{'s': (2, 0), 'ci': 69}, {'s': (2, 1), 'ci': 67}, {'s': (2, 3), 'ci': 65}]\n",
            "NODO FINAL: []\n",
            "HIJOS_2: []\n",
            "NODOS: [{'s': (1, 0), 'ci': 68}, {'s': (1, 2, 3), 'ci': 65}, {'s': (0, 1), 'ci': 68}, {'s': (0, 3), 'ci': 66}, {'s': (0, 2, 1), 'ci': 69}]\n",
            "La solucion final es: [{'s': (0, 2, 3, 1), 'ci': 61}]  en  9  iteraciones  para dimension:  4\n",
            "cotasup= 61\n",
            "ITERACIÓN: 10\n",
            "n_p: (1, 2, 3)\n",
            "HIJOS_1: [{'s': (1, 2, 3, 0), 'ci': 65}]\n",
            "NODO FINAL: [{'s': (1, 2, 3, 0), 'ci': 65}]\n",
            "HIJOS_2: []\n",
            "NODOS: [{'s': (1, 0), 'ci': 68}, {'s': (0, 1), 'ci': 68}, {'s': (0, 3), 'ci': 66}, {'s': (0, 2, 1), 'ci': 69}]\n",
            "La solucion final es: [{'s': (0, 2, 3, 1), 'ci': 61}]  en  10  iteraciones  para dimension:  4\n",
            "cotasup= 61\n",
            "ITERACIÓN: 11\n",
            "n_p: (0, 3)\n",
            "HIJOS_1: [{'s': (0, 3, 1), 'ci': 70}, {'s': (0, 3, 2), 'ci': 66}]\n",
            "NODO FINAL: []\n",
            "HIJOS_2: []\n",
            "NODOS: [{'s': (1, 0), 'ci': 68}, {'s': (0, 1), 'ci': 68}, {'s': (0, 2, 1), 'ci': 69}]\n",
            "La solucion final es: [{'s': (0, 2, 3, 1), 'ci': 61}]  en  11  iteraciones  para dimension:  4\n",
            "cotasup= 61\n",
            "ITERACIÓN: 12\n",
            "n_p: (1, 0)\n",
            "HIJOS_1: [{'s': (1, 0, 2), 'ci': 73}, {'s': (1, 0, 3), 'ci': 69}]\n",
            "NODO FINAL: []\n",
            "HIJOS_2: []\n",
            "NODOS: [{'s': (0, 1), 'ci': 68}, {'s': (0, 2, 1), 'ci': 69}]\n",
            "La solucion final es: [{'s': (0, 2, 3, 1), 'ci': 61}]  en  12  iteraciones  para dimension:  4\n",
            "cotasup= 61\n",
            "ITERACIÓN: 13\n",
            "n_p: (0, 1)\n",
            "HIJOS_1: [{'s': (0, 1, 2), 'ci': 73}, {'s': (0, 1, 3), 'ci': 69}]\n",
            "NODO FINAL: []\n",
            "HIJOS_2: []\n",
            "NODOS: [{'s': (0, 2, 1), 'ci': 69}]\n",
            "La solucion final es: [{'s': (0, 2, 3, 1), 'ci': 61}]  en  13  iteraciones  para dimension:  4\n",
            "cotasup= 61\n",
            "ITERACIÓN: 14\n",
            "n_p: (0, 2, 1)\n",
            "HIJOS_1: [{'s': (0, 2, 1, 3), 'ci': 69}]\n",
            "NODO FINAL: [{'s': (0, 2, 1, 3), 'ci': 69}]\n",
            "HIJOS_2: []\n",
            "NODOS: []\n",
            "La solucion final es: [{'s': (0, 2, 3, 1), 'ci': 61}]  en  14  iteraciones  para dimension:  4\n"
          ],
          "name": "stdout"
        }
      ]
    },
    {
      "cell_type": "markdown",
      "metadata": {
        "id": "XNk-ULnuH_43",
        "colab_type": "text"
      },
      "source": [
        "Pasos de la función ramificación y poda:\n",
        "- Se inicializa con la solución en diagonal que tiene un coste total de 73.\n",
        "- La matriz NODOS se inicializa vacía pero con len(NODOS) más grande que 0 (así el while se activa).\n",
        "- nodo_prometedor siempre es igual al mínimo del valor ci de la matriz NODOS.\n",
        "- En la primera iteración nodo_prometedor es () lo cual sus hijos son (0,),(1,),(2,),(3,).\n",
        "- La CotaSup por el momento es 73 por la primera solución de (0,1,2,3).\n",
        "- Se añaden en la Matrix NODOS todos aquellos hijos que sean inferiores a la CotaSup y se elimina así el nodo ramificado. \n",
        "- Con esto resumido de manera muy general lo que estaremos siempre seleccionando son los mínimos de los nodos préviamente ramificados y posteriormente eliminandolos.\n",
        "- Es en la iteración 6 donde se encuentra la nueva solución (0,2,3,1) que tiene un coste total de 61. Este no se añade a la matriz NODO ya que su coste total no es más bajo que 61.\n",
        "- A partir de esta iteración se irán ramificando y podando los nodos que tengan el mínimo ci de la matriz NODO y al final se dejará de iterar cuando se hayan eliminado todos los nodos que no hayan sido más bajos que la CotaSup de 61.\n",
        "- En este caso como estamos minimizando, siempre se trabaja con el mínimo de ci. En el caso que quisieramos maximizar, se trabajaría con el máximo de cs. "
      ]
    }
  ]
}