{
  "nbformat": 4,
  "nbformat_minor": 0,
  "metadata": {
    "colab": {
      "name": "Daniel Aguilera Garcia-AG2.ipynb",
      "provenance": [],
      "authorship_tag": "ABX9TyMeVnkAXWrwpc56MQ9bns7f",
      "include_colab_link": true
    },
    "kernelspec": {
      "name": "python3",
      "display_name": "Python 3"
    }
  },
  "cells": [
    {
      "cell_type": "markdown",
      "metadata": {
        "id": "view-in-github",
        "colab_type": "text"
      },
      "source": [
        "<a href=\"https://colab.research.google.com/github/DanielAguileraGarcia1991/03MAIR---Algoritmos-de-Optimizacion---2019/blob/master/Daniel_Aguilera_Garcia_AG2.ipynb\" target=\"_parent\"><img src=\"https://colab.research.google.com/assets/colab-badge.svg\" alt=\"Open In Colab\"/></a>"
      ]
    },
    {
      "cell_type": "markdown",
      "metadata": {
        "id": "eLMvYNF_lB91",
        "colab_type": "text"
      },
      "source": [
        "AG2. Algoritmos de optimización \n",
        "\n",
        "Daniel Aguilera\n",
        "\n",
        "https://colab.research.google.com/drive/1DzoOvCA0qY7aehnqM-k2VC2JqwEdTWv1"
      ]
    },
    {
      "cell_type": "code",
      "metadata": {
        "id": "xanXtc9Xk-9V",
        "colab_type": "code",
        "colab": {}
      },
      "source": [
        "TARIFAS = [\n",
        "[0,5,4,3,999,999,999],\n",
        "[999,0,999,2,3,999,11],\n",
        "[999,999, 0,1,999,4,10],\n",
        "[999,999,999, 0,5,6,9],\n",
        "[999,999, 999,999,0,999,4],\n",
        "[999,999, 999,999,999,0,3],\n",
        "[999,999,999,999,999,999,0]\n",
        "]"
      ],
      "execution_count": 0,
      "outputs": []
    },
    {
      "cell_type": "code",
      "metadata": {
        "id": "b1y2kMGklrxm",
        "colab_type": "code",
        "colab": {}
      },
      "source": [
        "def Precios(TARIFAS):\n",
        "################################################################  \n",
        "  #Total de Nodos\n",
        "  N = len(TARIFAS[0])\n",
        "  \n",
        "  #Inicialización de la tabla de precios\n",
        "  PRECIOS = [ [9999]*N for i in [9999]*N]\n",
        "  RUTA = [ [\"\"]*N for i in [\"\"]*N]\n",
        "  \n",
        "  for i in range(N-1):\n",
        "    for j in range(i+1, N):\n",
        "      MIN = TARIFAS[i][j]\n",
        "      RUTA[i][j] = i\n",
        "      \n",
        "      for k in range(i, j):\n",
        "        if PRECIOS[i][k] + TARIFAS[k][j] < MIN:\n",
        "            MIN = min(MIN, PRECIOS[i][k] + TARIFAS[k][j] )\n",
        "            RUTA[i][j] = k\n",
        "        PRECIOS[i][j] = MIN\n",
        "        \n",
        "  return PRECIOS,RUTA\n"
      ],
      "execution_count": 0,
      "outputs": []
    },
    {
      "cell_type": "code",
      "metadata": {
        "id": "p1MIa-Gx4CKg",
        "colab_type": "code",
        "colab": {
          "base_uri": "https://localhost:8080/",
          "height": 35
        },
        "outputId": "913f6967-9d42-4da3-ac58-3dc0d2d9ae49"
      },
      "source": [
        "[9999]*6"
      ],
      "execution_count": 12,
      "outputs": [
        {
          "output_type": "execute_result",
          "data": {
            "text/plain": [
              "[9999, 9999, 9999, 9999, 9999, 9999]"
            ]
          },
          "metadata": {
            "tags": []
          },
          "execution_count": 12
        }
      ]
    },
    {
      "cell_type": "code",
      "metadata": {
        "id": "F5ouwQ5cmlmx",
        "colab_type": "code",
        "colab": {
          "base_uri": "https://localhost:8080/",
          "height": 326
        },
        "outputId": "d19b21b4-9939-458d-95ec-63b11243faf6"
      },
      "source": [
        "PRECIOS,RUTA = Precios(TARIFAS)  \n",
        "#print(PRECIOS[0][6])\n",
        "\n",
        "print(\"PRECIOS\")\n",
        "for i in range(len(TARIFAS)):\n",
        "  print(PRECIOS[i])\n",
        "\n",
        "print(\"\\nRUTA\")  \n",
        "for i in range(len(TARIFAS)):\n",
        "  print(RUTA[i]) "
      ],
      "execution_count": 13,
      "outputs": [
        {
          "output_type": "stream",
          "text": [
            "PRECIOS\n",
            "[9999, 5, 4, 3, 8, 8, 11]\n",
            "[9999, 9999, 999, 2, 3, 8, 7]\n",
            "[9999, 9999, 9999, 1, 6, 4, 7]\n",
            "[9999, 9999, 9999, 9999, 5, 6, 9]\n",
            "[9999, 9999, 9999, 9999, 9999, 999, 4]\n",
            "[9999, 9999, 9999, 9999, 9999, 9999, 3]\n",
            "[9999, 9999, 9999, 9999, 9999, 9999, 9999]\n",
            "\n",
            "RUTA\n",
            "['', 0, 0, 0, 1, 2, 5]\n",
            "['', '', 1, 1, 1, 3, 4]\n",
            "['', '', '', 2, 3, 2, 5]\n",
            "['', '', '', '', 3, 3, 3]\n",
            "['', '', '', '', '', 4, 4]\n",
            "['', '', '', '', '', '', 5]\n",
            "['', '', '', '', '', '', '']\n"
          ],
          "name": "stdout"
        }
      ]
    },
    {
      "cell_type": "code",
      "metadata": {
        "id": "C4sucTvWmoF4",
        "colab_type": "code",
        "colab": {
          "base_uri": "https://localhost:8080/",
          "height": 90
        },
        "outputId": "c7774de5-e024-4525-a27f-85ea2997e3be"
      },
      "source": [
        "def calcular_ruta(RUTA, desde, hasta):\n",
        "  if desde == hasta:\n",
        "    print(\"Ir a :\" + str(desde))\n",
        "    return desde \n",
        "  else:\n",
        "    return str(calcular_ruta(RUTA, desde, RUTA[desde][hasta])) +  ',' + str(RUTA[desde][hasta]) \n",
        "\n",
        "print(\"\\nLa ruta es:\")  \n",
        "calcular_ruta(RUTA, 0,6) "
      ],
      "execution_count": 6,
      "outputs": [
        {
          "output_type": "stream",
          "text": [
            "\n",
            "La ruta es:\n",
            "Ir a :0\n"
          ],
          "name": "stdout"
        },
        {
          "output_type": "execute_result",
          "data": {
            "text/plain": [
              "'0,0,2,5'"
            ]
          },
          "metadata": {
            "tags": []
          },
          "execution_count": 6
        }
      ]
    },
    {
      "cell_type": "code",
      "metadata": {
        "id": "X3Rv5RL4rdXc",
        "colab_type": "code",
        "colab": {
          "base_uri": "https://localhost:8080/",
          "height": 35
        },
        "outputId": "f186eb33-2b67-4b03-b2ee-8d5f2e074518"
      },
      "source": [
        "RUTA[0][5]"
      ],
      "execution_count": 15,
      "outputs": [
        {
          "output_type": "execute_result",
          "data": {
            "text/plain": [
              "2"
            ]
          },
          "metadata": {
            "tags": []
          },
          "execution_count": 15
        }
      ]
    },
    {
      "cell_type": "code",
      "metadata": {
        "id": "dNHkLMTYd51X",
        "colab_type": "code",
        "colab": {}
      },
      "source": [
        "# Solucionar por fuerza bruta"
      ],
      "execution_count": 0,
      "outputs": []
    },
    {
      "cell_type": "code",
      "metadata": {
        "id": "K80RLGts66mN",
        "colab_type": "code",
        "colab": {}
      },
      "source": [
        "# Problema de asignación de agentes"
      ],
      "execution_count": 0,
      "outputs": []
    },
    {
      "cell_type": "code",
      "metadata": {
        "id": "i_PNluwqNnkJ",
        "colab_type": "code",
        "colab": {
          "base_uri": "https://localhost:8080/",
          "height": 35
        },
        "outputId": "72efa10a-402b-44ea-997c-a9972d466f11"
      },
      "source": [
        "def valor(S,COSTES):\n",
        "  VALOR = 0\n",
        "  for i in range(len(S)):\n",
        "    VALOR += COSTES[S[i]][i] \n",
        "  return VALOR\n",
        "  \n",
        "valor((0, 1, 2, 3),COSTES)"
      ],
      "execution_count": 6,
      "outputs": [
        {
          "output_type": "execute_result",
          "data": {
            "text/plain": [
              "73"
            ]
          },
          "metadata": {
            "tags": []
          },
          "execution_count": 6
        }
      ]
    },
    {
      "cell_type": "code",
      "metadata": {
        "id": "AKvptm-PNnDc",
        "colab_type": "code",
        "colab": {}
      },
      "source": [
        "COSTES=[[11,12,18,40],\n",
        "        [14,15,13,22],\n",
        "        [11,17,19,23],\n",
        "        [17,14,20,28]]"
      ],
      "execution_count": 0,
      "outputs": []
    },
    {
      "cell_type": "code",
      "metadata": {
        "id": "fXqSkcyDPLLP",
        "colab_type": "code",
        "colab": {}
      },
      "source": [
        "#Coste inferior para soluciones parciales\n",
        "#  (1,3,) Se asigna la tarea 1 al agente 0 y la tarea 3 al agente 1\n",
        "\n",
        "def CI(S,COSTES):\n",
        "  VALOR = 0\n",
        "  #Valores establecidos\n",
        "  for i in range(len(S)):\n",
        "    VALOR += COSTES[i][S[i]]\n",
        "    print(VALOR)\n",
        "\n",
        "  #Estimacion\n",
        "  for i in range(len(COSTES)):\n",
        "\n",
        "    if i not in S:\n",
        "      VALOR += min( [ COSTES[j][i] for j in range(len(S), len(COSTES)) ])\n",
        "  return VALOR"
      ],
      "execution_count": 0,
      "outputs": []
    },
    {
      "cell_type": "markdown",
      "metadata": {
        "id": "JogGIBrNkby_",
        "colab_type": "text"
      },
      "source": [
        "La anterior función calcula el coste mínimo que costará ya asignadas S tareas. Por ejemplo cuando S es (1,3,):\n",
        "- El agente 0 hará la tarea 1 (valor=12)\n",
        "- El agente 1 hará la tarea 3 (valor=12+22=34)\n",
        "- Una vez calculado el coste seguro ahora hará falta calcular el coste mínimo cuando se asignan las dos tareas restantes.\n",
        "- valor=34+min(costes de tarea 0 en el rango de los agentes restantes)=34+min(11,17)=34+11=45\n",
        "- valor=45+min(costes de tarea 2 en el rango de los agentes restantes)=45+min(19,20)=45+19=64\n",
        "\n",
        "Por lo tanto CI valdrá 64\n"
      ]
    },
    {
      "cell_type": "code",
      "metadata": {
        "id": "P2UTObpXQGyq",
        "colab_type": "code",
        "colab": {}
      },
      "source": [
        "def CS(S,COSTES):\n",
        "  VALOR = 0\n",
        "  #Valores establecidos\n",
        "  for i in range(len(S)):\n",
        "    VALOR += COSTES[i][S[i]]\n",
        "\n",
        "  #Estimacion\n",
        "  for i in range(  len(COSTES)   ):\n",
        "\n",
        "    if i not in S:\n",
        "      VALOR += max( [ COSTES[j][i] for j in range(len(S), len(COSTES))  ])\n",
        "  return VALOR"
      ],
      "execution_count": 0,
      "outputs": []
    },
    {
      "cell_type": "markdown",
      "metadata": {
        "id": "cScS7AiHml5l",
        "colab_type": "text"
      },
      "source": [
        "La función CS hace exactamente lo mismo que CI pero en vez de mínimo de los restantes coge el máximo."
      ]
    },
    {
      "cell_type": "code",
      "metadata": {
        "id": "hjH4eG1xRoY-",
        "colab_type": "code",
        "colab": {}
      },
      "source": [
        "#Genera tantos hijos como como posibilidades haya para la siguiente elemento de la tupla\n",
        "#(0,) -> (0,1), (0,2), (0,3)\n",
        "def crear_hijos(NODO, N):\n",
        "  HIJOS = []\n",
        "  for i in range(N):\n",
        "\n",
        "    if i not in NODO:\n",
        "      HIJOS.append({'s':NODO +(i,)    })\n",
        "  return HIJOS"
      ],
      "execution_count": 0,
      "outputs": []
    },
    {
      "cell_type": "code",
      "metadata": {
        "id": "s9SEICs1n1jZ",
        "colab_type": "code",
        "colab": {
          "base_uri": "https://localhost:8080/",
          "height": 35
        },
        "outputId": "caa5e7c4-ed69-4832-a06e-533157ad5d4f"
      },
      "source": [
        "crear_hijos((0,2,),4)"
      ],
      "execution_count": 39,
      "outputs": [
        {
          "output_type": "execute_result",
          "data": {
            "text/plain": [
              "[{'s': (0, 1, 2)}, {'s': (0, 1, 3)}]"
            ]
          },
          "metadata": {
            "tags": []
          },
          "execution_count": 39
        }
      ]
    },
    {
      "cell_type": "code",
      "metadata": {
        "id": "_aTQEcGooQAZ",
        "colab_type": "code",
        "colab": {}
      },
      "source": [
        "def ramificacion_y_poda(COSTES):\n",
        "#Construccion iterativa de soluciones(arbol). En cada etapa asignamos un agente(ramas).\n",
        "#Nodos del grafo  { s:(1,2),CI:3,CS:5  }\n",
        "  #print(COSTES)\n",
        "  DIMENSION = len(COSTES)  \n",
        "  MEJOR_SOLUCION=tuple( i for i in range(len(COSTES)) )\n",
        "  CotaSup = valor(MEJOR_SOLUCION,COSTES)\n",
        "  #print(\"Cota Superior:\", CotaSup)\n",
        "\n",
        "  NODOS=[]\n",
        "  NODOS.append({'s':(), 'ci':CI((),COSTES)    } )\n",
        "\n",
        "  iteracion = 0\n",
        "\n",
        "  while( len(NODOS) > 0):\n",
        "    print('cotasup= '+str(CotaSup))\n",
        "    iteracion +=1\n",
        "    print(NODOS)\n",
        "\n",
        "    nodo_prometedor = [ min(NODOS, key=lambda x:x['ci']) ][0]['s']\n",
        "    #print(\"Nodo prometedor:\", nodo_prometedor)\n",
        "    print(nodo_prometedor)\n",
        "    #Ramificacion\n",
        "    #Se generan los hijos\n",
        "    HIJOS =[ {'s':x['s'], 'ci':CI(x['s'], COSTES)   } for x in crear_hijos(nodo_prometedor, DIMENSION) ]\n",
        "    print(HIJOS)\n",
        "    #Revisamos la cota superior y nos quedamos con la mejor solucion si llegamos a una solucion final\n",
        "    NODO_FINAL = [x for x in HIJOS if len(x['s']) == DIMENSION  ]\n",
        "    if len(NODO_FINAL ) >0: \n",
        "      #print(\"\\n********Soluciones:\",  [x for x in HIJOS if len(x['s']) == DIMENSION  ] )\n",
        "      if NODO_FINAL[0]['ci'] < CotaSup:\n",
        "        CotaSup = NODO_FINAL[0]['ci']\n",
        "        MEJOR_SOLUCION = NODO_FINAL\n",
        " \n",
        "    #Poda\n",
        "    HIJOS = [x for x in HIJOS if x['ci'] < CotaSup   ]\n",
        "\n",
        "    #Añadimos los hijos \n",
        "    NODOS.extend(HIJOS) \n",
        "\n",
        "    #Eliminamos el nodo ramificado\n",
        "    NODOS =  [  x for x in NODOS if x['s'] != nodo_prometedor    ]\n",
        "   \n",
        "    print(\"La solucion final es:\" ,MEJOR_SOLUCION , \" en \" , iteracion , \" iteraciones\" , \" para dimension: \" ,DIMENSION  )"
      ],
      "execution_count": 0,
      "outputs": []
    },
    {
      "cell_type": "code",
      "metadata": {
        "id": "39o-7F6qqgBJ",
        "colab_type": "code",
        "colab": {
          "base_uri": "https://localhost:8080/",
          "height": 1000
        },
        "outputId": "77e8cb68-d27d-411b-8962-53047f59287f"
      },
      "source": [
        "ramificacion_y_poda(COSTES)"
      ],
      "execution_count": 70,
      "outputs": [
        {
          "output_type": "stream",
          "text": [
            "cotasup= 73\n",
            "[{'s': (), 'ci': 58}]\n",
            "()\n",
            "11\n",
            "12\n",
            "18\n",
            "40\n",
            "[{'s': (0,), 'ci': 60}, {'s': (1,), 'ci': 58}, {'s': (2,), 'ci': 65}, {'s': (3,), 'ci': 78}]\n",
            "La solucion final es: (0, 1, 2, 3)  en  1  iteraciones  para dimension:  4\n",
            "cotasup= 73\n",
            "[{'s': (0,), 'ci': 60}, {'s': (1,), 'ci': 58}, {'s': (2,), 'ci': 65}]\n",
            "(1,)\n",
            "12\n",
            "26\n",
            "12\n",
            "25\n",
            "12\n",
            "34\n",
            "[{'s': (1, 0), 'ci': 68}, {'s': (1, 2), 'ci': 59}, {'s': (1, 3), 'ci': 64}]\n",
            "La solucion final es: (0, 1, 2, 3)  en  2  iteraciones  para dimension:  4\n",
            "cotasup= 73\n",
            "[{'s': (0,), 'ci': 60}, {'s': (2,), 'ci': 65}, {'s': (1, 0), 'ci': 68}, {'s': (1, 2), 'ci': 59}, {'s': (1, 3), 'ci': 64}]\n",
            "(1, 2)\n",
            "12\n",
            "25\n",
            "36\n",
            "12\n",
            "25\n",
            "48\n",
            "[{'s': (1, 2, 0), 'ci': 64}, {'s': (1, 2, 3), 'ci': 65}]\n",
            "La solucion final es: (0, 1, 2, 3)  en  3  iteraciones  para dimension:  4\n",
            "cotasup= 73\n",
            "[{'s': (0,), 'ci': 60}, {'s': (2,), 'ci': 65}, {'s': (1, 0), 'ci': 68}, {'s': (1, 3), 'ci': 64}, {'s': (1, 2, 0), 'ci': 64}, {'s': (1, 2, 3), 'ci': 65}]\n",
            "(0,)\n",
            "11\n",
            "26\n",
            "11\n",
            "24\n",
            "11\n",
            "33\n",
            "[{'s': (0, 1), 'ci': 68}, {'s': (0, 2), 'ci': 61}, {'s': (0, 3), 'ci': 66}]\n",
            "La solucion final es: (0, 1, 2, 3)  en  4  iteraciones  para dimension:  4\n",
            "cotasup= 73\n",
            "[{'s': (2,), 'ci': 65}, {'s': (1, 0), 'ci': 68}, {'s': (1, 3), 'ci': 64}, {'s': (1, 2, 0), 'ci': 64}, {'s': (1, 2, 3), 'ci': 65}, {'s': (0, 1), 'ci': 68}, {'s': (0, 2), 'ci': 61}, {'s': (0, 3), 'ci': 66}]\n",
            "(0, 2)\n",
            "11\n",
            "24\n",
            "41\n",
            "11\n",
            "24\n",
            "47\n",
            "[{'s': (0, 2, 1), 'ci': 69}, {'s': (0, 2, 3), 'ci': 61}]\n",
            "La solucion final es: (0, 1, 2, 3)  en  5  iteraciones  para dimension:  4\n",
            "cotasup= 73\n",
            "[{'s': (2,), 'ci': 65}, {'s': (1, 0), 'ci': 68}, {'s': (1, 3), 'ci': 64}, {'s': (1, 2, 0), 'ci': 64}, {'s': (1, 2, 3), 'ci': 65}, {'s': (0, 1), 'ci': 68}, {'s': (0, 3), 'ci': 66}, {'s': (0, 2, 1), 'ci': 69}, {'s': (0, 2, 3), 'ci': 61}]\n",
            "(0, 2, 3)\n",
            "11\n",
            "24\n",
            "47\n",
            "61\n",
            "[{'s': (0, 2, 3, 1), 'ci': 61}]\n",
            "La solucion final es: [{'s': (0, 2, 3, 1), 'ci': 61}]  en  6  iteraciones  para dimension:  4\n",
            "cotasup= 61\n",
            "[{'s': (2,), 'ci': 65}, {'s': (1, 0), 'ci': 68}, {'s': (1, 3), 'ci': 64}, {'s': (1, 2, 0), 'ci': 64}, {'s': (1, 2, 3), 'ci': 65}, {'s': (0, 1), 'ci': 68}, {'s': (0, 3), 'ci': 66}, {'s': (0, 2, 1), 'ci': 69}]\n",
            "(1, 3)\n",
            "12\n",
            "34\n",
            "45\n",
            "12\n",
            "34\n",
            "53\n",
            "[{'s': (1, 3, 0), 'ci': 65}, {'s': (1, 3, 2), 'ci': 70}]\n",
            "La solucion final es: [{'s': (0, 2, 3, 1), 'ci': 61}]  en  7  iteraciones  para dimension:  4\n",
            "cotasup= 61\n",
            "[{'s': (2,), 'ci': 65}, {'s': (1, 0), 'ci': 68}, {'s': (1, 2, 0), 'ci': 64}, {'s': (1, 2, 3), 'ci': 65}, {'s': (0, 1), 'ci': 68}, {'s': (0, 3), 'ci': 66}, {'s': (0, 2, 1), 'ci': 69}]\n",
            "(1, 2, 0)\n",
            "12\n",
            "25\n",
            "36\n",
            "64\n",
            "[{'s': (1, 2, 0, 3), 'ci': 64}]\n",
            "La solucion final es: [{'s': (0, 2, 3, 1), 'ci': 61}]  en  8  iteraciones  para dimension:  4\n",
            "cotasup= 61\n",
            "[{'s': (2,), 'ci': 65}, {'s': (1, 0), 'ci': 68}, {'s': (1, 2, 3), 'ci': 65}, {'s': (0, 1), 'ci': 68}, {'s': (0, 3), 'ci': 66}, {'s': (0, 2, 1), 'ci': 69}]\n",
            "(2,)\n",
            "18\n",
            "32\n",
            "18\n",
            "33\n",
            "18\n",
            "40\n",
            "[{'s': (2, 0), 'ci': 69}, {'s': (2, 1), 'ci': 67}, {'s': (2, 3), 'ci': 65}]\n",
            "La solucion final es: [{'s': (0, 2, 3, 1), 'ci': 61}]  en  9  iteraciones  para dimension:  4\n",
            "cotasup= 61\n",
            "[{'s': (1, 0), 'ci': 68}, {'s': (1, 2, 3), 'ci': 65}, {'s': (0, 1), 'ci': 68}, {'s': (0, 3), 'ci': 66}, {'s': (0, 2, 1), 'ci': 69}]\n",
            "(1, 2, 3)\n",
            "12\n",
            "25\n",
            "48\n",
            "65\n",
            "[{'s': (1, 2, 3, 0), 'ci': 65}]\n",
            "La solucion final es: [{'s': (0, 2, 3, 1), 'ci': 61}]  en  10  iteraciones  para dimension:  4\n",
            "cotasup= 61\n",
            "[{'s': (1, 0), 'ci': 68}, {'s': (0, 1), 'ci': 68}, {'s': (0, 3), 'ci': 66}, {'s': (0, 2, 1), 'ci': 69}]\n",
            "(0, 3)\n",
            "11\n",
            "33\n",
            "50\n",
            "11\n",
            "33\n",
            "52\n",
            "[{'s': (0, 3, 1), 'ci': 70}, {'s': (0, 3, 2), 'ci': 66}]\n",
            "La solucion final es: [{'s': (0, 2, 3, 1), 'ci': 61}]  en  11  iteraciones  para dimension:  4\n",
            "cotasup= 61\n",
            "[{'s': (1, 0), 'ci': 68}, {'s': (0, 1), 'ci': 68}, {'s': (0, 2, 1), 'ci': 69}]\n",
            "(1, 0)\n",
            "12\n",
            "26\n",
            "45\n",
            "12\n",
            "26\n",
            "49\n",
            "[{'s': (1, 0, 2), 'ci': 73}, {'s': (1, 0, 3), 'ci': 69}]\n",
            "La solucion final es: [{'s': (0, 2, 3, 1), 'ci': 61}]  en  12  iteraciones  para dimension:  4\n",
            "cotasup= 61\n",
            "[{'s': (0, 1), 'ci': 68}, {'s': (0, 2, 1), 'ci': 69}]\n",
            "(0, 1)\n",
            "11\n",
            "26\n",
            "45\n",
            "11\n",
            "26\n",
            "49\n",
            "[{'s': (0, 1, 2), 'ci': 73}, {'s': (0, 1, 3), 'ci': 69}]\n",
            "La solucion final es: [{'s': (0, 2, 3, 1), 'ci': 61}]  en  13  iteraciones  para dimension:  4\n",
            "cotasup= 61\n",
            "[{'s': (0, 2, 1), 'ci': 69}]\n",
            "(0, 2, 1)\n",
            "11\n",
            "24\n",
            "41\n",
            "69\n",
            "[{'s': (0, 2, 1, 3), 'ci': 69}]\n",
            "La solucion final es: [{'s': (0, 2, 3, 1), 'ci': 61}]  en  14  iteraciones  para dimension:  4\n"
          ],
          "name": "stdout"
        }
      ]
    },
    {
      "cell_type": "code",
      "metadata": {
        "id": "FbK4i1U-rhnB",
        "colab_type": "code",
        "colab": {}
      },
      "source": [
        "çCotaSup = valor(MEJOR_SOLUCION,COSTES)"
      ],
      "execution_count": 0,
      "outputs": []
    },
    {
      "cell_type": "code",
      "metadata": {
        "id": "aT1m5E4RrjrP",
        "colab_type": "code",
        "colab": {
          "base_uri": "https://localhost:8080/",
          "height": 35
        },
        "outputId": "7f3b9e89-bce4-4f80-eca1-75a13c28630b"
      },
      "source": [
        "valor((0,2,1,3),COSTES)"
      ],
      "execution_count": 74,
      "outputs": [
        {
          "output_type": "execute_result",
          "data": {
            "text/plain": [
              "69"
            ]
          },
          "metadata": {
            "tags": []
          },
          "execution_count": 74
        }
      ]
    },
    {
      "cell_type": "code",
      "metadata": {
        "id": "D8-MH0parwz6",
        "colab_type": "code",
        "colab": {}
      },
      "source": [
        "NODOS=[]\n",
        "NODOS.append({'s':(), 'ci':CI((),COSTES)    } )"
      ],
      "execution_count": 0,
      "outputs": []
    },
    {
      "cell_type": "code",
      "metadata": {
        "id": "kJ38VGeWr7vf",
        "colab_type": "code",
        "colab": {
          "base_uri": "https://localhost:8080/",
          "height": 35
        },
        "outputId": "7bbfc2ba-1cb5-4259-8004-1dc2fe4dfb88"
      },
      "source": [
        "NODOS"
      ],
      "execution_count": 49,
      "outputs": [
        {
          "output_type": "execute_result",
          "data": {
            "text/plain": [
              "[{'ci': 58, 's': ()}]"
            ]
          },
          "metadata": {
            "tags": []
          },
          "execution_count": 49
        }
      ]
    },
    {
      "cell_type": "code",
      "metadata": {
        "id": "IoeecMjIr8ou",
        "colab_type": "code",
        "colab": {}
      },
      "source": [
        "nodo_prometedor = [ min(NODOS, key=lambda x:x['ci']) ][0]['s']"
      ],
      "execution_count": 0,
      "outputs": []
    },
    {
      "cell_type": "code",
      "metadata": {
        "id": "V0aDDCins1xT",
        "colab_type": "code",
        "colab": {
          "base_uri": "https://localhost:8080/",
          "height": 35
        },
        "outputId": "1445eaa6-c813-4e75-f1ff-46d40c06b137"
      },
      "source": [
        "nodo_prometedor"
      ],
      "execution_count": 51,
      "outputs": [
        {
          "output_type": "execute_result",
          "data": {
            "text/plain": [
              "()"
            ]
          },
          "metadata": {
            "tags": []
          },
          "execution_count": 51
        }
      ]
    },
    {
      "cell_type": "code",
      "metadata": {
        "id": "CKUiWe8Ss25K",
        "colab_type": "code",
        "colab": {
          "base_uri": "https://localhost:8080/",
          "height": 35
        },
        "outputId": "56c1b20a-f5ab-4117-94f4-f257f867a039"
      },
      "source": [
        "11+13+23+14"
      ],
      "execution_count": 56,
      "outputs": [
        {
          "output_type": "execute_result",
          "data": {
            "text/plain": [
              "61"
            ]
          },
          "metadata": {
            "tags": []
          },
          "execution_count": 56
        }
      ]
    },
    {
      "cell_type": "code",
      "metadata": {
        "id": "XxOW1F_2w896",
        "colab_type": "code",
        "colab": {}
      },
      "source": [
        ""
      ],
      "execution_count": 0,
      "outputs": []
    }
  ]
}