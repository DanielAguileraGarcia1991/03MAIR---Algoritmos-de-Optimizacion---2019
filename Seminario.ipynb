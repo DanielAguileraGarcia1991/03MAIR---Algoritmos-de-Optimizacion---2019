{
  "nbformat": 4,
  "nbformat_minor": 0,
  "metadata": {
    "colab": {
      "name": "Seminario.ipynb",
      "provenance": [],
      "authorship_tag": "ABX9TyOP9TZ0tlxJdRY5kJ4VDBlH",
      "include_colab_link": true
    },
    "kernelspec": {
      "name": "python3",
      "display_name": "Python 3"
    }
  },
  "cells": [
    {
      "cell_type": "markdown",
      "metadata": {
        "id": "view-in-github",
        "colab_type": "text"
      },
      "source": [
        "<a href=\"https://colab.research.google.com/github/DanielAguileraGarcia1991/03MAIR---Algoritmos-de-Optimizacion---2019/blob/master/Seminario.ipynb\" target=\"_parent\"><img src=\"https://colab.research.google.com/assets/colab-badge.svg\" alt=\"Open In Colab\"/></a>"
      ]
    },
    {
      "cell_type": "code",
      "metadata": {
        "id": "FADM_N0eLi2i",
        "colab_type": "code",
        "colab": {}
      },
      "source": [
        "import math"
      ],
      "execution_count": 0,
      "outputs": []
    },
    {
      "cell_type": "code",
      "metadata": {
        "id": "xgkDKtO9uN27",
        "colab_type": "code",
        "colab": {}
      },
      "source": [
        "lista_numeros = '1','2','3','4','5','6','7','8','9'\n",
        "lista_signos = '+', '-', '*', '/'"
      ],
      "execution_count": 0,
      "outputs": []
    },
    {
      "cell_type": "code",
      "metadata": {
        "id": "Cb9RSUGf5e1W",
        "colab_type": "code",
        "colab": {}
      },
      "source": [
        "def string_to_list(string):\n",
        "  return  tuple(letter for letter in string )"
      ],
      "execution_count": 0,
      "outputs": []
    },
    {
      "cell_type": "code",
      "metadata": {
        "id": "Dy0S5eOMwS4v",
        "colab_type": "code",
        "colab": {}
      },
      "source": [
        "def creador_hijos(string,lista_signos):\n",
        "  if string=='':\n",
        "    return [ str(number)+str(signo) for number in range (1,10) for signo in lista_signos]\n",
        "  else:\n",
        "    S = string_to_list(string)\n",
        "    return [string+str(signo) for signo in lista_signos if (signo) not in S ]"
      ],
      "execution_count": 0,
      "outputs": []
    },
    {
      "cell_type": "code",
      "metadata": {
        "id": "G-Aq-DKTXu1x",
        "colab_type": "code",
        "colab": {
          "base_uri": "https://localhost:8080/",
          "height": 35
        },
        "outputId": "218580dc-3154-4535-a897-dc5d718ea7ed"
      },
      "source": [
        "HIJOS('1+2', lista_signos)"
      ],
      "execution_count": 5,
      "outputs": [
        {
          "output_type": "execute_result",
          "data": {
            "text/plain": [
              "['1+2-', '1+2*', '1+2/']"
            ]
          },
          "metadata": {
            "tags": []
          },
          "execution_count": 5
        }
      ]
    },
    {
      "cell_type": "code",
      "metadata": {
        "id": "GzbiAW6q-9K5",
        "colab_type": "code",
        "colab": {}
      },
      "source": [
        "def posibles_nodos(HIJOS, lista_numeros):\n",
        "  return [ string+str(number) for string in HIJOS for number in lista_numeros if number not in string_to_list(string) ]"
      ],
      "execution_count": 0,
      "outputs": []
    },
    {
      "cell_type": "code",
      "metadata": {
        "id": "Q86tevTeAUXh",
        "colab_type": "code",
        "colab": {}
      },
      "source": [
        "def CI (S, lista_numeros):\n",
        "  if S=='':\n",
        "    return math.inf \n",
        "  else:\n",
        "    return min([eval(str(S)+str(number)) for number in lista_numeros if number not in string_to_list(str(S))])"
      ],
      "execution_count": 0,
      "outputs": []
    },
    {
      "cell_type": "code",
      "metadata": {
        "id": "Wc3jKy08Nyz8",
        "colab_type": "code",
        "colab": {}
      },
      "source": [
        "def nodo_resultante (S, lista_numeros):\n",
        "  if S=='':\n",
        "    return math.inf \n",
        "  else:\n",
        "    lista_posibilidades = [str(S)+str(number) for number in lista_numeros if number not in string_to_list(str(S))]\n",
        "    minimo = lista_posibilidades[0]\n",
        "    for posibilidad in lista_posibilidades:\n",
        "      if eval(posibilidad)<=eval(minimo):\n",
        "        minimo = posibilidad\n",
        "    return minimo"
      ],
      "execution_count": 0,
      "outputs": []
    },
    {
      "cell_type": "code",
      "metadata": {
        "id": "2KE2ZC6hN42G",
        "colab_type": "code",
        "colab": {
          "base_uri": "https://localhost:8080/",
          "height": 35
        },
        "outputId": "9b77b772-d604-46b3-834c-50ee7e37ab7c"
      },
      "source": [
        "nodo_resultante('1-',lista_numeros)"
      ],
      "execution_count": 112,
      "outputs": [
        {
          "output_type": "execute_result",
          "data": {
            "text/plain": [
              "'1-9'"
            ]
          },
          "metadata": {
            "tags": []
          },
          "execution_count": 112
        }
      ]
    },
    {
      "cell_type": "code",
      "metadata": {
        "id": "I9g7XycVab_G",
        "colab_type": "code",
        "colab": {}
      },
      "source": [
        "def ramificacion_y_poda(lista_numeros, lista_signos):\n",
        "\n",
        "  MEJOR_SOLUCION='1+2-3*4/5'\n",
        "  DIMENSION = len(MEJOR_SOLUCION)\n",
        "  CotaSup = eval(MEJOR_SOLUCION)\n",
        "  print('CotaSup:', CotaSup)\n",
        "  NODOS=[]\n",
        "  NODOS.append({'s': '' , 'ci':CI('',lista_numeros)})\n",
        "\n",
        "  iteracion = 0\n",
        "\n",
        "  while( len(NODOS) > 0):\n",
        "\n",
        "    iteracion +=1\n",
        "    print(iteracion)\n",
        "    print(CotaSup)\n",
        "    \n",
        "    nodo_prometedor = [ min(NODOS, key=lambda x:x['ci']) ][0]['s']\n",
        "    print('Nodo prometedor:', nodo_prometedor)\n",
        "\n",
        "  \n",
        "    if len(nodo_prometedor)==DIMENSION: \n",
        "\n",
        "      if eval(nodo_prometedor) < CotaSup:\n",
        "        CotaSup = eval(nodo_prometedor)\n",
        "        MEJOR_SOLUCION = nodo_prometedor\n",
        "    else:\n",
        "      HIJOS = [ {'ci':CI(x, lista_numeros), 's':x} for x in creador_hijos(nodo_prometedor, lista_signos) ]\n",
        "      print('Hijos_1:', HIJOS)    \n",
        "      HIJOS = [x['s'] for x in HIJOS if x['ci'] < CotaSup ]\n",
        "      print('HIJOS_2:', HIJOS)\n",
        "\n",
        "    \n",
        "    nodos_resultante = [{'s':nodo_resultante(k,lista_numeros), 'ci': eval(nodo_resultante(k,lista_numeros))}for k in HIJOS] \n",
        "\n",
        "    NODOS.extend(nodos_resultante)\n",
        "\n",
        "    NODOS =  [  x for x in NODOS if x['s'] != nodo_prometedor ]\n",
        "    print('Nodos:', NODOS)\n",
        "    \n",
        "    print(\"La solucion final es:\" ,MEJOR_SOLUCION , \" en \" , iteracion , \" iteraciones\"  )"
      ],
      "execution_count": 0,
      "outputs": []
    },
    {
      "cell_type": "code",
      "metadata": {
        "id": "w15xioQfGJOU",
        "colab_type": "code",
        "outputId": "09f68806-5cab-4298-8e2f-5c9758ea070d",
        "colab": {
          "base_uri": "https://localhost:8080/",
          "height": 1000
        }
      },
      "source": [
        "nodos = ramificacion_y_poda(lista_numeros, lista_signos)"
      ],
      "execution_count": 181,
      "outputs": [
        {
          "output_type": "stream",
          "text": [
            "CotaSup: 0.6000000000000001\n",
            "1\n",
            "0.6000000000000001\n",
            "Nodo prometedor: \n",
            "Hijos_1: [{'ci': 3, 's': '1+'}, {'ci': -8, 's': '1-'}, {'ci': 2, 's': '1*'}, {'ci': 0.1111111111111111, 's': '1/'}, {'ci': 3, 's': '2+'}, {'ci': -7, 's': '2-'}, {'ci': 2, 's': '2*'}, {'ci': 0.2222222222222222, 's': '2/'}, {'ci': 4, 's': '3+'}, {'ci': -6, 's': '3-'}, {'ci': 3, 's': '3*'}, {'ci': 0.3333333333333333, 's': '3/'}, {'ci': 5, 's': '4+'}, {'ci': -5, 's': '4-'}, {'ci': 4, 's': '4*'}, {'ci': 0.4444444444444444, 's': '4/'}, {'ci': 6, 's': '5+'}, {'ci': -4, 's': '5-'}, {'ci': 5, 's': '5*'}, {'ci': 0.5555555555555556, 's': '5/'}, {'ci': 7, 's': '6+'}, {'ci': -3, 's': '6-'}, {'ci': 6, 's': '6*'}, {'ci': 0.6666666666666666, 's': '6/'}, {'ci': 8, 's': '7+'}, {'ci': -2, 's': '7-'}, {'ci': 7, 's': '7*'}, {'ci': 0.7777777777777778, 's': '7/'}, {'ci': 9, 's': '8+'}, {'ci': -1, 's': '8-'}, {'ci': 8, 's': '8*'}, {'ci': 0.8888888888888888, 's': '8/'}, {'ci': 10, 's': '9+'}, {'ci': 1, 's': '9-'}, {'ci': 9, 's': '9*'}, {'ci': 1.125, 's': '9/'}]\n",
            "HIJOS_2: ['1-', '1/', '2-', '2/', '3-', '3/', '4-', '4/', '5-', '5/', '6-', '7-', '8-']\n",
            "Nodos: [{'s': '1-9', 'ci': -8}, {'s': '1/9', 'ci': 0.1111111111111111}, {'s': '2-9', 'ci': -7}, {'s': '2/9', 'ci': 0.2222222222222222}, {'s': '3-9', 'ci': -6}, {'s': '3/9', 'ci': 0.3333333333333333}, {'s': '4-9', 'ci': -5}, {'s': '4/9', 'ci': 0.4444444444444444}, {'s': '5-9', 'ci': -4}, {'s': '5/9', 'ci': 0.5555555555555556}, {'s': '6-9', 'ci': -3}, {'s': '7-9', 'ci': -2}, {'s': '8-9', 'ci': -1}]\n",
            "La solucion final es: 1+2-3*4/5  en  1  iteraciones\n",
            "2\n",
            "0.6000000000000001\n",
            "Nodo prometedor: 1-9\n",
            "Hijos_1: [{'ci': -6, 's': '1-9+'}, {'ci': -71, 's': '1-9*'}, {'ci': -3.5, 's': '1-9/'}]\n",
            "HIJOS_2: ['1-9+', '1-9*', '1-9/']\n",
            "Nodos: [{'s': '1/9', 'ci': 0.1111111111111111}, {'s': '2-9', 'ci': -7}, {'s': '2/9', 'ci': 0.2222222222222222}, {'s': '3-9', 'ci': -6}, {'s': '3/9', 'ci': 0.3333333333333333}, {'s': '4-9', 'ci': -5}, {'s': '4/9', 'ci': 0.4444444444444444}, {'s': '5-9', 'ci': -4}, {'s': '5/9', 'ci': 0.5555555555555556}, {'s': '6-9', 'ci': -3}, {'s': '7-9', 'ci': -2}, {'s': '8-9', 'ci': -1}, {'s': '1-9+2', 'ci': -6}, {'s': '1-9*8', 'ci': -71}, {'s': '1-9/2', 'ci': -3.5}]\n",
            "La solucion final es: 1+2-3*4/5  en  2  iteraciones\n",
            "3\n",
            "0.6000000000000001\n",
            "Nodo prometedor: 1-9*8\n",
            "Hijos_1: [{'ci': -69, 's': '1-9*8+'}, {'ci': -35.0, 's': '1-9*8/'}]\n",
            "HIJOS_2: ['1-9*8+', '1-9*8/']\n",
            "Nodos: [{'s': '1/9', 'ci': 0.1111111111111111}, {'s': '2-9', 'ci': -7}, {'s': '2/9', 'ci': 0.2222222222222222}, {'s': '3-9', 'ci': -6}, {'s': '3/9', 'ci': 0.3333333333333333}, {'s': '4-9', 'ci': -5}, {'s': '4/9', 'ci': 0.4444444444444444}, {'s': '5-9', 'ci': -4}, {'s': '5/9', 'ci': 0.5555555555555556}, {'s': '6-9', 'ci': -3}, {'s': '7-9', 'ci': -2}, {'s': '8-9', 'ci': -1}, {'s': '1-9+2', 'ci': -6}, {'s': '1-9/2', 'ci': -3.5}, {'s': '1-9*8+2', 'ci': -69}, {'s': '1-9*8/2', 'ci': -35.0}]\n",
            "La solucion final es: 1+2-3*4/5  en  3  iteraciones\n",
            "4\n",
            "0.6000000000000001\n",
            "Nodo prometedor: 1-9*8+2\n",
            "Hijos_1: [{'ci': -70.71428571428571, 's': '1-9*8+2/'}]\n",
            "HIJOS_2: ['1-9*8+2/']\n",
            "Nodos: [{'s': '1/9', 'ci': 0.1111111111111111}, {'s': '2-9', 'ci': -7}, {'s': '2/9', 'ci': 0.2222222222222222}, {'s': '3-9', 'ci': -6}, {'s': '3/9', 'ci': 0.3333333333333333}, {'s': '4-9', 'ci': -5}, {'s': '4/9', 'ci': 0.4444444444444444}, {'s': '5-9', 'ci': -4}, {'s': '5/9', 'ci': 0.5555555555555556}, {'s': '6-9', 'ci': -3}, {'s': '7-9', 'ci': -2}, {'s': '8-9', 'ci': -1}, {'s': '1-9+2', 'ci': -6}, {'s': '1-9/2', 'ci': -3.5}, {'s': '1-9*8/2', 'ci': -35.0}, {'s': '1-9*8+2/7', 'ci': -70.71428571428571}]\n",
            "La solucion final es: 1+2-3*4/5  en  4  iteraciones\n",
            "5\n",
            "0.6000000000000001\n",
            "Nodo prometedor: 1-9*8+2/7\n",
            "Nodos: [{'s': '1/9', 'ci': 0.1111111111111111}, {'s': '2-9', 'ci': -7}, {'s': '2/9', 'ci': 0.2222222222222222}, {'s': '3-9', 'ci': -6}, {'s': '3/9', 'ci': 0.3333333333333333}, {'s': '4-9', 'ci': -5}, {'s': '4/9', 'ci': 0.4444444444444444}, {'s': '5-9', 'ci': -4}, {'s': '5/9', 'ci': 0.5555555555555556}, {'s': '6-9', 'ci': -3}, {'s': '7-9', 'ci': -2}, {'s': '8-9', 'ci': -1}, {'s': '1-9+2', 'ci': -6}, {'s': '1-9/2', 'ci': -3.5}, {'s': '1-9*8/2', 'ci': -35.0}]\n",
            "La solucion final es: 1-9*8+2/7  en  5  iteraciones\n",
            "6\n",
            "-70.71428571428571\n",
            "Nodo prometedor: 1-9*8/2\n",
            "Hijos_1: [{'ci': -32.0, 's': '1-9*8/2+'}]\n",
            "HIJOS_2: []\n",
            "Nodos: [{'s': '1/9', 'ci': 0.1111111111111111}, {'s': '2-9', 'ci': -7}, {'s': '2/9', 'ci': 0.2222222222222222}, {'s': '3-9', 'ci': -6}, {'s': '3/9', 'ci': 0.3333333333333333}, {'s': '4-9', 'ci': -5}, {'s': '4/9', 'ci': 0.4444444444444444}, {'s': '5-9', 'ci': -4}, {'s': '5/9', 'ci': 0.5555555555555556}, {'s': '6-9', 'ci': -3}, {'s': '7-9', 'ci': -2}, {'s': '8-9', 'ci': -1}, {'s': '1-9+2', 'ci': -6}, {'s': '1-9/2', 'ci': -3.5}]\n",
            "La solucion final es: 1-9*8+2/7  en  6  iteraciones\n",
            "7\n",
            "-70.71428571428571\n",
            "Nodo prometedor: 2-9\n",
            "Hijos_1: [{'ci': -6, 's': '2-9+'}, {'ci': -70, 's': '2-9*'}, {'ci': -7.0, 's': '2-9/'}]\n",
            "HIJOS_2: []\n",
            "Nodos: [{'s': '1/9', 'ci': 0.1111111111111111}, {'s': '2/9', 'ci': 0.2222222222222222}, {'s': '3-9', 'ci': -6}, {'s': '3/9', 'ci': 0.3333333333333333}, {'s': '4-9', 'ci': -5}, {'s': '4/9', 'ci': 0.4444444444444444}, {'s': '5-9', 'ci': -4}, {'s': '5/9', 'ci': 0.5555555555555556}, {'s': '6-9', 'ci': -3}, {'s': '7-9', 'ci': -2}, {'s': '8-9', 'ci': -1}, {'s': '1-9+2', 'ci': -6}, {'s': '1-9/2', 'ci': -3.5}]\n",
            "La solucion final es: 1-9*8+2/7  en  7  iteraciones\n",
            "8\n",
            "-70.71428571428571\n",
            "Nodo prometedor: 3-9\n",
            "Hijos_1: [{'ci': -5, 's': '3-9+'}, {'ci': -69, 's': '3-9*'}, {'ci': -6.0, 's': '3-9/'}]\n",
            "HIJOS_2: []\n",
            "Nodos: [{'s': '1/9', 'ci': 0.1111111111111111}, {'s': '2/9', 'ci': 0.2222222222222222}, {'s': '3/9', 'ci': 0.3333333333333333}, {'s': '4-9', 'ci': -5}, {'s': '4/9', 'ci': 0.4444444444444444}, {'s': '5-9', 'ci': -4}, {'s': '5/9', 'ci': 0.5555555555555556}, {'s': '6-9', 'ci': -3}, {'s': '7-9', 'ci': -2}, {'s': '8-9', 'ci': -1}, {'s': '1-9+2', 'ci': -6}, {'s': '1-9/2', 'ci': -3.5}]\n",
            "La solucion final es: 1-9*8+2/7  en  8  iteraciones\n",
            "9\n",
            "-70.71428571428571\n",
            "Nodo prometedor: 1-9+2\n",
            "Hijos_1: [{'ci': -2, 's': '1-9+2*'}, {'ci': -7.75, 's': '1-9+2/'}]\n",
            "HIJOS_2: []\n",
            "Nodos: [{'s': '1/9', 'ci': 0.1111111111111111}, {'s': '2/9', 'ci': 0.2222222222222222}, {'s': '3/9', 'ci': 0.3333333333333333}, {'s': '4-9', 'ci': -5}, {'s': '4/9', 'ci': 0.4444444444444444}, {'s': '5-9', 'ci': -4}, {'s': '5/9', 'ci': 0.5555555555555556}, {'s': '6-9', 'ci': -3}, {'s': '7-9', 'ci': -2}, {'s': '8-9', 'ci': -1}, {'s': '1-9/2', 'ci': -3.5}]\n",
            "La solucion final es: 1-9*8+2/7  en  9  iteraciones\n",
            "10\n",
            "-70.71428571428571\n",
            "Nodo prometedor: 4-9\n",
            "Hijos_1: [{'ci': -4, 's': '4-9+'}, {'ci': -68, 's': '4-9*'}, {'ci': -5.0, 's': '4-9/'}]\n",
            "HIJOS_2: []\n",
            "Nodos: [{'s': '1/9', 'ci': 0.1111111111111111}, {'s': '2/9', 'ci': 0.2222222222222222}, {'s': '3/9', 'ci': 0.3333333333333333}, {'s': '4/9', 'ci': 0.4444444444444444}, {'s': '5-9', 'ci': -4}, {'s': '5/9', 'ci': 0.5555555555555556}, {'s': '6-9', 'ci': -3}, {'s': '7-9', 'ci': -2}, {'s': '8-9', 'ci': -1}, {'s': '1-9/2', 'ci': -3.5}]\n",
            "La solucion final es: 1-9*8+2/7  en  10  iteraciones\n",
            "11\n",
            "-70.71428571428571\n",
            "Nodo prometedor: 5-9\n",
            "Hijos_1: [{'ci': -3, 's': '5-9+'}, {'ci': -67, 's': '5-9*'}, {'ci': -4.0, 's': '5-9/'}]\n",
            "HIJOS_2: []\n",
            "Nodos: [{'s': '1/9', 'ci': 0.1111111111111111}, {'s': '2/9', 'ci': 0.2222222222222222}, {'s': '3/9', 'ci': 0.3333333333333333}, {'s': '4/9', 'ci': 0.4444444444444444}, {'s': '5/9', 'ci': 0.5555555555555556}, {'s': '6-9', 'ci': -3}, {'s': '7-9', 'ci': -2}, {'s': '8-9', 'ci': -1}, {'s': '1-9/2', 'ci': -3.5}]\n",
            "La solucion final es: 1-9*8+2/7  en  11  iteraciones\n",
            "12\n",
            "-70.71428571428571\n",
            "Nodo prometedor: 1-9/2\n",
            "Hijos_1: [{'ci': -0.5, 's': '1-9/2+'}, {'ci': -35.0, 's': '1-9/2*'}]\n",
            "HIJOS_2: []\n",
            "Nodos: [{'s': '1/9', 'ci': 0.1111111111111111}, {'s': '2/9', 'ci': 0.2222222222222222}, {'s': '3/9', 'ci': 0.3333333333333333}, {'s': '4/9', 'ci': 0.4444444444444444}, {'s': '5/9', 'ci': 0.5555555555555556}, {'s': '6-9', 'ci': -3}, {'s': '7-9', 'ci': -2}, {'s': '8-9', 'ci': -1}]\n",
            "La solucion final es: 1-9*8+2/7  en  12  iteraciones\n",
            "13\n",
            "-70.71428571428571\n",
            "Nodo prometedor: 6-9\n",
            "Hijos_1: [{'ci': -2, 's': '6-9+'}, {'ci': -66, 's': '6-9*'}, {'ci': -3.0, 's': '6-9/'}]\n",
            "HIJOS_2: []\n",
            "Nodos: [{'s': '1/9', 'ci': 0.1111111111111111}, {'s': '2/9', 'ci': 0.2222222222222222}, {'s': '3/9', 'ci': 0.3333333333333333}, {'s': '4/9', 'ci': 0.4444444444444444}, {'s': '5/9', 'ci': 0.5555555555555556}, {'s': '7-9', 'ci': -2}, {'s': '8-9', 'ci': -1}]\n",
            "La solucion final es: 1-9*8+2/7  en  13  iteraciones\n",
            "14\n",
            "-70.71428571428571\n",
            "Nodo prometedor: 7-9\n",
            "Hijos_1: [{'ci': -1, 's': '7-9+'}, {'ci': -65, 's': '7-9*'}, {'ci': -2.0, 's': '7-9/'}]\n",
            "HIJOS_2: []\n",
            "Nodos: [{'s': '1/9', 'ci': 0.1111111111111111}, {'s': '2/9', 'ci': 0.2222222222222222}, {'s': '3/9', 'ci': 0.3333333333333333}, {'s': '4/9', 'ci': 0.4444444444444444}, {'s': '5/9', 'ci': 0.5555555555555556}, {'s': '8-9', 'ci': -1}]\n",
            "La solucion final es: 1-9*8+2/7  en  14  iteraciones\n",
            "15\n",
            "-70.71428571428571\n",
            "Nodo prometedor: 8-9\n",
            "Hijos_1: [{'ci': 0, 's': '8-9+'}, {'ci': -55, 's': '8-9*'}, {'ci': -1.0, 's': '8-9/'}]\n",
            "HIJOS_2: []\n",
            "Nodos: [{'s': '1/9', 'ci': 0.1111111111111111}, {'s': '2/9', 'ci': 0.2222222222222222}, {'s': '3/9', 'ci': 0.3333333333333333}, {'s': '4/9', 'ci': 0.4444444444444444}, {'s': '5/9', 'ci': 0.5555555555555556}]\n",
            "La solucion final es: 1-9*8+2/7  en  15  iteraciones\n",
            "16\n",
            "-70.71428571428571\n",
            "Nodo prometedor: 1/9\n",
            "Hijos_1: [{'ci': 2.111111111111111, 's': '1/9+'}, {'ci': -7.888888888888889, 's': '1/9-'}, {'ci': 0.2222222222222222, 's': '1/9*'}]\n",
            "HIJOS_2: []\n",
            "Nodos: [{'s': '2/9', 'ci': 0.2222222222222222}, {'s': '3/9', 'ci': 0.3333333333333333}, {'s': '4/9', 'ci': 0.4444444444444444}, {'s': '5/9', 'ci': 0.5555555555555556}]\n",
            "La solucion final es: 1-9*8+2/7  en  16  iteraciones\n",
            "17\n",
            "-70.71428571428571\n",
            "Nodo prometedor: 2/9\n",
            "Hijos_1: [{'ci': 1.2222222222222223, 's': '2/9+'}, {'ci': -7.777777777777778, 's': '2/9-'}, {'ci': 0.2222222222222222, 's': '2/9*'}]\n",
            "HIJOS_2: []\n",
            "Nodos: [{'s': '3/9', 'ci': 0.3333333333333333}, {'s': '4/9', 'ci': 0.4444444444444444}, {'s': '5/9', 'ci': 0.5555555555555556}]\n",
            "La solucion final es: 1-9*8+2/7  en  17  iteraciones\n",
            "18\n",
            "-70.71428571428571\n",
            "Nodo prometedor: 3/9\n",
            "Hijos_1: [{'ci': 1.3333333333333333, 's': '3/9+'}, {'ci': -7.666666666666667, 's': '3/9-'}, {'ci': 0.3333333333333333, 's': '3/9*'}]\n",
            "HIJOS_2: []\n",
            "Nodos: [{'s': '4/9', 'ci': 0.4444444444444444}, {'s': '5/9', 'ci': 0.5555555555555556}]\n",
            "La solucion final es: 1-9*8+2/7  en  18  iteraciones\n",
            "19\n",
            "-70.71428571428571\n",
            "Nodo prometedor: 4/9\n",
            "Hijos_1: [{'ci': 1.4444444444444444, 's': '4/9+'}, {'ci': -7.555555555555555, 's': '4/9-'}, {'ci': 0.4444444444444444, 's': '4/9*'}]\n",
            "HIJOS_2: []\n",
            "Nodos: [{'s': '5/9', 'ci': 0.5555555555555556}]\n",
            "La solucion final es: 1-9*8+2/7  en  19  iteraciones\n",
            "20\n",
            "-70.71428571428571\n",
            "Nodo prometedor: 5/9\n",
            "Hijos_1: [{'ci': 1.5555555555555556, 's': '5/9+'}, {'ci': -7.444444444444445, 's': '5/9-'}, {'ci': 0.5555555555555556, 's': '5/9*'}]\n",
            "HIJOS_2: []\n",
            "Nodos: []\n",
            "La solucion final es: 1-9*8+2/7  en  20  iteraciones\n"
          ],
          "name": "stdout"
        }
      ]
    }
  ]
}