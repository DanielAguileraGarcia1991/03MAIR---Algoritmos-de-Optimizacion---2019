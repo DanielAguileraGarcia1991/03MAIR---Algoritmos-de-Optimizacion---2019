{
  "nbformat": 4,
  "nbformat_minor": 0,
  "metadata": {
    "colab": {
      "name": "Seminario.ipynb",
      "provenance": [],
      "authorship_tag": "ABX9TyMoI/6dXAOa67AEwpW/JWM+",
      "include_colab_link": true
    },
    "kernelspec": {
      "name": "python3",
      "display_name": "Python 3"
    }
  },
  "cells": [
    {
      "cell_type": "markdown",
      "metadata": {
        "id": "view-in-github",
        "colab_type": "text"
      },
      "source": [
        "<a href=\"https://colab.research.google.com/github/DanielAguileraGarcia1991/03MAIR---Algoritmos-de-Optimizacion---2019/blob/master/Seminario.ipynb\" target=\"_parent\"><img src=\"https://colab.research.google.com/assets/colab-badge.svg\" alt=\"Open In Colab\"/></a>"
      ]
    },
    {
      "cell_type": "code",
      "metadata": {
        "id": "xgkDKtO9uN27",
        "colab_type": "code",
        "colab": {}
      },
      "source": [
        "lista_numeros = '1','2','3','4','5','6','7','8','9'\n",
        "lista_signos = '+', '-', '*', '/'"
      ],
      "execution_count": 0,
      "outputs": []
    },
    {
      "cell_type": "code",
      "metadata": {
        "id": "Cb9RSUGf5e1W",
        "colab_type": "code",
        "colab": {}
      },
      "source": [
        "def string_to_list(string):\n",
        "  return  tuple(letter for letter in string )"
      ],
      "execution_count": 0,
      "outputs": []
    },
    {
      "cell_type": "code",
      "metadata": {
        "id": "Dy0S5eOMwS4v",
        "colab_type": "code",
        "colab": {}
      },
      "source": [
        "def HIJOS(string,lista_signos):\n",
        "  if string=='':\n",
        "    return [ str(number)+str(signo) for number in range (1,10) for signo in lista_signos]\n",
        "  else:\n",
        "    S = string_to_list(string)\n",
        "    return [string+str(signo) for signo in lista_signos if (signo) not in S ]"
      ],
      "execution_count": 0,
      "outputs": []
    },
    {
      "cell_type": "code",
      "metadata": {
        "id": "GzbiAW6q-9K5",
        "colab_type": "code",
        "colab": {}
      },
      "source": [
        "def posibles_nodos(HIJOS, lista_numeros):\n",
        "  return [ string+str(number) for string in HIJOS for number in lista_numeros if number not in string_to_list(string) ]"
      ],
      "execution_count": 0,
      "outputs": []
    },
    {
      "cell_type": "code",
      "metadata": {
        "id": "ASmTdphE5TgQ",
        "colab_type": "code",
        "colab": {}
      },
      "source": [
        "hijos = HIJOS('9-8*7/1',lista_signos)"
      ],
      "execution_count": 0,
      "outputs": []
    },
    {
      "cell_type": "code",
      "metadata": {
        "id": "I54cd7fT8dUp",
        "colab_type": "code",
        "colab": {}
      },
      "source": [
        "posibilidades = posibles_nodos(hijos, lista_numeros)"
      ],
      "execution_count": 0,
      "outputs": []
    },
    {
      "cell_type": "code",
      "metadata": {
        "id": "TslDjxqy8fex",
        "colab_type": "code",
        "colab": {
          "base_uri": "https://localhost:8080/",
          "height": 35
        },
        "outputId": "0d2daf06-5954-4991-fb04-02640072705c"
      },
      "source": [
        "posibilidades"
      ],
      "execution_count": 250,
      "outputs": [
        {
          "output_type": "execute_result",
          "data": {
            "text/plain": [
              "['9-8*7/1+2', '9-8*7/1+3', '9-8*7/1+4', '9-8*7/1+5', '9-8*7/1+6']"
            ]
          },
          "metadata": {
            "tags": []
          },
          "execution_count": 250
        }
      ]
    },
    {
      "cell_type": "code",
      "metadata": {
        "id": "20g04wRbY1Eg",
        "colab_type": "code",
        "colab": {}
      },
      "source": [
        "def nodo_prometedor(posibilidades):\n",
        "  minimo = posibilidades[0]\n",
        "  for posib in posibilidades:\n",
        "    if eval(posib)<=eval(minimo):\n",
        "      minimo = posib\n",
        "\n",
        "  return minimo"
      ],
      "execution_count": 0,
      "outputs": []
    },
    {
      "cell_type": "code",
      "metadata": {
        "id": "aF4ZtnhIY1hJ",
        "colab_type": "code",
        "colab": {}
      },
      "source": [
        "n_p = nodo_prometedor(posibilidades)"
      ],
      "execution_count": 0,
      "outputs": []
    },
    {
      "cell_type": "code",
      "metadata": {
        "id": "I9g7XycVab_G",
        "colab_type": "code",
        "colab": {
          "base_uri": "https://localhost:8080/",
          "height": 35
        },
        "outputId": "0cfbf157-709b-4b7b-d5e9-75b2cd5ede2c"
      },
      "source": [
        "n_p"
      ],
      "execution_count": 253,
      "outputs": [
        {
          "output_type": "execute_result",
          "data": {
            "text/plain": [
              "'9-8*7/1+2'"
            ]
          },
          "metadata": {
            "tags": []
          },
          "execution_count": 253
        }
      ]
    },
    {
      "cell_type": "code",
      "metadata": {
        "id": "JX18AxEsahOP",
        "colab_type": "code",
        "colab": {}
      },
      "source": [
        "def ramificacion_y_poda(COSTES):\n",
        "#Construccion iterativa de soluciones(arbol). En cada etapa asignamos un agente(ramas).\n",
        "#Nodos del grafo  { s:(1,2),CI:3,CS:5  }\n",
        "  #print(COSTES)\n",
        "  \n",
        "  MEJOR_SOLUCION='1+2-3*4/5'\n",
        "  CotaSup = eval(MEJOR_SUPERIOR)\n",
        "  #print(\"Cota Superior:\", CotaSup)\n",
        "\n",
        "  NODOS=[]\n",
        "  NODOS.append({'s':(), 'ci':CI((),COSTES)})\n",
        "\n",
        "  iteracion = 0\n",
        "\n",
        "  while( len(NODOS) > 0):\n",
        "    iteracion +=1\n",
        "\n",
        "    hijos = HIJOS()\n",
        "    n_p = nodo_prometedor(posibilidades)"
      ],
      "execution_count": 0,
      "outputs": []
    },
    {
      "cell_type": "code",
      "metadata": {
        "id": "nzQ5QEjkhvxb",
        "colab_type": "code",
        "colab": {}
      },
      "source": [
        "\n",
        "    nodo_prometedor = [ min(NODOS, key=lambda x:x['ci']) ][0]['s']\n",
        "    print(\"Nodo prometedor:\", nodo_prometedor)\n",
        "    #Ramificacion\n",
        "    #Se generan los hijos\n",
        "    HIJOS =[ {'s':x['s'], 'ci':CI(x['s'], COSTES)   } for x in crear_hijos(nodo_prometedor, DIMENSION) ]\n",
        "    print(HIJOS)\n",
        "    #Revisamos la cota superior y nos quedamos con la mejor solucion si llegamos a una solucion final\n",
        "    NODO_FINAL = [x for x in HIJOS if len(x['s']) == DIMENSION  ]\n",
        "    if len(NODO_FINAL ) >0: \n",
        "      #print(\"\\n********Soluciones:\",  [x for x in HIJOS if len(x['s']) == DIMENSION  ] )\n",
        "      if NODO_FINAL[0]['ci'] < CotaSup:\n",
        "        CotaSup = NODO_FINAL[0]['ci']\n",
        "        MEJOR_SOLUCION = NODO_FINAL\n",
        " \n",
        "    #Poda\n",
        "    HIJOS = [x for x in HIJOS if x['ci'] < CotaSup ]\n",
        "    #Añadimos los hijos \n",
        "    NODOS.extend(HIJOS) \n",
        "\n",
        "    #Eliminamos el nodo ramificado\n",
        "    NODOS =  [  x for x in NODOS if x['s'] != nodo_prometedor ]\n",
        "   \n",
        "    print(\"La solucion final es:\" ,MEJOR_SOLUCION , \" en \" , iteracion , \" iteraciones\" , \" para dimension: \" ,DIMENSION  )"
      ],
      "execution_count": 0,
      "outputs": []
    }
  ]
}