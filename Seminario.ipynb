{
  "nbformat": 4,
  "nbformat_minor": 0,
  "metadata": {
    "colab": {
      "name": "Seminario.ipynb",
      "provenance": [],
      "authorship_tag": "ABX9TyO0h+cjg/gD0aVADQTDhGGy",
      "include_colab_link": true
    },
    "kernelspec": {
      "name": "python3",
      "display_name": "Python 3"
    }
  },
  "cells": [
    {
      "cell_type": "markdown",
      "metadata": {
        "id": "view-in-github",
        "colab_type": "text"
      },
      "source": [
        "<a href=\"https://colab.research.google.com/github/DanielAguileraGarcia1991/03MAIR---Algoritmos-de-Optimizacion---2019/blob/master/Seminario.ipynb\" target=\"_parent\"><img src=\"https://colab.research.google.com/assets/colab-badge.svg\" alt=\"Open In Colab\"/></a>"
      ]
    },
    {
      "cell_type": "code",
      "metadata": {
        "id": "gUU1JlOEtRys",
        "colab_type": "code",
        "colab": {}
      },
      "source": [
        "respuesta = '4-9*8'"
      ],
      "execution_count": 0,
      "outputs": []
    },
    {
      "cell_type": "code",
      "metadata": {
        "id": "NHn38mMauMVN",
        "colab_type": "code",
        "colab": {
          "base_uri": "https://localhost:8080/",
          "height": 35
        },
        "outputId": "485a4f15-7a3c-4a2c-c7b1-620bba2ac698"
      },
      "source": [
        "eval(respuesta)"
      ],
      "execution_count": 11,
      "outputs": [
        {
          "output_type": "execute_result",
          "data": {
            "text/plain": [
              "-68"
            ]
          },
          "metadata": {
            "tags": []
          },
          "execution_count": 11
        }
      ]
    },
    {
      "cell_type": "code",
      "metadata": {
        "id": "xgkDKtO9uN27",
        "colab_type": "code",
        "colab": {}
      },
      "source": [
        "lista_numeros = '1','2','3','4','5','6','7','8','9'\n",
        "lista_signos = '+', '-', '*', '/'"
      ],
      "execution_count": 0,
      "outputs": []
    },
    {
      "cell_type": "code",
      "metadata": {
        "id": "RKYEQNiWAXCg",
        "colab_type": "code",
        "colab": {
          "base_uri": "https://localhost:8080/",
          "height": 35
        },
        "outputId": "609a5517-5bb9-4ef2-d77c-cd74824088f5"
      },
      "source": [
        "type(lista_numeros)"
      ],
      "execution_count": 119,
      "outputs": [
        {
          "output_type": "execute_result",
          "data": {
            "text/plain": [
              "tuple"
            ]
          },
          "metadata": {
            "tags": []
          },
          "execution_count": 119
        }
      ]
    },
    {
      "cell_type": "code",
      "metadata": {
        "id": "Dy0S5eOMwS4v",
        "colab_type": "code",
        "colab": {}
      },
      "source": [
        "def CI(string,lista_numeros,lista_signos):\n",
        "  S = string_to_list(string)\n",
        "  return min([ eval(string+str(signo)+str(number)) for number in lista_numeros for signo in lista_signos if (number or signo) not in S])"
      ],
      "execution_count": 0,
      "outputs": []
    },
    {
      "cell_type": "code",
      "metadata": {
        "id": "ASmTdphE5TgQ",
        "colab_type": "code",
        "colab": {
          "base_uri": "https://localhost:8080/",
          "height": 181
        },
        "outputId": "50fa82cd-f0a1-4c55-dfa0-4f317b109157"
      },
      "source": [
        "for numero in lista_numeros:\n",
        "  print(CI(numero,lista_numeros,lista_signos))"
      ],
      "execution_count": 186,
      "outputs": [
        {
          "output_type": "stream",
          "text": [
            "-8\n",
            "-7\n",
            "-6\n",
            "-5\n",
            "-4\n",
            "-3\n",
            "-2\n",
            "-1\n",
            "1\n"
          ],
          "name": "stdout"
        }
      ]
    },
    {
      "cell_type": "code",
      "metadata": {
        "id": "GzbiAW6q-9K5",
        "colab_type": "code",
        "colab": {}
      },
      "source": [
        "string='hola'"
      ],
      "execution_count": 0,
      "outputs": []
    },
    {
      "cell_type": "code",
      "metadata": {
        "id": "Cb9RSUGf5e1W",
        "colab_type": "code",
        "colab": {}
      },
      "source": [
        "def string_to_list(string):\n",
        "  return  tuple(letter for letter in string )"
      ],
      "execution_count": 0,
      "outputs": []
    },
    {
      "cell_type": "code",
      "metadata": {
        "id": "vtC_IGwu6wpA",
        "colab_type": "code",
        "colab": {}
      },
      "source": [
        "a=string_to_list(string)"
      ],
      "execution_count": 0,
      "outputs": []
    },
    {
      "cell_type": "code",
      "metadata": {
        "id": "I54cd7fT8dUp",
        "colab_type": "code",
        "colab": {
          "base_uri": "https://localhost:8080/",
          "height": 90
        },
        "outputId": "cc4bf4f7-189e-4456-87ce-201c68133741"
      },
      "source": [
        "for letter in a:\n",
        "  print(letter)"
      ],
      "execution_count": 130,
      "outputs": [
        {
          "output_type": "stream",
          "text": [
            "h\n",
            "o\n",
            "l\n",
            "a\n"
          ],
          "name": "stdout"
        }
      ]
    },
    {
      "cell_type": "code",
      "metadata": {
        "id": "TslDjxqy8fex",
        "colab_type": "code",
        "colab": {
          "base_uri": "https://localhost:8080/",
          "height": 35
        },
        "outputId": "e54abebb-d74c-4df3-cf5a-c89e8d1cf3eb"
      },
      "source": [
        "a"
      ],
      "execution_count": 131,
      "outputs": [
        {
          "output_type": "execute_result",
          "data": {
            "text/plain": [
              "('h', 'o', 'l', 'a')"
            ]
          },
          "metadata": {
            "tags": []
          },
          "execution_count": 131
        }
      ]
    },
    {
      "cell_type": "code",
      "metadata": {
        "id": "9Hkg2GuMAs5z",
        "colab_type": "code",
        "colab": {}
      },
      "source": [
        ""
      ],
      "execution_count": 0,
      "outputs": []
    }
  ]
}