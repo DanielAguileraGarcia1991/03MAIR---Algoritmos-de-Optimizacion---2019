{
  "nbformat": 4,
  "nbformat_minor": 0,
  "metadata": {
    "colab": {
      "name": "Seminario.ipynb",
      "provenance": [],
      "authorship_tag": "ABX9TyN/aMQOqAh+/uoQl2zCMIw2",
      "include_colab_link": true
    },
    "kernelspec": {
      "name": "python3",
      "display_name": "Python 3"
    }
  },
  "cells": [
    {
      "cell_type": "markdown",
      "metadata": {
        "id": "view-in-github",
        "colab_type": "text"
      },
      "source": [
        "<a href=\"https://colab.research.google.com/github/DanielAguileraGarcia1991/03MAIR---Algoritmos-de-Optimizacion---2019/blob/master/Seminario.ipynb\" target=\"_parent\"><img src=\"https://colab.research.google.com/assets/colab-badge.svg\" alt=\"Open In Colab\"/></a>"
      ]
    },
    {
      "cell_type": "code",
      "metadata": {
        "id": "xgkDKtO9uN27",
        "colab_type": "code",
        "colab": {}
      },
      "source": [
        "lista_numeros = '1','2','3','4','5','6','7','8','9'\n",
        "lista_signos = '+', '-', '*', '/'"
      ],
      "execution_count": 0,
      "outputs": []
    },
    {
      "cell_type": "code",
      "metadata": {
        "id": "Cb9RSUGf5e1W",
        "colab_type": "code",
        "colab": {}
      },
      "source": [
        "def string_to_list(string):\n",
        "  return  tuple(letter for letter in string )"
      ],
      "execution_count": 0,
      "outputs": []
    },
    {
      "cell_type": "code",
      "metadata": {
        "id": "Dy0S5eOMwS4v",
        "colab_type": "code",
        "colab": {}
      },
      "source": [
        "def HIJOS(string,lista_signos):\n",
        "  if string=='':\n",
        "    return [ str(number)+str(signo) for number in range (1,10) for signo in lista_signos]\n",
        "  else:\n",
        "    S = string_to_list(string)\n",
        "    return [string+str(signo) for signo in lista_signos if (signo) not in S ]"
      ],
      "execution_count": 0,
      "outputs": []
    },
    {
      "cell_type": "code",
      "metadata": {
        "id": "G-Aq-DKTXu1x",
        "colab_type": "code",
        "colab": {
          "base_uri": "https://localhost:8080/",
          "height": 35
        },
        "outputId": "1134b508-9995-4a21-d815-cfadc6b99326"
      },
      "source": [
        "HIJOS('1+2', lista_signos)"
      ],
      "execution_count": 121,
      "outputs": [
        {
          "output_type": "execute_result",
          "data": {
            "text/plain": [
              "['1+2-', '1+2*', '1+2/']"
            ]
          },
          "metadata": {
            "tags": []
          },
          "execution_count": 121
        }
      ]
    },
    {
      "cell_type": "code",
      "metadata": {
        "id": "GzbiAW6q-9K5",
        "colab_type": "code",
        "colab": {}
      },
      "source": [
        "def posibles_nodos(HIJOS, lista_numeros):\n",
        "  return [ string+str(number) for string in HIJOS for number in lista_numeros if number not in string_to_list(string) ]"
      ],
      "execution_count": 0,
      "outputs": []
    },
    {
      "cell_type": "code",
      "metadata": {
        "id": "Q86tevTeAUXh",
        "colab_type": "code",
        "colab": {}
      },
      "source": [
        "def CI (S, lista_numeros):\n",
        "  if S=='':\n",
        "    return ()\n",
        "  else:\n",
        "    return [str(S)+str(number) for number in lista_numeros if number not in string_to_list(str(S))]"
      ],
      "execution_count": 0,
      "outputs": []
    },
    {
      "cell_type": "code",
      "metadata": {
        "id": "qNU7u_bAVbw8",
        "colab_type": "code",
        "colab": {
          "base_uri": "https://localhost:8080/",
          "height": 35
        },
        "outputId": "88455d14-5d08-4e50-807c-8c9d30c8aebd"
      },
      "source": [
        "CI('1+2',lista_numeros)"
      ],
      "execution_count": 128,
      "outputs": [
        {
          "output_type": "execute_result",
          "data": {
            "text/plain": [
              "['1+23', '1+24', '1+25', '1+26', '1+27', '1+28', '1+29']"
            ]
          },
          "metadata": {
            "tags": []
          },
          "execution_count": 128
        }
      ]
    },
    {
      "cell_type": "code",
      "metadata": {
        "id": "20g04wRbY1Eg",
        "colab_type": "code",
        "colab": {}
      },
      "source": [
        "def nodo_promete(posibilidades):\n",
        "  minimo = posibilidades[0]\n",
        "  for posib in posibilidades:\n",
        "    if eval(posib)<=eval(minimo):\n",
        "      minimo = posib\n",
        "\n",
        "  return minimo"
      ],
      "execution_count": 0,
      "outputs": []
    },
    {
      "cell_type": "code",
      "metadata": {
        "id": "aF4ZtnhIY1hJ",
        "colab_type": "code",
        "colab": {
          "base_uri": "https://localhost:8080/",
          "height": 171
        },
        "outputId": "60963f36-d116-4180-92bd-cf9c74864fff"
      },
      "source": [
        "n_p = nodo_prometedor(posibilidades)"
      ],
      "execution_count": 68,
      "outputs": [
        {
          "output_type": "error",
          "ename": "NameError",
          "evalue": "ignored",
          "traceback": [
            "\u001b[0;31m---------------------------------------------------------------------------\u001b[0m",
            "\u001b[0;31mNameError\u001b[0m                                 Traceback (most recent call last)",
            "\u001b[0;32m<ipython-input-68-279547f11a69>\u001b[0m in \u001b[0;36m<module>\u001b[0;34m()\u001b[0m\n\u001b[0;32m----> 1\u001b[0;31m \u001b[0mn_p\u001b[0m \u001b[0;34m=\u001b[0m \u001b[0mnodo_prometedor\u001b[0m\u001b[0;34m(\u001b[0m\u001b[0mposibilidades\u001b[0m\u001b[0;34m)\u001b[0m\u001b[0;34m\u001b[0m\u001b[0;34m\u001b[0m\u001b[0m\n\u001b[0m",
            "\u001b[0;31mNameError\u001b[0m: name 'nodo_prometedor' is not defined"
          ]
        }
      ]
    },
    {
      "cell_type": "code",
      "metadata": {
        "id": "I9g7XycVab_G",
        "colab_type": "code",
        "outputId": "f0513e41-18d5-4f72-9443-aeaa36819bff",
        "colab": {
          "base_uri": "https://localhost:8080/",
          "height": 35
        }
      },
      "source": [
        "def ramificacion_y_poda(lista_numeros, lista_signos):\n",
        "\n",
        "  MEJOR_SOLUCION='1+2-3*4/5'\n",
        "  CotaSup = eval(MEJOR_SOLUCION)\n",
        "  NODOS=[]\n",
        "  NODOS.append({'s': '1+' , 'ci':CI('1+',lista_numeros)})\n",
        "\n",
        "  iteracion = 0\n",
        "\n",
        "  while( len(NODOS) > 0):\n",
        "    iteracion +=1\n",
        "    nodo_prometedor = [ min(NODOS, key=lambda x:x['ci']) ][0]['s']\n",
        "    print('Nodo prometedor:', nodo_prometedor)\n",
        "    hijos = [ {'ci':CI(x, lista_numeros), 's':x} for x in HIJOS('1', lista_signos) ]\n",
        "    print('Hijos:', HIJOS)"
      ],
      "execution_count": 0,
      "outputs": [
        {
          "output_type": "execute_result",
          "data": {
            "text/plain": [
              "'1-9'"
            ]
          },
          "metadata": {
            "tags": []
          },
          "execution_count": 11
        }
      ]
    },
    {
      "cell_type": "code",
      "metadata": {
        "id": "JX18AxEsahOP",
        "colab_type": "code",
        "colab": {}
      },
      "source": [
        "def ramificacion_y_poda(lista_numeros, lista_signos):\n",
        "\n",
        "  MEJOR_SOLUCION='1+2-3*4/5'\n",
        "  CotaSup = eval(MEJOR_SOLUCION)\n",
        "  NODOS=[]\n",
        "  NODOS.append({'s':(), 'ci':CI('', lista_signos)})\n",
        "\n",
        "  iteracion = 0\n",
        "\n",
        "  while( len(NODOS) > 0):\n",
        "    iteracion +=1\n",
        "    nodo_prometedor = [ min(NODOS, key=lambda x:x['ci']) ][0]['s']\n",
        "    print('Nodo prometedor:', nodo_prometedor)\n",
        "    hijos = [ {'ci':CI(x, lista_numeros), 's':x} for x in HIJOS('1', lista_signos) ]\n",
        "    print('Hijos:', HIJOS)\n",
        "  "
      ],
      "execution_count": 0,
      "outputs": []
    },
    {
      "cell_type": "code",
      "metadata": {
        "id": "w15xioQfGJOU",
        "colab_type": "code",
        "outputId": "6735b417-b9fc-4365-ccf3-edc316d42cad",
        "colab": {
          "base_uri": "https://localhost:8080/",
          "height": 35
        }
      },
      "source": [
        "ramificacion_y_poda(lista_numeros, lista_signos)"
      ],
      "execution_count": 119,
      "outputs": [
        {
          "output_type": "stream",
          "text": [
            "()\n"
          ],
          "name": "stdout"
        }
      ]
    },
    {
      "cell_type": "code",
      "metadata": {
        "id": "8UUm11SZGJRZ",
        "colab_type": "code",
        "colab": {}
      },
      "source": [
        "NODOS=[]\n",
        "NODOS.append({'s': '1+' , 'ci':CI('1+',lista_numeros)})\n"
      ],
      "execution_count": 0,
      "outputs": []
    },
    {
      "cell_type": "code",
      "metadata": {
        "id": "_RWprllVGJT6",
        "colab_type": "code",
        "colab": {}
      },
      "source": [
        "nodo_prometedor=[]"
      ],
      "execution_count": 0,
      "outputs": []
    },
    {
      "cell_type": "code",
      "metadata": {
        "id": "7by2pj4vGJXt",
        "colab_type": "code",
        "colab": {}
      },
      "source": [
        ""
      ],
      "execution_count": 0,
      "outputs": []
    },
    {
      "cell_type": "code",
      "metadata": {
        "id": "UWTY0ALGGJaR",
        "colab_type": "code",
        "colab": {}
      },
      "source": [
        ""
      ],
      "execution_count": 0,
      "outputs": []
    },
    {
      "cell_type": "code",
      "metadata": {
        "id": "KoXE3SjeGJdx",
        "colab_type": "code",
        "colab": {}
      },
      "source": [
        ""
      ],
      "execution_count": 0,
      "outputs": []
    },
    {
      "cell_type": "code",
      "metadata": {
        "id": "8pRmCrgSGJkw",
        "colab_type": "code",
        "colab": {}
      },
      "source": [
        ""
      ],
      "execution_count": 0,
      "outputs": []
    },
    {
      "cell_type": "code",
      "metadata": {
        "id": "jcwlKbncGJWe",
        "colab_type": "code",
        "colab": {}
      },
      "source": [
        ""
      ],
      "execution_count": 0,
      "outputs": []
    },
    {
      "cell_type": "code",
      "metadata": {
        "id": "Fhr8dMF3GJMK",
        "colab_type": "code",
        "colab": {}
      },
      "source": [
        ""
      ],
      "execution_count": 0,
      "outputs": []
    },
    {
      "cell_type": "code",
      "metadata": {
        "id": "nzQ5QEjkhvxb",
        "colab_type": "code",
        "colab": {}
      },
      "source": [
        "\n",
        "    nodo_prometedor = [ min(NODOS, key=lambda x:x['ci']) ][0]['s']\n",
        "    print(\"Nodo prometedor:\", nodo_prometedor)\n",
        "    #Ramificacion\n",
        "    #Se generan los hijos\n",
        "    HIJOS =[ {'s':x['s'], 'ci':CI(x['s'], COSTES)   } for x in crear_hijos(nodo_prometedor, DIMENSION) ]\n",
        "    print(HIJOS)\n",
        "    #Revisamos la cota superior y nos quedamos con la mejor solucion si llegamos a una solucion final\n",
        "    NODO_FINAL = [x for x in HIJOS if len(x['s']) == DIMENSION  ]\n",
        "    if len(NODO_FINAL ) >0: \n",
        "      #print(\"\\n********Soluciones:\",  [x for x in HIJOS if len(x['s']) == DIMENSION  ] )\n",
        "      if NODO_FINAL[0]['ci'] < CotaSup:\n",
        "        CotaSup = NODO_FINAL[0]['ci']\n",
        "        MEJOR_SOLUCION = NODO_FINAL\n",
        " \n",
        "    #Poda\n",
        "    HIJOS = [x for x in HIJOS if x['ci'] < CotaSup ]\n",
        "    #Añadimos los hijos \n",
        "    NODOS.extend(HIJOS) \n",
        "\n",
        "    #Eliminamos el nodo ramificado\n",
        "    NODOS =  [  x for x in NODOS if x['s'] != nodo_prometedor ]\n",
        "   \n",
        "    print(\"La solucion final es:\" ,MEJOR_SOLUCION , \" en \" , iteracion , \" iteraciones\" , \" para dimension: \" ,DIMENSION  )"
      ],
      "execution_count": 0,
      "outputs": []
    }
  ]
}