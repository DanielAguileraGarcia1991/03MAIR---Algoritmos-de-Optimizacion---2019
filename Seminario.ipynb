{
  "nbformat": 4,
  "nbformat_minor": 0,
  "metadata": {
    "colab": {
      "name": "Seminario.ipynb",
      "provenance": [],
      "authorship_tag": "ABX9TyMkOyrqRODKpb5gy3UUtcuC",
      "include_colab_link": true
    },
    "kernelspec": {
      "name": "python3",
      "display_name": "Python 3"
    }
  },
  "cells": [
    {
      "cell_type": "markdown",
      "metadata": {
        "id": "view-in-github",
        "colab_type": "text"
      },
      "source": [
        "<a href=\"https://colab.research.google.com/github/DanielAguileraGarcia1991/03MAIR---Algoritmos-de-Optimizacion---2019/blob/master/Seminario.ipynb\" target=\"_parent\"><img src=\"https://colab.research.google.com/assets/colab-badge.svg\" alt=\"Open In Colab\"/></a>"
      ]
    },
    {
      "cell_type": "code",
      "metadata": {
        "id": "xgkDKtO9uN27",
        "colab_type": "code",
        "colab": {}
      },
      "source": [
        "lista_numeros = '1','2','3','4','5','6','7','8','9'\n",
        "lista_signos = '+', '-', '*', '/'"
      ],
      "execution_count": 0,
      "outputs": []
    },
    {
      "cell_type": "code",
      "metadata": {
        "id": "Cb9RSUGf5e1W",
        "colab_type": "code",
        "colab": {}
      },
      "source": [
        "def string_to_list(string):\n",
        "  return  tuple(letter for letter in string )"
      ],
      "execution_count": 0,
      "outputs": []
    },
    {
      "cell_type": "code",
      "metadata": {
        "id": "Dy0S5eOMwS4v",
        "colab_type": "code",
        "colab": {}
      },
      "source": [
        "def HIJOS(string,lista_signos):\n",
        "  if string=='':\n",
        "    return [ str(number)+str(signo) for number in range (1,10) for signo in lista_signos]\n",
        "  else:\n",
        "    S = string_to_list(string)\n",
        "    return [string+str(signo) for signo in lista_signos if (signo) not in S ]"
      ],
      "execution_count": 0,
      "outputs": []
    },
    {
      "cell_type": "code",
      "metadata": {
        "id": "GzbiAW6q-9K5",
        "colab_type": "code",
        "colab": {}
      },
      "source": [
        "def posibles_nodos(HIJOS, lista_numeros):\n",
        "  return [ string+str(number) for string in HIJOS for number in lista_numeros if number not in string_to_list(string) ]"
      ],
      "execution_count": 0,
      "outputs": []
    },
    {
      "cell_type": "code",
      "metadata": {
        "id": "ASmTdphE5TgQ",
        "colab_type": "code",
        "colab": {}
      },
      "source": [
        "hijos = HIJOS('',lista_signos)"
      ],
      "execution_count": 0,
      "outputs": []
    },
    {
      "cell_type": "code",
      "metadata": {
        "id": "tRbaRckW_wIc",
        "colab_type": "code",
        "colab": {
          "base_uri": "https://localhost:8080/",
          "height": 671
        },
        "outputId": "c9af21f7-4784-4ca6-f368-3e5894468871"
      },
      "source": [
        "hijos"
      ],
      "execution_count": 6,
      "outputs": [
        {
          "output_type": "execute_result",
          "data": {
            "text/plain": [
              "['1+',\n",
              " '1-',\n",
              " '1*',\n",
              " '1/',\n",
              " '2+',\n",
              " '2-',\n",
              " '2*',\n",
              " '2/',\n",
              " '3+',\n",
              " '3-',\n",
              " '3*',\n",
              " '3/',\n",
              " '4+',\n",
              " '4-',\n",
              " '4*',\n",
              " '4/',\n",
              " '5+',\n",
              " '5-',\n",
              " '5*',\n",
              " '5/',\n",
              " '6+',\n",
              " '6-',\n",
              " '6*',\n",
              " '6/',\n",
              " '7+',\n",
              " '7-',\n",
              " '7*',\n",
              " '7/',\n",
              " '8+',\n",
              " '8-',\n",
              " '8*',\n",
              " '8/',\n",
              " '9+',\n",
              " '9-',\n",
              " '9*',\n",
              " '9/']"
            ]
          },
          "metadata": {
            "tags": []
          },
          "execution_count": 6
        }
      ]
    },
    {
      "cell_type": "code",
      "metadata": {
        "id": "Q86tevTeAUXh",
        "colab_type": "code",
        "colab": {}
      },
      "source": [
        "def CI (hijo, lista_numeros):\n",
        "  return min([ eval(hijo+str(number)) for number in lista_numeros if number not in string_to_list(hijo)])"
      ],
      "execution_count": 0,
      "outputs": []
    },
    {
      "cell_type": "code",
      "metadata": {
        "id": "gB21TIThAVJC",
        "colab_type": "code",
        "colab": {}
      },
      "source": [
        "ci = CI('1+', lista_numeros)"
      ],
      "execution_count": 0,
      "outputs": []
    },
    {
      "cell_type": "code",
      "metadata": {
        "id": "2YO3NaSbEFRV",
        "colab_type": "code",
        "colab": {
          "base_uri": "https://localhost:8080/",
          "height": 35
        },
        "outputId": "23ced24b-a8d5-42ec-ded2-25bf71f015e4"
      },
      "source": [
        "ci"
      ],
      "execution_count": 48,
      "outputs": [
        {
          "output_type": "execute_result",
          "data": {
            "text/plain": [
              "3"
            ]
          },
          "metadata": {
            "tags": []
          },
          "execution_count": 48
        }
      ]
    },
    {
      "cell_type": "code",
      "metadata": {
        "id": "I54cd7fT8dUp",
        "colab_type": "code",
        "colab": {}
      },
      "source": [
        "posibilidades = posibles_nodos(hijos, lista_numeros)"
      ],
      "execution_count": 0,
      "outputs": []
    },
    {
      "cell_type": "code",
      "metadata": {
        "id": "TslDjxqy8fex",
        "colab_type": "code",
        "colab": {
          "base_uri": "https://localhost:8080/",
          "height": 1000
        },
        "outputId": "162dfc2e-c96c-44cc-cb0f-03a43df1e870"
      },
      "source": [
        "posibilidades"
      ],
      "execution_count": 8,
      "outputs": [
        {
          "output_type": "execute_result",
          "data": {
            "text/plain": [
              "['1+2',\n",
              " '1+3',\n",
              " '1+4',\n",
              " '1+5',\n",
              " '1+6',\n",
              " '1+7',\n",
              " '1+8',\n",
              " '1+9',\n",
              " '1-2',\n",
              " '1-3',\n",
              " '1-4',\n",
              " '1-5',\n",
              " '1-6',\n",
              " '1-7',\n",
              " '1-8',\n",
              " '1-9',\n",
              " '1*2',\n",
              " '1*3',\n",
              " '1*4',\n",
              " '1*5',\n",
              " '1*6',\n",
              " '1*7',\n",
              " '1*8',\n",
              " '1*9',\n",
              " '1/2',\n",
              " '1/3',\n",
              " '1/4',\n",
              " '1/5',\n",
              " '1/6',\n",
              " '1/7',\n",
              " '1/8',\n",
              " '1/9',\n",
              " '2+1',\n",
              " '2+3',\n",
              " '2+4',\n",
              " '2+5',\n",
              " '2+6',\n",
              " '2+7',\n",
              " '2+8',\n",
              " '2+9',\n",
              " '2-1',\n",
              " '2-3',\n",
              " '2-4',\n",
              " '2-5',\n",
              " '2-6',\n",
              " '2-7',\n",
              " '2-8',\n",
              " '2-9',\n",
              " '2*1',\n",
              " '2*3',\n",
              " '2*4',\n",
              " '2*5',\n",
              " '2*6',\n",
              " '2*7',\n",
              " '2*8',\n",
              " '2*9',\n",
              " '2/1',\n",
              " '2/3',\n",
              " '2/4',\n",
              " '2/5',\n",
              " '2/6',\n",
              " '2/7',\n",
              " '2/8',\n",
              " '2/9',\n",
              " '3+1',\n",
              " '3+2',\n",
              " '3+4',\n",
              " '3+5',\n",
              " '3+6',\n",
              " '3+7',\n",
              " '3+8',\n",
              " '3+9',\n",
              " '3-1',\n",
              " '3-2',\n",
              " '3-4',\n",
              " '3-5',\n",
              " '3-6',\n",
              " '3-7',\n",
              " '3-8',\n",
              " '3-9',\n",
              " '3*1',\n",
              " '3*2',\n",
              " '3*4',\n",
              " '3*5',\n",
              " '3*6',\n",
              " '3*7',\n",
              " '3*8',\n",
              " '3*9',\n",
              " '3/1',\n",
              " '3/2',\n",
              " '3/4',\n",
              " '3/5',\n",
              " '3/6',\n",
              " '3/7',\n",
              " '3/8',\n",
              " '3/9',\n",
              " '4+1',\n",
              " '4+2',\n",
              " '4+3',\n",
              " '4+5',\n",
              " '4+6',\n",
              " '4+7',\n",
              " '4+8',\n",
              " '4+9',\n",
              " '4-1',\n",
              " '4-2',\n",
              " '4-3',\n",
              " '4-5',\n",
              " '4-6',\n",
              " '4-7',\n",
              " '4-8',\n",
              " '4-9',\n",
              " '4*1',\n",
              " '4*2',\n",
              " '4*3',\n",
              " '4*5',\n",
              " '4*6',\n",
              " '4*7',\n",
              " '4*8',\n",
              " '4*9',\n",
              " '4/1',\n",
              " '4/2',\n",
              " '4/3',\n",
              " '4/5',\n",
              " '4/6',\n",
              " '4/7',\n",
              " '4/8',\n",
              " '4/9',\n",
              " '5+1',\n",
              " '5+2',\n",
              " '5+3',\n",
              " '5+4',\n",
              " '5+6',\n",
              " '5+7',\n",
              " '5+8',\n",
              " '5+9',\n",
              " '5-1',\n",
              " '5-2',\n",
              " '5-3',\n",
              " '5-4',\n",
              " '5-6',\n",
              " '5-7',\n",
              " '5-8',\n",
              " '5-9',\n",
              " '5*1',\n",
              " '5*2',\n",
              " '5*3',\n",
              " '5*4',\n",
              " '5*6',\n",
              " '5*7',\n",
              " '5*8',\n",
              " '5*9',\n",
              " '5/1',\n",
              " '5/2',\n",
              " '5/3',\n",
              " '5/4',\n",
              " '5/6',\n",
              " '5/7',\n",
              " '5/8',\n",
              " '5/9',\n",
              " '6+1',\n",
              " '6+2',\n",
              " '6+3',\n",
              " '6+4',\n",
              " '6+5',\n",
              " '6+7',\n",
              " '6+8',\n",
              " '6+9',\n",
              " '6-1',\n",
              " '6-2',\n",
              " '6-3',\n",
              " '6-4',\n",
              " '6-5',\n",
              " '6-7',\n",
              " '6-8',\n",
              " '6-9',\n",
              " '6*1',\n",
              " '6*2',\n",
              " '6*3',\n",
              " '6*4',\n",
              " '6*5',\n",
              " '6*7',\n",
              " '6*8',\n",
              " '6*9',\n",
              " '6/1',\n",
              " '6/2',\n",
              " '6/3',\n",
              " '6/4',\n",
              " '6/5',\n",
              " '6/7',\n",
              " '6/8',\n",
              " '6/9',\n",
              " '7+1',\n",
              " '7+2',\n",
              " '7+3',\n",
              " '7+4',\n",
              " '7+5',\n",
              " '7+6',\n",
              " '7+8',\n",
              " '7+9',\n",
              " '7-1',\n",
              " '7-2',\n",
              " '7-3',\n",
              " '7-4',\n",
              " '7-5',\n",
              " '7-6',\n",
              " '7-8',\n",
              " '7-9',\n",
              " '7*1',\n",
              " '7*2',\n",
              " '7*3',\n",
              " '7*4',\n",
              " '7*5',\n",
              " '7*6',\n",
              " '7*8',\n",
              " '7*9',\n",
              " '7/1',\n",
              " '7/2',\n",
              " '7/3',\n",
              " '7/4',\n",
              " '7/5',\n",
              " '7/6',\n",
              " '7/8',\n",
              " '7/9',\n",
              " '8+1',\n",
              " '8+2',\n",
              " '8+3',\n",
              " '8+4',\n",
              " '8+5',\n",
              " '8+6',\n",
              " '8+7',\n",
              " '8+9',\n",
              " '8-1',\n",
              " '8-2',\n",
              " '8-3',\n",
              " '8-4',\n",
              " '8-5',\n",
              " '8-6',\n",
              " '8-7',\n",
              " '8-9',\n",
              " '8*1',\n",
              " '8*2',\n",
              " '8*3',\n",
              " '8*4',\n",
              " '8*5',\n",
              " '8*6',\n",
              " '8*7',\n",
              " '8*9',\n",
              " '8/1',\n",
              " '8/2',\n",
              " '8/3',\n",
              " '8/4',\n",
              " '8/5',\n",
              " '8/6',\n",
              " '8/7',\n",
              " '8/9',\n",
              " '9+1',\n",
              " '9+2',\n",
              " '9+3',\n",
              " '9+4',\n",
              " '9+5',\n",
              " '9+6',\n",
              " '9+7',\n",
              " '9+8',\n",
              " '9-1',\n",
              " '9-2',\n",
              " '9-3',\n",
              " '9-4',\n",
              " '9-5',\n",
              " '9-6',\n",
              " '9-7',\n",
              " '9-8',\n",
              " '9*1',\n",
              " '9*2',\n",
              " '9*3',\n",
              " '9*4',\n",
              " '9*5',\n",
              " '9*6',\n",
              " '9*7',\n",
              " '9*8',\n",
              " '9/1',\n",
              " '9/2',\n",
              " '9/3',\n",
              " '9/4',\n",
              " '9/5',\n",
              " '9/6',\n",
              " '9/7',\n",
              " '9/8']"
            ]
          },
          "metadata": {
            "tags": []
          },
          "execution_count": 8
        }
      ]
    },
    {
      "cell_type": "code",
      "metadata": {
        "id": "20g04wRbY1Eg",
        "colab_type": "code",
        "colab": {}
      },
      "source": [
        "def nodo_prometedor(posibilidades):\n",
        "  minimo = posibilidades[0]\n",
        "  for posib in posibilidades:\n",
        "    if eval(posib)<=eval(minimo):\n",
        "      minimo = posib\n",
        "\n",
        "  return minimo"
      ],
      "execution_count": 0,
      "outputs": []
    },
    {
      "cell_type": "code",
      "metadata": {
        "id": "aF4ZtnhIY1hJ",
        "colab_type": "code",
        "colab": {}
      },
      "source": [
        "n_p = nodo_prometedor(posibilidades)"
      ],
      "execution_count": 0,
      "outputs": []
    },
    {
      "cell_type": "code",
      "metadata": {
        "id": "I9g7XycVab_G",
        "colab_type": "code",
        "colab": {
          "base_uri": "https://localhost:8080/",
          "height": 35
        },
        "outputId": "f0513e41-18d5-4f72-9443-aeaa36819bff"
      },
      "source": [
        "n_p"
      ],
      "execution_count": 11,
      "outputs": [
        {
          "output_type": "execute_result",
          "data": {
            "text/plain": [
              "'1-9'"
            ]
          },
          "metadata": {
            "tags": []
          },
          "execution_count": 11
        }
      ]
    },
    {
      "cell_type": "code",
      "metadata": {
        "id": "JX18AxEsahOP",
        "colab_type": "code",
        "colab": {}
      },
      "source": [
        "def ramificacion_y_poda(lista_numeros, lista_signos):\n",
        "#Construccion iterativa de soluciones(arbol). En cada etapa asignamos un agente(ramas).\n",
        "#Nodos del grafo  { s:(1,2),CI:3,CS:5  }\n",
        "  #print(COSTES)\n",
        "  \n",
        "  MEJOR_SOLUCION='1+2-3*4/5'\n",
        "  CotaSup = eval(MEJOR_SOLUCION)\n",
        "\n",
        "  return [ {'ci':CI(x, lista_numeros), 's':x} for x in HIJOS('', lista_signos) ]"
      ],
      "execution_count": 0,
      "outputs": []
    },
    {
      "cell_type": "code",
      "metadata": {
        "id": "w15xioQfGJOU",
        "colab_type": "code",
        "colab": {
          "base_uri": "https://localhost:8080/",
          "height": 671
        },
        "outputId": "4725c2d6-7b2a-4e0d-ac11-5fe6cfd8dc41"
      },
      "source": [
        "ramificacion_y_poda(lista_numeros, lista_signos)"
      ],
      "execution_count": 67,
      "outputs": [
        {
          "output_type": "execute_result",
          "data": {
            "text/plain": [
              "[{'ci': 3, 's': '1+'},\n",
              " {'ci': -8, 's': '1-'},\n",
              " {'ci': 2, 's': '1*'},\n",
              " {'ci': 0.1111111111111111, 's': '1/'},\n",
              " {'ci': 3, 's': '2+'},\n",
              " {'ci': -7, 's': '2-'},\n",
              " {'ci': 2, 's': '2*'},\n",
              " {'ci': 0.2222222222222222, 's': '2/'},\n",
              " {'ci': 4, 's': '3+'},\n",
              " {'ci': -6, 's': '3-'},\n",
              " {'ci': 3, 's': '3*'},\n",
              " {'ci': 0.3333333333333333, 's': '3/'},\n",
              " {'ci': 5, 's': '4+'},\n",
              " {'ci': -5, 's': '4-'},\n",
              " {'ci': 4, 's': '4*'},\n",
              " {'ci': 0.4444444444444444, 's': '4/'},\n",
              " {'ci': 6, 's': '5+'},\n",
              " {'ci': -4, 's': '5-'},\n",
              " {'ci': 5, 's': '5*'},\n",
              " {'ci': 0.5555555555555556, 's': '5/'},\n",
              " {'ci': 7, 's': '6+'},\n",
              " {'ci': -3, 's': '6-'},\n",
              " {'ci': 6, 's': '6*'},\n",
              " {'ci': 0.6666666666666666, 's': '6/'},\n",
              " {'ci': 8, 's': '7+'},\n",
              " {'ci': -2, 's': '7-'},\n",
              " {'ci': 7, 's': '7*'},\n",
              " {'ci': 0.7777777777777778, 's': '7/'},\n",
              " {'ci': 9, 's': '8+'},\n",
              " {'ci': -1, 's': '8-'},\n",
              " {'ci': 8, 's': '8*'},\n",
              " {'ci': 0.8888888888888888, 's': '8/'},\n",
              " {'ci': 10, 's': '9+'},\n",
              " {'ci': 1, 's': '9-'},\n",
              " {'ci': 9, 's': '9*'},\n",
              " {'ci': 1.125, 's': '9/'}]"
            ]
          },
          "metadata": {
            "tags": []
          },
          "execution_count": 67
        }
      ]
    },
    {
      "cell_type": "code",
      "metadata": {
        "id": "8UUm11SZGJRZ",
        "colab_type": "code",
        "colab": {}
      },
      "source": [
        ""
      ],
      "execution_count": 0,
      "outputs": []
    },
    {
      "cell_type": "code",
      "metadata": {
        "id": "_RWprllVGJT6",
        "colab_type": "code",
        "colab": {}
      },
      "source": [
        ""
      ],
      "execution_count": 0,
      "outputs": []
    },
    {
      "cell_type": "code",
      "metadata": {
        "id": "7by2pj4vGJXt",
        "colab_type": "code",
        "colab": {}
      },
      "source": [
        ""
      ],
      "execution_count": 0,
      "outputs": []
    },
    {
      "cell_type": "code",
      "metadata": {
        "id": "UWTY0ALGGJaR",
        "colab_type": "code",
        "colab": {}
      },
      "source": [
        ""
      ],
      "execution_count": 0,
      "outputs": []
    },
    {
      "cell_type": "code",
      "metadata": {
        "id": "KoXE3SjeGJdx",
        "colab_type": "code",
        "colab": {}
      },
      "source": [
        ""
      ],
      "execution_count": 0,
      "outputs": []
    },
    {
      "cell_type": "code",
      "metadata": {
        "id": "8pRmCrgSGJkw",
        "colab_type": "code",
        "colab": {}
      },
      "source": [
        ""
      ],
      "execution_count": 0,
      "outputs": []
    },
    {
      "cell_type": "code",
      "metadata": {
        "id": "jcwlKbncGJWe",
        "colab_type": "code",
        "colab": {}
      },
      "source": [
        ""
      ],
      "execution_count": 0,
      "outputs": []
    },
    {
      "cell_type": "code",
      "metadata": {
        "id": "Fhr8dMF3GJMK",
        "colab_type": "code",
        "colab": {}
      },
      "source": [
        ""
      ],
      "execution_count": 0,
      "outputs": []
    },
    {
      "cell_type": "code",
      "metadata": {
        "id": "nzQ5QEjkhvxb",
        "colab_type": "code",
        "colab": {}
      },
      "source": [
        "\n",
        "    nodo_prometedor = [ min(NODOS, key=lambda x:x['ci']) ][0]['s']\n",
        "    print(\"Nodo prometedor:\", nodo_prometedor)\n",
        "    #Ramificacion\n",
        "    #Se generan los hijos\n",
        "    HIJOS =[ {'s':x['s'], 'ci':CI(x['s'], COSTES)   } for x in crear_hijos(nodo_prometedor, DIMENSION) ]\n",
        "    print(HIJOS)\n",
        "    #Revisamos la cota superior y nos quedamos con la mejor solucion si llegamos a una solucion final\n",
        "    NODO_FINAL = [x for x in HIJOS if len(x['s']) == DIMENSION  ]\n",
        "    if len(NODO_FINAL ) >0: \n",
        "      #print(\"\\n********Soluciones:\",  [x for x in HIJOS if len(x['s']) == DIMENSION  ] )\n",
        "      if NODO_FINAL[0]['ci'] < CotaSup:\n",
        "        CotaSup = NODO_FINAL[0]['ci']\n",
        "        MEJOR_SOLUCION = NODO_FINAL\n",
        " \n",
        "    #Poda\n",
        "    HIJOS = [x for x in HIJOS if x['ci'] < CotaSup ]\n",
        "    #Añadimos los hijos \n",
        "    NODOS.extend(HIJOS) \n",
        "\n",
        "    #Eliminamos el nodo ramificado\n",
        "    NODOS =  [  x for x in NODOS if x['s'] != nodo_prometedor ]\n",
        "   \n",
        "    print(\"La solucion final es:\" ,MEJOR_SOLUCION , \" en \" , iteracion , \" iteraciones\" , \" para dimension: \" ,DIMENSION  )"
      ],
      "execution_count": 0,
      "outputs": []
    }
  ]
}