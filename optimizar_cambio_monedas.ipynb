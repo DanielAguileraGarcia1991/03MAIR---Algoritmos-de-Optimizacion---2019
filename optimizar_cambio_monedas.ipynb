{
  "nbformat": 4,
  "nbformat_minor": 0,
  "metadata": {
    "colab": {
      "name": "optimizar_cambio_monedas.ipynb",
      "provenance": [],
      "include_colab_link": true
    },
    "kernelspec": {
      "name": "python3",
      "display_name": "Python 3"
    }
  },
  "cells": [
    {
      "cell_type": "markdown",
      "metadata": {
        "id": "view-in-github",
        "colab_type": "text"
      },
      "source": [
        "<a href=\"https://colab.research.google.com/github/DanielAguileraGarcia1991/03MAIR---Algoritmos-de-Optimizacion---2019/blob/master/optimizar_cambio_monedas.ipynb\" target=\"_parent\"><img src=\"https://colab.research.google.com/assets/colab-badge.svg\" alt=\"Open In Colab\"/></a>"
      ]
    },
    {
      "cell_type": "code",
      "metadata": {
        "id": "Phw1oOzJ3szb",
        "colab_type": "code",
        "colab": {}
      },
      "source": [
        "def ordenacion_burbuja(lista):\n",
        "  not_order=False\n",
        "  for i in range (len(lista)-1):\n",
        "    proximo=lista[i+1]\n",
        "    if lista[i]>proximo: \n",
        "      not_order=True\n",
        "      lista[i+1]=lista[i]\n",
        "      lista[i]=proximo\n",
        "  if not_order==True:\n",
        "    ordenacion_burbuja(lista)\n",
        "  return lista"
      ],
      "execution_count": 0,
      "outputs": []
    },
    {
      "cell_type": "code",
      "metadata": {
        "id": "75mrz4sQ3FI3",
        "colab_type": "code",
        "colab": {}
      },
      "source": [
        "def sistema_monetario(lista,valor_cambio):\n",
        "  funcion_seleccion=[]\n",
        "  count=1\n",
        "  C=0\n",
        "  S=False\n",
        "  valor_restante=valor_cambio\n",
        "  lista_ordenada=ordenacion_burbuja(lista)\n",
        "  while S==False:\n",
        "    if (valor_restante-lista_ordenada[-count])>=0:\n",
        "      funcion_seleccion.append(lista_ordenada[-count])\n",
        "      valor_restante=valor_restante-lista_ordenada[-count]\n",
        "      C+=1\n",
        "      if sum(funcion_seleccion)==valor_cambio:\n",
        "        S=True\n",
        "    else: \n",
        "      count+=1\n",
        "      \n",
        "  return C, funcion_seleccion"
      ],
      "execution_count": 0,
      "outputs": []
    },
    {
      "cell_type": "code",
      "metadata": {
        "id": "7zppLw6P6O7j",
        "colab_type": "code",
        "colab": {
          "base_uri": "https://localhost:8080/",
          "height": 35
        },
        "outputId": "f97b14b6-c8c9-4845-aec8-bc5b91c42f12"
      },
      "source": [
        "sistema_monetario([1,5,10],25)"
      ],
      "execution_count": 67,
      "outputs": [
        {
          "output_type": "execute_result",
          "data": {
            "text/plain": [
              "(3, [10, 10, 5])"
            ]
          },
          "metadata": {
            "tags": []
          },
          "execution_count": 67
        }
      ]
    }
  ]
}