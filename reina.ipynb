{
  "nbformat": 4,
  "nbformat_minor": 0,
  "metadata": {
    "colab": {
      "name": "reina.ipynb",
      "provenance": [],
      "include_colab_link": true
    },
    "kernelspec": {
      "name": "python3",
      "display_name": "Python 3"
    }
  },
  "cells": [
    {
      "cell_type": "markdown",
      "metadata": {
        "id": "view-in-github",
        "colab_type": "text"
      },
      "source": [
        "<a href=\"https://colab.research.google.com/github/DanielAguileraGarcia1991/03MAIR---Algoritmos-de-Optimizacion---2019/blob/master/reina.ipynb\" target=\"_parent\"><img src=\"https://colab.research.google.com/assets/colab-badge.svg\" alt=\"Open In Colab\"/></a>"
      ]
    },
    {
      "cell_type": "code",
      "metadata": {
        "id": "o-lPhvmXjMdK",
        "colab_type": "code",
        "colab": {}
      },
      "source": [
        "def reinas(N,solucion,etapa):\n",
        "\n",
        "  for i in range(1,N+1):\n",
        "\n",
        "    if es_prometedora(solucion,etapa):\n",
        "      if etapa == N-1:\n",
        "        print(\"\\n\\nLa solución es:\")\n",
        "        print(solucion)\n",
        "        escribe(solucion)\n",
        "      else:\n",
        "        reinas(N,solucion,etapa+1)\n",
        "    else:\n",
        "      None\n",
        "    \n",
        "    solucion[etapa] = 0"
      ],
      "execution_count": 0,
      "outputs": []
    },
    {
      "cell_type": "code",
      "metadata": {
        "id": "DfaNVFtpkLC4",
        "colab_type": "code",
        "colab": {}
      },
      "source": [
        "def es_prometedora(SOLUCION,etapa):\n",
        "\n",
        "  for i in range(etapa+1):\n",
        "    if SOLUCION.count(SOLUCION[i])>i:   return False\n",
        "\n",
        "    for j in range(i+1, etapa+1):\n",
        "      if abs(i-j) == abs(SOLUCION[i]-SOLUCION[j]):   return False\n",
        "\n",
        "  return True"
      ],
      "execution_count": 0,
      "outputs": []
    },
    {
      "cell_type": "code",
      "metadata": {
        "id": "h4QIsIwilLKt",
        "colab_type": "code",
        "colab": {}
      },
      "source": [
        "a=reinas(4,[1,1,1,1],3)"
      ],
      "execution_count": 0,
      "outputs": []
    },
    {
      "cell_type": "code",
      "metadata": {
        "id": "N7N6myw5lmWt",
        "colab_type": "code",
        "colab": {}
      },
      "source": [
        ""
      ],
      "execution_count": 0,
      "outputs": []
    },
    {
      "cell_type": "code",
      "metadata": {
        "id": "kvSMoePkpAcs",
        "colab_type": "code",
        "colab": {}
      },
      "source": [
        ""
      ],
      "execution_count": 0,
      "outputs": []
    }
  ]
}